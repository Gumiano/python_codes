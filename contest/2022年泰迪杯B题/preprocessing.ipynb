{
 "cells": [
  {
   "cell_type": "code",
   "execution_count": 1,
   "metadata": {},
   "outputs": [
    {
     "name": "stderr",
     "output_type": "stream",
     "text": [
      "WARNING: pip is being invoked by an old script wrapper. This will fail in a future version of pip.\n",
      "Please see https://github.com/pypa/pip/issues/5599 for advice on fixing the underlying issue.\n",
      "To avoid this problem you can invoke Python with '-m pip' instead of running pip directly.\n"
     ]
    },
    {
     "name": "stdout",
     "output_type": "stream",
     "text": [
      "Looking in indexes: https://mirrors.ustc.edu.cn/pypi/web/simple\n",
      "Requirement already satisfied: torchvision in /home/gumiano/miniconda3/envs/image_env/lib/python3.6/site-packages (0.11.2)\n",
      "Requirement already satisfied: pillow!=8.3.0,>=5.3.0 in /home/gumiano/miniconda3/envs/image_env/lib/python3.6/site-packages (from torchvision) (8.4.0)\n",
      "Requirement already satisfied: torch==1.10.1 in /home/gumiano/miniconda3/envs/image_env/lib/python3.6/site-packages (from torchvision) (1.10.1)\n",
      "Requirement already satisfied: numpy in /home/gumiano/miniconda3/envs/image_env/lib/python3.6/site-packages (from torchvision) (1.18.5)\n",
      "Requirement already satisfied: typing-extensions in /home/gumiano/miniconda3/envs/image_env/lib/python3.6/site-packages (from torch==1.10.1->torchvision) (4.1.1)\n",
      "Requirement already satisfied: dataclasses in /home/gumiano/miniconda3/envs/image_env/lib/python3.6/site-packages (from torch==1.10.1->torchvision) (0.8)\n"
     ]
    }
   ],
   "source": [
    "import pip\n",
    "\n",
    "def install(package):\n",
    "   pip.main(['install', package])\n",
    "\n",
    "install('torchvision') "
   ]
  },
  {
   "cell_type": "code",
   "execution_count": 2,
   "metadata": {},
   "outputs": [],
   "source": [
    "import pandas as pd\n",
    "import numpy as np\n",
    "from IPython import display\n",
    "import torch\n",
    "import torch.nn as nn\n",
    "import re\n",
    "from sklearn.model_selection import train_test_split"
   ]
  },
  {
   "cell_type": "code",
   "execution_count": 3,
   "metadata": {},
   "outputs": [],
   "source": [
    "# 读取数据\n",
    "region = pd.read_csv('./data/附件1-区域15分钟负荷数据.csv')\n",
    "industry = pd.read_csv('./data/附件2-行业日负荷数据.csv')\n",
    "weather = pd.read_csv('./data/附件3-气象数据.csv')"
   ]
  },
  {
   "cell_type": "markdown",
   "metadata": {},
   "source": [
    "## 观察数据"
   ]
  },
  {
   "cell_type": "code",
   "execution_count": 4,
   "metadata": {},
   "outputs": [
    {
     "name": "stdout",
     "output_type": "stream",
     "text": [
      "<class 'pandas.core.frame.DataFrame'>\n",
      "RangeIndex: 128156 entries, 0 to 128155\n",
      "Data columns (total 2 columns):\n",
      " #   Column     Non-Null Count   Dtype  \n",
      "---  ------     --------------   -----  \n",
      " 0   数据时间       128156 non-null  object \n",
      " 1   总有功功率（kw）  128156 non-null  float64\n",
      "dtypes: float64(1), object(1)\n",
      "memory usage: 2.0+ MB\n",
      "None\n",
      "====================================================================\n",
      "<class 'pandas.core.frame.DataFrame'>\n",
      "RangeIndex: 3610 entries, 0 to 3609\n",
      "Data columns (total 4 columns):\n",
      " #   Column       Non-Null Count  Dtype  \n",
      "---  ------       --------------  -----  \n",
      " 0   行业类型         3610 non-null   object \n",
      " 1   数据时间         3610 non-null   object \n",
      " 2   有功功率最大值（kw）  3610 non-null   float64\n",
      " 3   有功功率最小值（kw）  3610 non-null   float64\n",
      "dtypes: float64(2), object(2)\n",
      "memory usage: 112.9+ KB\n",
      "None\n",
      "====================================================================\n",
      "<class 'pandas.core.frame.DataFrame'>\n",
      "RangeIndex: 1345 entries, 0 to 1344\n",
      "Data columns (total 6 columns):\n",
      " #   Column  Non-Null Count  Dtype \n",
      "---  ------  --------------  ----- \n",
      " 0   日期      1345 non-null   object\n",
      " 1   天气状况    1345 non-null   object\n",
      " 2   最高温度    1345 non-null   object\n",
      " 3   最低温度    1345 non-null   object\n",
      " 4   白天风力风向  1345 non-null   object\n",
      " 5   夜晚风力风向  1345 non-null   object\n",
      "dtypes: object(6)\n",
      "memory usage: 63.2+ KB\n",
      "None\n"
     ]
    }
   ],
   "source": [
    "print(region.info())\n",
    "print('====================================================================')\n",
    "print(industry.info())\n",
    "print('====================================================================')\n",
    "print(weather.info())"
   ]
  },
  {
   "cell_type": "markdown",
   "metadata": {},
   "source": [
    "### 处理数据"
   ]
  },
  {
   "cell_type": "code",
   "execution_count": 5,
   "metadata": {},
   "outputs": [],
   "source": [
    "region.columns = ['日期', '负荷']\n",
    "industry.columns = ['行业类型', '日期', '负荷最大值', '负荷最小值']"
   ]
  },
  {
   "cell_type": "code",
   "execution_count": 6,
   "metadata": {},
   "outputs": [],
   "source": [
    "# 转换为正确数据类型\n",
    "region['日期'] = pd.to_datetime(region['日期'])\n",
    "industry['日期'] = pd.to_datetime(industry['日期'])\n",
    "weather['日期'] = pd.to_datetime(weather['日期'], format='%Y年%m月%d日')\n",
    "# weather['日期'] = weather['日期'].apply(lambda x: re.sub(r\"年|月\", \"-\", x))\n",
    "# weather['日期'] = weather['日期'].apply(lambda x: re.sub(r\"日\", \"\", x))\n",
    "# weather['日期'] = pd.to_datetime(weather['日期'])\n",
    "\n",
    "# 温度转换为整数\n",
    "weather['最高温度'] = weather['最高温度'].apply(lambda x: x.replace('℃', '')).astype('int')\n",
    "weather['最低温度'] = weather['最低温度'].apply(lambda x: x.replace('℃', '')).astype('int')\n",
    "\n",
    "# 将日期拆分开来引入季节因素\n",
    "date = weather['日期']\n",
    "weather['日'] = date.apply(lambda x:x.day)\n",
    "weather['月'] = date.apply(lambda x:x.month)\n",
    "weather['年'] = date.apply(lambda x:x.year)"
   ]
  },
  {
   "cell_type": "code",
   "execution_count": 7,
   "metadata": {},
   "outputs": [
    {
     "name": "stdout",
     "output_type": "stream",
     "text": [
      "日期    datetime64[ns]\n",
      "负荷           float64\n",
      "dtype: object\n",
      "==================================\n",
      "日期    datetime64[ns]\n",
      "负荷           float64\n",
      "dtype: object \n",
      "\n"
     ]
    }
   ],
   "source": [
    "print(region.dtypes)\n",
    "print('==================================')\n",
    "print(region.dtypes, '\\n')"
   ]
  },
  {
   "cell_type": "markdown",
   "metadata": {},
   "source": [
    "### 处理天气"
   ]
  },
  {
   "cell_type": "markdown",
   "metadata": {},
   "source": [
    "#### 天气状况"
   ]
  },
  {
   "cell_type": "code",
   "execution_count": 8,
   "metadata": {},
   "outputs": [],
   "source": [
    "# 天气状况分割为早上和晚上，并视为有序型数据进行处理\n",
    "weather_condition = weather[\"天气状况\"]\n",
    "weather_condition_day = weather_condition.apply(lambda x:x.split(\"/\")[0])\n",
    "weather_condition_night = weather_condition.apply(lambda x:x.split(\"/\")[1])\n",
    "weather_condition_dict = { '晴':0,'晴间多云':0.5,'多云':1, '局部多云':1.5,'阴':2, '雾':2.5,\n",
    "       '小雨':3, '小雨-中雨':3.5,'小到中雨':4,'中雨':4.5,'阵雨':5,'中雨-大雨':5.5,\n",
    "       '中到大雨':6, '雷阵雨':6.5, '大雨':7, '大到暴雨':7.5, '暴雨':8, }\n",
    "weather_condition_day = weather_condition_day.map(weather_condition_dict)\n",
    "weather_condition_night = weather_condition_night.map(weather_condition_dict)\n",
    "weather['白天天气状况'] = weather_condition_day\n",
    "weather['夜晚天气状况'] = weather_condition_night"
   ]
  },
  {
   "cell_type": "code",
   "execution_count": 9,
   "metadata": {},
   "outputs": [
    {
     "data": {
      "text/html": [
       "<div>\n",
       "<style scoped>\n",
       "    .dataframe tbody tr th:only-of-type {\n",
       "        vertical-align: middle;\n",
       "    }\n",
       "\n",
       "    .dataframe tbody tr th {\n",
       "        vertical-align: top;\n",
       "    }\n",
       "\n",
       "    .dataframe thead th {\n",
       "        text-align: right;\n",
       "    }\n",
       "</style>\n",
       "<table border=\"1\" class=\"dataframe\">\n",
       "  <thead>\n",
       "    <tr style=\"text-align: right;\">\n",
       "      <th></th>\n",
       "      <th>日期</th>\n",
       "      <th>天气状况</th>\n",
       "      <th>最高温度</th>\n",
       "      <th>最低温度</th>\n",
       "      <th>白天风力风向</th>\n",
       "      <th>夜晚风力风向</th>\n",
       "      <th>日</th>\n",
       "      <th>月</th>\n",
       "      <th>年</th>\n",
       "      <th>白天天气状况</th>\n",
       "      <th>夜晚天气状况</th>\n",
       "    </tr>\n",
       "  </thead>\n",
       "  <tbody>\n",
       "    <tr>\n",
       "      <th>0</th>\n",
       "      <td>2018-01-01</td>\n",
       "      <td>多云/多云</td>\n",
       "      <td>22</td>\n",
       "      <td>12</td>\n",
       "      <td>无持续风向&lt;3级</td>\n",
       "      <td>无持续风向&lt;3级</td>\n",
       "      <td>1</td>\n",
       "      <td>1</td>\n",
       "      <td>2018</td>\n",
       "      <td>1.0</td>\n",
       "      <td>1.0</td>\n",
       "    </tr>\n",
       "    <tr>\n",
       "      <th>1</th>\n",
       "      <td>2018-01-01</td>\n",
       "      <td>多云/多云</td>\n",
       "      <td>22</td>\n",
       "      <td>12</td>\n",
       "      <td>无持续风向&lt;3级</td>\n",
       "      <td>无持续风向&lt;3级</td>\n",
       "      <td>1</td>\n",
       "      <td>1</td>\n",
       "      <td>2018</td>\n",
       "      <td>1.0</td>\n",
       "      <td>1.0</td>\n",
       "    </tr>\n",
       "    <tr>\n",
       "      <th>2</th>\n",
       "      <td>2018-01-02</td>\n",
       "      <td>多云/多云</td>\n",
       "      <td>22</td>\n",
       "      <td>15</td>\n",
       "      <td>无持续风向&lt;3级</td>\n",
       "      <td>无持续风向&lt;3级</td>\n",
       "      <td>2</td>\n",
       "      <td>1</td>\n",
       "      <td>2018</td>\n",
       "      <td>1.0</td>\n",
       "      <td>1.0</td>\n",
       "    </tr>\n",
       "    <tr>\n",
       "      <th>3</th>\n",
       "      <td>2018-01-03</td>\n",
       "      <td>多云/阴</td>\n",
       "      <td>23</td>\n",
       "      <td>15</td>\n",
       "      <td>无持续风向&lt;3级</td>\n",
       "      <td>无持续风向&lt;3级</td>\n",
       "      <td>3</td>\n",
       "      <td>1</td>\n",
       "      <td>2018</td>\n",
       "      <td>1.0</td>\n",
       "      <td>2.0</td>\n",
       "    </tr>\n",
       "    <tr>\n",
       "      <th>4</th>\n",
       "      <td>2018-01-04</td>\n",
       "      <td>多云/小雨</td>\n",
       "      <td>21</td>\n",
       "      <td>16</td>\n",
       "      <td>无持续风向&lt;3级</td>\n",
       "      <td>无持续风向&lt;3级</td>\n",
       "      <td>4</td>\n",
       "      <td>1</td>\n",
       "      <td>2018</td>\n",
       "      <td>1.0</td>\n",
       "      <td>3.0</td>\n",
       "    </tr>\n",
       "  </tbody>\n",
       "</table>\n",
       "</div>"
      ],
      "text/plain": [
       "          日期   天气状况  最高温度  最低温度    白天风力风向    夜晚风力风向  日  月     年  白天天气状况  \\\n",
       "0 2018-01-01  多云/多云    22    12  无持续风向<3级  无持续风向<3级  1  1  2018     1.0   \n",
       "1 2018-01-01  多云/多云    22    12  无持续风向<3级  无持续风向<3级  1  1  2018     1.0   \n",
       "2 2018-01-02  多云/多云    22    15  无持续风向<3级  无持续风向<3级  2  1  2018     1.0   \n",
       "3 2018-01-03   多云/阴    23    15  无持续风向<3级  无持续风向<3级  3  1  2018     1.0   \n",
       "4 2018-01-04  多云/小雨    21    16  无持续风向<3级  无持续风向<3级  4  1  2018     1.0   \n",
       "\n",
       "   夜晚天气状况  \n",
       "0     1.0  \n",
       "1     1.0  \n",
       "2     1.0  \n",
       "3     2.0  \n",
       "4     3.0  "
      ]
     },
     "execution_count": 9,
     "metadata": {},
     "output_type": "execute_result"
    }
   ],
   "source": [
    "weather.head()"
   ]
  },
  {
   "cell_type": "markdown",
   "metadata": {},
   "source": [
    "#### 风力风向"
   ]
  },
  {
   "cell_type": "code",
   "execution_count": 10,
   "metadata": {},
   "outputs": [],
   "source": [
    "weather['夜晚风力风向'] = weather['夜晚风力风向'].apply(lambda x:x.replace(\"～\",\"-\"))\n",
    "weather['白天风力风向'] = weather['白天风力风向'].apply(lambda x:x.replace(\"～\",\"-\"))"
   ]
  },
  {
   "cell_type": "code",
   "execution_count": 11,
   "metadata": {},
   "outputs": [],
   "source": [
    "# 风向\n",
    "# 分为有持续风向和无持续风向\n",
    "def direct(x):\n",
    "    dirct = re.match('.*([\"东\",\"南\",\"西\",\"北\",\"东南\",\"东北\",\"西南\",\"西北\"])',x)\n",
    "    if(dirct):\n",
    "        return 2\n",
    "    else :\n",
    "        return 1\n",
    "\n",
    "# 风力级别视为有序型数据进行处理\n",
    "wind_power_dict = {\"1-2级\":1.5,'2':2,\"3\":3,\"风\":1,\"3级\":3,\"3-4级\":3.5, \"4-5级\":4.5,\"8-9级\":8.5}\n",
    "\n",
    "# 夜晚\n",
    "## 风向\n",
    "weather['夜晚风力风向'].apply(lambda x:re.match(\"\\D*(.+)级{0,}\",x).group(1)).map(wind_power_dict)\n",
    "direction = weather['夜晚风力风向'].apply(lambda x:direct(x)) + weather['白天风力风向'].apply(lambda x:direct(x)) # 计算当日风向和，有持续风向的+2，无持续风向的+1\n",
    "weather['风向'] = direction\n",
    "\n",
    "## 风力\n",
    "weather['风力'] = weather['白天风力风向'].apply(lambda x:re.match(\"\\D*(.+)级{0,}\",x).group(1)).map(wind_power_dict) + \\\n",
    "    weather['夜晚风力风向'].apply(lambda x:re.match(\"\\D*(.+)级{0,}\",x).group(1)).map(wind_power_dict) # 计算当日风力和"
   ]
  },
  {
   "cell_type": "code",
   "execution_count": 12,
   "metadata": {},
   "outputs": [
    {
     "data": {
      "text/html": [
       "<div>\n",
       "<style scoped>\n",
       "    .dataframe tbody tr th:only-of-type {\n",
       "        vertical-align: middle;\n",
       "    }\n",
       "\n",
       "    .dataframe tbody tr th {\n",
       "        vertical-align: top;\n",
       "    }\n",
       "\n",
       "    .dataframe thead th {\n",
       "        text-align: right;\n",
       "    }\n",
       "</style>\n",
       "<table border=\"1\" class=\"dataframe\">\n",
       "  <thead>\n",
       "    <tr style=\"text-align: right;\">\n",
       "      <th></th>\n",
       "      <th>日期</th>\n",
       "      <th>天气状况</th>\n",
       "      <th>最高温度</th>\n",
       "      <th>最低温度</th>\n",
       "      <th>白天风力风向</th>\n",
       "      <th>夜晚风力风向</th>\n",
       "      <th>日</th>\n",
       "      <th>月</th>\n",
       "      <th>年</th>\n",
       "      <th>白天天气状况</th>\n",
       "      <th>夜晚天气状况</th>\n",
       "      <th>风向</th>\n",
       "      <th>风力</th>\n",
       "    </tr>\n",
       "  </thead>\n",
       "  <tbody>\n",
       "    <tr>\n",
       "      <th>0</th>\n",
       "      <td>2018-01-01</td>\n",
       "      <td>多云/多云</td>\n",
       "      <td>22</td>\n",
       "      <td>12</td>\n",
       "      <td>无持续风向&lt;3级</td>\n",
       "      <td>无持续风向&lt;3级</td>\n",
       "      <td>1</td>\n",
       "      <td>1</td>\n",
       "      <td>2018</td>\n",
       "      <td>1.0</td>\n",
       "      <td>1.0</td>\n",
       "      <td>2</td>\n",
       "      <td>6.0</td>\n",
       "    </tr>\n",
       "    <tr>\n",
       "      <th>1</th>\n",
       "      <td>2018-01-01</td>\n",
       "      <td>多云/多云</td>\n",
       "      <td>22</td>\n",
       "      <td>12</td>\n",
       "      <td>无持续风向&lt;3级</td>\n",
       "      <td>无持续风向&lt;3级</td>\n",
       "      <td>1</td>\n",
       "      <td>1</td>\n",
       "      <td>2018</td>\n",
       "      <td>1.0</td>\n",
       "      <td>1.0</td>\n",
       "      <td>2</td>\n",
       "      <td>6.0</td>\n",
       "    </tr>\n",
       "    <tr>\n",
       "      <th>2</th>\n",
       "      <td>2018-01-02</td>\n",
       "      <td>多云/多云</td>\n",
       "      <td>22</td>\n",
       "      <td>15</td>\n",
       "      <td>无持续风向&lt;3级</td>\n",
       "      <td>无持续风向&lt;3级</td>\n",
       "      <td>2</td>\n",
       "      <td>1</td>\n",
       "      <td>2018</td>\n",
       "      <td>1.0</td>\n",
       "      <td>1.0</td>\n",
       "      <td>2</td>\n",
       "      <td>6.0</td>\n",
       "    </tr>\n",
       "    <tr>\n",
       "      <th>3</th>\n",
       "      <td>2018-01-03</td>\n",
       "      <td>多云/阴</td>\n",
       "      <td>23</td>\n",
       "      <td>15</td>\n",
       "      <td>无持续风向&lt;3级</td>\n",
       "      <td>无持续风向&lt;3级</td>\n",
       "      <td>3</td>\n",
       "      <td>1</td>\n",
       "      <td>2018</td>\n",
       "      <td>1.0</td>\n",
       "      <td>2.0</td>\n",
       "      <td>2</td>\n",
       "      <td>6.0</td>\n",
       "    </tr>\n",
       "    <tr>\n",
       "      <th>4</th>\n",
       "      <td>2018-01-04</td>\n",
       "      <td>多云/小雨</td>\n",
       "      <td>21</td>\n",
       "      <td>16</td>\n",
       "      <td>无持续风向&lt;3级</td>\n",
       "      <td>无持续风向&lt;3级</td>\n",
       "      <td>4</td>\n",
       "      <td>1</td>\n",
       "      <td>2018</td>\n",
       "      <td>1.0</td>\n",
       "      <td>3.0</td>\n",
       "      <td>2</td>\n",
       "      <td>6.0</td>\n",
       "    </tr>\n",
       "    <tr>\n",
       "      <th>...</th>\n",
       "      <td>...</td>\n",
       "      <td>...</td>\n",
       "      <td>...</td>\n",
       "      <td>...</td>\n",
       "      <td>...</td>\n",
       "      <td>...</td>\n",
       "      <td>...</td>\n",
       "      <td>...</td>\n",
       "      <td>...</td>\n",
       "      <td>...</td>\n",
       "      <td>...</td>\n",
       "      <td>...</td>\n",
       "      <td>...</td>\n",
       "    </tr>\n",
       "    <tr>\n",
       "      <th>1340</th>\n",
       "      <td>2021-08-27</td>\n",
       "      <td>雷阵雨/雷阵雨</td>\n",
       "      <td>35</td>\n",
       "      <td>26</td>\n",
       "      <td>北风1-2级</td>\n",
       "      <td>北风1-2级</td>\n",
       "      <td>27</td>\n",
       "      <td>8</td>\n",
       "      <td>2021</td>\n",
       "      <td>6.5</td>\n",
       "      <td>6.5</td>\n",
       "      <td>4</td>\n",
       "      <td>3.0</td>\n",
       "    </tr>\n",
       "    <tr>\n",
       "      <th>1341</th>\n",
       "      <td>2021-08-28</td>\n",
       "      <td>雷阵雨/多云</td>\n",
       "      <td>33</td>\n",
       "      <td>26</td>\n",
       "      <td>北风1-2级</td>\n",
       "      <td>北风1-2级</td>\n",
       "      <td>28</td>\n",
       "      <td>8</td>\n",
       "      <td>2021</td>\n",
       "      <td>6.5</td>\n",
       "      <td>1.0</td>\n",
       "      <td>4</td>\n",
       "      <td>3.0</td>\n",
       "    </tr>\n",
       "    <tr>\n",
       "      <th>1342</th>\n",
       "      <td>2021-08-29</td>\n",
       "      <td>雷阵雨/雷阵雨</td>\n",
       "      <td>32</td>\n",
       "      <td>25</td>\n",
       "      <td>北风1-2级</td>\n",
       "      <td>北风1-2级</td>\n",
       "      <td>29</td>\n",
       "      <td>8</td>\n",
       "      <td>2021</td>\n",
       "      <td>6.5</td>\n",
       "      <td>6.5</td>\n",
       "      <td>4</td>\n",
       "      <td>3.0</td>\n",
       "    </tr>\n",
       "    <tr>\n",
       "      <th>1343</th>\n",
       "      <td>2021-08-30</td>\n",
       "      <td>阵雨/阵雨</td>\n",
       "      <td>34</td>\n",
       "      <td>26</td>\n",
       "      <td>北风1-2级</td>\n",
       "      <td>北风1-2级</td>\n",
       "      <td>30</td>\n",
       "      <td>8</td>\n",
       "      <td>2021</td>\n",
       "      <td>5.0</td>\n",
       "      <td>5.0</td>\n",
       "      <td>4</td>\n",
       "      <td>3.0</td>\n",
       "    </tr>\n",
       "    <tr>\n",
       "      <th>1344</th>\n",
       "      <td>2021-08-31</td>\n",
       "      <td>雷阵雨/阵雨</td>\n",
       "      <td>32</td>\n",
       "      <td>26</td>\n",
       "      <td>北风1-2级</td>\n",
       "      <td>北风1-2级</td>\n",
       "      <td>31</td>\n",
       "      <td>8</td>\n",
       "      <td>2021</td>\n",
       "      <td>6.5</td>\n",
       "      <td>5.0</td>\n",
       "      <td>4</td>\n",
       "      <td>3.0</td>\n",
       "    </tr>\n",
       "  </tbody>\n",
       "</table>\n",
       "<p>1345 rows × 13 columns</p>\n",
       "</div>"
      ],
      "text/plain": [
       "             日期     天气状况  最高温度  最低温度    白天风力风向    夜晚风力风向   日  月     年  白天天气状况  \\\n",
       "0    2018-01-01    多云/多云    22    12  无持续风向<3级  无持续风向<3级   1  1  2018     1.0   \n",
       "1    2018-01-01    多云/多云    22    12  无持续风向<3级  无持续风向<3级   1  1  2018     1.0   \n",
       "2    2018-01-02    多云/多云    22    15  无持续风向<3级  无持续风向<3级   2  1  2018     1.0   \n",
       "3    2018-01-03     多云/阴    23    15  无持续风向<3级  无持续风向<3级   3  1  2018     1.0   \n",
       "4    2018-01-04    多云/小雨    21    16  无持续风向<3级  无持续风向<3级   4  1  2018     1.0   \n",
       "...         ...      ...   ...   ...       ...       ...  .. ..   ...     ...   \n",
       "1340 2021-08-27  雷阵雨/雷阵雨    35    26    北风1-2级    北风1-2级  27  8  2021     6.5   \n",
       "1341 2021-08-28   雷阵雨/多云    33    26    北风1-2级    北风1-2级  28  8  2021     6.5   \n",
       "1342 2021-08-29  雷阵雨/雷阵雨    32    25    北风1-2级    北风1-2级  29  8  2021     6.5   \n",
       "1343 2021-08-30    阵雨/阵雨    34    26    北风1-2级    北风1-2级  30  8  2021     5.0   \n",
       "1344 2021-08-31   雷阵雨/阵雨    32    26    北风1-2级    北风1-2级  31  8  2021     6.5   \n",
       "\n",
       "      夜晚天气状况  风向   风力  \n",
       "0        1.0   2  6.0  \n",
       "1        1.0   2  6.0  \n",
       "2        1.0   2  6.0  \n",
       "3        2.0   2  6.0  \n",
       "4        3.0   2  6.0  \n",
       "...      ...  ..  ...  \n",
       "1340     6.5   4  3.0  \n",
       "1341     1.0   4  3.0  \n",
       "1342     6.5   4  3.0  \n",
       "1343     5.0   4  3.0  \n",
       "1344     5.0   4  3.0  \n",
       "\n",
       "[1345 rows x 13 columns]"
      ]
     },
     "execution_count": 12,
     "metadata": {},
     "output_type": "execute_result"
    }
   ],
   "source": [
    "weather"
   ]
  },
  {
   "cell_type": "markdown",
   "metadata": {},
   "source": [
    "## 问题1"
   ]
  },
  {
   "cell_type": "code",
   "execution_count": 13,
   "metadata": {},
   "outputs": [
    {
     "data": {
      "text/html": [
       "<div>\n",
       "<style scoped>\n",
       "    .dataframe tbody tr th:only-of-type {\n",
       "        vertical-align: middle;\n",
       "    }\n",
       "\n",
       "    .dataframe tbody tr th {\n",
       "        vertical-align: top;\n",
       "    }\n",
       "\n",
       "    .dataframe thead th {\n",
       "        text-align: right;\n",
       "    }\n",
       "</style>\n",
       "<table border=\"1\" class=\"dataframe\">\n",
       "  <thead>\n",
       "    <tr style=\"text-align: right;\">\n",
       "      <th></th>\n",
       "      <th>日期</th>\n",
       "      <th>负荷</th>\n",
       "      <th>天气状况</th>\n",
       "      <th>最高温度</th>\n",
       "      <th>最低温度</th>\n",
       "      <th>白天风力风向</th>\n",
       "      <th>夜晚风力风向</th>\n",
       "      <th>日</th>\n",
       "      <th>月</th>\n",
       "      <th>年</th>\n",
       "      <th>白天天气状况</th>\n",
       "      <th>夜晚天气状况</th>\n",
       "      <th>风向</th>\n",
       "      <th>风力</th>\n",
       "    </tr>\n",
       "  </thead>\n",
       "  <tbody>\n",
       "    <tr>\n",
       "      <th>0</th>\n",
       "      <td>2018-01-01 00:00:00</td>\n",
       "      <td>244033.7682</td>\n",
       "      <td>多云/多云</td>\n",
       "      <td>22</td>\n",
       "      <td>12</td>\n",
       "      <td>无持续风向&lt;3级</td>\n",
       "      <td>无持续风向&lt;3级</td>\n",
       "      <td>1</td>\n",
       "      <td>1</td>\n",
       "      <td>2018</td>\n",
       "      <td>1.0</td>\n",
       "      <td>1.0</td>\n",
       "      <td>2.0</td>\n",
       "      <td>6.0</td>\n",
       "    </tr>\n",
       "    <tr>\n",
       "      <th>1</th>\n",
       "      <td>2018-01-01 00:15:00</td>\n",
       "      <td>232720.6402</td>\n",
       "      <td>多云/多云</td>\n",
       "      <td>22</td>\n",
       "      <td>12</td>\n",
       "      <td>无持续风向&lt;3级</td>\n",
       "      <td>无持续风向&lt;3级</td>\n",
       "      <td>1</td>\n",
       "      <td>1</td>\n",
       "      <td>2018</td>\n",
       "      <td>1.0</td>\n",
       "      <td>1.0</td>\n",
       "      <td>2.0</td>\n",
       "      <td>6.0</td>\n",
       "    </tr>\n",
       "    <tr>\n",
       "      <th>2</th>\n",
       "      <td>2018-01-01 00:30:00</td>\n",
       "      <td>231685.6891</td>\n",
       "      <td>多云/多云</td>\n",
       "      <td>22</td>\n",
       "      <td>12</td>\n",
       "      <td>无持续风向&lt;3级</td>\n",
       "      <td>无持续风向&lt;3级</td>\n",
       "      <td>1</td>\n",
       "      <td>1</td>\n",
       "      <td>2018</td>\n",
       "      <td>1.0</td>\n",
       "      <td>1.0</td>\n",
       "      <td>2.0</td>\n",
       "      <td>6.0</td>\n",
       "    </tr>\n",
       "    <tr>\n",
       "      <th>3</th>\n",
       "      <td>2018-01-01 00:45:00</td>\n",
       "      <td>227581.3317</td>\n",
       "      <td>多云/多云</td>\n",
       "      <td>22</td>\n",
       "      <td>12</td>\n",
       "      <td>无持续风向&lt;3级</td>\n",
       "      <td>无持续风向&lt;3级</td>\n",
       "      <td>1</td>\n",
       "      <td>1</td>\n",
       "      <td>2018</td>\n",
       "      <td>1.0</td>\n",
       "      <td>1.0</td>\n",
       "      <td>2.0</td>\n",
       "      <td>6.0</td>\n",
       "    </tr>\n",
       "    <tr>\n",
       "      <th>4</th>\n",
       "      <td>2018-01-01 01:00:00</td>\n",
       "      <td>233482.4269</td>\n",
       "      <td>多云/多云</td>\n",
       "      <td>22</td>\n",
       "      <td>12</td>\n",
       "      <td>无持续风向&lt;3级</td>\n",
       "      <td>无持续风向&lt;3级</td>\n",
       "      <td>1</td>\n",
       "      <td>1</td>\n",
       "      <td>2018</td>\n",
       "      <td>1.0</td>\n",
       "      <td>1.0</td>\n",
       "      <td>2.0</td>\n",
       "      <td>6.0</td>\n",
       "    </tr>\n",
       "  </tbody>\n",
       "</table>\n",
       "</div>"
      ],
      "text/plain": [
       "                   日期           负荷   天气状况  最高温度  最低温度    白天风力风向    夜晚风力风向  日  \\\n",
       "0 2018-01-01 00:00:00  244033.7682  多云/多云    22    12  无持续风向<3级  无持续风向<3级  1   \n",
       "1 2018-01-01 00:15:00  232720.6402  多云/多云    22    12  无持续风向<3级  无持续风向<3级  1   \n",
       "2 2018-01-01 00:30:00  231685.6891  多云/多云    22    12  无持续风向<3级  无持续风向<3级  1   \n",
       "3 2018-01-01 00:45:00  227581.3317  多云/多云    22    12  无持续风向<3级  无持续风向<3级  1   \n",
       "4 2018-01-01 01:00:00  233482.4269  多云/多云    22    12  无持续风向<3级  无持续风向<3级  1   \n",
       "\n",
       "   月     年  白天天气状况  夜晚天气状况   风向   风力  \n",
       "0  1  2018     1.0     1.0  2.0  6.0  \n",
       "1  1  2018     1.0     1.0  2.0  6.0  \n",
       "2  1  2018     1.0     1.0  2.0  6.0  \n",
       "3  1  2018     1.0     1.0  2.0  6.0  \n",
       "4  1  2018     1.0     1.0  2.0  6.0  "
      ]
     },
     "execution_count": 13,
     "metadata": {},
     "output_type": "execute_result"
    }
   ],
   "source": [
    "# 连接天气和区域负荷表，并填充缺失值\n",
    "region_weather = pd.merge(left=region, right=weather, how='outer', on='日期').drop_duplicates(subset=['日期'], ignore_index=True)\n",
    "region_weather = region_weather[~region_weather['负荷'].isnull()]\n",
    "region_weather = region_weather.fillna(method='ffill')\n",
    "region_weather['最高温度'] = region_weather['最高温度'].astype('int')\n",
    "region_weather['最低温度'] = region_weather['最低温度'].astype('int')\n",
    "region_weather['日'] = region_weather['日'].astype('int')\n",
    "region_weather['月'] = region_weather['月'].astype('int')\n",
    "region_weather['年'] = region_weather['年'].astype('int')\n",
    "region_weather.head()"
   ]
  },
  {
   "cell_type": "markdown",
   "metadata": {},
   "source": [
    "# 日周期"
   ]
  },
  {
   "cell_type": "code",
   "execution_count": 14,
   "metadata": {},
   "outputs": [],
   "source": [
    "time = pd.Series(pd.date_range(start='00:00', end='23:45', freq='15min')).dt.strftime('%H:%M')"
   ]
  },
  {
   "cell_type": "code",
   "execution_count": 15,
   "metadata": {},
   "outputs": [
    {
     "name": "stdout",
     "output_type": "stream",
     "text": [
      "Using categorical units to plot a list of strings that are all parsable as floats or dates. If these strings should be plotted as numbers, cast to the appropriate data type before plotting.\n",
      "Using categorical units to plot a list of strings that are all parsable as floats or dates. If these strings should be plotted as numbers, cast to the appropriate data type before plotting.\n",
      "Using categorical units to plot a list of strings that are all parsable as floats or dates. If these strings should be plotted as numbers, cast to the appropriate data type before plotting.\n",
      "Using categorical units to plot a list of strings that are all parsable as floats or dates. If these strings should be plotted as numbers, cast to the appropriate data type before plotting.\n",
      "Using categorical units to plot a list of strings that are all parsable as floats or dates. If these strings should be plotted as numbers, cast to the appropriate data type before plotting.\n",
      "Using categorical units to plot a list of strings that are all parsable as floats or dates. If these strings should be plotted as numbers, cast to the appropriate data type before plotting.\n",
      "Using categorical units to plot a list of strings that are all parsable as floats or dates. If these strings should be plotted as numbers, cast to the appropriate data type before plotting.\n",
      "Using categorical units to plot a list of strings that are all parsable as floats or dates. If these strings should be plotted as numbers, cast to the appropriate data type before plotting.\n",
      "Using categorical units to plot a list of strings that are all parsable as floats or dates. If these strings should be plotted as numbers, cast to the appropriate data type before plotting.\n",
      "Using categorical units to plot a list of strings that are all parsable as floats or dates. If these strings should be plotted as numbers, cast to the appropriate data type before plotting.\n"
     ]
    },
    {
     "data": {
      "text/plain": [
       "<Figure size 2200x1000 with 1 Axes>"
      ]
     },
     "metadata": {},
     "output_type": "display_data"
    }
   ],
   "source": [
    "import matplotlib.pyplot as plt\n",
    "plt.figure(figsize=(22,10))\n",
    "for i in range(1, 6):\n",
    "    plt.plot(time, region_weather.set_index(['日期'])[f'2018-01-0{i}']['负荷'], label=f'2018-01-0{i}')\n",
    "plt.autoscale()\n",
    "plt.xticks(rotation=70)\n",
    "plt.legend()\n",
    "plt.savefig('日周期')\n",
    "plt.show()"
   ]
  },
  {
   "cell_type": "markdown",
   "metadata": {},
   "source": [
    "# 周周期"
   ]
  },
  {
   "cell_type": "code",
   "execution_count": 16,
   "metadata": {},
   "outputs": [],
   "source": [
    "import pandas as pd\n",
    "import numpy as np\n",
    "import re\n",
    "\n",
    "from sklearn.metrics import r2_score\n",
    "\n",
    "import matplotlib.pyplot as plt\n",
    "import matplotlib.ticker as ticker\n",
    "plt.rcParams['font.sans-serif']=['SimHei'] #用来正常显示中文标签\n",
    "plt.rcParams['axes.unicode_minus']=False #用来正常显示负号"
   ]
  },
  {
   "cell_type": "code",
   "execution_count": 17,
   "metadata": {},
   "outputs": [
    {
     "name": "stdout",
     "output_type": "stream",
     "text": [
      "[223401.06603750002, 244520.58846562504, 260548.67507812497, 262986.8022604167, 263652.613175, 263810.6818729167, 259740.15250520836]\n"
     ]
    },
    {
     "data": {
      "image/png": "[encoded data removed]",
      "text/plain": [
       "<Figure size 432x288 with 1 Axes>"
      ]
     },
     "metadata": {
      "needs_background": "light"
     },
     "output_type": "display_data"
    }
   ],
   "source": [
    "\n",
    "day = list(range(1, 8))\n",
    "day = np.array(day)\n",
    "height = []\n",
    "for i in range(1, 8):\n",
    "     height.append(region_weather.set_index(['日期'])[f'2018-01-{i}']['负荷'].mean())\n",
    "    \n",
    "print(height)\n",
    "plt.bar(day, height,width=0.2, label='第一周')\n",
    "\n",
    "height = []\n",
    "for i in range(9, 16):\n",
    "     height.append(region_weather.set_index(['日期'])[f'2018-01-{i}']['负荷'].mean())\n",
    "plt.bar(day+0.2, height,width=0.2, label='第二周')\n",
    "\n",
    "height = []\n",
    "for i in range(17, 24):\n",
    "     height.append(region_weather.set_index(['日期'])[f'2018-01-{i}']['负荷'].mean())\n",
    "plt.bar(day+0.4, height,width=0.2, label='第三周')\n",
    "plt.ylim(200000, 270000)\n",
    "plt.legend()\n",
    "plt.autoscale(axis='x', tight=None)\n",
    "plt.savefig('周周期性')\n",
    "plt.show()\n"
   ]
  },
  {
   "cell_type": "code",
   "execution_count": 18,
   "metadata": {},
   "outputs": [
    {
     "data": {
      "text/plain": [
       "256660.018265625"
      ]
     },
     "execution_count": 18,
     "metadata": {},
     "output_type": "execute_result"
    }
   ],
   "source": [
    "for i in range(8, 15):\n",
    "    height = region_weather.set_index(['日期'])[f'2018-01-{i}']['负荷'].mean()\n",
    "height"
   ]
  },
  {
   "cell_type": "markdown",
   "metadata": {},
   "source": [
    "# 行业功率对比"
   ]
  },
  {
   "cell_type": "code",
   "execution_count": 19,
   "metadata": {},
   "outputs": [
    {
     "name": "stdout",
     "output_type": "stream",
     "text": [
      "<pandas.core.groupby.generic.DataFrameGroupBy object at 0x7f295b9435f8>\n"
     ]
    }
   ],
   "source": [
    "industries = industry.groupby(['行业类型'])\n",
    "types = industry['行业类型'].unique()\n",
    "print(industries)"
   ]
  },
  {
   "cell_type": "code",
   "execution_count": 20,
   "metadata": {},
   "outputs": [
    {
     "data": {
      "text/plain": [
       "<pandas.core.groupby.generic.DataFrameGroupBy object at 0x7f295b9435f8>"
      ]
     },
     "execution_count": 20,
     "metadata": {},
     "output_type": "execute_result"
    }
   ],
   "source": [
    "industry.drop(industry[industry['负荷最小值']<0].index, inplace=True)\n",
    "industries"
   ]
  },
  {
   "cell_type": "code",
   "execution_count": 21,
   "metadata": {},
   "outputs": [
    {
     "ename": "ValueError",
     "evalue": "len(index) != len(labels)",
     "output_type": "error",
     "traceback": [
      "\u001b[0;31m---------------------------------------------------------------------------\u001b[0m",
      "\u001b[0;31mValueError\u001b[0m                                Traceback (most recent call last)",
      "\u001b[0;32m<ipython-input-21-f54fa1e0926b>\u001b[0m in \u001b[0;36m<module>\u001b[0;34m()\u001b[0m\n\u001b[1;32m      1\u001b[0m \u001b[0mdf\u001b[0m \u001b[0;34m=\u001b[0m \u001b[0mpd\u001b[0m\u001b[0;34m.\u001b[0m\u001b[0mDataFrame\u001b[0m\u001b[0;34m(\u001b[0m\u001b[0mcolumns\u001b[0m\u001b[0;34m=\u001b[0m\u001b[0;34m[\u001b[0m\u001b[0;34m'负荷最小值'\u001b[0m\u001b[0;34m,\u001b[0m \u001b[0;34m'负荷最大值'\u001b[0m\u001b[0;34m]\u001b[0m\u001b[0;34m,\u001b[0m\u001b[0mindex\u001b[0m\u001b[0;34m=\u001b[0m\u001b[0mtypes\u001b[0m\u001b[0;34m)\u001b[0m\u001b[0;34m\u001b[0m\u001b[0;34m\u001b[0m\u001b[0m\n\u001b[0;32m----> 2\u001b[0;31m \u001b[0mdf\u001b[0m\u001b[0;34m[\u001b[0m\u001b[0;34m'负荷最小值'\u001b[0m\u001b[0;34m]\u001b[0m \u001b[0;34m=\u001b[0m \u001b[0mindustries\u001b[0m\u001b[0;34m.\u001b[0m\u001b[0mmean\u001b[0m\u001b[0;34m(\u001b[0m\u001b[0;34m)\u001b[0m\u001b[0;34m[\u001b[0m\u001b[0;34m'负荷最小值'\u001b[0m\u001b[0;34m]\u001b[0m\u001b[0;34m\u001b[0m\u001b[0;34m\u001b[0m\u001b[0m\n\u001b[0m\u001b[1;32m      3\u001b[0m \u001b[0mdf\u001b[0m\u001b[0;34m[\u001b[0m\u001b[0;34m'负荷最大值'\u001b[0m\u001b[0;34m]\u001b[0m \u001b[0;34m=\u001b[0m \u001b[0mindustries\u001b[0m\u001b[0;34m.\u001b[0m\u001b[0mmean\u001b[0m\u001b[0;34m(\u001b[0m\u001b[0;34m)\u001b[0m\u001b[0;34m[\u001b[0m\u001b[0;34m'负荷最大值'\u001b[0m\u001b[0;34m]\u001b[0m\u001b[0;34m\u001b[0m\u001b[0;34m\u001b[0m\u001b[0m\n\u001b[1;32m      4\u001b[0m \u001b[0mdf\u001b[0m\u001b[0;34m\u001b[0m\u001b[0;34m\u001b[0m\u001b[0m\n",
      "\u001b[0;32m/home/gumiano/miniconda3/envs/image_env/lib/python3.6/site-packages/pandas/core/groupby/groupby.py\u001b[0m in \u001b[0;36mmean\u001b[0;34m(self, numeric_only)\u001b[0m\n\u001b[1;32m   1396\u001b[0m             \u001b[0;34m\"mean\"\u001b[0m\u001b[0;34m,\u001b[0m\u001b[0;34m\u001b[0m\u001b[0;34m\u001b[0m\u001b[0m\n\u001b[1;32m   1397\u001b[0m             \u001b[0malt\u001b[0m\u001b[0;34m=\u001b[0m\u001b[0;32mlambda\u001b[0m \u001b[0mx\u001b[0m\u001b[0;34m,\u001b[0m \u001b[0maxis\u001b[0m\u001b[0;34m:\u001b[0m \u001b[0mSeries\u001b[0m\u001b[0;34m(\u001b[0m\u001b[0mx\u001b[0m\u001b[0;34m)\u001b[0m\u001b[0;34m.\u001b[0m\u001b[0mmean\u001b[0m\u001b[0;34m(\u001b[0m\u001b[0mnumeric_only\u001b[0m\u001b[0;34m=\u001b[0m\u001b[0mnumeric_only\u001b[0m\u001b[0;34m)\u001b[0m\u001b[0;34m,\u001b[0m\u001b[0;34m\u001b[0m\u001b[0;34m\u001b[0m\u001b[0m\n\u001b[0;32m-> 1398\u001b[0;31m             \u001b[0mnumeric_only\u001b[0m\u001b[0;34m=\u001b[0m\u001b[0mnumeric_only\u001b[0m\u001b[0;34m,\u001b[0m\u001b[0;34m\u001b[0m\u001b[0;34m\u001b[0m\u001b[0m\n\u001b[0m\u001b[1;32m   1399\u001b[0m         )\n\u001b[1;32m   1400\u001b[0m \u001b[0;34m\u001b[0m\u001b[0m\n",
      "\u001b[0;32m/home/gumiano/miniconda3/envs/image_env/lib/python3.6/site-packages/pandas/core/groupby/generic.py\u001b[0m in \u001b[0;36m_cython_agg_general\u001b[0;34m(self, how, alt, numeric_only, min_count)\u001b[0m\n\u001b[1;32m   1020\u001b[0m     ) -> DataFrame:\n\u001b[1;32m   1021\u001b[0m         agg_blocks, agg_items = self._cython_agg_blocks(\n\u001b[0;32m-> 1022\u001b[0;31m             \u001b[0mhow\u001b[0m\u001b[0;34m,\u001b[0m \u001b[0malt\u001b[0m\u001b[0;34m=\u001b[0m\u001b[0malt\u001b[0m\u001b[0;34m,\u001b[0m \u001b[0mnumeric_only\u001b[0m\u001b[0;34m=\u001b[0m\u001b[0mnumeric_only\u001b[0m\u001b[0;34m,\u001b[0m \u001b[0mmin_count\u001b[0m\u001b[0;34m=\u001b[0m\u001b[0mmin_count\u001b[0m\u001b[0;34m\u001b[0m\u001b[0;34m\u001b[0m\u001b[0m\n\u001b[0m\u001b[1;32m   1023\u001b[0m         )\n\u001b[1;32m   1024\u001b[0m         \u001b[0;32mreturn\u001b[0m \u001b[0mself\u001b[0m\u001b[0;34m.\u001b[0m\u001b[0m_wrap_agged_blocks\u001b[0m\u001b[0;34m(\u001b[0m\u001b[0magg_blocks\u001b[0m\u001b[0;34m,\u001b[0m \u001b[0mitems\u001b[0m\u001b[0;34m=\u001b[0m\u001b[0magg_items\u001b[0m\u001b[0;34m)\u001b[0m\u001b[0;34m\u001b[0m\u001b[0;34m\u001b[0m\u001b[0m\n",
      "\u001b[0;32m/home/gumiano/miniconda3/envs/image_env/lib/python3.6/site-packages/pandas/core/groupby/generic.py\u001b[0m in \u001b[0;36m_cython_agg_blocks\u001b[0;34m(self, how, alt, numeric_only, min_count)\u001b[0m\n\u001b[1;32m   1049\u001b[0m             \u001b[0;32mtry\u001b[0m\u001b[0;34m:\u001b[0m\u001b[0;34m\u001b[0m\u001b[0;34m\u001b[0m\u001b[0m\n\u001b[1;32m   1050\u001b[0m                 result, _ = self.grouper.aggregate(\n\u001b[0;32m-> 1051\u001b[0;31m                     \u001b[0mblock\u001b[0m\u001b[0;34m.\u001b[0m\u001b[0mvalues\u001b[0m\u001b[0;34m,\u001b[0m \u001b[0mhow\u001b[0m\u001b[0;34m,\u001b[0m \u001b[0maxis\u001b[0m\u001b[0;34m=\u001b[0m\u001b[0;36m1\u001b[0m\u001b[0;34m,\u001b[0m \u001b[0mmin_count\u001b[0m\u001b[0;34m=\u001b[0m\u001b[0mmin_count\u001b[0m\u001b[0;34m\u001b[0m\u001b[0;34m\u001b[0m\u001b[0m\n\u001b[0m\u001b[1;32m   1052\u001b[0m                 )\n\u001b[1;32m   1053\u001b[0m             \u001b[0;32mexcept\u001b[0m \u001b[0mNotImplementedError\u001b[0m\u001b[0;34m:\u001b[0m\u001b[0;34m\u001b[0m\u001b[0;34m\u001b[0m\u001b[0m\n",
      "\u001b[0;32m/home/gumiano/miniconda3/envs/image_env/lib/python3.6/site-packages/pandas/core/groupby/ops.py\u001b[0m in \u001b[0;36maggregate\u001b[0;34m(self, values, how, axis, min_count)\u001b[0m\n\u001b[1;32m    590\u001b[0m     ) -> Tuple[np.ndarray, Optional[List[str]]]:\n\u001b[1;32m    591\u001b[0m         return self._cython_operation(\n\u001b[0;32m--> 592\u001b[0;31m             \u001b[0;34m\"aggregate\"\u001b[0m\u001b[0;34m,\u001b[0m \u001b[0mvalues\u001b[0m\u001b[0;34m,\u001b[0m \u001b[0mhow\u001b[0m\u001b[0;34m,\u001b[0m \u001b[0maxis\u001b[0m\u001b[0;34m,\u001b[0m \u001b[0mmin_count\u001b[0m\u001b[0;34m=\u001b[0m\u001b[0mmin_count\u001b[0m\u001b[0;34m\u001b[0m\u001b[0;34m\u001b[0m\u001b[0m\n\u001b[0m\u001b[1;32m    593\u001b[0m         )\n\u001b[1;32m    594\u001b[0m \u001b[0;34m\u001b[0m\u001b[0m\n",
      "\u001b[0;32m/home/gumiano/miniconda3/envs/image_env/lib/python3.6/site-packages/pandas/core/groupby/ops.py\u001b[0m in \u001b[0;36m_cython_operation\u001b[0;34m(self, kind, values, how, axis, min_count, **kwargs)\u001b[0m\n\u001b[1;32m    542\u001b[0m             )\n\u001b[1;32m    543\u001b[0m             \u001b[0mcounts\u001b[0m \u001b[0;34m=\u001b[0m \u001b[0mnp\u001b[0m\u001b[0;34m.\u001b[0m\u001b[0mzeros\u001b[0m\u001b[0;34m(\u001b[0m\u001b[0mself\u001b[0m\u001b[0;34m.\u001b[0m\u001b[0mngroups\u001b[0m\u001b[0;34m,\u001b[0m \u001b[0mdtype\u001b[0m\u001b[0;34m=\u001b[0m\u001b[0mnp\u001b[0m\u001b[0;34m.\u001b[0m\u001b[0mint64\u001b[0m\u001b[0;34m)\u001b[0m\u001b[0;34m\u001b[0m\u001b[0;34m\u001b[0m\u001b[0m\n\u001b[0;32m--> 544\u001b[0;31m             \u001b[0mresult\u001b[0m \u001b[0;34m=\u001b[0m \u001b[0mself\u001b[0m\u001b[0;34m.\u001b[0m\u001b[0m_aggregate\u001b[0m\u001b[0;34m(\u001b[0m\u001b[0mresult\u001b[0m\u001b[0;34m,\u001b[0m \u001b[0mcounts\u001b[0m\u001b[0;34m,\u001b[0m \u001b[0mvalues\u001b[0m\u001b[0;34m,\u001b[0m \u001b[0mcodes\u001b[0m\u001b[0;34m,\u001b[0m \u001b[0mfunc\u001b[0m\u001b[0;34m,\u001b[0m \u001b[0mmin_count\u001b[0m\u001b[0;34m)\u001b[0m\u001b[0;34m\u001b[0m\u001b[0;34m\u001b[0m\u001b[0m\n\u001b[0m\u001b[1;32m    545\u001b[0m         \u001b[0;32melif\u001b[0m \u001b[0mkind\u001b[0m \u001b[0;34m==\u001b[0m \u001b[0;34m\"transform\"\u001b[0m\u001b[0;34m:\u001b[0m\u001b[0;34m\u001b[0m\u001b[0;34m\u001b[0m\u001b[0m\n\u001b[1;32m    546\u001b[0m             result = _maybe_fill(\n",
      "\u001b[0;32m/home/gumiano/miniconda3/envs/image_env/lib/python3.6/site-packages/pandas/core/groupby/ops.py\u001b[0m in \u001b[0;36m_aggregate\u001b[0;34m(self, result, counts, values, comp_ids, agg_func, min_count)\u001b[0m\n\u001b[1;32m    604\u001b[0m             \u001b[0magg_func\u001b[0m\u001b[0;34m(\u001b[0m\u001b[0mresult\u001b[0m\u001b[0;34m,\u001b[0m \u001b[0mcounts\u001b[0m\u001b[0;34m,\u001b[0m \u001b[0mvalues\u001b[0m\u001b[0;34m,\u001b[0m \u001b[0mcomp_ids\u001b[0m\u001b[0;34m,\u001b[0m \u001b[0mrank\u001b[0m\u001b[0;34m=\u001b[0m\u001b[0;36m1\u001b[0m\u001b[0;34m,\u001b[0m \u001b[0mmin_count\u001b[0m\u001b[0;34m=\u001b[0m\u001b[0;34m-\u001b[0m\u001b[0;36m1\u001b[0m\u001b[0;34m)\u001b[0m\u001b[0;34m\u001b[0m\u001b[0;34m\u001b[0m\u001b[0m\n\u001b[1;32m    605\u001b[0m         \u001b[0;32melse\u001b[0m\u001b[0;34m:\u001b[0m\u001b[0;34m\u001b[0m\u001b[0;34m\u001b[0m\u001b[0m\n\u001b[0;32m--> 606\u001b[0;31m             \u001b[0magg_func\u001b[0m\u001b[0;34m(\u001b[0m\u001b[0mresult\u001b[0m\u001b[0;34m,\u001b[0m \u001b[0mcounts\u001b[0m\u001b[0;34m,\u001b[0m \u001b[0mvalues\u001b[0m\u001b[0;34m,\u001b[0m \u001b[0mcomp_ids\u001b[0m\u001b[0;34m,\u001b[0m \u001b[0mmin_count\u001b[0m\u001b[0;34m)\u001b[0m\u001b[0;34m\u001b[0m\u001b[0;34m\u001b[0m\u001b[0m\n\u001b[0m\u001b[1;32m    607\u001b[0m \u001b[0;34m\u001b[0m\u001b[0m\n\u001b[1;32m    608\u001b[0m         \u001b[0;32mreturn\u001b[0m \u001b[0mresult\u001b[0m\u001b[0;34m\u001b[0m\u001b[0;34m\u001b[0m\u001b[0m\n",
      "\u001b[0;32mpandas/_libs/groupby.pyx\u001b[0m in \u001b[0;36mpandas._libs.groupby._group_mean\u001b[0;34m()\u001b[0m\n",
      "\u001b[0;31mValueError\u001b[0m: len(index) != len(labels)"
     ]
    }
   ],
   "source": [
    "df = pd.DataFrame(columns=['负荷最小值', '负荷最大值'],index=types)\n",
    "df['负荷最小值'] = industries.mean()['负荷最小值']\n",
    "df['负荷最大值'] = industries.mean()['负荷最大值']\n",
    "df"
   ]
  },
  {
   "cell_type": "code",
   "execution_count": null,
   "metadata": {},
   "outputs": [
    {
     "data": {
      "image/png": "[encoded data removed]",
      "text/plain": [
       "<Figure size 432x288 with 1 Axes>"
      ]
     },
     "metadata": {
      "needs_background": "light"
     },
     "output_type": "display_data"
    }
   ],
   "source": [
    "df.plot.bar()\n",
    "plt.savefig('行业对比')\n",
    "plt.show()"
   ]
  },
  {
   "cell_type": "code",
   "execution_count": null,
   "metadata": {},
   "outputs": [
    {
     "data": {
      "text/html": [
       "<div>\n",
       "<style scoped>\n",
       "    .dataframe tbody tr th:only-of-type {\n",
       "        vertical-align: middle;\n",
       "    }\n",
       "\n",
       "    .dataframe tbody tr th {\n",
       "        vertical-align: top;\n",
       "    }\n",
       "\n",
       "    .dataframe thead th {\n",
       "        text-align: right;\n",
       "    }\n",
       "</style>\n",
       "<table border=\"1\" class=\"dataframe\">\n",
       "  <thead>\n",
       "    <tr style=\"text-align: right;\">\n",
       "      <th></th>\n",
       "      <th>日期</th>\n",
       "    </tr>\n",
       "  </thead>\n",
       "  <tbody>\n",
       "    <tr>\n",
       "      <th>0</th>\n",
       "      <td>2018-01-01 00:00:00</td>\n",
       "    </tr>\n",
       "    <tr>\n",
       "      <th>1</th>\n",
       "      <td>2018-01-01 00:15:00</td>\n",
       "    </tr>\n",
       "    <tr>\n",
       "      <th>2</th>\n",
       "      <td>2018-01-01 00:30:00</td>\n",
       "    </tr>\n",
       "    <tr>\n",
       "      <th>3</th>\n",
       "      <td>2018-01-01 00:45:00</td>\n",
       "    </tr>\n",
       "    <tr>\n",
       "      <th>4</th>\n",
       "      <td>2018-01-01 01:00:00</td>\n",
       "    </tr>\n",
       "    <tr>\n",
       "      <th>...</th>\n",
       "      <td>...</td>\n",
       "    </tr>\n",
       "    <tr>\n",
       "      <th>128539</th>\n",
       "      <td>2021-08-31 22:45:00</td>\n",
       "    </tr>\n",
       "    <tr>\n",
       "      <th>128540</th>\n",
       "      <td>2021-08-31 23:00:00</td>\n",
       "    </tr>\n",
       "    <tr>\n",
       "      <th>128541</th>\n",
       "      <td>2021-08-31 23:15:00</td>\n",
       "    </tr>\n",
       "    <tr>\n",
       "      <th>128542</th>\n",
       "      <td>2021-08-31 23:30:00</td>\n",
       "    </tr>\n",
       "    <tr>\n",
       "      <th>128543</th>\n",
       "      <td>2021-08-31 23:45:00</td>\n",
       "    </tr>\n",
       "  </tbody>\n",
       "</table>\n",
       "<p>128544 rows × 1 columns</p>\n",
       "</div>"
      ],
      "text/plain": [
       "                        日期\n",
       "0      2018-01-01 00:00:00\n",
       "1      2018-01-01 00:15:00\n",
       "2      2018-01-01 00:30:00\n",
       "3      2018-01-01 00:45:00\n",
       "4      2018-01-01 01:00:00\n",
       "...                    ...\n",
       "128539 2021-08-31 22:45:00\n",
       "128540 2021-08-31 23:00:00\n",
       "128541 2021-08-31 23:15:00\n",
       "128542 2021-08-31 23:30:00\n",
       "128543 2021-08-31 23:45:00\n",
       "\n",
       "[128544 rows x 1 columns]"
      ]
     },
     "execution_count": 29,
     "metadata": {},
     "output_type": "execute_result"
    }
   ],
   "source": [
    "dt_range = pd.DataFrame(pd.date_range('2018-01-01 00:00:00', '2021-08-31 23:45:00', freq='15min'), columns=['日期'])\n",
    "dt_range"
   ]
  },
  {
   "cell_type": "code",
   "execution_count": null,
   "metadata": {},
   "outputs": [
    {
     "data": {
      "text/plain": [
       "128156   2019-06-14 08:15:00\n",
       "128157   2019-06-14 08:30:00\n",
       "128158   2019-06-14 08:45:00\n",
       "128159   2019-06-14 09:00:00\n",
       "128160   2019-06-14 09:15:00\n",
       "                 ...        \n",
       "128539   2021-08-09 06:30:00\n",
       "128540   2021-08-09 06:45:00\n",
       "128541   2021-08-09 07:00:00\n",
       "128542   2021-08-09 07:15:00\n",
       "128543   2021-08-09 07:30:00\n",
       "Name: 日期, Length: 388, dtype: datetime64[ns]"
      ]
     },
     "execution_count": 37,
     "metadata": {},
     "output_type": "execute_result"
    }
   ],
   "source": [
    "merged_df = pd.merge(left=region_weather, right=dt_range, how='outer')\n",
    "missing_date = merged_df[merged_df.isna()['负荷']]['日期']\n",
    "missing_date"
   ]
  },
  {
   "cell_type": "code",
   "execution_count": null,
   "metadata": {},
   "outputs": [
    {
     "data": {
      "text/plain": [
       "日期          0\n",
       "负荷        388\n",
       "天气状况      388\n",
       "最高温度      388\n",
       "最低温度      388\n",
       "白天风力风向    388\n",
       "夜晚风力风向    388\n",
       "日         388\n",
       "月         388\n",
       "年         388\n",
       "白天天气状况    388\n",
       "夜晚天气状况    388\n",
       "风向        388\n",
       "风力        388\n",
       "dtype: int64"
      ]
     },
     "execution_count": 30,
     "metadata": {},
     "output_type": "execute_result"
    }
   ],
   "source": [
    "pd.merge(left=region_weather, right=dt_range, how='outer').isna().sum()"
   ]
  },
  {
   "cell_type": "code",
   "execution_count": null,
   "metadata": {},
   "outputs": [
    {
     "data": {
      "text/html": [
       "<div>\n",
       "<style scoped>\n",
       "    .dataframe tbody tr th:only-of-type {\n",
       "        vertical-align: middle;\n",
       "    }\n",
       "\n",
       "    .dataframe tbody tr th {\n",
       "        vertical-align: top;\n",
       "    }\n",
       "\n",
       "    .dataframe thead th {\n",
       "        text-align: right;\n",
       "    }\n",
       "</style>\n",
       "<table border=\"1\" class=\"dataframe\">\n",
       "  <thead>\n",
       "    <tr style=\"text-align: right;\">\n",
       "      <th></th>\n",
       "      <th>日期</th>\n",
       "    </tr>\n",
       "  </thead>\n",
       "  <tbody>\n",
       "    <tr>\n",
       "      <th>0</th>\n",
       "      <td>2018-01-01 00:00:00</td>\n",
       "    </tr>\n",
       "    <tr>\n",
       "      <th>1</th>\n",
       "      <td>2018-01-01 00:15:00</td>\n",
       "    </tr>\n",
       "    <tr>\n",
       "      <th>2</th>\n",
       "      <td>2018-01-01 00:30:00</td>\n",
       "    </tr>\n",
       "    <tr>\n",
       "      <th>3</th>\n",
       "      <td>2018-01-01 00:45:00</td>\n",
       "    </tr>\n",
       "    <tr>\n",
       "      <th>4</th>\n",
       "      <td>2018-01-01 01:00:00</td>\n",
       "    </tr>\n",
       "    <tr>\n",
       "      <th>...</th>\n",
       "      <td>...</td>\n",
       "    </tr>\n",
       "    <tr>\n",
       "      <th>128539</th>\n",
       "      <td>2021-08-31 22:45:00</td>\n",
       "    </tr>\n",
       "    <tr>\n",
       "      <th>128540</th>\n",
       "      <td>2021-08-31 23:00:00</td>\n",
       "    </tr>\n",
       "    <tr>\n",
       "      <th>128541</th>\n",
       "      <td>2021-08-31 23:15:00</td>\n",
       "    </tr>\n",
       "    <tr>\n",
       "      <th>128542</th>\n",
       "      <td>2021-08-31 23:30:00</td>\n",
       "    </tr>\n",
       "    <tr>\n",
       "      <th>128543</th>\n",
       "      <td>2021-08-31 23:45:00</td>\n",
       "    </tr>\n",
       "  </tbody>\n",
       "</table>\n",
       "<p>128544 rows × 1 columns</p>\n",
       "</div>"
      ],
      "text/plain": [
       "                        日期\n",
       "0      2018-01-01 00:00:00\n",
       "1      2018-01-01 00:15:00\n",
       "2      2018-01-01 00:30:00\n",
       "3      2018-01-01 00:45:00\n",
       "4      2018-01-01 01:00:00\n",
       "...                    ...\n",
       "128539 2021-08-31 22:45:00\n",
       "128540 2021-08-31 23:00:00\n",
       "128541 2021-08-31 23:15:00\n",
       "128542 2021-08-31 23:30:00\n",
       "128543 2021-08-31 23:45:00\n",
       "\n",
       "[128544 rows x 1 columns]"
      ]
     },
     "execution_count": 39,
     "metadata": {},
     "output_type": "execute_result"
    }
   ],
   "source": [
    "dt_range"
   ]
  },
  {
   "cell_type": "markdown",
   "metadata": {},
   "source": [
    "### 模型训练"
   ]
  },
  {
   "cell_type": "code",
   "execution_count": 42,
   "metadata": {},
   "outputs": [
    {
     "name": "stdout",
     "output_type": "stream",
     "text": [
      "[[257279.1719]\n",
      " [244572.3949]\n",
      " [242882.9032]\n",
      " ...\n",
      " [200112.5091]\n",
      " [199865.5937]\n",
      " [198483.5592]]\n"
     ]
    }
   ],
   "source": [
    "# 用前一天的数据预测后一天的数据\n",
    "# 前一天的数据作为训练集，对后一天的负荷进行预测\n",
    "region_weather_next_day = region_weather.shift(-96).dropna()['负荷']\n",
    "X = region_weather.drop(columns=['负荷', '日期', '天气状况', '白天风力风向', '夜晚风力风向'])[:-96]\n",
    "y = np.array(region_weather_next_day).reshape(-1, 1)\n",
    "\n",
    "# 数据归一化\n",
    "X_max, X_min, y_max, y_min = X.max(), X.min(), y.max(), y.min()\n",
    "X = (X - X_min) / (X_max - X_min)\n",
    "print(y[96*10:])\n",
    "y = (y - y_min) / (y_max - y_min)\n",
    "\n",
    "data = []\n",
    "target = []\n",
    "# for i in range(96*10, X.shape[0]):\n",
    "    # data.append(X.iloc[i-96*10: i,:].values) \n",
    "    # print(data[0])\n",
    "    # break\n",
    "    # target.append(y[i])\n",
    "target = y[96*10:]\n",
    "\n",
    "data = np.array(data)\n",
    "data = X[:-96*10]\n",
    "target = np.array(target)\n",
    "\n",
    "\n",
    "# 划分数据集\n",
    "# X_train, X_test, y_train, y_test = train_test_split(data, target, test_size=0.2, shuffle=False)\n",
    "X_train, y_train = data.iloc[:-96*10], target[:-96*10]\n",
    "X_test, y_test = data.iloc[-96*10:], target[-96*10:]\n",
    "y_res = y * (y_max - y_min) + y_min"
   ]
  },
  {
   "cell_type": "code",
   "execution_count": 44,
   "metadata": {},
   "outputs": [
    {
     "data": {
      "text/html": [
       "<div>\n",
       "<style scoped>\n",
       "    .dataframe tbody tr th:only-of-type {\n",
       "        vertical-align: middle;\n",
       "    }\n",
       "\n",
       "    .dataframe tbody tr th {\n",
       "        vertical-align: top;\n",
       "    }\n",
       "\n",
       "    .dataframe thead th {\n",
       "        text-align: right;\n",
       "    }\n",
       "</style>\n",
       "<table border=\"1\" class=\"dataframe\">\n",
       "  <thead>\n",
       "    <tr style=\"text-align: right;\">\n",
       "      <th></th>\n",
       "      <th>0</th>\n",
       "    </tr>\n",
       "  </thead>\n",
       "  <tbody>\n",
       "    <tr>\n",
       "      <th>0</th>\n",
       "      <td>217814.6855</td>\n",
       "    </tr>\n",
       "    <tr>\n",
       "      <th>1</th>\n",
       "      <td>208631.8383</td>\n",
       "    </tr>\n",
       "    <tr>\n",
       "      <th>2</th>\n",
       "      <td>206770.4854</td>\n",
       "    </tr>\n",
       "    <tr>\n",
       "      <th>3</th>\n",
       "      <td>204902.7697</td>\n",
       "    </tr>\n",
       "    <tr>\n",
       "      <th>4</th>\n",
       "      <td>219528.8258</td>\n",
       "    </tr>\n",
       "    <tr>\n",
       "      <th>...</th>\n",
       "      <td>...</td>\n",
       "    </tr>\n",
       "    <tr>\n",
       "      <th>955</th>\n",
       "      <td>202409.1270</td>\n",
       "    </tr>\n",
       "    <tr>\n",
       "      <th>956</th>\n",
       "      <td>218576.4635</td>\n",
       "    </tr>\n",
       "    <tr>\n",
       "      <th>957</th>\n",
       "      <td>200112.5091</td>\n",
       "    </tr>\n",
       "    <tr>\n",
       "      <th>958</th>\n",
       "      <td>199865.5937</td>\n",
       "    </tr>\n",
       "    <tr>\n",
       "      <th>959</th>\n",
       "      <td>198483.5592</td>\n",
       "    </tr>\n",
       "  </tbody>\n",
       "</table>\n",
       "<p>960 rows × 1 columns</p>\n",
       "</div>"
      ],
      "text/plain": [
       "               0\n",
       "0    217814.6855\n",
       "1    208631.8383\n",
       "2    206770.4854\n",
       "3    204902.7697\n",
       "4    219528.8258\n",
       "..           ...\n",
       "955  202409.1270\n",
       "956  218576.4635\n",
       "957  200112.5091\n",
       "958  199865.5937\n",
       "959  198483.5592\n",
       "\n",
       "[960 rows x 1 columns]"
      ]
     },
     "execution_count": 44,
     "metadata": {},
     "output_type": "execute_result"
    }
   ],
   "source": [
    "pd.DataFrame(y_pred * (y_max - y_min) + y_min).to_csv('预测结果.csv')"
   ]
  },
  {
   "cell_type": "code",
   "execution_count": null,
   "metadata": {},
   "outputs": [],
   "source": []
  },
  {
   "cell_type": "code",
   "execution_count": 57,
   "metadata": {},
   "outputs": [],
   "source": [
    "X = region_weather.drop(columns=['负荷', '日期', '天气状况', '白天风力风向', '夜晚风力风向'])\n",
    "y = np.array(region_weather['负荷'])"
   ]
  },
  {
   "cell_type": "code",
   "execution_count": 60,
   "metadata": {},
   "outputs": [
    {
     "data": {
      "text/html": [
       "<div>\n",
       "<style scoped>\n",
       "    .dataframe tbody tr th:only-of-type {\n",
       "        vertical-align: middle;\n",
       "    }\n",
       "\n",
       "    .dataframe tbody tr th {\n",
       "        vertical-align: top;\n",
       "    }\n",
       "\n",
       "    .dataframe thead th {\n",
       "        text-align: right;\n",
       "    }\n",
       "</style>\n",
       "<table border=\"1\" class=\"dataframe\">\n",
       "  <thead>\n",
       "    <tr style=\"text-align: right;\">\n",
       "      <th></th>\n",
       "      <th>最高温度</th>\n",
       "      <th>最低温度</th>\n",
       "      <th>日</th>\n",
       "      <th>月</th>\n",
       "      <th>年</th>\n",
       "      <th>白天天气状况</th>\n",
       "      <th>夜晚天气状况</th>\n",
       "      <th>风向</th>\n",
       "      <th>风力</th>\n",
       "    </tr>\n",
       "  </thead>\n",
       "  <tbody>\n",
       "    <tr>\n",
       "      <th>0</th>\n",
       "      <td>22</td>\n",
       "      <td>12</td>\n",
       "      <td>1</td>\n",
       "      <td>1</td>\n",
       "      <td>2018</td>\n",
       "      <td>1.0</td>\n",
       "      <td>1.0</td>\n",
       "      <td>2.0</td>\n",
       "      <td>6.0</td>\n",
       "    </tr>\n",
       "    <tr>\n",
       "      <th>1</th>\n",
       "      <td>22</td>\n",
       "      <td>12</td>\n",
       "      <td>1</td>\n",
       "      <td>1</td>\n",
       "      <td>2018</td>\n",
       "      <td>1.0</td>\n",
       "      <td>1.0</td>\n",
       "      <td>2.0</td>\n",
       "      <td>6.0</td>\n",
       "    </tr>\n",
       "    <tr>\n",
       "      <th>2</th>\n",
       "      <td>22</td>\n",
       "      <td>12</td>\n",
       "      <td>1</td>\n",
       "      <td>1</td>\n",
       "      <td>2018</td>\n",
       "      <td>1.0</td>\n",
       "      <td>1.0</td>\n",
       "      <td>2.0</td>\n",
       "      <td>6.0</td>\n",
       "    </tr>\n",
       "    <tr>\n",
       "      <th>3</th>\n",
       "      <td>22</td>\n",
       "      <td>12</td>\n",
       "      <td>1</td>\n",
       "      <td>1</td>\n",
       "      <td>2018</td>\n",
       "      <td>1.0</td>\n",
       "      <td>1.0</td>\n",
       "      <td>2.0</td>\n",
       "      <td>6.0</td>\n",
       "    </tr>\n",
       "    <tr>\n",
       "      <th>4</th>\n",
       "      <td>22</td>\n",
       "      <td>12</td>\n",
       "      <td>1</td>\n",
       "      <td>1</td>\n",
       "      <td>2018</td>\n",
       "      <td>1.0</td>\n",
       "      <td>1.0</td>\n",
       "      <td>2.0</td>\n",
       "      <td>6.0</td>\n",
       "    </tr>\n",
       "    <tr>\n",
       "      <th>...</th>\n",
       "      <td>...</td>\n",
       "      <td>...</td>\n",
       "      <td>...</td>\n",
       "      <td>...</td>\n",
       "      <td>...</td>\n",
       "      <td>...</td>\n",
       "      <td>...</td>\n",
       "      <td>...</td>\n",
       "      <td>...</td>\n",
       "    </tr>\n",
       "    <tr>\n",
       "      <th>128151</th>\n",
       "      <td>32</td>\n",
       "      <td>26</td>\n",
       "      <td>31</td>\n",
       "      <td>8</td>\n",
       "      <td>2021</td>\n",
       "      <td>6.5</td>\n",
       "      <td>5.0</td>\n",
       "      <td>4.0</td>\n",
       "      <td>3.0</td>\n",
       "    </tr>\n",
       "    <tr>\n",
       "      <th>128152</th>\n",
       "      <td>32</td>\n",
       "      <td>26</td>\n",
       "      <td>31</td>\n",
       "      <td>8</td>\n",
       "      <td>2021</td>\n",
       "      <td>6.5</td>\n",
       "      <td>5.0</td>\n",
       "      <td>4.0</td>\n",
       "      <td>3.0</td>\n",
       "    </tr>\n",
       "    <tr>\n",
       "      <th>128153</th>\n",
       "      <td>32</td>\n",
       "      <td>26</td>\n",
       "      <td>31</td>\n",
       "      <td>8</td>\n",
       "      <td>2021</td>\n",
       "      <td>6.5</td>\n",
       "      <td>5.0</td>\n",
       "      <td>4.0</td>\n",
       "      <td>3.0</td>\n",
       "    </tr>\n",
       "    <tr>\n",
       "      <th>128154</th>\n",
       "      <td>32</td>\n",
       "      <td>26</td>\n",
       "      <td>31</td>\n",
       "      <td>8</td>\n",
       "      <td>2021</td>\n",
       "      <td>6.5</td>\n",
       "      <td>5.0</td>\n",
       "      <td>4.0</td>\n",
       "      <td>3.0</td>\n",
       "    </tr>\n",
       "    <tr>\n",
       "      <th>128155</th>\n",
       "      <td>32</td>\n",
       "      <td>26</td>\n",
       "      <td>31</td>\n",
       "      <td>8</td>\n",
       "      <td>2021</td>\n",
       "      <td>6.5</td>\n",
       "      <td>5.0</td>\n",
       "      <td>4.0</td>\n",
       "      <td>3.0</td>\n",
       "    </tr>\n",
       "  </tbody>\n",
       "</table>\n",
       "<p>128156 rows × 9 columns</p>\n",
       "</div>"
      ],
      "text/plain": [
       "        最高温度  最低温度   日  月     年  白天天气状况  夜晚天气状况   风向   风力\n",
       "0         22    12   1  1  2018     1.0     1.0  2.0  6.0\n",
       "1         22    12   1  1  2018     1.0     1.0  2.0  6.0\n",
       "2         22    12   1  1  2018     1.0     1.0  2.0  6.0\n",
       "3         22    12   1  1  2018     1.0     1.0  2.0  6.0\n",
       "4         22    12   1  1  2018     1.0     1.0  2.0  6.0\n",
       "...      ...   ...  .. ..   ...     ...     ...  ...  ...\n",
       "128151    32    26  31  8  2021     6.5     5.0  4.0  3.0\n",
       "128152    32    26  31  8  2021     6.5     5.0  4.0  3.0\n",
       "128153    32    26  31  8  2021     6.5     5.0  4.0  3.0\n",
       "128154    32    26  31  8  2021     6.5     5.0  4.0  3.0\n",
       "128155    32    26  31  8  2021     6.5     5.0  4.0  3.0\n",
       "\n",
       "[128156 rows x 9 columns]"
      ]
     },
     "execution_count": 60,
     "metadata": {},
     "output_type": "execute_result"
    }
   ],
   "source": [
    "X"
   ]
  },
  {
   "cell_type": "code",
   "execution_count": 62,
   "metadata": {},
   "outputs": [
    {
     "data": {
      "text/plain": [
       "128156"
      ]
     },
     "execution_count": 62,
     "metadata": {},
     "output_type": "execute_result"
    }
   ],
   "source": [
    "len(y)"
   ]
  },
  {
   "cell_type": "code",
   "execution_count": 80,
   "metadata": {},
   "outputs": [],
   "source": [
    "X_train, X_test, y_train, y_test = train_test_split(X, y, train_size=0.99)"
   ]
  },
  {
   "cell_type": "code",
   "execution_count": 81,
   "metadata": {},
   "outputs": [
    {
     "name": "stdout",
     "output_type": "stream",
     "text": [
      "126874\n",
      "1282\n"
     ]
    }
   ],
   "source": [
    "print(len(X_train))\n",
    "print(len(X_test))"
   ]
  },
  {
   "cell_type": "code",
   "execution_count": 82,
   "metadata": {},
   "outputs": [
    {
     "name": "stdout",
     "output_type": "stream",
     "text": [
      "126874\n",
      "1282\n"
     ]
    }
   ],
   "source": [
    "print(len(y_train))\n",
    "print(len(y_test))"
   ]
  },
  {
   "cell_type": "code",
   "execution_count": 83,
   "metadata": {},
   "outputs": [
    {
     "data": {
      "text/plain": [
       "0.790334056116631"
      ]
     },
     "execution_count": 83,
     "metadata": {},
     "output_type": "execute_result"
    }
   ],
   "source": [
    "from sklearn.ensemble import RandomForestRegressor\n",
    "model = RandomForestRegressor()\n",
    "y_pred=model.fit(X_train,y_train)\n",
    "r2_score( y_test,model.predict(X_test))"
   ]
  },
  {
   "cell_type": "code",
   "execution_count": null,
   "metadata": {},
   "outputs": [],
   "source": [
    "test="
   ]
  },
  {
   "cell_type": "code",
   "execution_count": 89,
   "metadata": {},
   "outputs": [
    {
     "name": "stdout",
     "output_type": "stream",
     "text": [
      "[207029.29767369 201012.85334372 194257.78582474 ... 253818.16729743\n",
      " 232155.12450137 167336.13452004]\n"
     ]
    }
   ],
   "source": [
    "print(model.predict(X_test))"
   ]
  },
  {
   "cell_type": "code",
   "execution_count": 90,
   "metadata": {},
   "outputs": [
    {
     "data": {
      "text/html": [
       "<div>\n",
       "<style scoped>\n",
       "    .dataframe tbody tr th:only-of-type {\n",
       "        vertical-align: middle;\n",
       "    }\n",
       "\n",
       "    .dataframe tbody tr th {\n",
       "        vertical-align: top;\n",
       "    }\n",
       "\n",
       "    .dataframe thead th {\n",
       "        text-align: right;\n",
       "    }\n",
       "</style>\n",
       "<table border=\"1\" class=\"dataframe\">\n",
       "  <thead>\n",
       "    <tr style=\"text-align: right;\">\n",
       "      <th></th>\n",
       "      <th>最高温度</th>\n",
       "      <th>最低温度</th>\n",
       "      <th>日</th>\n",
       "      <th>月</th>\n",
       "      <th>年</th>\n",
       "      <th>白天天气状况</th>\n",
       "      <th>夜晚天气状况</th>\n",
       "      <th>风向</th>\n",
       "      <th>风力</th>\n",
       "    </tr>\n",
       "  </thead>\n",
       "  <tbody>\n",
       "    <tr>\n",
       "      <th>54361</th>\n",
       "      <td>35</td>\n",
       "      <td>27</td>\n",
       "      <td>21</td>\n",
       "      <td>7</td>\n",
       "      <td>2019</td>\n",
       "      <td>6.5</td>\n",
       "      <td>1.0</td>\n",
       "      <td>2.0</td>\n",
       "      <td>3.0</td>\n",
       "    </tr>\n",
       "    <tr>\n",
       "      <th>45522</th>\n",
       "      <td>28</td>\n",
       "      <td>20</td>\n",
       "      <td>20</td>\n",
       "      <td>4</td>\n",
       "      <td>2019</td>\n",
       "      <td>4.5</td>\n",
       "      <td>6.5</td>\n",
       "      <td>2.0</td>\n",
       "      <td>3.0</td>\n",
       "    </tr>\n",
       "    <tr>\n",
       "      <th>29544</th>\n",
       "      <td>25</td>\n",
       "      <td>19</td>\n",
       "      <td>4</td>\n",
       "      <td>11</td>\n",
       "      <td>2018</td>\n",
       "      <td>3.0</td>\n",
       "      <td>2.0</td>\n",
       "      <td>2.0</td>\n",
       "      <td>3.0</td>\n",
       "    </tr>\n",
       "    <tr>\n",
       "      <th>80646</th>\n",
       "      <td>31</td>\n",
       "      <td>24</td>\n",
       "      <td>20</td>\n",
       "      <td>4</td>\n",
       "      <td>2020</td>\n",
       "      <td>1.0</td>\n",
       "      <td>1.0</td>\n",
       "      <td>2.0</td>\n",
       "      <td>3.0</td>\n",
       "    </tr>\n",
       "    <tr>\n",
       "      <th>43953</th>\n",
       "      <td>27</td>\n",
       "      <td>20</td>\n",
       "      <td>3</td>\n",
       "      <td>4</td>\n",
       "      <td>2019</td>\n",
       "      <td>2.0</td>\n",
       "      <td>5.0</td>\n",
       "      <td>2.0</td>\n",
       "      <td>3.0</td>\n",
       "    </tr>\n",
       "    <tr>\n",
       "      <th>...</th>\n",
       "      <td>...</td>\n",
       "      <td>...</td>\n",
       "      <td>...</td>\n",
       "      <td>...</td>\n",
       "      <td>...</td>\n",
       "      <td>...</td>\n",
       "      <td>...</td>\n",
       "      <td>...</td>\n",
       "      <td>...</td>\n",
       "    </tr>\n",
       "    <tr>\n",
       "      <th>69</th>\n",
       "      <td>22</td>\n",
       "      <td>12</td>\n",
       "      <td>1</td>\n",
       "      <td>1</td>\n",
       "      <td>2018</td>\n",
       "      <td>1.0</td>\n",
       "      <td>1.0</td>\n",
       "      <td>2.0</td>\n",
       "      <td>6.0</td>\n",
       "    </tr>\n",
       "    <tr>\n",
       "      <th>66295</th>\n",
       "      <td>28</td>\n",
       "      <td>17</td>\n",
       "      <td>23</td>\n",
       "      <td>11</td>\n",
       "      <td>2019</td>\n",
       "      <td>0.0</td>\n",
       "      <td>0.0</td>\n",
       "      <td>2.0</td>\n",
       "      <td>3.0</td>\n",
       "    </tr>\n",
       "    <tr>\n",
       "      <th>2040</th>\n",
       "      <td>23</td>\n",
       "      <td>19</td>\n",
       "      <td>22</td>\n",
       "      <td>1</td>\n",
       "      <td>2018</td>\n",
       "      <td>2.0</td>\n",
       "      <td>2.0</td>\n",
       "      <td>2.0</td>\n",
       "      <td>6.0</td>\n",
       "    </tr>\n",
       "    <tr>\n",
       "      <th>95540</th>\n",
       "      <td>32</td>\n",
       "      <td>24</td>\n",
       "      <td>22</td>\n",
       "      <td>9</td>\n",
       "      <td>2020</td>\n",
       "      <td>6.5</td>\n",
       "      <td>6.5</td>\n",
       "      <td>4.0</td>\n",
       "      <td>3.0</td>\n",
       "    </tr>\n",
       "    <tr>\n",
       "      <th>81687</th>\n",
       "      <td>32</td>\n",
       "      <td>23</td>\n",
       "      <td>1</td>\n",
       "      <td>5</td>\n",
       "      <td>2020</td>\n",
       "      <td>0.0</td>\n",
       "      <td>1.0</td>\n",
       "      <td>2.0</td>\n",
       "      <td>3.0</td>\n",
       "    </tr>\n",
       "  </tbody>\n",
       "</table>\n",
       "<p>1282 rows × 9 columns</p>\n",
       "</div>"
      ],
      "text/plain": [
       "       最高温度  最低温度   日   月     年  白天天气状况  夜晚天气状况   风向   风力\n",
       "54361    35    27  21   7  2019     6.5     1.0  2.0  3.0\n",
       "45522    28    20  20   4  2019     4.5     6.5  2.0  3.0\n",
       "29544    25    19   4  11  2018     3.0     2.0  2.0  3.0\n",
       "80646    31    24  20   4  2020     1.0     1.0  2.0  3.0\n",
       "43953    27    20   3   4  2019     2.0     5.0  2.0  3.0\n",
       "...     ...   ...  ..  ..   ...     ...     ...  ...  ...\n",
       "69       22    12   1   1  2018     1.0     1.0  2.0  6.0\n",
       "66295    28    17  23  11  2019     0.0     0.0  2.0  3.0\n",
       "2040     23    19  22   1  2018     2.0     2.0  2.0  6.0\n",
       "95540    32    24  22   9  2020     6.5     6.5  4.0  3.0\n",
       "81687    32    23   1   5  2020     0.0     1.0  2.0  3.0\n",
       "\n",
       "[1282 rows x 9 columns]"
      ]
     },
     "execution_count": 90,
     "metadata": {},
     "output_type": "execute_result"
    }
   ],
   "source": [
    "X_test"
   ]
  },
  {
   "cell_type": "code",
   "execution_count": 87,
   "metadata": {},
   "outputs": [
    {
     "name": "stderr",
     "output_type": "stream",
     "text": [
      "<ipython-input-87-6c06b4197eb5>:3: MatplotlibDeprecationWarning: Saw kwargs ['c', 'color'] which are all aliases for 'color'.  Kept value from 'color'.  Passing multiple aliases for the same property will raise a TypeError in 3.3.\n",
      "  plt.plot(y_test,c=\"r\",label=\"y_test\",color='red')\n",
      "<ipython-input-87-6c06b4197eb5>:4: MatplotlibDeprecationWarning: Saw kwargs ['c', 'color'] which are all aliases for 'color'.  Kept value from 'color'.  Passing multiple aliases for the same property will raise a TypeError in 3.3.\n",
      "  plt.plot(y_pred,c=\"b\",label=\"y_pred\",color=\"blue\")\n"
     ]
    },
    {
     "ename": "TypeError",
     "evalue": "float() argument must be a string or a number, not 'DecisionTreeRegressor'",
     "output_type": "error",
     "traceback": [
      "\u001b[1;31m---------------------------------------------------------------------------\u001b[0m",
      "\u001b[1;31mTypeError\u001b[0m                                 Traceback (most recent call last)",
      "\u001b[1;32m<ipython-input-87-6c06b4197eb5>\u001b[0m in \u001b[0;36m<module>\u001b[1;34m\u001b[0m\n\u001b[0;32m      2\u001b[0m \u001b[1;32mimport\u001b[0m \u001b[0mnumpy\u001b[0m \u001b[1;32mas\u001b[0m \u001b[0mnp\u001b[0m\u001b[1;33m\u001b[0m\u001b[1;33m\u001b[0m\u001b[0m\n\u001b[0;32m      3\u001b[0m \u001b[0mplt\u001b[0m\u001b[1;33m.\u001b[0m\u001b[0mplot\u001b[0m\u001b[1;33m(\u001b[0m\u001b[0my_test\u001b[0m\u001b[1;33m,\u001b[0m\u001b[0mc\u001b[0m\u001b[1;33m=\u001b[0m\u001b[1;34m\"r\"\u001b[0m\u001b[1;33m,\u001b[0m\u001b[0mlabel\u001b[0m\u001b[1;33m=\u001b[0m\u001b[1;34m\"y_test\"\u001b[0m\u001b[1;33m,\u001b[0m\u001b[0mcolor\u001b[0m\u001b[1;33m=\u001b[0m\u001b[1;34m'red'\u001b[0m\u001b[1;33m)\u001b[0m\u001b[1;33m\u001b[0m\u001b[1;33m\u001b[0m\u001b[0m\n\u001b[1;32m----> 4\u001b[1;33m \u001b[0mplt\u001b[0m\u001b[1;33m.\u001b[0m\u001b[0mplot\u001b[0m\u001b[1;33m(\u001b[0m\u001b[0my_pred\u001b[0m\u001b[1;33m,\u001b[0m\u001b[0mc\u001b[0m\u001b[1;33m=\u001b[0m\u001b[1;34m\"b\"\u001b[0m\u001b[1;33m,\u001b[0m\u001b[0mlabel\u001b[0m\u001b[1;33m=\u001b[0m\u001b[1;34m\"y_pred\"\u001b[0m\u001b[1;33m,\u001b[0m\u001b[0mcolor\u001b[0m\u001b[1;33m=\u001b[0m\u001b[1;34m\"blue\"\u001b[0m\u001b[1;33m)\u001b[0m\u001b[1;33m\u001b[0m\u001b[1;33m\u001b[0m\u001b[0m\n\u001b[0m\u001b[0;32m      5\u001b[0m \u001b[0mplt\u001b[0m\u001b[1;33m.\u001b[0m\u001b[0mlegend\u001b[0m\u001b[1;33m(\u001b[0m\u001b[1;33m)\u001b[0m\u001b[1;33m\u001b[0m\u001b[1;33m\u001b[0m\u001b[0m\n",
      "\u001b[1;32m~\\anaconda3\\lib\\site-packages\\matplotlib\\pyplot.py\u001b[0m in \u001b[0;36mplot\u001b[1;34m(scalex, scaley, data, *args, **kwargs)\u001b[0m\n\u001b[0;32m   2759\u001b[0m \u001b[1;33m@\u001b[0m\u001b[0mdocstring\u001b[0m\u001b[1;33m.\u001b[0m\u001b[0mcopy\u001b[0m\u001b[1;33m(\u001b[0m\u001b[0mAxes\u001b[0m\u001b[1;33m.\u001b[0m\u001b[0mplot\u001b[0m\u001b[1;33m)\u001b[0m\u001b[1;33m\u001b[0m\u001b[1;33m\u001b[0m\u001b[0m\n\u001b[0;32m   2760\u001b[0m \u001b[1;32mdef\u001b[0m \u001b[0mplot\u001b[0m\u001b[1;33m(\u001b[0m\u001b[1;33m*\u001b[0m\u001b[0margs\u001b[0m\u001b[1;33m,\u001b[0m \u001b[0mscalex\u001b[0m\u001b[1;33m=\u001b[0m\u001b[1;32mTrue\u001b[0m\u001b[1;33m,\u001b[0m \u001b[0mscaley\u001b[0m\u001b[1;33m=\u001b[0m\u001b[1;32mTrue\u001b[0m\u001b[1;33m,\u001b[0m \u001b[0mdata\u001b[0m\u001b[1;33m=\u001b[0m\u001b[1;32mNone\u001b[0m\u001b[1;33m,\u001b[0m \u001b[1;33m**\u001b[0m\u001b[0mkwargs\u001b[0m\u001b[1;33m)\u001b[0m\u001b[1;33m:\u001b[0m\u001b[1;33m\u001b[0m\u001b[1;33m\u001b[0m\u001b[0m\n\u001b[1;32m-> 2761\u001b[1;33m     return gca().plot(\n\u001b[0m\u001b[0;32m   2762\u001b[0m         *args, scalex=scalex, scaley=scaley, **({\"data\": data} if data\n\u001b[0;32m   2763\u001b[0m         is not None else {}), **kwargs)\n",
      "\u001b[1;32m~\\anaconda3\\lib\\site-packages\\matplotlib\\axes\\_axes.py\u001b[0m in \u001b[0;36mplot\u001b[1;34m(self, scalex, scaley, data, *args, **kwargs)\u001b[0m\n\u001b[0;32m   1647\u001b[0m         \u001b[0mlines\u001b[0m \u001b[1;33m=\u001b[0m \u001b[1;33m[\u001b[0m\u001b[1;33m*\u001b[0m\u001b[0mself\u001b[0m\u001b[1;33m.\u001b[0m\u001b[0m_get_lines\u001b[0m\u001b[1;33m(\u001b[0m\u001b[1;33m*\u001b[0m\u001b[0margs\u001b[0m\u001b[1;33m,\u001b[0m \u001b[0mdata\u001b[0m\u001b[1;33m=\u001b[0m\u001b[0mdata\u001b[0m\u001b[1;33m,\u001b[0m \u001b[1;33m**\u001b[0m\u001b[0mkwargs\u001b[0m\u001b[1;33m)\u001b[0m\u001b[1;33m]\u001b[0m\u001b[1;33m\u001b[0m\u001b[1;33m\u001b[0m\u001b[0m\n\u001b[0;32m   1648\u001b[0m         \u001b[1;32mfor\u001b[0m \u001b[0mline\u001b[0m \u001b[1;32min\u001b[0m \u001b[0mlines\u001b[0m\u001b[1;33m:\u001b[0m\u001b[1;33m\u001b[0m\u001b[1;33m\u001b[0m\u001b[0m\n\u001b[1;32m-> 1649\u001b[1;33m             \u001b[0mself\u001b[0m\u001b[1;33m.\u001b[0m\u001b[0madd_line\u001b[0m\u001b[1;33m(\u001b[0m\u001b[0mline\u001b[0m\u001b[1;33m)\u001b[0m\u001b[1;33m\u001b[0m\u001b[1;33m\u001b[0m\u001b[0m\n\u001b[0m\u001b[0;32m   1650\u001b[0m         \u001b[0mself\u001b[0m\u001b[1;33m.\u001b[0m\u001b[0m_request_autoscale_view\u001b[0m\u001b[1;33m(\u001b[0m\u001b[0mscalex\u001b[0m\u001b[1;33m=\u001b[0m\u001b[0mscalex\u001b[0m\u001b[1;33m,\u001b[0m \u001b[0mscaley\u001b[0m\u001b[1;33m=\u001b[0m\u001b[0mscaley\u001b[0m\u001b[1;33m)\u001b[0m\u001b[1;33m\u001b[0m\u001b[1;33m\u001b[0m\u001b[0m\n\u001b[0;32m   1651\u001b[0m         \u001b[1;32mreturn\u001b[0m \u001b[0mlines\u001b[0m\u001b[1;33m\u001b[0m\u001b[1;33m\u001b[0m\u001b[0m\n",
      "\u001b[1;32m~\\anaconda3\\lib\\site-packages\\matplotlib\\axes\\_base.py\u001b[0m in \u001b[0;36madd_line\u001b[1;34m(self, line)\u001b[0m\n\u001b[0;32m   1848\u001b[0m             \u001b[0mline\u001b[0m\u001b[1;33m.\u001b[0m\u001b[0mset_clip_path\u001b[0m\u001b[1;33m(\u001b[0m\u001b[0mself\u001b[0m\u001b[1;33m.\u001b[0m\u001b[0mpatch\u001b[0m\u001b[1;33m)\u001b[0m\u001b[1;33m\u001b[0m\u001b[1;33m\u001b[0m\u001b[0m\n\u001b[0;32m   1849\u001b[0m \u001b[1;33m\u001b[0m\u001b[0m\n\u001b[1;32m-> 1850\u001b[1;33m         \u001b[0mself\u001b[0m\u001b[1;33m.\u001b[0m\u001b[0m_update_line_limits\u001b[0m\u001b[1;33m(\u001b[0m\u001b[0mline\u001b[0m\u001b[1;33m)\u001b[0m\u001b[1;33m\u001b[0m\u001b[1;33m\u001b[0m\u001b[0m\n\u001b[0m\u001b[0;32m   1851\u001b[0m         \u001b[1;32mif\u001b[0m \u001b[1;32mnot\u001b[0m \u001b[0mline\u001b[0m\u001b[1;33m.\u001b[0m\u001b[0mget_label\u001b[0m\u001b[1;33m(\u001b[0m\u001b[1;33m)\u001b[0m\u001b[1;33m:\u001b[0m\u001b[1;33m\u001b[0m\u001b[1;33m\u001b[0m\u001b[0m\n\u001b[0;32m   1852\u001b[0m             \u001b[0mline\u001b[0m\u001b[1;33m.\u001b[0m\u001b[0mset_label\u001b[0m\u001b[1;33m(\u001b[0m\u001b[1;34m'_line%d'\u001b[0m \u001b[1;33m%\u001b[0m \u001b[0mlen\u001b[0m\u001b[1;33m(\u001b[0m\u001b[0mself\u001b[0m\u001b[1;33m.\u001b[0m\u001b[0mlines\u001b[0m\u001b[1;33m)\u001b[0m\u001b[1;33m)\u001b[0m\u001b[1;33m\u001b[0m\u001b[1;33m\u001b[0m\u001b[0m\n",
      "\u001b[1;32m~\\anaconda3\\lib\\site-packages\\matplotlib\\axes\\_base.py\u001b[0m in \u001b[0;36m_update_line_limits\u001b[1;34m(self, line)\u001b[0m\n\u001b[0;32m   1870\u001b[0m         \u001b[0mFigures\u001b[0m \u001b[0mout\u001b[0m \u001b[0mthe\u001b[0m \u001b[0mdata\u001b[0m \u001b[0mlimit\u001b[0m \u001b[0mof\u001b[0m \u001b[0mthe\u001b[0m \u001b[0mgiven\u001b[0m \u001b[0mline\u001b[0m\u001b[1;33m,\u001b[0m \u001b[0mupdating\u001b[0m \u001b[0mself\u001b[0m\u001b[1;33m.\u001b[0m\u001b[0mdataLim\u001b[0m\u001b[1;33m.\u001b[0m\u001b[1;33m\u001b[0m\u001b[1;33m\u001b[0m\u001b[0m\n\u001b[0;32m   1871\u001b[0m         \"\"\"\n\u001b[1;32m-> 1872\u001b[1;33m         \u001b[0mpath\u001b[0m \u001b[1;33m=\u001b[0m \u001b[0mline\u001b[0m\u001b[1;33m.\u001b[0m\u001b[0mget_path\u001b[0m\u001b[1;33m(\u001b[0m\u001b[1;33m)\u001b[0m\u001b[1;33m\u001b[0m\u001b[1;33m\u001b[0m\u001b[0m\n\u001b[0m\u001b[0;32m   1873\u001b[0m         \u001b[1;32mif\u001b[0m \u001b[0mpath\u001b[0m\u001b[1;33m.\u001b[0m\u001b[0mvertices\u001b[0m\u001b[1;33m.\u001b[0m\u001b[0msize\u001b[0m \u001b[1;33m==\u001b[0m \u001b[1;36m0\u001b[0m\u001b[1;33m:\u001b[0m\u001b[1;33m\u001b[0m\u001b[1;33m\u001b[0m\u001b[0m\n\u001b[0;32m   1874\u001b[0m             \u001b[1;32mreturn\u001b[0m\u001b[1;33m\u001b[0m\u001b[1;33m\u001b[0m\u001b[0m\n",
      "\u001b[1;32m~\\anaconda3\\lib\\site-packages\\matplotlib\\lines.py\u001b[0m in \u001b[0;36mget_path\u001b[1;34m(self)\u001b[0m\n\u001b[0;32m   1025\u001b[0m         \"\"\"\n\u001b[0;32m   1026\u001b[0m         \u001b[1;32mif\u001b[0m \u001b[0mself\u001b[0m\u001b[1;33m.\u001b[0m\u001b[0m_invalidy\u001b[0m \u001b[1;32mor\u001b[0m \u001b[0mself\u001b[0m\u001b[1;33m.\u001b[0m\u001b[0m_invalidx\u001b[0m\u001b[1;33m:\u001b[0m\u001b[1;33m\u001b[0m\u001b[1;33m\u001b[0m\u001b[0m\n\u001b[1;32m-> 1027\u001b[1;33m             \u001b[0mself\u001b[0m\u001b[1;33m.\u001b[0m\u001b[0mrecache\u001b[0m\u001b[1;33m(\u001b[0m\u001b[1;33m)\u001b[0m\u001b[1;33m\u001b[0m\u001b[1;33m\u001b[0m\u001b[0m\n\u001b[0m\u001b[0;32m   1028\u001b[0m         \u001b[1;32mreturn\u001b[0m \u001b[0mself\u001b[0m\u001b[1;33m.\u001b[0m\u001b[0m_path\u001b[0m\u001b[1;33m\u001b[0m\u001b[1;33m\u001b[0m\u001b[0m\n\u001b[0;32m   1029\u001b[0m \u001b[1;33m\u001b[0m\u001b[0m\n",
      "\u001b[1;32m~\\anaconda3\\lib\\site-packages\\matplotlib\\lines.py\u001b[0m in \u001b[0;36mrecache\u001b[1;34m(self, always)\u001b[0m\n\u001b[0;32m    673\u001b[0m         \u001b[1;32mif\u001b[0m \u001b[0malways\u001b[0m \u001b[1;32mor\u001b[0m \u001b[0mself\u001b[0m\u001b[1;33m.\u001b[0m\u001b[0m_invalidy\u001b[0m\u001b[1;33m:\u001b[0m\u001b[1;33m\u001b[0m\u001b[1;33m\u001b[0m\u001b[0m\n\u001b[0;32m    674\u001b[0m             \u001b[0myconv\u001b[0m \u001b[1;33m=\u001b[0m \u001b[0mself\u001b[0m\u001b[1;33m.\u001b[0m\u001b[0mconvert_yunits\u001b[0m\u001b[1;33m(\u001b[0m\u001b[0mself\u001b[0m\u001b[1;33m.\u001b[0m\u001b[0m_yorig\u001b[0m\u001b[1;33m)\u001b[0m\u001b[1;33m\u001b[0m\u001b[1;33m\u001b[0m\u001b[0m\n\u001b[1;32m--> 675\u001b[1;33m             \u001b[0my\u001b[0m \u001b[1;33m=\u001b[0m \u001b[0m_to_unmasked_float_array\u001b[0m\u001b[1;33m(\u001b[0m\u001b[0myconv\u001b[0m\u001b[1;33m)\u001b[0m\u001b[1;33m.\u001b[0m\u001b[0mravel\u001b[0m\u001b[1;33m(\u001b[0m\u001b[1;33m)\u001b[0m\u001b[1;33m\u001b[0m\u001b[1;33m\u001b[0m\u001b[0m\n\u001b[0m\u001b[0;32m    676\u001b[0m         \u001b[1;32melse\u001b[0m\u001b[1;33m:\u001b[0m\u001b[1;33m\u001b[0m\u001b[1;33m\u001b[0m\u001b[0m\n\u001b[0;32m    677\u001b[0m             \u001b[0my\u001b[0m \u001b[1;33m=\u001b[0m \u001b[0mself\u001b[0m\u001b[1;33m.\u001b[0m\u001b[0m_y\u001b[0m\u001b[1;33m\u001b[0m\u001b[1;33m\u001b[0m\u001b[0m\n",
      "\u001b[1;32m~\\anaconda3\\lib\\site-packages\\matplotlib\\cbook\\__init__.py\u001b[0m in \u001b[0;36m_to_unmasked_float_array\u001b[1;34m(x)\u001b[0m\n\u001b[0;32m   1315\u001b[0m         \u001b[1;32mreturn\u001b[0m \u001b[0mnp\u001b[0m\u001b[1;33m.\u001b[0m\u001b[0mma\u001b[0m\u001b[1;33m.\u001b[0m\u001b[0masarray\u001b[0m\u001b[1;33m(\u001b[0m\u001b[0mx\u001b[0m\u001b[1;33m,\u001b[0m \u001b[0mfloat\u001b[0m\u001b[1;33m)\u001b[0m\u001b[1;33m.\u001b[0m\u001b[0mfilled\u001b[0m\u001b[1;33m(\u001b[0m\u001b[0mnp\u001b[0m\u001b[1;33m.\u001b[0m\u001b[0mnan\u001b[0m\u001b[1;33m)\u001b[0m\u001b[1;33m\u001b[0m\u001b[1;33m\u001b[0m\u001b[0m\n\u001b[0;32m   1316\u001b[0m     \u001b[1;32melse\u001b[0m\u001b[1;33m:\u001b[0m\u001b[1;33m\u001b[0m\u001b[1;33m\u001b[0m\u001b[0m\n\u001b[1;32m-> 1317\u001b[1;33m         \u001b[1;32mreturn\u001b[0m \u001b[0mnp\u001b[0m\u001b[1;33m.\u001b[0m\u001b[0masarray\u001b[0m\u001b[1;33m(\u001b[0m\u001b[0mx\u001b[0m\u001b[1;33m,\u001b[0m \u001b[0mfloat\u001b[0m\u001b[1;33m)\u001b[0m\u001b[1;33m\u001b[0m\u001b[1;33m\u001b[0m\u001b[0m\n\u001b[0m\u001b[0;32m   1318\u001b[0m \u001b[1;33m\u001b[0m\u001b[0m\n\u001b[0;32m   1319\u001b[0m \u001b[1;33m\u001b[0m\u001b[0m\n",
      "\u001b[1;32m~\\anaconda3\\lib\\site-packages\\numpy\\core\\_asarray.py\u001b[0m in \u001b[0;36masarray\u001b[1;34m(a, dtype, order)\u001b[0m\n\u001b[0;32m     81\u001b[0m \u001b[1;33m\u001b[0m\u001b[0m\n\u001b[0;32m     82\u001b[0m     \"\"\"\n\u001b[1;32m---> 83\u001b[1;33m     \u001b[1;32mreturn\u001b[0m \u001b[0marray\u001b[0m\u001b[1;33m(\u001b[0m\u001b[0ma\u001b[0m\u001b[1;33m,\u001b[0m \u001b[0mdtype\u001b[0m\u001b[1;33m,\u001b[0m \u001b[0mcopy\u001b[0m\u001b[1;33m=\u001b[0m\u001b[1;32mFalse\u001b[0m\u001b[1;33m,\u001b[0m \u001b[0morder\u001b[0m\u001b[1;33m=\u001b[0m\u001b[0morder\u001b[0m\u001b[1;33m)\u001b[0m\u001b[1;33m\u001b[0m\u001b[1;33m\u001b[0m\u001b[0m\n\u001b[0m\u001b[0;32m     84\u001b[0m \u001b[1;33m\u001b[0m\u001b[0m\n\u001b[0;32m     85\u001b[0m \u001b[1;33m\u001b[0m\u001b[0m\n",
      "\u001b[1;31mTypeError\u001b[0m: float() argument must be a string or a number, not 'DecisionTreeRegressor'"
     ]
    },
    {
     "data": {
      "image/png": "[encoded data removed]",
      "text/plain": [
       "<Figure size 432x288 with 1 Axes>"
      ]
     },
     "metadata": {
      "needs_background": "light"
     },
     "output_type": "display_data"
    }
   ],
   "source": [
    "import matplotlib.pyplot as plt\n",
    "import numpy as np\n",
    "plt.plot(y_test,c=\"r\",label=\"y_test\",color='red')\n",
    "plt.plot(y_pred,c=\"b\",label=\"y_pred\",color=\"blue\")\n",
    "plt.legend()"
   ]
  },
  {
   "cell_type": "code",
   "execution_count": null,
   "metadata": {},
   "outputs": [],
   "source": [
    "import torch\n",
    "import torch.nn as nn\n",
    "from torch.autograd import Variable\n",
    "import torch.utils.data as Data\n",
    "import torchvision\n",
    "import matplotlib.pyplot as plt\n",
    "from IPython import display"
   ]
  },
  {
   "cell_type": "code",
   "execution_count": null,
   "metadata": {},
   "outputs": [],
   "source": [
    "LR = 0.001\n",
    "BATCH_SIZE = 96\n",
    "TIME_STEP = 96 # rnn time step / image height\n",
    "INPUT_SIZE = 9 # rnn input size / image width\n",
    "EPOCH = 1\n",
    "\n",
    "X_train = torch.from_numpy(X_train).to(torch.float32)\n",
    "X_test = torch.from_numpy(X_test).to(torch.float32)\n",
    "y_train = torch.from_numpy(y_train).to(torch.float32)\n",
    "y_test = torch.from_numpy(y_test).to(torch.float32)\n",
    "\n",
    "train_data = Data.TensorDataset(X_train, y_train)\n",
    "train_loader = Data.DataLoader(dataset=train_data, batch_size=BATCH_SIZE, shuffle=True, num_workers=2)"
   ]
  },
  {
   "cell_type": "code",
   "execution_count": null,
   "metadata": {},
   "outputs": [],
   "source": [
    "class LSTM(nn.Module):\n",
    "    def __init__(self):\n",
    "        super(LSTM, self).__init__()\n",
    "\n",
    "        self.lstm = nn.LSTM(\n",
    "            input_size=INPUT_SIZE,\n",
    "            hidden_size=64, # 隐藏层节点数\n",
    "            num_layers=1, # LSTM隐藏层层数\n",
    "            batch_first=True, # (batch, time_step, input)\n",
    "        )\n",
    "\n",
    "        self.out = nn.Linear(64, 1)\n",
    "\n",
    "    def forward(self, X):\n",
    "        # h_n, h_c是最后一个时刻的hidden state\n",
    "        r_out, (h_n, h_c) = self.lstm(X, None) # 第一个hidden state没有\n",
    "        # 因为结构是(batch, time_step, input)，所以-1选取最后一个时刻\n",
    "        out = self.out(r_out[:, -1, :]) # 选取最后一个时刻的output\n",
    "        return out\n",
    "\n",
    "lstm = LSTM()\n",
    "print(lstm)"
   ]
  },
  {
   "cell_type": "code",
   "execution_count": null,
   "metadata": {},
   "outputs": [],
   "source": [
    "optimizer = torch.optim.Adam(lstm.parameters(), lr=LR)\n",
    "loss_func = nn.MSELoss()\n",
    "\n",
    "for epoch in range(EPOCH):\n",
    "    for step, (X_batch, y_batch) in enumerate(train_loader):\n",
    "        X_b = Variable(X_batch)\n",
    "        y_b = Variable(y_batch)\n",
    "\n",
    "        output = lstm(X_b)\n",
    "        loss = loss_func(output, y_b)\n",
    "        optimizer.zero_grad()\n",
    "        loss.backward() # backpropagation\n",
    "        optimizer.step()\n",
    "        print(loss)\n",
    "\n",
    "        if step % 50 == 0:\n",
    "            test_output = lstm(X_test)\n",
    "            y_pred = torch.max(test_output, 1)[1].data.squeeze()\n",
    "            \n",
    "            \n",
    "            accuracy = (sum(y_pred == y_test) / y_test.size()[0]).item()\n",
    "            print('Epoch: ', epoch, '| train loss: %.4f' % loss.item(), '| test accuracy: ', accuracy)\n",
    "\n",
    "# print 10 prediction2 from test data\n",
    "torch_output = lstm(X_test[:10])\n",
    "pred_y = torch.max(test_output, 1)[1].data.numpy().squeeze()\n",
    "print(pred_y[:10], 'prediction number')\n",
    "print(y_test[:10].numpy(), 'real number')"
   ]
  },
  {
   "cell_type": "code",
   "execution_count": null,
   "metadata": {},
   "outputs": [],
   "source": [
    "y_test.squeeze()"
   ]
  },
  {
   "cell_type": "code",
   "execution_count": null,
   "metadata": {},
   "outputs": [],
   "source": [
    "input_data = np.array(region_weather['负荷'])"
   ]
  },
  {
   "cell_type": "code",
   "execution_count": null,
   "metadata": {},
   "outputs": [],
   "source": [
    "import matplotlib.pyplot as plt\n",
    "\n",
    "def slidet(inputdata,step):\n",
    "    inputdata = np.array(inputdata)\n",
    "    n = inputdata.shape[0]\n",
    "    t = np.zeros(n)\n",
    "    n1 = step    #n1, n2为子序列长度，需调整\n",
    "    n2 = step\n",
    "    n11 = 1 / n1\n",
    "    n22 = 1 / n2\n",
    "    m = np.sqrt(n11 + n22)\n",
    "    for i in range (step, n-step-1):\n",
    "        x1_mean = np.mean(inputdata[i-step : i])   \n",
    "        x2_mean = np.mean(inputdata[i : i+step])\n",
    "        s1 = np.var(inputdata[i-step : i])          \n",
    "        s2 = np.var(inputdata[i : i+step])\n",
    "        s = np.sqrt((n1 * s1 + n2 * s2) / (n1 + n2 - 2))\n",
    "        t[i] = (x2_mean - x1_mean) / (s * m)\n",
    "    t[:step]=np.nan  \n",
    "    t[n-step+1:]=np.nan             \n",
    "    return  t\n",
    "\n",
    "t = slidet(input_data, 96)\n",
    "\n",
    "plt.figure(figsize=(10,5))\n",
    "plt.plot(t,'r')\n",
    "plt.axhline(1.8595)\n",
    "plt.axhline(-1.8595)\n",
    "plt.twinx()\n",
    "plt.plot(input_data,'k')\n",
    "plt.show()"
   ]
  }
 ],
 "metadata": {
  "interpreter": {
   "hash": "066d9ce016bef72055fe5063a7387b7348d7a85c104ac0370113ef2a32ee37a8"
  },
  "kernelspec": {
   "display_name": "Python 3",
   "language": "python",
   "name": "python3"
  },
  "language_info": {
   "codemirror_mode": {
    "name": "ipython",
    "version": 3
   },
   "file_extension": ".py",
   "mimetype": "text/x-python",
   "name": "python",
   "nbconvert_exporter": "python",
   "pygments_lexer": "ipython3",
   "version": "3.6.13"
  }
 },
 "nbformat": 4,
 "nbformat_minor": 2
}
