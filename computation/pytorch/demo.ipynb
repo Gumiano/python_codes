{
 "cells": [
  {
   "cell_type": "code",
   "execution_count": 7,
   "metadata": {},
   "outputs": [
    {
     "name": "stdout",
     "output_type": "stream",
     "text": [
      "tensor([[-1., -2.],\n",
      "        [ 1.,  2.]])\n"
     ]
    },
    {
     "data": {
      "text/plain": [
       "tensor(10.)"
      ]
     },
     "execution_count": 7,
     "metadata": {},
     "output_type": "execute_result"
    }
   ],
   "source": [
    "import torch\n",
    "\n",
    "data = [[1, 2], [-1, -2]]\n",
    "tensor = torch.FloatTensor(data)\n",
    "print(torch.mm(tensor, tensor)) # 张量点积\n",
    "d_tensor = tensor.flatten()\n",
    "d_tensor.dot(d_tensor) # 两个一维张量点积"
   ]
  },
  {
   "cell_type": "markdown",
   "metadata": {},
   "source": [
    "### Variable"
   ]
  },
  {
   "cell_type": "code",
   "execution_count": 21,
   "metadata": {},
   "outputs": [
    {
     "name": "stdout",
     "output_type": "stream",
     "text": [
      "tensor(7.5000)\n",
      "tensor(7.5000, grad_fn=<MeanBackward0>)\n",
      "<class 'torch.Tensor'>\n"
     ]
    }
   ],
   "source": [
    "from torch.autograd import Variable\n",
    "\n",
    "tensor = torch.FloatTensor([[1, 2], [3, 4]])\n",
    "variable = Variable(tensor, requires_grad=True) # 已经deprecated，现在Tensor自身就支持自动梯度\n",
    "\n",
    "t_out = torch.mean(tensor * tensor)\n",
    "v_out = torch.mean(variable * variable) # 现在variable返回的也是tensor类型数据\n",
    "print(t_out)\n",
    "print(v_out)\n",
    "print(type(variable))"
   ]
  },
  {
   "cell_type": "code",
   "execution_count": 20,
   "metadata": {},
   "outputs": [
    {
     "name": "stdout",
     "output_type": "stream",
     "text": [
      "tensor([[ 1.9602,  1.9602,  1.9602,  1.9602,  1.9602,  1.9602,  1.9602,  1.9602,\n",
      "          1.9602,  1.9602],\n",
      "        [-8.1849, -8.1849, -8.1849, -8.1849, -8.1849, -8.1849, -8.1849, -8.1849,\n",
      "         -8.1849, -8.1849],\n",
      "        [ 2.6186,  2.6186,  2.6186,  2.6186,  2.6186,  2.6186,  2.6186,  2.6186,\n",
      "          2.6186,  2.6186],\n",
      "        [-1.4872, -1.4872, -1.4872, -1.4872, -1.4872, -1.4872, -1.4872, -1.4872,\n",
      "         -1.4872, -1.4872],\n",
      "        [-5.3484, -5.3484, -5.3484, -5.3484, -5.3484, -5.3484, -5.3484, -5.3484,\n",
      "         -5.3484, -5.3484]])\n",
      "tensor([[ 0.9440, -0.5659, -0.3620,  0.3299,  1.3389,  0.1031,  1.8082, -1.3026,\n",
      "         -0.2379, -1.0756],\n",
      "        [-0.3402,  0.2823, -0.8741, -0.1557,  0.2063, -0.3083, -2.0371,  0.8854,\n",
      "         -1.1348, -0.6162],\n",
      "        [-0.6652,  0.8595, -0.6846, -1.0034,  0.8096,  0.2644,  1.7037,  0.5956,\n",
      "         -0.0473, -0.5229],\n",
      "        [-1.7504,  0.6869,  0.2387,  1.1984,  0.4815, -0.7954,  0.7671,  0.0163,\n",
      "          0.2740, -1.8607],\n",
      "        [-0.3678, -0.1680, -0.0236,  0.2809, -0.8839, -0.7101, -0.4153, -0.2954,\n",
      "         -0.2259,  0.1348]])\n"
     ]
    }
   ],
   "source": [
    "var = torch.randn((5, 10), requires_grad=True)\n",
    "v_out = torch.mm(var.T, var).sum()\n",
    "v_out.backward()\n",
    "print(var.grad)\n",
    "print(var.data)\n"
   ]
  }
 ],
 "metadata": {
  "interpreter": {
   "hash": "066d9ce016bef72055fe5063a7387b7348d7a85c104ac0370113ef2a32ee37a8"
  },
  "kernelspec": {
   "display_name": "Python 3.6.13 ('image_env')",
   "language": "python",
   "name": "python3"
  },
  "language_info": {
   "codemirror_mode": {
    "name": "ipython",
    "version": 3
   },
   "file_extension": ".py",
   "mimetype": "text/x-python",
   "name": "python",
   "nbconvert_exporter": "python",
   "pygments_lexer": "ipython3",
   "version": "3.6.13"
  },
  "orig_nbformat": 4
 },
 "nbformat": 4,
 "nbformat_minor": 2
}
