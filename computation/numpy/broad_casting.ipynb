{
 "cells": [
  {
   "cell_type": "code",
   "execution_count": 4,
   "metadata": {},
   "outputs": [],
   "source": [
    "import numpy as np\n",
    "\n",
    "a = np.random.randint(0, 10, (20, 3))\n",
    "b = np.random.randint(0, 10, (1, 3))"
   ]
  },
  {
   "cell_type": "code",
   "execution_count": 6,
   "metadata": {},
   "outputs": [
    {
     "data": {
      "text/plain": [
       "array([[9, 4, 4],\n",
       "       [2, 5, 6],\n",
       "       [7, 2, 7],\n",
       "       [3, 4, 1],\n",
       "       [9, 2, 4],\n",
       "       [0, 4, 2],\n",
       "       [0, 8, 8],\n",
       "       [1, 2, 2],\n",
       "       [6, 7, 5],\n",
       "       [5, 0, 0],\n",
       "       [3, 3, 1],\n",
       "       [9, 9, 3],\n",
       "       [3, 0, 8],\n",
       "       [8, 5, 0],\n",
       "       [1, 9, 4],\n",
       "       [1, 2, 6],\n",
       "       [5, 0, 5],\n",
       "       [7, 6, 9],\n",
       "       [4, 6, 1],\n",
       "       [7, 8, 9]])"
      ]
     },
     "execution_count": 6,
     "metadata": {},
     "output_type": "execute_result"
    }
   ],
   "source": [
    "a"
   ]
  },
  {
   "cell_type": "code",
   "execution_count": 7,
   "metadata": {},
   "outputs": [
    {
     "data": {
      "text/plain": [
       "array([[9, 8, 4]])"
      ]
     },
     "execution_count": 7,
     "metadata": {},
     "output_type": "execute_result"
    }
   ],
   "source": [
    "b"
   ]
  },
  {
   "cell_type": "code",
   "execution_count": 5,
   "metadata": {},
   "outputs": [
    {
     "data": {
      "text/plain": [
       "array([[81, 32, 16],\n",
       "       [18, 40, 24],\n",
       "       [63, 16, 28],\n",
       "       [27, 32,  4],\n",
       "       [81, 16, 16],\n",
       "       [ 0, 32,  8],\n",
       "       [ 0, 64, 32],\n",
       "       [ 9, 16,  8],\n",
       "       [54, 56, 20],\n",
       "       [45,  0,  0],\n",
       "       [27, 24,  4],\n",
       "       [81, 72, 12],\n",
       "       [27,  0, 32],\n",
       "       [72, 40,  0],\n",
       "       [ 9, 72, 16],\n",
       "       [ 9, 16, 24],\n",
       "       [45,  0, 20],\n",
       "       [63, 48, 36],\n",
       "       [36, 48,  4],\n",
       "       [63, 64, 36]])"
      ]
     },
     "execution_count": 5,
     "metadata": {},
     "output_type": "execute_result"
    }
   ],
   "source": [
    "a * b"
   ]
  }
 ],
 "metadata": {
  "interpreter": {
   "hash": "0b0003290e5227cf3c16229f11605e0dd9185b071ac644608f8da7e7f109c6f8"
  },
  "kernelspec": {
   "display_name": "Python 3.9.12 ('ds_env')",
   "language": "python",
   "name": "python3"
  },
  "language_info": {
   "codemirror_mode": {
    "name": "ipython",
    "version": 3
   },
   "file_extension": ".py",
   "mimetype": "text/x-python",
   "name": "python",
   "nbconvert_exporter": "python",
   "pygments_lexer": "ipython3",
   "version": "3.9.12"
  },
  "orig_nbformat": 4
 },
 "nbformat": 4,
 "nbformat_minor": 2
}
