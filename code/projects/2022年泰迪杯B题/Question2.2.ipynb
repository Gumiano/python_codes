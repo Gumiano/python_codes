{
 "cells": [
  {
   "cell_type": "code",
   "execution_count": 2,
   "metadata": {
    "ExecuteTime": {
     "end_time": "2022-04-28T09:37:41.887530Z",
     "start_time": "2022-04-28T09:37:41.883574Z"
    }
   },
   "outputs": [],
   "source": [
    "import numpy as np\n",
    "import pandas as pd"
   ]
  },
  {
   "cell_type": "code",
   "execution_count": 3,
   "metadata": {
    "ExecuteTime": {
     "end_time": "2022-04-28T09:37:42.738513Z",
     "start_time": "2022-04-28T09:37:42.044327Z"
    }
   },
   "outputs": [],
   "source": [
    "import seaborn as sns \n",
    "import matplotlib.pyplot as plt \n",
    "from colorama import Fore"
   ]
  },
  {
   "cell_type": "code",
   "execution_count": 4,
   "metadata": {
    "ExecuteTime": {
     "end_time": "2022-04-28T09:37:43.006763Z",
     "start_time": "2022-04-28T09:37:42.749442Z"
    }
   },
   "outputs": [],
   "source": [
    "from sklearn.metrics import mean_absolute_error, mean_squared_error\n",
    "import math\n",
    "from sklearn.preprocessing import LabelEncoder\n",
    "import warnings # Supress warnings \n",
    "warnings.filterwarnings('ignore')\n",
    "plt.rcParams['font.sans-serif'] = ['SimHei']  # 用来正常显示中文标签\n",
    "plt.rcParams['axes.unicode_minus'] = False  # 用来正常显示负号\n",
    "np.random.seed(7)"
   ]
  },
  {
   "cell_type": "markdown",
   "metadata": {},
   "source": [
    "# 数据导入"
   ]
  },
  {
   "cell_type": "code",
   "execution_count": 5,
   "metadata": {
    "ExecuteTime": {
     "end_time": "2022-04-28T09:37:43.036683Z",
     "start_time": "2022-04-28T09:37:43.016736Z"
    }
   },
   "outputs": [
    {
     "data": {
      "text/html": [
       "<div>\n",
       "<style scoped>\n",
       "    .dataframe tbody tr th:only-of-type {\n",
       "        vertical-align: middle;\n",
       "    }\n",
       "\n",
       "    .dataframe tbody tr th {\n",
       "        vertical-align: top;\n",
       "    }\n",
       "\n",
       "    .dataframe thead th {\n",
       "        text-align: right;\n",
       "    }\n",
       "</style>\n",
       "<table border=\"1\" class=\"dataframe\">\n",
       "  <thead>\n",
       "    <tr style=\"text-align: right;\">\n",
       "      <th></th>\n",
       "      <th>行业类型</th>\n",
       "      <th>数据时间</th>\n",
       "      <th>有功功率最大值（kw）</th>\n",
       "      <th>有功功率最小值（kw）</th>\n",
       "    </tr>\n",
       "  </thead>\n",
       "  <tbody>\n",
       "    <tr>\n",
       "      <th>0</th>\n",
       "      <td>大工业用电</td>\n",
       "      <td>2019/1/1</td>\n",
       "      <td>117888.3300</td>\n",
       "      <td>51526.5690</td>\n",
       "    </tr>\n",
       "    <tr>\n",
       "      <th>1</th>\n",
       "      <td>大工业用电</td>\n",
       "      <td>2019/1/2</td>\n",
       "      <td>126843.7914</td>\n",
       "      <td>63638.4294</td>\n",
       "    </tr>\n",
       "    <tr>\n",
       "      <th>2</th>\n",
       "      <td>大工业用电</td>\n",
       "      <td>2019/1/3</td>\n",
       "      <td>130286.1294</td>\n",
       "      <td>102048.2754</td>\n",
       "    </tr>\n",
       "    <tr>\n",
       "      <th>3</th>\n",
       "      <td>大工业用电</td>\n",
       "      <td>2019/1/4</td>\n",
       "      <td>133018.6344</td>\n",
       "      <td>104466.0762</td>\n",
       "    </tr>\n",
       "    <tr>\n",
       "      <th>4</th>\n",
       "      <td>大工业用电</td>\n",
       "      <td>2019/1/5</td>\n",
       "      <td>133504.4784</td>\n",
       "      <td>99507.3528</td>\n",
       "    </tr>\n",
       "  </tbody>\n",
       "</table>\n",
       "</div>"
      ],
      "text/plain": [
       "    行业类型      数据时间  有功功率最大值（kw）  有功功率最小值（kw）\n",
       "0  大工业用电  2019/1/1  117888.3300   51526.5690\n",
       "1  大工业用电  2019/1/2  126843.7914   63638.4294\n",
       "2  大工业用电  2019/1/3  130286.1294  102048.2754\n",
       "3  大工业用电  2019/1/4  133018.6344  104466.0762\n",
       "4  大工业用电  2019/1/5  133504.4784   99507.3528"
      ]
     },
     "execution_count": 5,
     "metadata": {},
     "output_type": "execute_result"
    }
   ],
   "source": [
    "a = pd.read_csv(r\"data/行业日负荷数据.csv\",encoding = 'gb2312')\n",
    "a.head()"
   ]
  },
  {
   "cell_type": "code",
   "execution_count": 6,
   "metadata": {
    "ExecuteTime": {
     "end_time": "2022-04-28T09:37:43.078571Z",
     "start_time": "2022-04-28T09:37:43.055633Z"
    }
   },
   "outputs": [
    {
     "data": {
      "text/html": [
       "<div>\n",
       "<style scoped>\n",
       "    .dataframe tbody tr th:only-of-type {\n",
       "        vertical-align: middle;\n",
       "    }\n",
       "\n",
       "    .dataframe tbody tr th {\n",
       "        vertical-align: top;\n",
       "    }\n",
       "\n",
       "    .dataframe thead th {\n",
       "        text-align: right;\n",
       "    }\n",
       "</style>\n",
       "<table border=\"1\" class=\"dataframe\">\n",
       "  <thead>\n",
       "    <tr style=\"text-align: right;\">\n",
       "      <th>行业类型</th>\n",
       "      <th>商业</th>\n",
       "      <th>大工业用电</th>\n",
       "      <th>普通工业</th>\n",
       "      <th>非普工业</th>\n",
       "    </tr>\n",
       "    <tr>\n",
       "      <th>数据时间</th>\n",
       "      <th></th>\n",
       "      <th></th>\n",
       "      <th></th>\n",
       "      <th></th>\n",
       "    </tr>\n",
       "  </thead>\n",
       "  <tbody>\n",
       "    <tr>\n",
       "      <th>2019/1/1</th>\n",
       "      <td>64027.8582</td>\n",
       "      <td>117888.3300</td>\n",
       "      <td>6179.9364</td>\n",
       "      <td>NaN</td>\n",
       "    </tr>\n",
       "    <tr>\n",
       "      <th>2019/1/10</th>\n",
       "      <td>144992.7153</td>\n",
       "      <td>123156.6018</td>\n",
       "      <td>9690.6846</td>\n",
       "      <td>NaN</td>\n",
       "    </tr>\n",
       "    <tr>\n",
       "      <th>2019/1/11</th>\n",
       "      <td>143797.0083</td>\n",
       "      <td>123400.7388</td>\n",
       "      <td>8421.3138</td>\n",
       "      <td>NaN</td>\n",
       "    </tr>\n",
       "    <tr>\n",
       "      <th>2019/1/12</th>\n",
       "      <td>102870.5328</td>\n",
       "      <td>113420.7912</td>\n",
       "      <td>6113.1345</td>\n",
       "      <td>NaN</td>\n",
       "    </tr>\n",
       "    <tr>\n",
       "      <th>2019/1/13</th>\n",
       "      <td>124603.7418</td>\n",
       "      <td>99806.6688</td>\n",
       "      <td>5908.7964</td>\n",
       "      <td>NaN</td>\n",
       "    </tr>\n",
       "  </tbody>\n",
       "</table>\n",
       "</div>"
      ],
      "text/plain": [
       "行业类型                商业        大工业用电       普通工业  非普工业\n",
       "数据时间                                                \n",
       "2019/1/1    64027.8582  117888.3300  6179.9364   NaN\n",
       "2019/1/10  144992.7153  123156.6018  9690.6846   NaN\n",
       "2019/1/11  143797.0083  123400.7388  8421.3138   NaN\n",
       "2019/1/12  102870.5328  113420.7912  6113.1345   NaN\n",
       "2019/1/13  124603.7418   99806.6688  5908.7964   NaN"
      ]
     },
     "execution_count": 6,
     "metadata": {},
     "output_type": "execute_result"
    }
   ],
   "source": [
    "df = pd.read_csv(r\"data/行业日负荷数据.csv\",encoding = 'gb2312')\n",
    "metrics_df=pd.pivot_table(df,values='有功功率最大值（kw）',index='数据时间',columns='行业类型')\n",
    "metrics_df.head()\n"
   ]
  },
  {
   "cell_type": "code",
   "execution_count": 7,
   "metadata": {
    "ExecuteTime": {
     "end_time": "2022-04-28T09:37:43.128439Z",
     "start_time": "2022-04-28T09:37:43.109488Z"
    }
   },
   "outputs": [
    {
     "data": {
      "text/html": [
       "<div>\n",
       "<style scoped>\n",
       "    .dataframe tbody tr th:only-of-type {\n",
       "        vertical-align: middle;\n",
       "    }\n",
       "\n",
       "    .dataframe tbody tr th {\n",
       "        vertical-align: top;\n",
       "    }\n",
       "\n",
       "    .dataframe thead th {\n",
       "        text-align: right;\n",
       "    }\n",
       "</style>\n",
       "<table border=\"1\" class=\"dataframe\">\n",
       "  <thead>\n",
       "    <tr style=\"text-align: right;\">\n",
       "      <th>行业类型</th>\n",
       "      <th>商业</th>\n",
       "      <th>大工业用电</th>\n",
       "      <th>普通工业</th>\n",
       "      <th>非普工业</th>\n",
       "    </tr>\n",
       "    <tr>\n",
       "      <th>数据时间</th>\n",
       "      <th></th>\n",
       "      <th></th>\n",
       "      <th></th>\n",
       "      <th></th>\n",
       "    </tr>\n",
       "  </thead>\n",
       "  <tbody>\n",
       "    <tr>\n",
       "      <th>2019/1/1</th>\n",
       "      <td>23758.7970</td>\n",
       "      <td>51526.5690</td>\n",
       "      <td>4093.0467</td>\n",
       "      <td>NaN</td>\n",
       "    </tr>\n",
       "    <tr>\n",
       "      <th>2019/1/10</th>\n",
       "      <td>19104.5562</td>\n",
       "      <td>100170.5898</td>\n",
       "      <td>3898.9248</td>\n",
       "      <td>NaN</td>\n",
       "    </tr>\n",
       "    <tr>\n",
       "      <th>2019/1/11</th>\n",
       "      <td>19187.9259</td>\n",
       "      <td>99387.8736</td>\n",
       "      <td>4021.5240</td>\n",
       "      <td>NaN</td>\n",
       "    </tr>\n",
       "    <tr>\n",
       "      <th>2019/1/12</th>\n",
       "      <td>17073.3141</td>\n",
       "      <td>88231.8480</td>\n",
       "      <td>3575.0190</td>\n",
       "      <td>NaN</td>\n",
       "    </tr>\n",
       "    <tr>\n",
       "      <th>2019/1/13</th>\n",
       "      <td>14190.0240</td>\n",
       "      <td>81903.0432</td>\n",
       "      <td>3615.9144</td>\n",
       "      <td>NaN</td>\n",
       "    </tr>\n",
       "  </tbody>\n",
       "</table>\n",
       "</div>"
      ],
      "text/plain": [
       "行业类型               商业        大工业用电       普通工业  非普工业\n",
       "数据时间                                               \n",
       "2019/1/1   23758.7970   51526.5690  4093.0467   NaN\n",
       "2019/1/10  19104.5562  100170.5898  3898.9248   NaN\n",
       "2019/1/11  19187.9259   99387.8736  4021.5240   NaN\n",
       "2019/1/12  17073.3141   88231.8480  3575.0190   NaN\n",
       "2019/1/13  14190.0240   81903.0432  3615.9144   NaN"
      ]
     },
     "execution_count": 7,
     "metadata": {},
     "output_type": "execute_result"
    }
   ],
   "source": [
    "metrics_df1=pd.pivot_table(df,values='有功功率最小值（kw）',index='数据时间',columns='行业类型')\n",
    "metrics_df1.head()"
   ]
  },
  {
   "cell_type": "code",
   "execution_count": 8,
   "metadata": {
    "ExecuteTime": {
     "end_time": "2022-04-28T09:37:43.174315Z",
     "start_time": "2022-04-28T09:37:43.163343Z"
    }
   },
   "outputs": [
    {
     "data": {
      "text/html": [
       "<div>\n",
       "<style scoped>\n",
       "    .dataframe tbody tr th:only-of-type {\n",
       "        vertical-align: middle;\n",
       "    }\n",
       "\n",
       "    .dataframe tbody tr th {\n",
       "        vertical-align: top;\n",
       "    }\n",
       "\n",
       "    .dataframe thead th {\n",
       "        text-align: right;\n",
       "    }\n",
       "</style>\n",
       "<table border=\"1\" class=\"dataframe\">\n",
       "  <thead>\n",
       "    <tr style=\"text-align: right;\">\n",
       "      <th>行业类型</th>\n",
       "      <th>商业</th>\n",
       "      <th>大工业用电</th>\n",
       "      <th>普通工业</th>\n",
       "      <th>非普工业</th>\n",
       "      <th>数据时间</th>\n",
       "    </tr>\n",
       "    <tr>\n",
       "      <th>数据时间</th>\n",
       "      <th></th>\n",
       "      <th></th>\n",
       "      <th></th>\n",
       "      <th></th>\n",
       "      <th></th>\n",
       "    </tr>\n",
       "  </thead>\n",
       "  <tbody>\n",
       "    <tr>\n",
       "      <th>2019/1/1</th>\n",
       "      <td>64027.8582</td>\n",
       "      <td>117888.3300</td>\n",
       "      <td>6179.9364</td>\n",
       "      <td>NaN</td>\n",
       "      <td>2019/1/1</td>\n",
       "    </tr>\n",
       "    <tr>\n",
       "      <th>2019/1/10</th>\n",
       "      <td>144992.7153</td>\n",
       "      <td>123156.6018</td>\n",
       "      <td>9690.6846</td>\n",
       "      <td>NaN</td>\n",
       "      <td>2019/1/10</td>\n",
       "    </tr>\n",
       "    <tr>\n",
       "      <th>2019/1/11</th>\n",
       "      <td>143797.0083</td>\n",
       "      <td>123400.7388</td>\n",
       "      <td>8421.3138</td>\n",
       "      <td>NaN</td>\n",
       "      <td>2019/1/11</td>\n",
       "    </tr>\n",
       "    <tr>\n",
       "      <th>2019/1/12</th>\n",
       "      <td>102870.5328</td>\n",
       "      <td>113420.7912</td>\n",
       "      <td>6113.1345</td>\n",
       "      <td>NaN</td>\n",
       "      <td>2019/1/12</td>\n",
       "    </tr>\n",
       "    <tr>\n",
       "      <th>2019/1/13</th>\n",
       "      <td>124603.7418</td>\n",
       "      <td>99806.6688</td>\n",
       "      <td>5908.7964</td>\n",
       "      <td>NaN</td>\n",
       "      <td>2019/1/13</td>\n",
       "    </tr>\n",
       "  </tbody>\n",
       "</table>\n",
       "</div>"
      ],
      "text/plain": [
       "行业类型                商业        大工业用电       普通工业  非普工业       数据时间\n",
       "数据时间                                                           \n",
       "2019/1/1    64027.8582  117888.3300  6179.9364   NaN   2019/1/1\n",
       "2019/1/10  144992.7153  123156.6018  9690.6846   NaN  2019/1/10\n",
       "2019/1/11  143797.0083  123400.7388  8421.3138   NaN  2019/1/11\n",
       "2019/1/12  102870.5328  113420.7912  6113.1345   NaN  2019/1/12\n",
       "2019/1/13  124603.7418   99806.6688  5908.7964   NaN  2019/1/13"
      ]
     },
     "execution_count": 8,
     "metadata": {},
     "output_type": "execute_result"
    }
   ],
   "source": [
    "metrics_df['数据时间'] = metrics_df.index\n",
    "metrics_df1['数据时间'] = metrics_df1.index\n",
    "metrics_df.head()"
   ]
  },
  {
   "cell_type": "code",
   "execution_count": 9,
   "metadata": {
    "ExecuteTime": {
     "end_time": "2022-04-28T09:37:43.296986Z",
     "start_time": "2022-04-28T09:37:43.287013Z"
    }
   },
   "outputs": [
    {
     "data": {
      "text/html": [
       "<div>\n",
       "<style scoped>\n",
       "    .dataframe tbody tr th:only-of-type {\n",
       "        vertical-align: middle;\n",
       "    }\n",
       "\n",
       "    .dataframe tbody tr th {\n",
       "        vertical-align: top;\n",
       "    }\n",
       "\n",
       "    .dataframe thead th {\n",
       "        text-align: right;\n",
       "    }\n",
       "</style>\n",
       "<table border=\"1\" class=\"dataframe\">\n",
       "  <thead>\n",
       "    <tr style=\"text-align: right;\">\n",
       "      <th>行业类型</th>\n",
       "      <th>商业</th>\n",
       "      <th>大工业用电</th>\n",
       "      <th>普通工业</th>\n",
       "      <th>非普工业</th>\n",
       "      <th>date</th>\n",
       "    </tr>\n",
       "    <tr>\n",
       "      <th>数据时间</th>\n",
       "      <th></th>\n",
       "      <th></th>\n",
       "      <th></th>\n",
       "      <th></th>\n",
       "      <th></th>\n",
       "    </tr>\n",
       "  </thead>\n",
       "  <tbody>\n",
       "    <tr>\n",
       "      <th>2019/1/1</th>\n",
       "      <td>64027.8582</td>\n",
       "      <td>117888.3300</td>\n",
       "      <td>6179.9364</td>\n",
       "      <td>NaN</td>\n",
       "      <td>2019/1/1</td>\n",
       "    </tr>\n",
       "    <tr>\n",
       "      <th>2019/1/10</th>\n",
       "      <td>144992.7153</td>\n",
       "      <td>123156.6018</td>\n",
       "      <td>9690.6846</td>\n",
       "      <td>NaN</td>\n",
       "      <td>2019/1/10</td>\n",
       "    </tr>\n",
       "    <tr>\n",
       "      <th>2019/1/11</th>\n",
       "      <td>143797.0083</td>\n",
       "      <td>123400.7388</td>\n",
       "      <td>8421.3138</td>\n",
       "      <td>NaN</td>\n",
       "      <td>2019/1/11</td>\n",
       "    </tr>\n",
       "    <tr>\n",
       "      <th>2019/1/12</th>\n",
       "      <td>102870.5328</td>\n",
       "      <td>113420.7912</td>\n",
       "      <td>6113.1345</td>\n",
       "      <td>NaN</td>\n",
       "      <td>2019/1/12</td>\n",
       "    </tr>\n",
       "    <tr>\n",
       "      <th>2019/1/13</th>\n",
       "      <td>124603.7418</td>\n",
       "      <td>99806.6688</td>\n",
       "      <td>5908.7964</td>\n",
       "      <td>NaN</td>\n",
       "      <td>2019/1/13</td>\n",
       "    </tr>\n",
       "  </tbody>\n",
       "</table>\n",
       "</div>"
      ],
      "text/plain": [
       "行业类型                商业        大工业用电       普通工业  非普工业       date\n",
       "数据时间                                                           \n",
       "2019/1/1    64027.8582  117888.3300  6179.9364   NaN   2019/1/1\n",
       "2019/1/10  144992.7153  123156.6018  9690.6846   NaN  2019/1/10\n",
       "2019/1/11  143797.0083  123400.7388  8421.3138   NaN  2019/1/11\n",
       "2019/1/12  102870.5328  113420.7912  6113.1345   NaN  2019/1/12\n",
       "2019/1/13  124603.7418   99806.6688  5908.7964   NaN  2019/1/13"
      ]
     },
     "execution_count": 9,
     "metadata": {},
     "output_type": "execute_result"
    }
   ],
   "source": [
    "metrics_df= metrics_df.rename(columns={'数据时间':'date'})\n",
    "metrics_df1= metrics_df1.rename(columns={'数据时间':'date'})\n",
    "metrics_df.head()"
   ]
  },
  {
   "cell_type": "code",
   "execution_count": 10,
   "metadata": {
    "ExecuteTime": {
     "end_time": "2022-04-28T09:37:43.470381Z",
     "start_time": "2022-04-28T09:37:43.459410Z"
    }
   },
   "outputs": [
    {
     "data": {
      "text/html": [
       "<div>\n",
       "<style scoped>\n",
       "    .dataframe tbody tr th:only-of-type {\n",
       "        vertical-align: middle;\n",
       "    }\n",
       "\n",
       "    .dataframe tbody tr th {\n",
       "        vertical-align: top;\n",
       "    }\n",
       "\n",
       "    .dataframe thead th {\n",
       "        text-align: right;\n",
       "    }\n",
       "</style>\n",
       "<table border=\"1\" class=\"dataframe\">\n",
       "  <thead>\n",
       "    <tr style=\"text-align: right;\">\n",
       "      <th>行业类型</th>\n",
       "      <th>数据时间</th>\n",
       "      <th>商业</th>\n",
       "      <th>大工业用电</th>\n",
       "      <th>普通工业</th>\n",
       "      <th>非普工业</th>\n",
       "      <th>date</th>\n",
       "    </tr>\n",
       "  </thead>\n",
       "  <tbody>\n",
       "    <tr>\n",
       "      <th>0</th>\n",
       "      <td>2019/1/1</td>\n",
       "      <td>64027.8582</td>\n",
       "      <td>117888.3300</td>\n",
       "      <td>6179.9364</td>\n",
       "      <td>NaN</td>\n",
       "      <td>2019/1/1</td>\n",
       "    </tr>\n",
       "    <tr>\n",
       "      <th>1</th>\n",
       "      <td>2019/1/10</td>\n",
       "      <td>144992.7153</td>\n",
       "      <td>123156.6018</td>\n",
       "      <td>9690.6846</td>\n",
       "      <td>NaN</td>\n",
       "      <td>2019/1/10</td>\n",
       "    </tr>\n",
       "    <tr>\n",
       "      <th>2</th>\n",
       "      <td>2019/1/11</td>\n",
       "      <td>143797.0083</td>\n",
       "      <td>123400.7388</td>\n",
       "      <td>8421.3138</td>\n",
       "      <td>NaN</td>\n",
       "      <td>2019/1/11</td>\n",
       "    </tr>\n",
       "    <tr>\n",
       "      <th>3</th>\n",
       "      <td>2019/1/12</td>\n",
       "      <td>102870.5328</td>\n",
       "      <td>113420.7912</td>\n",
       "      <td>6113.1345</td>\n",
       "      <td>NaN</td>\n",
       "      <td>2019/1/12</td>\n",
       "    </tr>\n",
       "    <tr>\n",
       "      <th>4</th>\n",
       "      <td>2019/1/13</td>\n",
       "      <td>124603.7418</td>\n",
       "      <td>99806.6688</td>\n",
       "      <td>5908.7964</td>\n",
       "      <td>NaN</td>\n",
       "      <td>2019/1/13</td>\n",
       "    </tr>\n",
       "  </tbody>\n",
       "</table>\n",
       "</div>"
      ],
      "text/plain": [
       "行业类型       数据时间           商业        大工业用电       普通工业  非普工业       date\n",
       "0      2019/1/1   64027.8582  117888.3300  6179.9364   NaN   2019/1/1\n",
       "1     2019/1/10  144992.7153  123156.6018  9690.6846   NaN  2019/1/10\n",
       "2     2019/1/11  143797.0083  123400.7388  8421.3138   NaN  2019/1/11\n",
       "3     2019/1/12  102870.5328  113420.7912  6113.1345   NaN  2019/1/12\n",
       "4     2019/1/13  124603.7418   99806.6688  5908.7964   NaN  2019/1/13"
      ]
     },
     "execution_count": 10,
     "metadata": {},
     "output_type": "execute_result"
    }
   ],
   "source": [
    "metrics_df = pd.DataFrame(metrics_df.reset_index())\n",
    "metrics_df1 = pd.DataFrame(metrics_df1.reset_index())\n",
    "metrics_df.head()"
   ]
  },
  {
   "cell_type": "markdown",
   "metadata": {},
   "source": [
    "# 数据划分(百分之80是训练集，百分之20是验证集)"
   ]
  },
  {
   "cell_type": "code",
   "execution_count": 11,
   "metadata": {
    "ExecuteTime": {
     "end_time": "2022-04-28T09:37:44.556287Z",
     "start_time": "2022-04-28T09:37:44.541289Z"
    }
   },
   "outputs": [
    {
     "data": {
      "text/html": [
       "<div>\n",
       "<style scoped>\n",
       "    .dataframe tbody tr th:only-of-type {\n",
       "        vertical-align: middle;\n",
       "    }\n",
       "\n",
       "    .dataframe tbody tr th {\n",
       "        vertical-align: top;\n",
       "    }\n",
       "\n",
       "    .dataframe thead th {\n",
       "        text-align: right;\n",
       "    }\n",
       "</style>\n",
       "<table border=\"1\" class=\"dataframe\">\n",
       "  <thead>\n",
       "    <tr style=\"text-align: right;\">\n",
       "      <th></th>\n",
       "      <th>y</th>\n",
       "    </tr>\n",
       "    <tr>\n",
       "      <th>ds</th>\n",
       "      <th></th>\n",
       "    </tr>\n",
       "  </thead>\n",
       "  <tbody>\n",
       "    <tr>\n",
       "      <th>2019-01-01</th>\n",
       "      <td>64027.8582</td>\n",
       "    </tr>\n",
       "    <tr>\n",
       "      <th>2019-01-02</th>\n",
       "      <td>75467.2143</td>\n",
       "    </tr>\n",
       "    <tr>\n",
       "      <th>2019-01-03</th>\n",
       "      <td>132776.9442</td>\n",
       "    </tr>\n",
       "    <tr>\n",
       "      <th>2019-01-04</th>\n",
       "      <td>97731.1308</td>\n",
       "    </tr>\n",
       "    <tr>\n",
       "      <th>2019-01-05</th>\n",
       "      <td>132883.1868</td>\n",
       "    </tr>\n",
       "  </tbody>\n",
       "</table>\n",
       "</div>"
      ],
      "text/plain": [
       "                      y\n",
       "ds                     \n",
       "2019-01-01   64027.8582\n",
       "2019-01-02   75467.2143\n",
       "2019-01-03  132776.9442\n",
       "2019-01-04   97731.1308\n",
       "2019-01-05  132883.1868"
      ]
     },
     "execution_count": 11,
     "metadata": {},
     "output_type": "execute_result"
    }
   ],
   "source": [
    "train_size = int(0.8 * len(metrics_df1))\n",
    "test_size = len(df) - train_size\n",
    "df = metrics_df.fillna(0)\n",
    "univariate_df = df[['date', '商业']].copy()\n",
    "univariate_df.columns = ['ds', 'y']\n",
    "univariate_df['ds'] = pd.to_datetime(univariate_df['ds'], format=\"%Y-%m-%d\")\n",
    "\n",
    "univariate_df = pd.pivot_table(univariate_df,values='y',index='ds')\n",
    "# train = univariate_df.iloc[:train_size, :]\n",
    "# x_train, y_train = pd.DataFrame(univariate_df.iloc[:train_size, 0]), pd.DataFrame(univariate_df.iloc[:train_size, 1])\n",
    "# x_valid, y_valid = pd.DataFrame(univariate_df.iloc[train_size:, 0]), pd.DataFrame(univariate_df.iloc[train_size:, 1])\n",
    "# print(len(train), len(x_valid))\n",
    "univariate_df.head()"
   ]
  },
  {
   "cell_type": "code",
   "execution_count": null,
   "metadata": {},
   "outputs": [],
   "source": []
  },
  {
   "cell_type": "code",
   "execution_count": 12,
   "metadata": {
    "ExecuteTime": {
     "end_time": "2022-04-28T09:37:46.133236Z",
     "start_time": "2022-04-28T09:37:46.129290Z"
    }
   },
   "outputs": [],
   "source": [
    "train_start_dt = '2021-1-21'\n",
    "# train_end_dt = '2020-7-3'\n",
    "test_start_dt = '2021-7-3'\n",
    "# test_end_dt = '2021-9-3'"
   ]
  },
  {
   "cell_type": "code",
   "execution_count": 13,
   "metadata": {
    "ExecuteTime": {
     "end_time": "2022-04-28T09:37:46.700107Z",
     "start_time": "2022-04-28T09:37:46.690175Z"
    }
   },
   "outputs": [
    {
     "data": {
      "text/html": [
       "<div>\n",
       "<style scoped>\n",
       "    .dataframe tbody tr th:only-of-type {\n",
       "        vertical-align: middle;\n",
       "    }\n",
       "\n",
       "    .dataframe tbody tr th {\n",
       "        vertical-align: top;\n",
       "    }\n",
       "\n",
       "    .dataframe thead th {\n",
       "        text-align: right;\n",
       "    }\n",
       "</style>\n",
       "<table border=\"1\" class=\"dataframe\">\n",
       "  <thead>\n",
       "    <tr style=\"text-align: right;\">\n",
       "      <th></th>\n",
       "      <th>train</th>\n",
       "    </tr>\n",
       "    <tr>\n",
       "      <th>ds</th>\n",
       "      <th></th>\n",
       "    </tr>\n",
       "  </thead>\n",
       "  <tbody>\n",
       "    <tr>\n",
       "      <th>2021-01-21</th>\n",
       "      <td>45596.0376</td>\n",
       "    </tr>\n",
       "    <tr>\n",
       "      <th>2021-01-22</th>\n",
       "      <td>47764.5426</td>\n",
       "    </tr>\n",
       "    <tr>\n",
       "      <th>2021-01-23</th>\n",
       "      <td>45227.9550</td>\n",
       "    </tr>\n",
       "    <tr>\n",
       "      <th>2021-01-24</th>\n",
       "      <td>44652.6252</td>\n",
       "    </tr>\n",
       "    <tr>\n",
       "      <th>2021-01-25</th>\n",
       "      <td>46887.0654</td>\n",
       "    </tr>\n",
       "    <tr>\n",
       "      <th>...</th>\n",
       "      <td>...</td>\n",
       "    </tr>\n",
       "    <tr>\n",
       "      <th>2021-06-28</th>\n",
       "      <td>94243.7706</td>\n",
       "    </tr>\n",
       "    <tr>\n",
       "      <th>2021-06-29</th>\n",
       "      <td>93299.0796</td>\n",
       "    </tr>\n",
       "    <tr>\n",
       "      <th>2021-06-30</th>\n",
       "      <td>94739.1234</td>\n",
       "    </tr>\n",
       "    <tr>\n",
       "      <th>2021-07-01</th>\n",
       "      <td>99263.5950</td>\n",
       "    </tr>\n",
       "    <tr>\n",
       "      <th>2021-07-02</th>\n",
       "      <td>97400.6136</td>\n",
       "    </tr>\n",
       "  </tbody>\n",
       "</table>\n",
       "<p>162 rows × 1 columns</p>\n",
       "</div>"
      ],
      "text/plain": [
       "                 train\n",
       "ds                    \n",
       "2021-01-21  45596.0376\n",
       "2021-01-22  47764.5426\n",
       "2021-01-23  45227.9550\n",
       "2021-01-24  44652.6252\n",
       "2021-01-25  46887.0654\n",
       "...                ...\n",
       "2021-06-28  94243.7706\n",
       "2021-06-29  93299.0796\n",
       "2021-06-30  94739.1234\n",
       "2021-07-01  99263.5950\n",
       "2021-07-02  97400.6136\n",
       "\n",
       "[162 rows x 1 columns]"
      ]
     },
     "execution_count": 13,
     "metadata": {},
     "output_type": "execute_result"
    }
   ],
   "source": [
    "univariate_df[(univariate_df.index < test_start_dt) & (univariate_df.index >= train_start_dt)][['y']].rename(columns={'y':'train'})"
   ]
  },
  {
   "cell_type": "markdown",
   "metadata": {},
   "source": [
    "# 可视化差异"
   ]
  },
  {
   "cell_type": "code",
   "execution_count": 14,
   "metadata": {
    "ExecuteTime": {
     "end_time": "2022-04-28T09:37:47.967158Z",
     "start_time": "2022-04-28T09:37:47.726783Z"
    }
   },
   "outputs": [
    {
     "data": {
      "image/png": "[encoded data removed]",
      "text/plain": [
       "<Figure size 1080x576 with 1 Axes>"
      ]
     },
     "metadata": {
      "needs_background": "light"
     },
     "output_type": "display_data"
    }
   ],
   "source": [
    "univariate_df[(univariate_df.index < test_start_dt) & (univariate_df.index >= train_start_dt)][['y']].rename(columns={'y':'train'}) \\\n",
    "    .join(univariate_df[test_start_dt:][['y']].rename(columns={'y':'test'}), how='outer') \\\n",
    "    .plot(y=['train', 'test'], figsize=(15, 8), fontsize=12)\n",
    "plt.xlabel('timestamp', fontsize=12)\n",
    "plt.ylabel('y', fontsize=12)\n",
    "plt.savefig('./one.jpg')\n",
    "plt.show()"
   ]
  },
  {
   "cell_type": "markdown",
   "metadata": {},
   "source": [
    "# 季节性分析"
   ]
  },
  {
   "cell_type": "code",
   "execution_count": 15,
   "metadata": {
    "ExecuteTime": {
     "end_time": "2022-04-28T09:37:49.396449Z",
     "start_time": "2022-04-28T09:37:48.890801Z"
    }
   },
   "outputs": [
    {
     "ename": "NameError",
     "evalue": "name 'ts' is not defined",
     "output_type": "error",
     "traceback": [
      "\u001b[1;31m---------------------------------------------------------------------------\u001b[0m",
      "\u001b[1;31mNameError\u001b[0m                                 Traceback (most recent call last)",
      "\u001b[1;32mC:\\Users\\ZTFEB3~1\\AppData\\Local\\Temp/ipykernel_7124/1217548214.py\u001b[0m in \u001b[0;36m<module>\u001b[1;34m\u001b[0m\n\u001b[0;32m      9\u001b[0m \u001b[0mplt\u001b[0m\u001b[1;33m.\u001b[0m\u001b[0mfigure\u001b[0m\u001b[1;33m(\u001b[0m\u001b[0mfigsize\u001b[0m\u001b[1;33m=\u001b[0m\u001b[1;33m[\u001b[0m\u001b[1;36m50\u001b[0m\u001b[1;33m,\u001b[0m \u001b[1;36m50\u001b[0m\u001b[1;33m]\u001b[0m\u001b[1;33m)\u001b[0m\u001b[1;33m\u001b[0m\u001b[1;33m\u001b[0m\u001b[0m\n\u001b[0;32m     10\u001b[0m \u001b[0mdecomposition\u001b[0m\u001b[1;33m.\u001b[0m\u001b[0mplot\u001b[0m\u001b[1;33m(\u001b[0m\u001b[1;33m)\u001b[0m\u001b[1;33m\u001b[0m\u001b[1;33m\u001b[0m\u001b[0m\n\u001b[1;32m---> 11\u001b[1;33m \u001b[0mprint\u001b[0m\u001b[1;33m(\u001b[0m\u001b[1;34m\"test: p={}\"\u001b[0m\u001b[1;33m.\u001b[0m\u001b[0mformat\u001b[0m\u001b[1;33m(\u001b[0m\u001b[0mts\u001b[0m\u001b[1;33m.\u001b[0m\u001b[0madfuller\u001b[0m\u001b[1;33m(\u001b[0m\u001b[0mseasonal\u001b[0m\u001b[1;33m)\u001b[0m\u001b[1;33m[\u001b[0m\u001b[1;36m1\u001b[0m\u001b[1;33m]\u001b[0m\u001b[1;33m)\u001b[0m\u001b[1;33m)\u001b[0m\u001b[1;33m\u001b[0m\u001b[1;33m\u001b[0m\u001b[0m\n\u001b[0m\u001b[0;32m     12\u001b[0m \u001b[1;33m\u001b[0m\u001b[0m\n\u001b[0;32m     13\u001b[0m \u001b[1;31m#季节平稳性检测\u001b[0m\u001b[1;33m\u001b[0m\u001b[1;33m\u001b[0m\u001b[1;33m\u001b[0m\u001b[0m\n",
      "\u001b[1;31mNameError\u001b[0m: name 'ts' is not defined"
     ]
    },
    {
     "data": {
      "text/plain": [
       "<Figure size 3600x3600 with 0 Axes>"
      ]
     },
     "metadata": {},
     "output_type": "display_data"
    },
    {
     "data": {
      "image/png": "[encoded data removed]",
      "text/plain": [
       "<Figure size 432x288 with 4 Axes>"
      ]
     },
     "metadata": {
      "needs_background": "light"
     },
     "output_type": "display_data"
    }
   ],
   "source": [
    "from statsmodels.tsa.seasonal import seasonal_decompose\n",
    "\n",
    "#季节性分解\n",
    "decomposition = seasonal_decompose(univariate_df['y'],period=12, extrapolate_trend='freq',model=\"multiplicative\")\n",
    "trend = decomposition.trend\n",
    "seasonal = decomposition.seasonal\n",
    "residual = decomposition.resid\n",
    " \n",
    "plt.figure(figsize=[50, 50])\n",
    "decomposition.plot()\n",
    "print(\"test: p={}\".format(ts.adfuller(seasonal)[1]))\n",
    " \n",
    "#季节平稳性检测\n",
    "stationarity = judge_stationarity(residual)"
   ]
  },
  {
   "cell_type": "markdown",
   "metadata": {},
   "source": [
    "# 准备训练数据"
   ]
  },
  {
   "cell_type": "code",
   "execution_count": 519,
   "metadata": {
    "ExecuteTime": {
     "end_time": "2022-04-28T08:57:46.866862Z",
     "start_time": "2022-04-28T08:57:46.860921Z"
    }
   },
   "outputs": [
    {
     "name": "stdout",
     "output_type": "stream",
     "text": [
      "Training data shape:  (163, 1)\n",
      "Test data shape:  (60, 1)\n"
     ]
    }
   ],
   "source": [
    "train = univariate_df.copy()[(univariate_df.index >= train_start_dt) & (univariate_df.index <= test_start_dt)][['y']]\n",
    "test = univariate_df.copy()[univariate_df.index >= test_start_dt][['y']]\n",
    "print('Training data shape: ', train.shape)\n",
    "print('Test data shape: ', test.shape)"
   ]
  },
  {
   "cell_type": "markdown",
   "metadata": {},
   "source": [
    "# 差分"
   ]
  },
  {
   "cell_type": "code",
   "execution_count": 520,
   "metadata": {
    "ExecuteTime": {
     "end_time": "2022-04-28T08:57:48.997881Z",
     "start_time": "2022-04-28T08:57:48.606886Z"
    }
   },
   "outputs": [
    {
     "data": {
      "image/png": "[encoded data removed]",
      "text/plain": [
       "<Figure size 1440x1152 with 2 Axes>"
      ]
     },
     "metadata": {
      "needs_background": "light"
     },
     "output_type": "display_data"
    },
    {
     "data": {
      "image/png": "[encoded data removed]",
      "text/plain": [
       "<Figure size 432x288 with 1 Axes>"
      ]
     },
     "metadata": {
      "needs_background": "light"
     },
     "output_type": "display_data"
    }
   ],
   "source": [
    "# 差分\n",
    "\n",
    "train= train.diff(2)\n",
    "test= test.diff(2)\n",
    "fig = plt.figure(figsize=(20,16))\n",
    "ax1= fig.add_subplot(211)\n",
    "diff1 = train.diff(1)\n",
    "diff1.plot(ax=ax1)\n",
    "\n",
    "ax2= fig.add_subplot(212)\n",
    "diff2 = train.diff(2)\n",
    "diff2.plot(ax=ax2)\n",
    "\n",
    "\n",
    "ax = diff2.plot()\n",
    "fig = ax.get_figure()\n"
   ]
  },
  {
   "cell_type": "code",
   "execution_count": 521,
   "metadata": {
    "ExecuteTime": {
     "end_time": "2022-04-28T08:57:50.427544Z",
     "start_time": "2022-04-28T08:57:50.422517Z"
    }
   },
   "outputs": [],
   "source": [
    "train.dropna(axis=0, how='any', inplace=True)\n",
    "test.dropna(axis=0, how='any', inplace=True)"
   ]
  },
  {
   "cell_type": "markdown",
   "metadata": {},
   "source": [
    "# 使用StandardScaler()对训练数据进行标准化。"
   ]
  },
  {
   "cell_type": "code",
   "execution_count": 501,
   "metadata": {
    "ExecuteTime": {
     "end_time": "2022-04-28T08:57:23.625944Z",
     "start_time": "2022-04-28T08:57:23.620958Z"
    }
   },
   "outputs": [],
   "source": [
    "from sklearn.preprocessing import StandardScaler"
   ]
  },
  {
   "cell_type": "code",
   "execution_count": 502,
   "metadata": {
    "ExecuteTime": {
     "end_time": "2022-04-28T08:57:24.251648Z",
     "start_time": "2022-04-28T08:57:24.239680Z"
    }
   },
   "outputs": [
    {
     "data": {
      "text/html": [
       "<div>\n",
       "<style scoped>\n",
       "    .dataframe tbody tr th:only-of-type {\n",
       "        vertical-align: middle;\n",
       "    }\n",
       "\n",
       "    .dataframe tbody tr th {\n",
       "        vertical-align: top;\n",
       "    }\n",
       "\n",
       "    .dataframe thead th {\n",
       "        text-align: right;\n",
       "    }\n",
       "</style>\n",
       "<table border=\"1\" class=\"dataframe\">\n",
       "  <thead>\n",
       "    <tr style=\"text-align: right;\">\n",
       "      <th></th>\n",
       "      <th>y</th>\n",
       "    </tr>\n",
       "    <tr>\n",
       "      <th>ds</th>\n",
       "      <th></th>\n",
       "    </tr>\n",
       "  </thead>\n",
       "  <tbody>\n",
       "    <tr>\n",
       "      <th>2021-01-30</th>\n",
       "      <td>0.243342</td>\n",
       "    </tr>\n",
       "    <tr>\n",
       "      <th>2021-01-31</th>\n",
       "      <td>0.069866</td>\n",
       "    </tr>\n",
       "    <tr>\n",
       "      <th>2021-02-01</th>\n",
       "      <td>-0.104635</td>\n",
       "    </tr>\n",
       "    <tr>\n",
       "      <th>2021-02-02</th>\n",
       "      <td>0.070475</td>\n",
       "    </tr>\n",
       "    <tr>\n",
       "      <th>2021-02-03</th>\n",
       "      <td>-0.066332</td>\n",
       "    </tr>\n",
       "    <tr>\n",
       "      <th>2021-02-04</th>\n",
       "      <td>-0.219016</td>\n",
       "    </tr>\n",
       "    <tr>\n",
       "      <th>2021-02-05</th>\n",
       "      <td>0.037461</td>\n",
       "    </tr>\n",
       "    <tr>\n",
       "      <th>2021-02-06</th>\n",
       "      <td>0.203495</td>\n",
       "    </tr>\n",
       "    <tr>\n",
       "      <th>2021-02-07</th>\n",
       "      <td>0.021776</td>\n",
       "    </tr>\n",
       "    <tr>\n",
       "      <th>2021-02-08</th>\n",
       "      <td>-0.100123</td>\n",
       "    </tr>\n",
       "  </tbody>\n",
       "</table>\n",
       "</div>"
      ],
      "text/plain": [
       "                   y\n",
       "ds                  \n",
       "2021-01-30  0.243342\n",
       "2021-01-31  0.069866\n",
       "2021-02-01 -0.104635\n",
       "2021-02-02  0.070475\n",
       "2021-02-03 -0.066332\n",
       "2021-02-04 -0.219016\n",
       "2021-02-05  0.037461\n",
       "2021-02-06  0.203495\n",
       "2021-02-07  0.021776\n",
       "2021-02-08 -0.100123"
      ]
     },
     "execution_count": 502,
     "metadata": {},
     "output_type": "execute_result"
    }
   ],
   "source": [
    "scaler = StandardScaler()\n",
    "train['y'] = scaler.fit_transform(train)\n",
    "test.dropna(axis=0, how='any', inplace=True)\n",
    "train.dropna(axis=0, how='any', inplace=True)\n",
    "train.head(10)\n",
    "# test.head(10)"
   ]
  },
  {
   "cell_type": "markdown",
   "metadata": {},
   "source": [
    "# 原始数据和标准化数据进行可视化比较。"
   ]
  },
  {
   "cell_type": "code",
   "execution_count": 522,
   "metadata": {
    "ExecuteTime": {
     "end_time": "2022-04-28T08:57:55.470135Z",
     "start_time": "2022-04-28T08:57:54.171607Z"
    }
   },
   "outputs": [
    {
     "data": {
      "image/png": "[encoded data removed]",
      "text/plain": [
       "<Figure size 432x288 with 1 Axes>"
      ]
     },
     "metadata": {
      "needs_background": "light"
     },
     "output_type": "display_data"
    },
    {
     "data": {
      "image/png": "[encoded data removed]",
      "text/plain": [
       "<Figure size 432x288 with 1 Axes>"
      ]
     },
     "metadata": {
      "needs_background": "light"
     },
     "output_type": "display_data"
    }
   ],
   "source": [
    "univariate_df[(univariate_df.index >= train_start_dt) & (univariate_df.index < \\\n",
    "    test_start_dt)][['y']].rename(columns={'y':'original y'}).plot.hist(bins=100, fontsize=12)\n",
    "train.rename(columns={'y':'scaled y'}).plot.hist(bins=100, fontsize=12)\n",
    "plt.show()"
   ]
  },
  {
   "cell_type": "markdown",
   "metadata": {},
   "source": [
    "# 根据训练好的归一化模型，对测试集数据归一化。"
   ]
  },
  {
   "cell_type": "code",
   "execution_count": 523,
   "metadata": {
    "ExecuteTime": {
     "end_time": "2022-04-28T08:57:58.511078Z",
     "start_time": "2022-04-28T08:57:58.500107Z"
    }
   },
   "outputs": [
    {
     "data": {
      "text/html": [
       "<div>\n",
       "<style scoped>\n",
       "    .dataframe tbody tr th:only-of-type {\n",
       "        vertical-align: middle;\n",
       "    }\n",
       "\n",
       "    .dataframe tbody tr th {\n",
       "        vertical-align: top;\n",
       "    }\n",
       "\n",
       "    .dataframe thead th {\n",
       "        text-align: right;\n",
       "    }\n",
       "</style>\n",
       "<table border=\"1\" class=\"dataframe\">\n",
       "  <thead>\n",
       "    <tr style=\"text-align: right;\">\n",
       "      <th></th>\n",
       "      <th>y</th>\n",
       "    </tr>\n",
       "    <tr>\n",
       "      <th>ds</th>\n",
       "      <th></th>\n",
       "    </tr>\n",
       "  </thead>\n",
       "  <tbody>\n",
       "    <tr>\n",
       "      <th>2021-07-05</th>\n",
       "      <td>9157.4118</td>\n",
       "    </tr>\n",
       "    <tr>\n",
       "      <th>2021-07-06</th>\n",
       "      <td>21380.3124</td>\n",
       "    </tr>\n",
       "    <tr>\n",
       "      <th>2021-07-07</th>\n",
       "      <td>102.7992</td>\n",
       "    </tr>\n",
       "    <tr>\n",
       "      <th>2021-07-08</th>\n",
       "      <td>-3322.0242</td>\n",
       "    </tr>\n",
       "    <tr>\n",
       "      <th>2021-07-09</th>\n",
       "      <td>-2451.3204</td>\n",
       "    </tr>\n",
       "  </tbody>\n",
       "</table>\n",
       "</div>"
      ],
      "text/plain": [
       "                     y\n",
       "ds                    \n",
       "2021-07-05   9157.4118\n",
       "2021-07-06  21380.3124\n",
       "2021-07-07    102.7992\n",
       "2021-07-08  -3322.0242\n",
       "2021-07-09  -2451.3204"
      ]
     },
     "execution_count": 523,
     "metadata": {},
     "output_type": "execute_result"
    }
   ],
   "source": [
    "test['y'] = scaler.transform(test)\n",
    "test.head()"
   ]
  },
  {
   "cell_type": "markdown",
   "metadata": {},
   "source": [
    "# 确定参数p，q"
   ]
  },
  {
   "cell_type": "code",
   "execution_count": 524,
   "metadata": {
    "ExecuteTime": {
     "end_time": "2022-04-28T08:58:03.352138Z",
     "start_time": "2022-04-28T08:58:03.099767Z"
    }
   },
   "outputs": [
    {
     "data": {
      "image/png": "[encoded data removed]",
      "text/plain": [
       "<Figure size 864x576 with 2 Axes>"
      ]
     },
     "metadata": {
      "needs_background": "light"
     },
     "output_type": "display_data"
    }
   ],
   "source": [
    "from statsmodels.graphics.tsaplots import plot_acf, plot_pacf\n",
    "fig, axes = plt.subplots(2, 1, figsize=(12, 4*2))\n",
    "# 自相关\n",
    "plot_acf(train['y'],lags=12,title='raw_acf', ax=axes[0])  \n",
    "# 偏自相关\n",
    "plot_pacf(train['y'],lags=12,title='raw_pacf', ax=axes[1])  \n",
    "fig.savefig('five.png')\n",
    "plt.show()\n",
    "# 其中lags 表示滞后的阶数，以上分别得到acf 图和pacf 图。"
   ]
  },
  {
   "cell_type": "code",
   "execution_count": 426,
   "metadata": {
    "ExecuteTime": {
     "end_time": "2022-04-28T05:10:40.674825Z",
     "start_time": "2022-04-28T05:10:40.669839Z"
    }
   },
   "outputs": [
    {
     "name": "stdout",
     "output_type": "stream",
     "text": [
      "Forecasting horizon: 1 day\n"
     ]
    }
   ],
   "source": [
    "# 指定要提前预测的步骤数\n",
    "HORIZON = 1\n",
    "print('Forecasting horizon:', HORIZON, 'day')"
   ]
  },
  {
   "cell_type": "code",
   "execution_count": 391,
   "metadata": {
    "ExecuteTime": {
     "end_time": "2022-04-28T04:58:50.627213Z",
     "start_time": "2022-04-28T04:58:50.623179Z"
    }
   },
   "outputs": [],
   "source": [
    "# p q 的值\n",
    "# #对模型p,q进行定阶\n",
    "# warnings.filterwarnings(\"ignore\") # specify to ignore warning messages\n",
    "# from statsmodels.tsa.arima_model import ARIMA \n",
    " \n",
    "# pmax = int(5)    #一般阶数不超过 length /10\n",
    "# qmax = int(5)\n",
    "# bic_matrix = []\n",
    "# for p in range(pmax +1):\n",
    "#     temp= []\n",
    "#     for q in range(qmax+1):\n",
    "#         try:\n",
    "#             temp.append(ARIMA(data, (p, 1, q)).fit().bic)\n",
    "#         except:\n",
    "#             temp.append(None)\n",
    "#         bic_matrix.append(temp)\n",
    " \n",
    "# bic_matrix = pd.DataFrame(bic_matrix)   #将其转换成Dataframe 数据结构\n",
    "# p,q = bic_matrix.stack().idxmin()   #先使用stack 展平， 然后使用 idxmin 找出最小值的位置\n",
    "# print(u'BIC 最小的p值 和 q 值：%s,%s' %(p,q))  #  BIC 最小的p值 和 q 值：0,1"
   ]
  },
  {
   "cell_type": "code",
   "execution_count": 461,
   "metadata": {
    "ExecuteTime": {
     "end_time": "2022-04-28T05:26:59.499125Z",
     "start_time": "2022-04-28T05:25:32.954530Z"
    }
   },
   "outputs": [
    {
     "name": "stdout",
     "output_type": "stream",
     "text": [
      "x(0, 0, 0, 52)12 - AIC:3392.98926691038\n",
      "x(0, 0, 1, 52)12 - AIC:8162.815328637284\n",
      "x(0, 0, 2, 52)12 - AIC:1181.0119801740918\n",
      "x(0, 1, 0, 52)12 - AIC:2320.259613359711\n",
      "x(0, 1, 1, 52)12 - AIC:1181.057005290755\n",
      "x(0, 1, 2, 52)12 - AIC:31.378410358015977\n",
      "x(0, 2, 0, 52)12 - AIC:1225.3038842292888\n",
      "x(0, 2, 1, 52)12 - AIC:30.294581827083142\n",
      "x(0, 2, 2, 52)12 - AIC:10.0\n",
      "x(1, 0, 0, 52)12 - AIC:2320.5300813085096\n",
      "x(1, 0, 1, 52)12 - AIC:8075.864472871372\n",
      "x(1, 0, 2, 52)12 - AIC:1183.0118703388316\n",
      "x(1, 1, 0, 52)12 - AIC:1203.2187181021482\n",
      "x(1, 1, 1, 52)12 - AIC:1182.8750886377877\n",
      "x(1, 1, 2, 52)12 - AIC:33.378360014220036\n",
      "x(1, 2, 0, 52)12 - AIC:52.58914770520114\n",
      "x(1, 2, 1, 52)12 - AIC:32.294590557911356\n",
      "x(1, 2, 2, 52)12 - AIC:12.0\n",
      "x(2, 0, 0, 52)12 - AIC:1202.614975318808\n",
      "x(2, 0, 1, 52)12 - AIC:2599.5964307254603\n",
      "x(2, 0, 2, 52)12 - AIC:1184.9401934187808\n",
      "x(2, 1, 0, 52)12 - AIC:52.755877678113976\n",
      "x(2, 1, 1, 52)12 - AIC:54.75575719852434\n",
      "x(2, 1, 2, 52)12 - AIC:35.37813543382384\n",
      "x(2, 2, 0, 52)12 - AIC:10.0\n",
      "x(2, 2, 1, 52)12 - AIC:12.0\n",
      "x(2, 2, 2, 52)12 - AIC:14.0\n",
      "x(0, 2, 2, 52)12 - AIC:10.0\n"
     ]
    }
   ],
   "source": [
    "#通过网格搜索对seasonal_order进行定阶,目前就是pdq=011，seasonal_order=2, 2, 1, 52效果比较好，RMSE=202.4582\n",
    "import itertools  \n",
    "def get_ARIMA_params(data, pdq, m=12):\n",
    "    p = d = q = range(0, 3)\n",
    "    seasonal_pdq = [(x[0], x[1], x[2], m) for x in list(itertools.product(p, d, q))]\n",
    "    score_aic = 1000000.0\n",
    "    warnings.filterwarnings(\"ignore\") # specify to ignore warning messages\n",
    "    for param_seasonal in seasonal_pdq:\n",
    "        mod = sm.tsa.statespace.SARIMAX(data,\n",
    "                                        order=pdq,\n",
    "                                        seasonal_order=param_seasonal,\n",
    "                                        enforce_stationarity=False,\n",
    "                                        enforce_invertibility=False)\n",
    "        results = mod.fit()\n",
    "        print('x{}12 - AIC:{}'.format(param_seasonal, results.aic))\n",
    "        if results.aic < score_aic:\n",
    "            score_aic = results.aic\n",
    "            params = param_seasonal, results.aic\n",
    "    param_seasonal, results.aic = params\n",
    "    print('x{}12 - AIC:{}'.format(param_seasonal, results.aic))\n",
    "# pdq = [1, 2, 1]\n",
    "get_ARIMA_params(train, pdq, m=52)"
   ]
  },
  {
   "cell_type": "code",
   "execution_count": 481,
   "metadata": {
    "ExecuteTime": {
     "end_time": "2022-04-28T05:40:39.839150Z",
     "start_time": "2022-04-28T05:40:27.909049Z"
    }
   },
   "outputs": [
    {
     "name": "stdout",
     "output_type": "stream",
     "text": [
      "                                        SARIMAX Results                                        \n",
      "===============================================================================================\n",
      "Dep. Variable:                                       y   No. Observations:                  161\n",
      "Model:             SARIMAX(1, 2, 1)x(0, 2, [1, 2], 52)   Log Likelihood                -624.306\n",
      "Date:                                 Thu, 28 Apr 2022   AIC                           1258.613\n",
      "Time:                                         13:40:39   BIC                           1268.650\n",
      "Sample:                                              0   HQIC                          1262.494\n",
      "                                                 - 161                                         \n",
      "Covariance Type:                                   opg                                         \n",
      "==============================================================================\n",
      "                 coef    std err          z      P>|z|      [0.025      0.975]\n",
      "------------------------------------------------------------------------------\n",
      "ar.L1          0.2413      0.479      0.504      0.614      -0.697       1.179\n",
      "ma.L1         -0.9771      0.629     -1.553      0.120      -2.210       0.256\n",
      "ma.S.L52      -0.9438      1.365     -0.691      0.489      -3.620       1.732\n",
      "ma.S.L104      0.4108      2.257      0.182      0.856      -4.014       4.835\n",
      "sigma2       7.66e+08   9.67e-10   7.92e+17      0.000    7.66e+08    7.66e+08\n",
      "===================================================================================\n",
      "Ljung-Box (L1) (Q):                   0.62   Jarque-Bera (JB):                 1.48\n",
      "Prob(Q):                              0.43   Prob(JB):                         0.48\n",
      "Heteroskedasticity (H):               1.41   Skew:                             0.31\n",
      "Prob(H) (two-sided):                  0.47   Kurtosis:                         3.51\n",
      "===================================================================================\n",
      "\n",
      "Warnings:\n",
      "[1] Covariance matrix calculated using the outer product of gradients (complex-step).\n",
      "[2] Covariance matrix is singular or near-singular, with condition number 8.04e+33. Standard errors may be unstable.\n"
     ]
    }
   ],
   "source": [
    "order = (1, 2, 1)\n",
    "seasonal_order = (0, 2, 2,52)\n",
    "\n",
    "model = sm.tsa.statespace.SARIMAX(endog=train, order=order, \\\n",
    "                seasonal_order=seasonal_order)\n",
    "results = model.fit()\n",
    "\n",
    "print(results.summary())"
   ]
  },
  {
   "cell_type": "markdown",
   "metadata": {},
   "source": [
    "# 模型评估"
   ]
  },
  {
   "cell_type": "code",
   "execution_count": 463,
   "metadata": {
    "ExecuteTime": {
     "end_time": "2022-04-28T05:29:15.013208Z",
     "start_time": "2022-04-28T05:29:15.001241Z"
    }
   },
   "outputs": [
    {
     "data": {
      "text/html": [
       "<div>\n",
       "<style scoped>\n",
       "    .dataframe tbody tr th:only-of-type {\n",
       "        vertical-align: middle;\n",
       "    }\n",
       "\n",
       "    .dataframe tbody tr th {\n",
       "        vertical-align: top;\n",
       "    }\n",
       "\n",
       "    .dataframe thead th {\n",
       "        text-align: right;\n",
       "    }\n",
       "</style>\n",
       "<table border=\"1\" class=\"dataframe\">\n",
       "  <thead>\n",
       "    <tr style=\"text-align: right;\">\n",
       "      <th></th>\n",
       "      <th>y</th>\n",
       "      <th>y+1</th>\n",
       "    </tr>\n",
       "    <tr>\n",
       "      <th>ds</th>\n",
       "      <th></th>\n",
       "      <th></th>\n",
       "    </tr>\n",
       "  </thead>\n",
       "  <tbody>\n",
       "    <tr>\n",
       "      <th>2021-07-05</th>\n",
       "      <td>9157.4118</td>\n",
       "      <td>21380.3124</td>\n",
       "    </tr>\n",
       "    <tr>\n",
       "      <th>2021-07-06</th>\n",
       "      <td>21380.3124</td>\n",
       "      <td>102.7992</td>\n",
       "    </tr>\n",
       "    <tr>\n",
       "      <th>2021-07-07</th>\n",
       "      <td>102.7992</td>\n",
       "      <td>-3322.0242</td>\n",
       "    </tr>\n",
       "    <tr>\n",
       "      <th>2021-07-08</th>\n",
       "      <td>-3322.0242</td>\n",
       "      <td>-2451.3204</td>\n",
       "    </tr>\n",
       "    <tr>\n",
       "      <th>2021-07-09</th>\n",
       "      <td>-2451.3204</td>\n",
       "      <td>-4013.5572</td>\n",
       "    </tr>\n",
       "  </tbody>\n",
       "</table>\n",
       "</div>"
      ],
      "text/plain": [
       "                     y         y+1\n",
       "ds                                \n",
       "2021-07-05   9157.4118  21380.3124\n",
       "2021-07-06  21380.3124    102.7992\n",
       "2021-07-07    102.7992  -3322.0242\n",
       "2021-07-08  -3322.0242  -2451.3204\n",
       "2021-07-09  -2451.3204  -4013.5572"
      ]
     },
     "execution_count": 463,
     "metadata": {},
     "output_type": "execute_result"
    }
   ],
   "source": [
    "test_shifted = test.copy()\n",
    "\n",
    "for t in range(1, HORIZON+1):\n",
    "    test_shifted['y+'+str(t)] = test_shifted['y'].shift(-t, freq='d')\n",
    "\n",
    "test_shifted = test_shifted.dropna(how='any')\n",
    "test_shifted.head(5)"
   ]
  },
  {
   "cell_type": "code",
   "execution_count": 464,
   "metadata": {
    "ExecuteTime": {
     "end_time": "2022-04-28T05:29:15.963366Z",
     "start_time": "2022-04-28T05:29:15.952359Z"
    }
   },
   "outputs": [
    {
     "data": {
      "text/html": [
       "<div>\n",
       "<style scoped>\n",
       "    .dataframe tbody tr th:only-of-type {\n",
       "        vertical-align: middle;\n",
       "    }\n",
       "\n",
       "    .dataframe tbody tr th {\n",
       "        vertical-align: top;\n",
       "    }\n",
       "\n",
       "    .dataframe thead th {\n",
       "        text-align: right;\n",
       "    }\n",
       "</style>\n",
       "<table border=\"1\" class=\"dataframe\">\n",
       "  <thead>\n",
       "    <tr style=\"text-align: right;\">\n",
       "      <th></th>\n",
       "      <th>y</th>\n",
       "      <th>y+1</th>\n",
       "    </tr>\n",
       "    <tr>\n",
       "      <th>ds</th>\n",
       "      <th></th>\n",
       "      <th></th>\n",
       "    </tr>\n",
       "  </thead>\n",
       "  <tbody>\n",
       "    <tr>\n",
       "      <th>2021-07-05</th>\n",
       "      <td>9157.4118</td>\n",
       "      <td>21380.3124</td>\n",
       "    </tr>\n",
       "    <tr>\n",
       "      <th>2021-07-06</th>\n",
       "      <td>21380.3124</td>\n",
       "      <td>102.7992</td>\n",
       "    </tr>\n",
       "    <tr>\n",
       "      <th>2021-07-07</th>\n",
       "      <td>102.7992</td>\n",
       "      <td>-3322.0242</td>\n",
       "    </tr>\n",
       "    <tr>\n",
       "      <th>2021-07-08</th>\n",
       "      <td>-3322.0242</td>\n",
       "      <td>-2451.3204</td>\n",
       "    </tr>\n",
       "    <tr>\n",
       "      <th>2021-07-09</th>\n",
       "      <td>-2451.3204</td>\n",
       "      <td>-4013.5572</td>\n",
       "    </tr>\n",
       "  </tbody>\n",
       "</table>\n",
       "</div>"
      ],
      "text/plain": [
       "                     y         y+1\n",
       "ds                                \n",
       "2021-07-05   9157.4118  21380.3124\n",
       "2021-07-06  21380.3124    102.7992\n",
       "2021-07-07    102.7992  -3322.0242\n",
       "2021-07-08  -3322.0242  -2451.3204\n",
       "2021-07-09  -2451.3204  -4013.5572"
      ]
     },
     "execution_count": 464,
     "metadata": {},
     "output_type": "execute_result"
    }
   ],
   "source": [
    "test_shifted = test.copy()\n",
    "\n",
    "for t in range(1, HORIZON+1):\n",
    "    test_shifted['y+'+str(t)] = test_shifted['y'].shift(-t, freq='d')\n",
    "\n",
    "test_shifted = test_shifted.dropna(how='any')\n",
    "test_shifted.head(5)"
   ]
  },
  {
   "cell_type": "markdown",
   "metadata": {},
   "source": [
    "# 时间滑动窗口预测"
   ]
  },
  {
   "cell_type": "code",
   "execution_count": 465,
   "metadata": {
    "ExecuteTime": {
     "end_time": "2022-04-28T05:32:36.383742Z",
     "start_time": "2022-04-28T05:29:16.616882Z"
    }
   },
   "outputs": [
    {
     "name": "stdout",
     "output_type": "stream",
     "text": [
      "2021-07-05 00:00:00\n",
      "1 : predicted = [16028.94067931] expected = [9157.411800000002, 21380.312399999995]\n",
      "2021-07-06 00:00:00\n",
      "2 : predicted = [20052.16134939] expected = [21380.312399999995, 102.79919999999402]\n",
      "2021-07-07 00:00:00\n",
      "3 : predicted = [-557.91370081] expected = [102.79919999999402, -3322.0242]\n",
      "2021-07-08 00:00:00\n",
      "4 : predicted = [-646.94001356] expected = [-3322.0242, -2451.320399999997]\n",
      "2021-07-09 00:00:00\n",
      "5 : predicted = [1732.50455398] expected = [-2451.320399999997, -4013.5571999999956]\n",
      "2021-07-10 00:00:00\n",
      "6 : predicted = [14920.99897046] expected = [-4013.5571999999956, -14216.968800000002]\n",
      "2021-07-11 00:00:00\n",
      "7 : predicted = [-9836.20123993] expected = [-14216.968800000002, 13619.287799999991]\n",
      "2021-07-12 00:00:00\n",
      "8 : predicted = [-19706.85617737] expected = [13619.287799999991, 21576.6192]\n",
      "2021-07-13 00:00:00\n",
      "9 : predicted = [19501.60904425] expected = [21576.6192, 393.61320000000705]\n",
      "2021-07-14 00:00:00\n",
      "10 : predicted = [6065.5244081] expected = [393.61320000000705, 970.4544000000024]\n",
      "2021-07-15 00:00:00\n",
      "11 : predicted = [4442.02808044] expected = [970.4544000000024, -2942.058600000004]\n",
      "2021-07-16 00:00:00\n",
      "12 : predicted = [11771.79382056] expected = [-2942.058600000004, -14994.969000000012]\n",
      "2021-07-17 00:00:00\n",
      "13 : predicted = [-29266.17540617] expected = [-14994.969000000012, -20461.158599999995]\n",
      "2021-07-18 00:00:00\n",
      "14 : predicted = [-40967.06541379] expected = [-20461.158599999995, 5461.862400000013]\n",
      "2021-07-19 00:00:00\n",
      "15 : predicted = [28947.69742858] expected = [5461.862400000013, 4440.4182]\n",
      "2021-07-20 00:00:00\n",
      "16 : predicted = [17480.87455528] expected = [4440.4182, -6123.957000000009]\n",
      "2021-07-21 00:00:00\n",
      "17 : predicted = [-25829.4634898] expected = [-6123.957000000009, 9064.237800000003]\n",
      "2021-07-22 00:00:00\n",
      "18 : predicted = [2406.64379472] expected = [9064.237800000003, 11106.969599999997]\n",
      "2021-07-23 00:00:00\n",
      "19 : predicted = [14659.2618795] expected = [11106.969599999997, 589.0343999999895]\n",
      "2021-07-24 00:00:00\n",
      "20 : predicted = [-3772.34868854] expected = [589.0343999999895, -14427.657599999991]\n",
      "2021-07-25 00:00:00\n",
      "21 : predicted = [3463.5947346] expected = [-14427.657599999991, 10495.294200000004]\n",
      "2021-07-26 00:00:00\n",
      "22 : predicted = [26286.51189898] expected = [10495.294200000004, 24959.344199999992]\n",
      "2021-07-27 00:00:00\n",
      "23 : predicted = [8496.87374439] expected = [24959.344199999992, 2078.1264000000083]\n",
      "2021-07-28 00:00:00\n",
      "24 : predicted = [2352.4446748] expected = [2078.1264000000083, -4345.241999999998]\n",
      "2021-07-29 00:00:00\n",
      "25 : predicted = [4641.09491806] expected = [-4345.241999999998, -4963.294200000004]\n",
      "2021-07-30 00:00:00\n",
      "26 : predicted = [-3288.64492163] expected = [-4963.294200000004, -9517.315799999997]\n",
      "2021-07-31 00:00:00\n",
      "27 : predicted = [-26695.7144812] expected = [-9517.315799999997, -19233.2886]\n",
      "2021-08-01 00:00:00\n",
      "28 : predicted = [-18892.53712299] expected = [-19233.2886, -57.970799999995506]\n",
      "2021-08-02 00:00:00\n",
      "29 : predicted = [-10063.68525425] expected = [-57.970799999995506, 17556.978000000003]\n",
      "2021-08-03 00:00:00\n",
      "30 : predicted = [46723.55695731] expected = [17556.978000000003, 696.8657999999996]\n",
      "2021-08-04 00:00:00\n",
      "31 : predicted = [27103.91903267] expected = [696.8657999999996, -10364.180399999997]\n",
      "2021-08-05 00:00:00\n",
      "32 : predicted = [-25319.93652042] expected = [-10364.180399999997, -2169.1398000000045]\n",
      "2021-08-06 00:00:00\n",
      "33 : predicted = [-10816.7888117] expected = [-2169.1398000000045, -781.8156000000017]\n",
      "2021-08-07 00:00:00\n",
      "34 : predicted = [-18861.94922283] expected = [-781.8156000000017, -14328.148799999995]\n",
      "2021-08-08 00:00:00\n",
      "35 : predicted = [-9844.97263683] expected = [-14328.148799999995, 6276.401399999988]\n",
      "2021-08-09 00:00:00\n",
      "36 : predicted = [10744.86370145] expected = [6276.401399999988, 8536.175399999993]\n",
      "2021-08-10 00:00:00\n",
      "37 : predicted = [-2294.32427011] expected = [8536.175399999993, -8515.900799999989]\n",
      "2021-08-11 00:00:00\n",
      "38 : predicted = [-15044.12785536] expected = [-8515.900799999989, 9642.968399999998]\n",
      "2021-08-12 00:00:00\n",
      "39 : predicted = [3964.1030988] expected = [9642.968399999998, 9600.651599999997]\n",
      "2021-08-13 00:00:00\n",
      "40 : predicted = [18196.79854662] expected = [9600.651599999997, -12197.960999999996]\n",
      "2021-08-14 00:00:00\n",
      "41 : predicted = [21212.63379853] expected = [-12197.960999999996, -19703.6814]\n",
      "2021-08-15 00:00:00\n",
      "42 : predicted = [-18409.66694905] expected = [-19703.6814, 11613.379799999995]\n",
      "2021-08-16 00:00:00\n",
      "43 : predicted = [1637.59138462] expected = [11613.379799999995, 21164.035799999998]\n",
      "2021-08-17 00:00:00\n",
      "44 : predicted = [13984.38468073] expected = [21164.035799999998, 3313.0878000000084]\n",
      "2021-08-18 00:00:00\n",
      "45 : predicted = [14998.33790124] expected = [3313.0878000000084, -2147.5139999999956]\n",
      "2021-08-19 00:00:00\n",
      "46 : predicted = [17360.74135812] expected = [-2147.5139999999956, -2660.821200000006]\n",
      "2021-08-20 00:00:00\n",
      "47 : predicted = [5558.19560651] expected = [-2660.821200000006, -5241.468600000007]\n",
      "2021-08-21 00:00:00\n",
      "48 : predicted = [-21441.7619273] expected = [-5241.468600000007, -19396.59779999999]\n",
      "2021-08-22 00:00:00\n",
      "49 : predicted = [-317.97370349] expected = [-19396.59779999999, 8838.831600000005]\n",
      "2021-08-23 00:00:00\n",
      "50 : predicted = [-6908.7642913] expected = [8838.831600000005, 22706.24639999999]\n",
      "2021-08-24 00:00:00\n",
      "51 : predicted = [-7637.6920232] expected = [22706.24639999999, -323.5445999999938]\n",
      "2021-08-25 00:00:00\n",
      "52 : predicted = [19120.79560211] expected = [-323.5445999999938, -2125.367400000003]\n",
      "2021-08-26 00:00:00\n",
      "53 : predicted = [11986.9241494] expected = [-2125.367400000003, -239.47260000000824]\n",
      "2021-08-27 00:00:00\n",
      "54 : predicted = [-7676.02840747] expected = [-239.47260000000824, -10654.4418]\n",
      "2021-08-28 00:00:00\n",
      "55 : predicted = [-23084.71523705] expected = [-10654.4418, -20601.710399999996]\n",
      "2021-08-29 00:00:00\n",
      "56 : predicted = [13211.34956466] expected = [-20601.710399999996, 8996.13900000001]\n",
      "2021-08-30 00:00:00\n",
      "57 : predicted = [-4196.30455008] expected = [8996.13900000001, 12269.091]\n",
      "Wall time: 3min 19s\n"
     ]
    }
   ],
   "source": [
    "%%time\n",
    "training_window = 720 # 投入30天(720小时)进行训练\n",
    "\n",
    "train_ts = train['y']\n",
    "test_ts = test_shifted\n",
    "\n",
    "history = [x for x in train_ts]\n",
    "history = history[(-training_window):]\n",
    "\n",
    "predictions = list()\n",
    "\n",
    "order = (1, 2, 1)\n",
    "seasonal_order = (1, 2, 2, 24)\n",
    "\n",
    "for t in range(test_ts.shape[0]):\n",
    "    model = sm.tsa.statespace.SARIMAX(endog=history, order=order, seasonal_order=seasonal_order)\n",
    "    model_fit = model.fit()\n",
    "    yhat = model_fit.forecast(steps = HORIZON)\n",
    "    predictions.append(yhat)\n",
    "    obs = list(test_ts.iloc[t])\n",
    "    # move the training window\n",
    "    history.append(obs[0])\n",
    "    history.pop(0)\n",
    "    print(test_ts.index[t])\n",
    "    print(t+1, ': predicted =', yhat, 'expected =', obs)"
   ]
  },
  {
   "cell_type": "code",
   "execution_count": 467,
   "metadata": {
    "ExecuteTime": {
     "end_time": "2022-04-28T05:32:43.194794Z",
     "start_time": "2022-04-28T05:32:43.190804Z"
    }
   },
   "outputs": [
    {
     "data": {
      "text/plain": [
       "57"
      ]
     },
     "execution_count": 467,
     "metadata": {},
     "output_type": "execute_result"
    }
   ],
   "source": [
    "len(predictions)"
   ]
  },
  {
   "cell_type": "code",
   "execution_count": 468,
   "metadata": {
    "ExecuteTime": {
     "end_time": "2022-04-28T05:32:46.471213Z",
     "start_time": "2022-04-28T05:32:46.461242Z"
    }
   },
   "outputs": [
    {
     "data": {
      "text/html": [
       "<div>\n",
       "<style scoped>\n",
       "    .dataframe tbody tr th:only-of-type {\n",
       "        vertical-align: middle;\n",
       "    }\n",
       "\n",
       "    .dataframe tbody tr th {\n",
       "        vertical-align: top;\n",
       "    }\n",
       "\n",
       "    .dataframe thead th {\n",
       "        text-align: right;\n",
       "    }\n",
       "</style>\n",
       "<table border=\"1\" class=\"dataframe\">\n",
       "  <thead>\n",
       "    <tr style=\"text-align: right;\">\n",
       "      <th></th>\n",
       "      <th>y</th>\n",
       "      <th>y+1</th>\n",
       "      <th>date</th>\n",
       "    </tr>\n",
       "    <tr>\n",
       "      <th>ds</th>\n",
       "      <th></th>\n",
       "      <th></th>\n",
       "      <th></th>\n",
       "    </tr>\n",
       "  </thead>\n",
       "  <tbody>\n",
       "    <tr>\n",
       "      <th>2021-07-05</th>\n",
       "      <td>9157.4118</td>\n",
       "      <td>21380.3124</td>\n",
       "      <td>2021-07-05</td>\n",
       "    </tr>\n",
       "    <tr>\n",
       "      <th>2021-07-06</th>\n",
       "      <td>21380.3124</td>\n",
       "      <td>102.7992</td>\n",
       "      <td>2021-07-06</td>\n",
       "    </tr>\n",
       "    <tr>\n",
       "      <th>2021-07-07</th>\n",
       "      <td>102.7992</td>\n",
       "      <td>-3322.0242</td>\n",
       "      <td>2021-07-07</td>\n",
       "    </tr>\n",
       "    <tr>\n",
       "      <th>2021-07-08</th>\n",
       "      <td>-3322.0242</td>\n",
       "      <td>-2451.3204</td>\n",
       "      <td>2021-07-08</td>\n",
       "    </tr>\n",
       "    <tr>\n",
       "      <th>2021-07-09</th>\n",
       "      <td>-2451.3204</td>\n",
       "      <td>-4013.5572</td>\n",
       "      <td>2021-07-09</td>\n",
       "    </tr>\n",
       "  </tbody>\n",
       "</table>\n",
       "</div>"
      ],
      "text/plain": [
       "                     y         y+1       date\n",
       "ds                                           \n",
       "2021-07-05   9157.4118  21380.3124 2021-07-05\n",
       "2021-07-06  21380.3124    102.7992 2021-07-06\n",
       "2021-07-07    102.7992  -3322.0242 2021-07-07\n",
       "2021-07-08  -3322.0242  -2451.3204 2021-07-08\n",
       "2021-07-09  -2451.3204  -4013.5572 2021-07-09"
      ]
     },
     "execution_count": 468,
     "metadata": {},
     "output_type": "execute_result"
    }
   ],
   "source": [
    "test_ts1 = test_ts.copy()\n",
    "test_ts1['ds'] = test_ts.index\n",
    "test_ts1.rename(columns={'ds':'date'},inplace=True)\n",
    "test_ts1.head()"
   ]
  },
  {
   "cell_type": "code",
   "execution_count": 469,
   "metadata": {
    "ExecuteTime": {
     "end_time": "2022-04-28T05:32:46.995975Z",
     "start_time": "2022-04-28T05:32:46.986002Z"
    }
   },
   "outputs": [
    {
     "data": {
      "text/html": [
       "<div>\n",
       "<style scoped>\n",
       "    .dataframe tbody tr th:only-of-type {\n",
       "        vertical-align: middle;\n",
       "    }\n",
       "\n",
       "    .dataframe tbody tr th {\n",
       "        vertical-align: top;\n",
       "    }\n",
       "\n",
       "    .dataframe thead th {\n",
       "        text-align: right;\n",
       "    }\n",
       "</style>\n",
       "<table border=\"1\" class=\"dataframe\">\n",
       "  <thead>\n",
       "    <tr style=\"text-align: right;\">\n",
       "      <th></th>\n",
       "      <th>y</th>\n",
       "      <th>y+1</th>\n",
       "      <th>date</th>\n",
       "    </tr>\n",
       "    <tr>\n",
       "      <th>ds</th>\n",
       "      <th></th>\n",
       "      <th></th>\n",
       "      <th></th>\n",
       "    </tr>\n",
       "  </thead>\n",
       "  <tbody>\n",
       "    <tr>\n",
       "      <th>2021-07-05</th>\n",
       "      <td>9157.4118</td>\n",
       "      <td>21380.3124</td>\n",
       "      <td>2021-07-05</td>\n",
       "    </tr>\n",
       "    <tr>\n",
       "      <th>2021-07-06</th>\n",
       "      <td>21380.3124</td>\n",
       "      <td>102.7992</td>\n",
       "      <td>2021-07-06</td>\n",
       "    </tr>\n",
       "    <tr>\n",
       "      <th>2021-07-07</th>\n",
       "      <td>102.7992</td>\n",
       "      <td>-3322.0242</td>\n",
       "      <td>2021-07-07</td>\n",
       "    </tr>\n",
       "    <tr>\n",
       "      <th>2021-07-08</th>\n",
       "      <td>-3322.0242</td>\n",
       "      <td>-2451.3204</td>\n",
       "      <td>2021-07-08</td>\n",
       "    </tr>\n",
       "    <tr>\n",
       "      <th>2021-07-09</th>\n",
       "      <td>-2451.3204</td>\n",
       "      <td>-4013.5572</td>\n",
       "      <td>2021-07-09</td>\n",
       "    </tr>\n",
       "  </tbody>\n",
       "</table>\n",
       "</div>"
      ],
      "text/plain": [
       "                     y         y+1       date\n",
       "ds                                           \n",
       "2021-07-05   9157.4118  21380.3124 2021-07-05\n",
       "2021-07-06  21380.3124    102.7992 2021-07-06\n",
       "2021-07-07    102.7992  -3322.0242 2021-07-07\n",
       "2021-07-08  -3322.0242  -2451.3204 2021-07-08\n",
       "2021-07-09  -2451.3204  -4013.5572 2021-07-09"
      ]
     },
     "execution_count": 469,
     "metadata": {},
     "output_type": "execute_result"
    }
   ],
   "source": [
    "# test_ts = pd.DataFrame(test_ts, columns=['t+'+str(t) for t in range(1, HORIZON+1)])\n",
    "test_ts['ds'] = test_ts.index\n",
    "test_ts.rename(columns={'ds':'date'},inplace=True)\n",
    "test_ts.head()"
   ]
  },
  {
   "cell_type": "code",
   "execution_count": 474,
   "metadata": {
    "ExecuteTime": {
     "end_time": "2022-04-28T05:35:30.852859Z",
     "start_time": "2022-04-28T05:35:30.835904Z"
    }
   },
   "outputs": [
    {
     "data": {
      "text/html": [
       "<div>\n",
       "<style scoped>\n",
       "    .dataframe tbody tr th:only-of-type {\n",
       "        vertical-align: middle;\n",
       "    }\n",
       "\n",
       "    .dataframe tbody tr th {\n",
       "        vertical-align: top;\n",
       "    }\n",
       "\n",
       "    .dataframe thead th {\n",
       "        text-align: right;\n",
       "    }\n",
       "</style>\n",
       "<table border=\"1\" class=\"dataframe\">\n",
       "  <thead>\n",
       "    <tr style=\"text-align: right;\">\n",
       "      <th></th>\n",
       "      <th>date</th>\n",
       "      <th>h</th>\n",
       "      <th>prediction</th>\n",
       "      <th>y</th>\n",
       "      <th>y+1</th>\n",
       "    </tr>\n",
       "  </thead>\n",
       "  <tbody>\n",
       "    <tr>\n",
       "      <th>0</th>\n",
       "      <td>2021-07-05</td>\n",
       "      <td>t+1</td>\n",
       "      <td>16028.940679</td>\n",
       "      <td>9157.4118</td>\n",
       "      <td>21380.3124</td>\n",
       "    </tr>\n",
       "    <tr>\n",
       "      <th>1</th>\n",
       "      <td>2021-07-06</td>\n",
       "      <td>t+1</td>\n",
       "      <td>20052.161349</td>\n",
       "      <td>21380.3124</td>\n",
       "      <td>102.7992</td>\n",
       "    </tr>\n",
       "    <tr>\n",
       "      <th>2</th>\n",
       "      <td>2021-07-07</td>\n",
       "      <td>t+1</td>\n",
       "      <td>-557.913701</td>\n",
       "      <td>102.7992</td>\n",
       "      <td>-3322.0242</td>\n",
       "    </tr>\n",
       "    <tr>\n",
       "      <th>3</th>\n",
       "      <td>2021-07-08</td>\n",
       "      <td>t+1</td>\n",
       "      <td>-646.940014</td>\n",
       "      <td>-3322.0242</td>\n",
       "      <td>-2451.3204</td>\n",
       "    </tr>\n",
       "    <tr>\n",
       "      <th>4</th>\n",
       "      <td>2021-07-09</td>\n",
       "      <td>t+1</td>\n",
       "      <td>1732.504554</td>\n",
       "      <td>-2451.3204</td>\n",
       "      <td>-4013.5572</td>\n",
       "    </tr>\n",
       "  </tbody>\n",
       "</table>\n",
       "</div>"
      ],
      "text/plain": [
       "        date    h    prediction           y         y+1\n",
       "0 2021-07-05  t+1  16028.940679   9157.4118  21380.3124\n",
       "1 2021-07-06  t+1  20052.161349  21380.3124    102.7992\n",
       "2 2021-07-07  t+1   -557.913701    102.7992  -3322.0242\n",
       "3 2021-07-08  t+1   -646.940014  -3322.0242  -2451.3204\n",
       "4 2021-07-09  t+1   1732.504554  -2451.3204  -4013.5572"
      ]
     },
     "execution_count": 474,
     "metadata": {},
     "output_type": "execute_result"
    }
   ],
   "source": [
    "eval_df = pd.DataFrame(predictions, columns=['t+'+str(t) for t in range(1, HORIZON+1)])\n",
    "eval_df['ds'] = test.index[0:len(test.index)-HORIZON]\n",
    "eval_df = pd.melt(eval_df, id_vars='ds', value_name='prediction', var_name='h')\n",
    "# eval_df['actual_1'] = test_ts\n",
    "# eval_df[['prediction', 'actual']] = scaler.inverse_transform(eval_df[['prediction', 'actual']])\n",
    "eval_df.rename(columns={'ds':'date'},inplace=True) \n",
    "test_ts.dropna(axis=0, how='any', inplace=True)\n",
    "eval_df = pd.merge(eval_df,test_ts,on='date',how='right')\n",
    "eval_df.head()"
   ]
  },
  {
   "cell_type": "code",
   "execution_count": 471,
   "metadata": {
    "ExecuteTime": {
     "end_time": "2022-04-28T05:32:49.135811Z",
     "start_time": "2022-04-28T05:32:49.129828Z"
    }
   },
   "outputs": [
    {
     "data": {
      "text/html": [
       "<div>\n",
       "<style scoped>\n",
       "    .dataframe tbody tr th:only-of-type {\n",
       "        vertical-align: middle;\n",
       "    }\n",
       "\n",
       "    .dataframe tbody tr th {\n",
       "        vertical-align: top;\n",
       "    }\n",
       "\n",
       "    .dataframe thead th {\n",
       "        text-align: right;\n",
       "    }\n",
       "</style>\n",
       "<table border=\"1\" class=\"dataframe\">\n",
       "  <thead>\n",
       "    <tr style=\"text-align: right;\">\n",
       "      <th></th>\n",
       "      <th>t+1</th>\n",
       "    </tr>\n",
       "  </thead>\n",
       "  <tbody>\n",
       "    <tr>\n",
       "      <th>0</th>\n",
       "      <td>16028.940679</td>\n",
       "    </tr>\n",
       "    <tr>\n",
       "      <th>1</th>\n",
       "      <td>20052.161349</td>\n",
       "    </tr>\n",
       "    <tr>\n",
       "      <th>2</th>\n",
       "      <td>-557.913701</td>\n",
       "    </tr>\n",
       "    <tr>\n",
       "      <th>3</th>\n",
       "      <td>-646.940014</td>\n",
       "    </tr>\n",
       "    <tr>\n",
       "      <th>4</th>\n",
       "      <td>1732.504554</td>\n",
       "    </tr>\n",
       "  </tbody>\n",
       "</table>\n",
       "</div>"
      ],
      "text/plain": [
       "            t+1\n",
       "0  16028.940679\n",
       "1  20052.161349\n",
       "2   -557.913701\n",
       "3   -646.940014\n",
       "4   1732.504554"
      ]
     },
     "execution_count": 471,
     "metadata": {},
     "output_type": "execute_result"
    }
   ],
   "source": [
    "eval_df.head()"
   ]
  },
  {
   "cell_type": "markdown",
   "metadata": {},
   "source": [
    "# 评估模型的准确性"
   ]
  },
  {
   "cell_type": "code",
   "execution_count": 475,
   "metadata": {
    "ExecuteTime": {
     "end_time": "2022-04-28T05:35:35.860823Z",
     "start_time": "2022-04-28T05:35:35.856792Z"
    }
   },
   "outputs": [],
   "source": [
    "if(HORIZON > 1):\n",
    "    eval_df['APE'] = (eval_df['prediction'] - eval_df['y']).abs() / eval_df['y']\n",
    "    print(eval_df.groupby('h')['APE'].mean())"
   ]
  },
  {
   "cell_type": "code",
   "execution_count": 476,
   "metadata": {
    "ExecuteTime": {
     "end_time": "2022-04-28T05:35:36.426036Z",
     "start_time": "2022-04-28T05:35:36.422047Z"
    }
   },
   "outputs": [],
   "source": [
    "def mape(y_true, y_pred):\n",
    "    return np.mean(np.abs((y_pred - y_true) / y_true))"
   ]
  },
  {
   "cell_type": "code",
   "execution_count": 477,
   "metadata": {
    "ExecuteTime": {
     "end_time": "2022-04-28T05:35:37.060676Z",
     "start_time": "2022-04-28T05:35:37.053694Z"
    }
   },
   "outputs": [
    {
     "name": "stdout",
     "output_type": "stream",
     "text": [
      "One step forecast MAPE:  235.13222088530316 %\n"
     ]
    }
   ],
   "source": [
    "print('One step forecast MAPE: ', \n",
    "      (mape(eval_df[eval_df['h'] == 't+1']['prediction'], \n",
    "      eval_df[eval_df['h'] == 't+1']['y'])\n",
    "      )*100, '%')"
   ]
  },
  {
   "cell_type": "code",
   "execution_count": 530,
   "metadata": {
    "ExecuteTime": {
     "end_time": "2022-04-28T09:20:42.660757Z",
     "start_time": "2022-04-28T09:20:42.308655Z"
    }
   },
   "outputs": [
    {
     "data": {
      "image/png": "[encoded data removed]",
      "text/plain": [
       "<Figure size 1080x576 with 1 Axes>"
      ]
     },
     "metadata": {
      "needs_background": "light"
     },
     "output_type": "display_data"
    }
   ],
   "source": [
    " if(HORIZON == 1):\n",
    "    ## Plotting single step forecast\n",
    "    eval_df.plot(x='date', y=['y', 'prediction'], style=['r', 'b'], figsize=(15, 8))\n",
    "\n",
    "else:\n",
    "    ## Plotting multi step forecast\n",
    "    plot_df = eval_df[(eval_df.h=='t+1')][['date', 'y']]\n",
    "    for t in range(1, HORIZON+1):\n",
    "        plot_df['t+'+str(t)] = eval_df[(eval_df.h=='t+'+str(t))]['prediction'].values\n",
    "\n",
    "    fig = plt.figure(figsize=(15, 8))\n",
    "    ax = plt.plot(plot_df['date'], plot_df['actual'], color='red', linewidth=4.0)\n",
    "    ax = fig.add_subplot(111)\n",
    "    for t in range(1, HORIZON+1):\n",
    "        x = plot_df['timestamp'][(t-1):]\n",
    "        y = plot_df['t+'+str(t)][0:len(x)]\n",
    "        ax.plot(x, y, color='blue', linewidth=4*math.pow(.9,t), alpha=math.pow(0.8,t))\n",
    "\n",
    "    ax.legend(loc='best')\n",
    "\n",
    "plt.xlabel('date', fontsize=12)\n",
    "plt.ylabel('y', fontsize=12)\n",
    "plt.savefig('six.png')\n",
    "plt.show()"
   ]
  },
  {
   "cell_type": "code",
   "execution_count": null,
   "metadata": {},
   "outputs": [],
   "source": [
    "# evaluate an ARIMA model for a given order (p,d,q)\n",
    "def evaluate_arima_model(X, arima_order):\n",
    "# prepare training dataset\n",
    "train_size = int(len(X) * 0.66)\n",
    "train, test = X[0:train_size], X[train_size:]\n",
    "history = [x for x in train]\n",
    "# make predictions\n",
    "predictions = list()\n",
    "for t in range(len(test)):\n",
    "model = ARIMA(history, order=arima_order)\n",
    "model_fit = model.fit(disp=0)\n",
    "yhat = model_fit.forecast()[0]\n",
    "predictions.append(yhat)\n",
    "history.append(test[t])\n",
    "# calculate out of sample error\n",
    "error = mean_squared_error(test, predictions)\n",
    "    return error"
   ]
  },
  {
   "cell_type": "code",
   "execution_count": 283,
   "metadata": {
    "ExecuteTime": {
     "end_time": "2022-04-27T15:54:31.672395Z",
     "start_time": "2022-04-27T15:54:31.669402Z"
    }
   },
   "outputs": [],
   "source": [
    "# diff1.dropna(inplace=True) \n",
    "# fig = plt.figure(figsize=(12,8)) \n",
    "# ax1=fig.add_subplot(211) \n",
    "# fig = sm.graphics.tsa.plot_acf(diff1,lags=40,ax=ax1) \n",
    "# ax2 = fig.add_subplot(212) \n",
    "# fig = sm.graphics.tsa.plot_pacf(diff1,lags=40,ax=ax2)\n"
   ]
  },
  {
   "cell_type": "markdown",
   "metadata": {},
   "source": [
    "# 商业行业最大有功功率模型训练"
   ]
  },
  {
   "cell_type": "code",
   "execution_count": 29,
   "metadata": {
    "ExecuteTime": {
     "end_time": "2022-04-27T09:38:39.527561Z",
     "start_time": "2022-04-27T09:38:39.253300Z"
    }
   },
   "outputs": [
    {
     "name": "stdout",
     "output_type": "stream",
     "text": [
      "778    36858.372454\n",
      "779    36936.623620\n",
      "780    36974.986431\n",
      "781    37024.448553\n",
      "782    37070.822188\n",
      "           ...     \n",
      "968    45821.516243\n",
      "969    45868.562198\n",
      "970    45915.608154\n",
      "971    45962.654109\n",
      "972    46009.700064\n",
      "Name: predicted_mean, Length: 195, dtype: float64\n"
     ]
    }
   ],
   "source": [
    "# from statsmodels.tsa.arima_model import ARIMA\n",
    "import statsmodels.api as sm\n",
    "model = sm.tsa.ARIMA(y_train, order=(1,2,1)) \n",
    "model_fit = model.fit()\n",
    "y_pred = model_fit.forecast(len(y_valid))\n",
    "# , se, conf\n",
    "score_mae = mean_absolute_error(y_valid, y_pred)\n",
    "score_rmse = math.sqrt(mean_squared_error(y_valid, y_pred))\n",
    "print(y_pred)"
   ]
  },
  {
   "cell_type": "markdown",
   "metadata": {},
   "source": [
    "# 商业行业的精度分析(4种评价方式)"
   ]
  },
  {
   "cell_type": "code",
   "execution_count": 30,
   "metadata": {
    "ExecuteTime": {
     "end_time": "2022-04-27T09:38:40.553097Z",
     "start_time": "2022-04-27T09:38:40.545117Z"
    }
   },
   "outputs": [
    {
     "name": "stdout",
     "output_type": "stream",
     "text": [
      "MSE: 1782983335.486869\n",
      "RMSE: 42225.387333769584\n",
      "MAE: 37777.55416752609\n",
      "MAPE: 0.43423308316655373\n"
     ]
    }
   ],
   "source": [
    "import numpy as np\n",
    "from sklearn import metrics\n",
    "def mape(y_true, y_pred):\n",
    "    return np.mean(np.abs((y_pred - y_true) / y_true))\n",
    "y_true = np.array(y_valid)\n",
    "y_pred = np.array(y_pred)\n",
    "print('MSE:',metrics.mean_squared_error(y_true, y_pred))\n",
    "print('RMSE:',np.sqrt(metrics.mean_squared_error(y_true, y_pred)))\n",
    "print('MAE:',metrics.mean_absolute_error(y_true, y_pred)) \n",
    "print('MAPE:',mape(y_true, y_pred))"
   ]
  },
  {
   "cell_type": "markdown",
   "metadata": {},
   "source": [
    "# 预测结果"
   ]
  },
  {
   "cell_type": "code",
   "execution_count": 31,
   "metadata": {
    "ExecuteTime": {
     "end_time": "2022-04-27T09:38:41.485399Z",
     "start_time": "2022-04-27T09:38:41.448117Z"
    }
   },
   "outputs": [],
   "source": [
    "y = pd.read_excel(r\"data/未来三个月每天.xls\")\n",
    "pred =  model_fit.forecast(len(y))"
   ]
  },
  {
   "cell_type": "code",
   "execution_count": 32,
   "metadata": {
    "ExecuteTime": {
     "end_time": "2022-04-27T09:38:41.903962Z",
     "start_time": "2022-04-27T09:38:41.898980Z"
    }
   },
   "outputs": [
    {
     "data": {
      "text/plain": [
       "778    36858.372454\n",
       "779    36936.623620\n",
       "780    36974.986431\n",
       "781    37024.448553\n",
       "782    37070.822188\n",
       "Name: predicted_mean, dtype: float64"
      ]
     },
     "execution_count": 32,
     "metadata": {},
     "output_type": "execute_result"
    }
   ],
   "source": [
    "pred.head()"
   ]
  },
  {
   "cell_type": "code",
   "execution_count": 33,
   "metadata": {
    "ExecuteTime": {
     "end_time": "2022-04-27T09:38:42.589252Z",
     "start_time": "2022-04-27T09:38:42.579245Z"
    }
   },
   "outputs": [
    {
     "data": {
      "text/html": [
       "<div>\n",
       "<style scoped>\n",
       "    .dataframe tbody tr th:only-of-type {\n",
       "        vertical-align: middle;\n",
       "    }\n",
       "\n",
       "    .dataframe tbody tr th {\n",
       "        vertical-align: top;\n",
       "    }\n",
       "\n",
       "    .dataframe thead th {\n",
       "        text-align: right;\n",
       "    }\n",
       "</style>\n",
       "<table border=\"1\" class=\"dataframe\">\n",
       "  <thead>\n",
       "    <tr style=\"text-align: right;\">\n",
       "      <th></th>\n",
       "      <th>数据时间</th>\n",
       "    </tr>\n",
       "  </thead>\n",
       "  <tbody>\n",
       "    <tr>\n",
       "      <th>0</th>\n",
       "      <td>2021-08-31</td>\n",
       "    </tr>\n",
       "    <tr>\n",
       "      <th>1</th>\n",
       "      <td>2021-09-01</td>\n",
       "    </tr>\n",
       "    <tr>\n",
       "      <th>2</th>\n",
       "      <td>2021-09-02</td>\n",
       "    </tr>\n",
       "    <tr>\n",
       "      <th>3</th>\n",
       "      <td>2021-09-03</td>\n",
       "    </tr>\n",
       "    <tr>\n",
       "      <th>4</th>\n",
       "      <td>2021-09-04</td>\n",
       "    </tr>\n",
       "    <tr>\n",
       "      <th>...</th>\n",
       "      <td>...</td>\n",
       "    </tr>\n",
       "    <tr>\n",
       "      <th>87</th>\n",
       "      <td>2021-11-26</td>\n",
       "    </tr>\n",
       "    <tr>\n",
       "      <th>88</th>\n",
       "      <td>2021-11-27</td>\n",
       "    </tr>\n",
       "    <tr>\n",
       "      <th>89</th>\n",
       "      <td>2021-11-28</td>\n",
       "    </tr>\n",
       "    <tr>\n",
       "      <th>90</th>\n",
       "      <td>2021-11-29</td>\n",
       "    </tr>\n",
       "    <tr>\n",
       "      <th>91</th>\n",
       "      <td>2021-11-30</td>\n",
       "    </tr>\n",
       "  </tbody>\n",
       "</table>\n",
       "<p>92 rows × 1 columns</p>\n",
       "</div>"
      ],
      "text/plain": [
       "         数据时间\n",
       "0  2021-08-31\n",
       "1  2021-09-01\n",
       "2  2021-09-02\n",
       "3  2021-09-03\n",
       "4  2021-09-04\n",
       "..        ...\n",
       "87 2021-11-26\n",
       "88 2021-11-27\n",
       "89 2021-11-28\n",
       "90 2021-11-29\n",
       "91 2021-11-30\n",
       "\n",
       "[92 rows x 1 columns]"
      ]
     },
     "execution_count": 33,
     "metadata": {},
     "output_type": "execute_result"
    }
   ],
   "source": [
    "y"
   ]
  },
  {
   "cell_type": "markdown",
   "metadata": {},
   "source": [
    "# 保存数据"
   ]
  },
  {
   "cell_type": "code",
   "execution_count": 34,
   "metadata": {
    "ExecuteTime": {
     "end_time": "2022-04-27T09:38:43.401743Z",
     "start_time": "2022-04-27T09:38:43.389778Z"
    }
   },
   "outputs": [
    {
     "data": {
      "text/html": [
       "<div>\n",
       "<style scoped>\n",
       "    .dataframe tbody tr th:only-of-type {\n",
       "        vertical-align: middle;\n",
       "    }\n",
       "\n",
       "    .dataframe tbody tr th {\n",
       "        vertical-align: top;\n",
       "    }\n",
       "\n",
       "    .dataframe thead th {\n",
       "        text-align: right;\n",
       "    }\n",
       "</style>\n",
       "<table border=\"1\" class=\"dataframe\">\n",
       "  <thead>\n",
       "    <tr style=\"text-align: right;\">\n",
       "      <th></th>\n",
       "      <th>数据时间</th>\n",
       "      <th>商业行业未来最大总有功功率(KM)</th>\n",
       "    </tr>\n",
       "  </thead>\n",
       "  <tbody>\n",
       "    <tr>\n",
       "      <th>0</th>\n",
       "      <td>2021-08-31</td>\n",
       "      <td>36858.372454</td>\n",
       "    </tr>\n",
       "    <tr>\n",
       "      <th>1</th>\n",
       "      <td>2021-09-01</td>\n",
       "      <td>36936.623620</td>\n",
       "    </tr>\n",
       "    <tr>\n",
       "      <th>2</th>\n",
       "      <td>2021-09-02</td>\n",
       "      <td>36974.986431</td>\n",
       "    </tr>\n",
       "    <tr>\n",
       "      <th>3</th>\n",
       "      <td>2021-09-03</td>\n",
       "      <td>37024.448553</td>\n",
       "    </tr>\n",
       "    <tr>\n",
       "      <th>4</th>\n",
       "      <td>2021-09-04</td>\n",
       "      <td>37070.822188</td>\n",
       "    </tr>\n",
       "    <tr>\n",
       "      <th>...</th>\n",
       "      <td>...</td>\n",
       "      <td>...</td>\n",
       "    </tr>\n",
       "    <tr>\n",
       "      <th>87</th>\n",
       "      <td>2021-11-26</td>\n",
       "      <td>40975.782839</td>\n",
       "    </tr>\n",
       "    <tr>\n",
       "      <th>88</th>\n",
       "      <td>2021-11-27</td>\n",
       "      <td>41022.828794</td>\n",
       "    </tr>\n",
       "    <tr>\n",
       "      <th>89</th>\n",
       "      <td>2021-11-28</td>\n",
       "      <td>41069.874750</td>\n",
       "    </tr>\n",
       "    <tr>\n",
       "      <th>90</th>\n",
       "      <td>2021-11-29</td>\n",
       "      <td>41116.920705</td>\n",
       "    </tr>\n",
       "    <tr>\n",
       "      <th>91</th>\n",
       "      <td>2021-11-30</td>\n",
       "      <td>41163.966660</td>\n",
       "    </tr>\n",
       "  </tbody>\n",
       "</table>\n",
       "<p>92 rows × 2 columns</p>\n",
       "</div>"
      ],
      "text/plain": [
       "          数据时间  商业行业未来最大总有功功率(KM)\n",
       "0   2021-08-31       36858.372454\n",
       "1   2021-09-01       36936.623620\n",
       "2   2021-09-02       36974.986431\n",
       "3   2021-09-03       37024.448553\n",
       "4   2021-09-04       37070.822188\n",
       "..         ...                ...\n",
       "87  2021-11-26       40975.782839\n",
       "88  2021-11-27       41022.828794\n",
       "89  2021-11-28       41069.874750\n",
       "90  2021-11-29       41116.920705\n",
       "91  2021-11-30       41163.966660\n",
       "\n",
       "[92 rows x 2 columns]"
      ]
     },
     "execution_count": 34,
     "metadata": {},
     "output_type": "execute_result"
    }
   ],
   "source": [
    "y['数据时间'] = y['数据时间'].astype(str)\n",
    "y['商业行业未来最大总有功功率(KM)'] = pd.DataFrame(pred).values\n",
    "\n",
    "y"
   ]
  },
  {
   "cell_type": "markdown",
   "metadata": {},
   "source": [
    "# 商业最小总总有功功率预测"
   ]
  },
  {
   "cell_type": "code",
   "execution_count": 35,
   "metadata": {
    "ExecuteTime": {
     "end_time": "2022-04-27T09:38:44.473355Z",
     "start_time": "2022-04-27T09:38:44.271894Z"
    }
   },
   "outputs": [
    {
     "name": "stdout",
     "output_type": "stream",
     "text": [
      "778 195\n",
      "MSE: 21503104.173006106\n",
      "RMSE: 4637.1439672503275\n",
      "MAE: 3492.362045251431\n",
      "MAPE: 1.9276388972912863\n"
     ]
    }
   ],
   "source": [
    "df = metrics_df1.fillna(0)\n",
    "univariate_df = df[['date', '商业']].copy()\n",
    "univariate_df.columns = ['ds', 'y']\n",
    "\n",
    "train = univariate_df.iloc[:train_size, :]\n",
    "\n",
    "x_train, y_train = pd.DataFrame(univariate_df.iloc[:train_size, 0]), pd.DataFrame(univariate_df.iloc[:train_size, 1])\n",
    "x_valid, y_valid = pd.DataFrame(univariate_df.iloc[train_size:, 0]), pd.DataFrame(univariate_df.iloc[train_size:, 1])\n",
    "\n",
    "print(len(train), len(x_valid))\n",
    "import statsmodels.api as sm\n",
    "# model = sm.tsa.ARIMA(y_train, order=(1,1,1)) \n",
    "\n",
    "# from statsmodels.tsa.arima_model import ARIMA\n",
    "\n",
    "# Fit model\n",
    "model = sm.tsa.ARIMA(y_train, order=(0,0,1))\n",
    "model_fit = model.fit()\n",
    "\n",
    "# Pediction with ARIMA\n",
    "y_pred= model_fit.forecast(len(y_valid))\n",
    "# Calcuate metrics\n",
    "score_mae = mean_absolute_error(y_valid, y_pred)\n",
    "score_rmse = math.sqrt(mean_squared_error(y_valid, y_pred))\n",
    "y_true = np.array(y_valid)\n",
    "y_pred = np.array(y_pred)\n",
    "print('MSE:',metrics.mean_squared_error(y_true, y_pred))\n",
    "print('RMSE:',np.sqrt(metrics.mean_squared_error(y_true, y_pred)))\n",
    "print('MAE:',metrics.mean_absolute_error(y_true, y_pred)) \n",
    "print('MAPE:',mape(y_true, y_pred))\n",
    "pred =  model_fit.forecast(len(y))\n",
    "y['商业最小总有功功率(KM)'] = pd.DataFrame(pred).values"
   ]
  },
  {
   "cell_type": "markdown",
   "metadata": {},
   "source": [
    "# 大工业用电行业最大和最小有功功率预测"
   ]
  },
  {
   "cell_type": "code",
   "execution_count": 99,
   "metadata": {
    "ExecuteTime": {
     "end_time": "2022-04-25T11:22:31.347931Z",
     "start_time": "2022-04-25T11:22:31.170371Z"
    }
   },
   "outputs": [
    {
     "name": "stdout",
     "output_type": "stream",
     "text": [
      "827 146\n",
      "最大有功功率MSE: 505812468.689925\n",
      "最大有功功率RMSE: 22490.274980309267\n",
      "最大有功功率MAE: 14259.930906113801\n",
      "最大有功功率MAPE: 2.4758620407206213\n",
      "827 146\n",
      "最小有功功率MSE: 505812468.689925\n",
      "最小有功功率RMSE: 22490.274980309267\n",
      "最小有功功率MAE: 14259.930906113801\n",
      "最小有功功率MAPE: 2.4758620407206213\n"
     ]
    }
   ],
   "source": [
    "train_size = int(0.85 * len(df))\n",
    "test_size = len(df) - train_size\n",
    "df = metrics_df1.fillna(0)\n",
    "univariate_df = df[['date', '大工业用电']].copy()\n",
    "univariate_df.columns = ['ds', 'y']\n",
    "\n",
    "train = univariate_df.iloc[:train_size, :]\n",
    "\n",
    "x_train, y_train = pd.DataFrame(univariate_df.iloc[:train_size, 0]), pd.DataFrame(univariate_df.iloc[:train_size, 1])\n",
    "x_valid, y_valid = pd.DataFrame(univariate_df.iloc[train_size:, 0]), pd.DataFrame(univariate_df.iloc[train_size:, 1])\n",
    "\n",
    "print(len(train), len(x_valid))\n",
    "# from statsmodels.tsa.arima_model import ARIMA\n",
    "import statsmodels.api as sm\n",
    "# model = sm.tsa.ARIMA(y_train, order=(1,1,1)) \n",
    "# Fit modelsm.tsa.ARIMA\n",
    "model = sm.tsa.ARIMA(y_train, order=(0 ,0,1))\n",
    "model_fit = model.fit()\n",
    "\n",
    "# Pediction with ARIMA\n",
    "y_pred = model_fit.forecast(len(y_valid))\n",
    "# Calcuate metrics\n",
    "score_mae = mean_absolute_error(y_valid, y_pred)\n",
    "score_rmse = math.sqrt(mean_squared_error(y_valid, y_pred))\n",
    "y_true = np.array(y_valid)\n",
    "y_pred = np.array(y_pred)\n",
    "print('最大有功功率MSE:',metrics.mean_squared_error(y_true, y_pred))\n",
    "print('最大有功功率RMSE:',np.sqrt(metrics.mean_squared_error(y_true, y_pred)))\n",
    "print('最大有功功率MAE:',metrics.mean_absolute_error(y_true, y_pred)) \n",
    "print('最大有功功率MAPE:',mape(y_true, y_pred))\n",
    "pred =  model_fit.forecast(len(y))\n",
    "y['大工业用电最大总有功功率(KM)'] = pd.DataFrame(pred).values\n",
    "train_size = int(0.85 * len(df))\n",
    "test_size = len(df) - train_size\n",
    "df = metrics_df1.fillna(0)\n",
    "univariate_df = df[['date', '大工业用电']].copy()\n",
    "univariate_df.columns = ['ds', 'y']\n",
    "\n",
    "train = univariate_df.iloc[:train_size, :]\n",
    "\n",
    "x_train, y_train = pd.DataFrame(univariate_df.iloc[:train_size, 0]), pd.DataFrame(univariate_df.iloc[:train_size, 1])\n",
    "x_valid, y_valid = pd.DataFrame(univariate_df.iloc[train_size:, 0]), pd.DataFrame(univariate_df.iloc[train_size:, 1])\n",
    "\n",
    "print(len(train), len(x_valid))\n",
    "# from statsmodels.tsa.arima_model import ARIMA\n",
    "\n",
    "# Fit model\n",
    "\n",
    "model = sm.tsa.ARIMA(y_train, order=(0 ,0,1))\n",
    "model_fit = model.fit()\n",
    "\n",
    "# Pediction with ARIMA\n",
    "y_pred = model_fit.forecast(len(y_valid))\n",
    "# Calcuate metrics\n",
    "score_mae = mean_absolute_error(y_valid, y_pred)\n",
    "score_rmse = math.sqrt(mean_squared_error(y_valid, y_pred))\n",
    "y_true = np.array(y_valid)\n",
    "y_pred = np.array(y_pred)\n",
    "print('最小有功功率MSE:',metrics.mean_squared_error(y_true, y_pred))\n",
    "print('最小有功功率RMSE:',np.sqrt(metrics.mean_squared_error(y_true, y_pred)))\n",
    "print('最小有功功率MAE:',metrics.mean_absolute_error(y_true, y_pred)) \n",
    "print('最小有功功率MAPE:',mape(y_true, y_pred))\n",
    "pred =  model_fit.forecast(len(y))\n",
    "y['大工业用电最小总有功功率(KM)'] = pd.DataFrame(pred).values"
   ]
  },
  {
   "cell_type": "markdown",
   "metadata": {},
   "source": [
    "# 普通工业行业最大和最小有功功率预测"
   ]
  },
  {
   "cell_type": "code",
   "execution_count": 100,
   "metadata": {
    "ExecuteTime": {
     "end_time": "2022-04-25T11:22:42.390223Z",
     "start_time": "2022-04-25T11:22:41.991247Z"
    }
   },
   "outputs": [
    {
     "name": "stdout",
     "output_type": "stream",
     "text": [
      "827 146\n",
      "最大有功功率MSE: 5751059.193391578\n",
      "最大有功功率RMSE: 2398.136608575829\n",
      "最大有功功率MAE: 2103.920901038341\n",
      "最大有功功率MAPE: 0.28363185070775093\n",
      "827 146\n",
      "最小有功功率MSE: 1066561.6782921075\n",
      "最小有功功率RMSE: 1032.7447304596174\n",
      "最小有功功率MAE: 749.3176665471696\n",
      "最小有功功率MAPE: 2.441080196625541\n"
     ]
    }
   ],
   "source": [
    "train_size = int(0.85 * len(df))\n",
    "test_size = len(df) - train_size\n",
    "df = metrics_df.fillna(0)\n",
    "univariate_df = df[['date', '普通工业']].copy()\n",
    "univariate_df.columns = ['ds', 'y']\n",
    "\n",
    "train = univariate_df.iloc[:train_size, :]\n",
    "\n",
    "x_train, y_train = pd.DataFrame(univariate_df.iloc[:train_size, 0]), pd.DataFrame(univariate_df.iloc[:train_size, 1])\n",
    "x_valid, y_valid = pd.DataFrame(univariate_df.iloc[train_size:, 0]), pd.DataFrame(univariate_df.iloc[train_size:, 1])\n",
    "\n",
    "print(len(train), len(x_valid))\n",
    "# from statsmodels.tsa.arima_model import ARIMA\n",
    "import statsmodels.api as sm\n",
    "\n",
    "# Fit model\n",
    "model = sm.tsa.ARIMA(y_train, order=(0 ,0,1))\n",
    "model_fit = model.fit()\n",
    "\n",
    "# Pediction with ARIMA\n",
    "y_pred = model_fit.forecast(len(y_valid))\n",
    "# Calcuate metrics\n",
    "score_mae = mean_absolute_error(y_valid, y_pred)\n",
    "score_rmse = math.sqrt(mean_squared_error(y_valid, y_pred))\n",
    "y_true = np.array(y_valid)\n",
    "y_pred = np.array(y_pred)\n",
    "print('最大有功功率MSE:',metrics.mean_squared_error(y_true, y_pred))\n",
    "print('最大有功功率RMSE:',np.sqrt(metrics.mean_squared_error(y_true, y_pred)))\n",
    "print('最大有功功率MAE:',metrics.mean_absolute_error(y_true, y_pred)) \n",
    "print('最大有功功率MAPE:',mape(y_true, y_pred))\n",
    "pred =  model_fit.forecast(len(y))\n",
    "y['普通工业最大总有功功率(KM)'] = pd.DataFrame(pred).values\n",
    "\n",
    "train_size = int(0.85 * len(df))\n",
    "test_size = len(df) - train_size\n",
    "df = metrics_df1.fillna(0)\n",
    "univariate_df = df[['date', '普通工业']].copy()\n",
    "univariate_df.columns = ['ds', 'y']\n",
    "\n",
    "train = univariate_df.iloc[:train_size, :]\n",
    "\n",
    "x_train, y_train = pd.DataFrame(univariate_df.iloc[:train_size, 0]), pd.DataFrame(univariate_df.iloc[:train_size, 1])\n",
    "x_valid, y_valid = pd.DataFrame(univariate_df.iloc[train_size:, 0]), pd.DataFrame(univariate_df.iloc[train_size:, 1])\n",
    "\n",
    "print(len(train), len(x_valid))\n",
    "\n",
    "\n",
    "# Fit model\n",
    "model = sm.tsa.ARIMA(y_train, order=(0 ,0,1))\n",
    "model_fit = model.fit()\n",
    "\n",
    "# Pediction with ARIMA\n",
    "y_pred = model_fit.forecast(len(y_valid))\n",
    "# Calcuate metrics\n",
    "score_mae = mean_absolute_error(y_valid, y_pred)\n",
    "score_rmse = math.sqrt(mean_squared_error(y_valid, y_pred))\n",
    "y_true = np.array(y_valid)\n",
    "y_pred = np.array(y_pred)\n",
    "print('最小有功功率MSE:',metrics.mean_squared_error(y_true, y_pred))\n",
    "print('最小有功功率RMSE:',np.sqrt(metrics.mean_squared_error(y_true, y_pred)))\n",
    "print('最小有功功率MAE:',metrics.mean_absolute_error(y_true, y_pred)) \n",
    "print('最小有功功率MAPE:',mape(y_true, y_pred))\n",
    "pred =  model_fit.forecast(len(y))\n",
    "y['普通工业最小总有功功率(KM)'] = pd.DataFrame(pred).values"
   ]
  },
  {
   "cell_type": "markdown",
   "metadata": {},
   "source": [
    "# 非普通工业最大最小预测"
   ]
  },
  {
   "cell_type": "code",
   "execution_count": 101,
   "metadata": {
    "ExecuteTime": {
     "end_time": "2022-04-25T11:22:52.453237Z",
     "start_time": "2022-04-25T11:22:52.088268Z"
    }
   },
   "outputs": [
    {
     "name": "stdout",
     "output_type": "stream",
     "text": [
      "827 146\n",
      "最大有功功率MSE: 1999738.025150666\n",
      "最大有功功率RMSE: 1414.1209372435817\n",
      "最大有功功率MAE: 1311.552025044219\n",
      "最大有功功率MAPE: 0.4340207274827628\n",
      "827 146\n",
      "最小有功功率MSE: 380126.22196910967\n",
      "最小有功功率RMSE: 616.5437713326684\n",
      "最小有功功率MAE: 581.6216068911732\n",
      "最小有功功率MAPE: 3.7002541636418194\n"
     ]
    }
   ],
   "source": [
    "train_size = int(0.85 * len(df))\n",
    "test_size = len(df) - train_size\n",
    "df = metrics_df.fillna(0)\n",
    "univariate_df = df[['date', '非普工业']].copy()\n",
    "univariate_df.columns = ['ds', 'y']\n",
    "\n",
    "train = univariate_df.iloc[:train_size, :]\n",
    "\n",
    "x_train, y_train = pd.DataFrame(univariate_df.iloc[:train_size, 0]), pd.DataFrame(univariate_df.iloc[:train_size, 1])\n",
    "x_valid, y_valid = pd.DataFrame(univariate_df.iloc[train_size:, 0]), pd.DataFrame(univariate_df.iloc[train_size:, 1])\n",
    "\n",
    "print(len(train), len(x_valid))\n",
    "import statsmodels.api as sm\n",
    "\n",
    "\n",
    "# Fit model\n",
    "model = sm.tsa.ARIMA(y_train, order=(0 ,0,1))\n",
    "model_fit = model.fit()\n",
    "\n",
    "# Pediction with ARIMA\n",
    "y_pred = model_fit.forecast(len(y_valid))\n",
    "# Calcuate metrics\n",
    "score_mae = mean_absolute_error(y_valid, y_pred)\n",
    "score_rmse = math.sqrt(mean_squared_error(y_valid, y_pred))\n",
    "y_true = np.array(y_valid)\n",
    "y_pred = np.array(y_pred)\n",
    "print('最大有功功率MSE:',metrics.mean_squared_error(y_true, y_pred))\n",
    "print('最大有功功率RMSE:',np.sqrt(metrics.mean_squared_error(y_true, y_pred)))\n",
    "print('最大有功功率MAE:',metrics.mean_absolute_error(y_true, y_pred)) \n",
    "print('最大有功功率MAPE:',mape(y_true, y_pred))\n",
    "pred =  model_fit.forecast(len(y))\n",
    "pred =  model_fit.forecast(len(y))\n",
    "y['非普工业最大总有功功率(KM)'] = pd.DataFrame(pred).values\n",
    "\n",
    "train_size = int(0.85 * len(df))\n",
    "test_size = len(df) - train_size\n",
    "df = metrics_df1.fillna(0)\n",
    "univariate_df = df[['date', '非普工业']].copy()\n",
    "univariate_df.columns = ['ds', 'y']\n",
    "\n",
    "train = univariate_df.iloc[:train_size, :]\n",
    "\n",
    "x_train, y_train = pd.DataFrame(univariate_df.iloc[:train_size, 0]), pd.DataFrame(univariate_df.iloc[:train_size, 1])\n",
    "x_valid, y_valid = pd.DataFrame(univariate_df.iloc[train_size:, 0]), pd.DataFrame(univariate_df.iloc[train_size:, 1])\n",
    "\n",
    "print(len(train), len(x_valid))\n",
    "\n",
    "# Fit model\n",
    "model = sm.tsa.ARIMA(y_train, order=(0 ,0,1))\n",
    "model_fit = model.fit()\n",
    "\n",
    "# Pediction with ARIMA\n",
    "y_pred = model_fit.forecast(len(y_valid))\n",
    "# Calcuate metrics\n",
    "score_mae = mean_absolute_error(y_valid, y_pred)\n",
    "score_rmse = math.sqrt(mean_squared_error(y_valid, y_pred))\n",
    "y_true = np.array(y_valid)\n",
    "y_pred = np.array(y_pred)\n",
    "print('最小有功功率MSE:',metrics.mean_squared_error(y_true, y_pred))\n",
    "print('最小有功功率RMSE:',np.sqrt(metrics.mean_squared_error(y_true, y_pred)))\n",
    "print('最小有功功率MAE:',metrics.mean_absolute_error(y_true, y_pred)) \n",
    "print('最小有功功率MAPE:',mape(y_true, y_pred))\n",
    "pred =  model_fit.forecast(len(y))\n",
    "y['非普工业最小总有功功率(KM)'] = pd.DataFrame(pred).values"
   ]
  },
  {
   "cell_type": "markdown",
   "metadata": {},
   "source": [
    "# 最终结果保存"
   ]
  },
  {
   "cell_type": "code",
   "execution_count": 105,
   "metadata": {
    "ExecuteTime": {
     "end_time": "2022-04-25T11:23:27.415600Z",
     "start_time": "2022-04-25T11:23:27.405585Z"
    }
   },
   "outputs": [],
   "source": [
    "y.to_csv('data/第二大问第二小问结果.csv',index=0)"
   ]
  },
  {
   "cell_type": "code",
   "execution_count": 104,
   "metadata": {
    "ExecuteTime": {
     "end_time": "2022-04-25T11:22:59.711235Z",
     "start_time": "2022-04-25T11:22:59.694279Z"
    }
   },
   "outputs": [
    {
     "data": {
      "text/html": [
       "<div>\n",
       "<style scoped>\n",
       "    .dataframe tbody tr th:only-of-type {\n",
       "        vertical-align: middle;\n",
       "    }\n",
       "\n",
       "    .dataframe tbody tr th {\n",
       "        vertical-align: top;\n",
       "    }\n",
       "\n",
       "    .dataframe thead th {\n",
       "        text-align: right;\n",
       "    }\n",
       "</style>\n",
       "<table border=\"1\" class=\"dataframe\">\n",
       "  <thead>\n",
       "    <tr style=\"text-align: right;\">\n",
       "      <th></th>\n",
       "      <th>数据时间</th>\n",
       "      <th>商业行业未来最大总有功功率(KM)</th>\n",
       "      <th>商业最小总有功功率(KM)</th>\n",
       "      <th>大工业用电最大总有功功率(KM)</th>\n",
       "      <th>大工业用电最小总有功功率(KM)</th>\n",
       "      <th>普通工业最大总有功功率(KM)</th>\n",
       "      <th>普通工业最小总有功功率(KM)</th>\n",
       "      <th>非普工业最大总有功功率(KM)</th>\n",
       "      <th>非普工业最小总有功功率(KM)</th>\n",
       "    </tr>\n",
       "  </thead>\n",
       "  <tbody>\n",
       "    <tr>\n",
       "      <th>0</th>\n",
       "      <td>2021-08-31</td>\n",
       "      <td>910.712896</td>\n",
       "      <td>16279.294536</td>\n",
       "      <td>89581.634610</td>\n",
       "      <td>89581.634610</td>\n",
       "      <td>6278.621354</td>\n",
       "      <td>3057.304132</td>\n",
       "      <td>1695.659592</td>\n",
       "      <td>910.712896</td>\n",
       "    </tr>\n",
       "    <tr>\n",
       "      <th>1</th>\n",
       "      <td>2021-09-01</td>\n",
       "      <td>694.994325</td>\n",
       "      <td>16473.403206</td>\n",
       "      <td>81650.629585</td>\n",
       "      <td>81650.629585</td>\n",
       "      <td>7877.881872</td>\n",
       "      <td>3420.524054</td>\n",
       "      <td>1563.258384</td>\n",
       "      <td>694.994325</td>\n",
       "    </tr>\n",
       "    <tr>\n",
       "      <th>2</th>\n",
       "      <td>2021-09-02</td>\n",
       "      <td>694.994325</td>\n",
       "      <td>16473.403206</td>\n",
       "      <td>81650.629585</td>\n",
       "      <td>81650.629585</td>\n",
       "      <td>7877.881872</td>\n",
       "      <td>3420.524054</td>\n",
       "      <td>1563.258384</td>\n",
       "      <td>694.994325</td>\n",
       "    </tr>\n",
       "    <tr>\n",
       "      <th>3</th>\n",
       "      <td>2021-09-03</td>\n",
       "      <td>694.994325</td>\n",
       "      <td>16473.403206</td>\n",
       "      <td>81650.629585</td>\n",
       "      <td>81650.629585</td>\n",
       "      <td>7877.881872</td>\n",
       "      <td>3420.524054</td>\n",
       "      <td>1563.258384</td>\n",
       "      <td>694.994325</td>\n",
       "    </tr>\n",
       "    <tr>\n",
       "      <th>4</th>\n",
       "      <td>2021-09-04</td>\n",
       "      <td>694.994325</td>\n",
       "      <td>16473.403206</td>\n",
       "      <td>81650.629585</td>\n",
       "      <td>81650.629585</td>\n",
       "      <td>7877.881872</td>\n",
       "      <td>3420.524054</td>\n",
       "      <td>1563.258384</td>\n",
       "      <td>694.994325</td>\n",
       "    </tr>\n",
       "    <tr>\n",
       "      <th>...</th>\n",
       "      <td>...</td>\n",
       "      <td>...</td>\n",
       "      <td>...</td>\n",
       "      <td>...</td>\n",
       "      <td>...</td>\n",
       "      <td>...</td>\n",
       "      <td>...</td>\n",
       "      <td>...</td>\n",
       "      <td>...</td>\n",
       "    </tr>\n",
       "    <tr>\n",
       "      <th>87</th>\n",
       "      <td>2021-11-26</td>\n",
       "      <td>694.994325</td>\n",
       "      <td>16473.403206</td>\n",
       "      <td>81650.629585</td>\n",
       "      <td>81650.629585</td>\n",
       "      <td>7877.881872</td>\n",
       "      <td>3420.524054</td>\n",
       "      <td>1563.258384</td>\n",
       "      <td>694.994325</td>\n",
       "    </tr>\n",
       "    <tr>\n",
       "      <th>88</th>\n",
       "      <td>2021-11-27</td>\n",
       "      <td>694.994325</td>\n",
       "      <td>16473.403206</td>\n",
       "      <td>81650.629585</td>\n",
       "      <td>81650.629585</td>\n",
       "      <td>7877.881872</td>\n",
       "      <td>3420.524054</td>\n",
       "      <td>1563.258384</td>\n",
       "      <td>694.994325</td>\n",
       "    </tr>\n",
       "    <tr>\n",
       "      <th>89</th>\n",
       "      <td>2021-11-28</td>\n",
       "      <td>694.994325</td>\n",
       "      <td>16473.403206</td>\n",
       "      <td>81650.629585</td>\n",
       "      <td>81650.629585</td>\n",
       "      <td>7877.881872</td>\n",
       "      <td>3420.524054</td>\n",
       "      <td>1563.258384</td>\n",
       "      <td>694.994325</td>\n",
       "    </tr>\n",
       "    <tr>\n",
       "      <th>90</th>\n",
       "      <td>2021-11-29</td>\n",
       "      <td>694.994325</td>\n",
       "      <td>16473.403206</td>\n",
       "      <td>81650.629585</td>\n",
       "      <td>81650.629585</td>\n",
       "      <td>7877.881872</td>\n",
       "      <td>3420.524054</td>\n",
       "      <td>1563.258384</td>\n",
       "      <td>694.994325</td>\n",
       "    </tr>\n",
       "    <tr>\n",
       "      <th>91</th>\n",
       "      <td>2021-11-30</td>\n",
       "      <td>694.994325</td>\n",
       "      <td>16473.403206</td>\n",
       "      <td>81650.629585</td>\n",
       "      <td>81650.629585</td>\n",
       "      <td>7877.881872</td>\n",
       "      <td>3420.524054</td>\n",
       "      <td>1563.258384</td>\n",
       "      <td>694.994325</td>\n",
       "    </tr>\n",
       "  </tbody>\n",
       "</table>\n",
       "<p>92 rows × 9 columns</p>\n",
       "</div>"
      ],
      "text/plain": [
       "          数据时间  商业行业未来最大总有功功率(KM)  商业最小总有功功率(KM)  大工业用电最大总有功功率(KM)  \\\n",
       "0   2021-08-31         910.712896   16279.294536      89581.634610   \n",
       "1   2021-09-01         694.994325   16473.403206      81650.629585   \n",
       "2   2021-09-02         694.994325   16473.403206      81650.629585   \n",
       "3   2021-09-03         694.994325   16473.403206      81650.629585   \n",
       "4   2021-09-04         694.994325   16473.403206      81650.629585   \n",
       "..         ...                ...            ...               ...   \n",
       "87  2021-11-26         694.994325   16473.403206      81650.629585   \n",
       "88  2021-11-27         694.994325   16473.403206      81650.629585   \n",
       "89  2021-11-28         694.994325   16473.403206      81650.629585   \n",
       "90  2021-11-29         694.994325   16473.403206      81650.629585   \n",
       "91  2021-11-30         694.994325   16473.403206      81650.629585   \n",
       "\n",
       "    大工业用电最小总有功功率(KM)  普通工业最大总有功功率(KM)  普通工业最小总有功功率(KM)  非普工业最大总有功功率(KM)  \\\n",
       "0       89581.634610      6278.621354      3057.304132      1695.659592   \n",
       "1       81650.629585      7877.881872      3420.524054      1563.258384   \n",
       "2       81650.629585      7877.881872      3420.524054      1563.258384   \n",
       "3       81650.629585      7877.881872      3420.524054      1563.258384   \n",
       "4       81650.629585      7877.881872      3420.524054      1563.258384   \n",
       "..               ...              ...              ...              ...   \n",
       "87      81650.629585      7877.881872      3420.524054      1563.258384   \n",
       "88      81650.629585      7877.881872      3420.524054      1563.258384   \n",
       "89      81650.629585      7877.881872      3420.524054      1563.258384   \n",
       "90      81650.629585      7877.881872      3420.524054      1563.258384   \n",
       "91      81650.629585      7877.881872      3420.524054      1563.258384   \n",
       "\n",
       "    非普工业最小总有功功率(KM)  \n",
       "0        910.712896  \n",
       "1        694.994325  \n",
       "2        694.994325  \n",
       "3        694.994325  \n",
       "4        694.994325  \n",
       "..              ...  \n",
       "87       694.994325  \n",
       "88       694.994325  \n",
       "89       694.994325  \n",
       "90       694.994325  \n",
       "91       694.994325  \n",
       "\n",
       "[92 rows x 9 columns]"
      ]
     },
     "execution_count": 104,
     "metadata": {},
     "output_type": "execute_result"
    }
   ],
   "source": [
    "y"
   ]
  }
 ],
 "metadata": {
  "kernelspec": {
   "display_name": "Python 3",
   "language": "python",
   "name": "python3"
  },
  "language_info": {
   "codemirror_mode": {
    "name": "ipython",
    "version": 3
   },
   "file_extension": ".py",
   "mimetype": "text/x-python",
   "name": "python",
   "nbconvert_exporter": "python",
   "pygments_lexer": "ipython3",
   "version": "3.8.3"
  },
  "toc": {
   "base_numbering": 1,
   "nav_menu": {},
   "number_sections": true,
   "sideBar": true,
   "skip_h1_title": false,
   "title_cell": "Table of Contents",
   "title_sidebar": "Contents",
   "toc_cell": false,
   "toc_position": {
    "height": "calc(100% - 180px)",
    "left": "10px",
    "top": "150px",
    "width": "384px"
   },
   "toc_section_display": true,
   "toc_window_display": true
  },
  "varInspector": {
   "cols": {
    "lenName": 16,
    "lenType": 16,
    "lenVar": 40
   },
   "kernels_config": {
    "python": {
     "delete_cmd_postfix": "",
     "delete_cmd_prefix": "del ",
     "library": "var_list.py",
     "varRefreshCmd": "print(var_dic_list())"
    },
    "r": {
     "delete_cmd_postfix": ") ",
     "delete_cmd_prefix": "rm(",
     "library": "var_list.r",
     "varRefreshCmd": "cat(var_dic_list()) "
    }
   },
   "types_to_exclude": [
    "module",
    "function",
    "builtin_function_or_method",
    "instance",
    "_Feature"
   ],
   "window_display": false
  }
 },
 "nbformat": 4,
 "nbformat_minor": 5
}
