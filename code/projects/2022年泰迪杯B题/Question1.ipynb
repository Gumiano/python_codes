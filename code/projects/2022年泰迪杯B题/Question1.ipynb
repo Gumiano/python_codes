{
 "cells": [
  {
   "cell_type": "code",
   "execution_count": 2,
   "metadata": {},
   "outputs": [],
   "source": [
    "import pandas as pd\n",
    "import numpy as np\n",
    "import re\n",
    "\n",
    "from sklearn.metrics import r2_score\n",
    "\n",
    "import matplotlib.pyplot as plt\n",
    "import matplotlib.ticker as ticker\n",
    "plt.rcParams['font.sans-serif']=['SimHei'] #用来正常显示中文标签\n",
    "plt.rcParams['axes.unicode_minus']=False #用来正常显示负号"
   ]
  },
  {
   "cell_type": "markdown",
   "metadata": {},
   "source": [
    "## 导入数据"
   ]
  },
  {
   "cell_type": "code",
   "execution_count": 3,
   "metadata": {},
   "outputs": [
    {
     "ename": "FileNotFoundError",
     "evalue": "[Errno 2] No such file or directory: 'C:/Users/Genius/Desktop/泰迪杯/全部数据/附件1-区域15分钟负荷数据.csv'",
     "output_type": "error",
     "traceback": [
      "\u001b[0;31m---------------------------------------------------------------------------\u001b[0m",
      "\u001b[0;31mFileNotFoundError\u001b[0m                         Traceback (most recent call last)",
      "\u001b[0;32m<ipython-input-3-28ac3daa7834>\u001b[0m in \u001b[0;36m<module>\u001b[0;34m()\u001b[0m\n\u001b[0;32m----> 1\u001b[0;31m \u001b[0mdf_area\u001b[0m \u001b[0;34m=\u001b[0m \u001b[0mpd\u001b[0m\u001b[0;34m.\u001b[0m\u001b[0mread_csv\u001b[0m\u001b[0;34m(\u001b[0m\u001b[0;34m\"C:/Users/Genius/Desktop/泰迪杯/全部数据/附件1-区域15分钟负荷数据.csv\"\u001b[0m\u001b[0;34m)\u001b[0m\u001b[0;34m\u001b[0m\u001b[0;34m\u001b[0m\u001b[0m\n\u001b[0m\u001b[1;32m      2\u001b[0m \u001b[0mdf_area\u001b[0m\u001b[0;34m.\u001b[0m\u001b[0mhead\u001b[0m\u001b[0;34m(\u001b[0m\u001b[0;34m)\u001b[0m\u001b[0;34m\u001b[0m\u001b[0;34m\u001b[0m\u001b[0m\n",
      "\u001b[0;32m/home/gumiano/miniconda3/envs/image_env/lib/python3.6/site-packages/pandas/io/parsers.py\u001b[0m in \u001b[0;36mread_csv\u001b[0;34m(filepath_or_buffer, sep, delimiter, header, names, index_col, usecols, squeeze, prefix, mangle_dupe_cols, dtype, engine, converters, true_values, false_values, skipinitialspace, skiprows, skipfooter, nrows, na_values, keep_default_na, na_filter, verbose, skip_blank_lines, parse_dates, infer_datetime_format, keep_date_col, date_parser, dayfirst, cache_dates, iterator, chunksize, compression, thousands, decimal, lineterminator, quotechar, quoting, doublequote, escapechar, comment, encoding, dialect, error_bad_lines, warn_bad_lines, delim_whitespace, low_memory, memory_map, float_precision)\u001b[0m\n\u001b[1;32m    686\u001b[0m     )\n\u001b[1;32m    687\u001b[0m \u001b[0;34m\u001b[0m\u001b[0m\n\u001b[0;32m--> 688\u001b[0;31m     \u001b[0;32mreturn\u001b[0m \u001b[0m_read\u001b[0m\u001b[0;34m(\u001b[0m\u001b[0mfilepath_or_buffer\u001b[0m\u001b[0;34m,\u001b[0m \u001b[0mkwds\u001b[0m\u001b[0;34m)\u001b[0m\u001b[0;34m\u001b[0m\u001b[0;34m\u001b[0m\u001b[0m\n\u001b[0m\u001b[1;32m    689\u001b[0m \u001b[0;34m\u001b[0m\u001b[0m\n\u001b[1;32m    690\u001b[0m \u001b[0;34m\u001b[0m\u001b[0m\n",
      "\u001b[0;32m/home/gumiano/miniconda3/envs/image_env/lib/python3.6/site-packages/pandas/io/parsers.py\u001b[0m in \u001b[0;36m_read\u001b[0;34m(filepath_or_buffer, kwds)\u001b[0m\n\u001b[1;32m    452\u001b[0m \u001b[0;34m\u001b[0m\u001b[0m\n\u001b[1;32m    453\u001b[0m     \u001b[0;31m# Create the parser.\u001b[0m\u001b[0;34m\u001b[0m\u001b[0;34m\u001b[0m\u001b[0;34m\u001b[0m\u001b[0m\n\u001b[0;32m--> 454\u001b[0;31m     \u001b[0mparser\u001b[0m \u001b[0;34m=\u001b[0m \u001b[0mTextFileReader\u001b[0m\u001b[0;34m(\u001b[0m\u001b[0mfp_or_buf\u001b[0m\u001b[0;34m,\u001b[0m \u001b[0;34m**\u001b[0m\u001b[0mkwds\u001b[0m\u001b[0;34m)\u001b[0m\u001b[0;34m\u001b[0m\u001b[0;34m\u001b[0m\u001b[0m\n\u001b[0m\u001b[1;32m    455\u001b[0m \u001b[0;34m\u001b[0m\u001b[0m\n\u001b[1;32m    456\u001b[0m     \u001b[0;32mif\u001b[0m \u001b[0mchunksize\u001b[0m \u001b[0;32mor\u001b[0m \u001b[0miterator\u001b[0m\u001b[0;34m:\u001b[0m\u001b[0;34m\u001b[0m\u001b[0;34m\u001b[0m\u001b[0m\n",
      "\u001b[0;32m/home/gumiano/miniconda3/envs/image_env/lib/python3.6/site-packages/pandas/io/parsers.py\u001b[0m in \u001b[0;36m__init__\u001b[0;34m(self, f, engine, **kwds)\u001b[0m\n\u001b[1;32m    946\u001b[0m             \u001b[0mself\u001b[0m\u001b[0;34m.\u001b[0m\u001b[0moptions\u001b[0m\u001b[0;34m[\u001b[0m\u001b[0;34m\"has_index_names\"\u001b[0m\u001b[0;34m]\u001b[0m \u001b[0;34m=\u001b[0m \u001b[0mkwds\u001b[0m\u001b[0;34m[\u001b[0m\u001b[0;34m\"has_index_names\"\u001b[0m\u001b[0;34m]\u001b[0m\u001b[0;34m\u001b[0m\u001b[0;34m\u001b[0m\u001b[0m\n\u001b[1;32m    947\u001b[0m \u001b[0;34m\u001b[0m\u001b[0m\n\u001b[0;32m--> 948\u001b[0;31m         \u001b[0mself\u001b[0m\u001b[0;34m.\u001b[0m\u001b[0m_make_engine\u001b[0m\u001b[0;34m(\u001b[0m\u001b[0mself\u001b[0m\u001b[0;34m.\u001b[0m\u001b[0mengine\u001b[0m\u001b[0;34m)\u001b[0m\u001b[0;34m\u001b[0m\u001b[0;34m\u001b[0m\u001b[0m\n\u001b[0m\u001b[1;32m    949\u001b[0m \u001b[0;34m\u001b[0m\u001b[0m\n\u001b[1;32m    950\u001b[0m     \u001b[0;32mdef\u001b[0m \u001b[0mclose\u001b[0m\u001b[0;34m(\u001b[0m\u001b[0mself\u001b[0m\u001b[0;34m)\u001b[0m\u001b[0;34m:\u001b[0m\u001b[0;34m\u001b[0m\u001b[0;34m\u001b[0m\u001b[0m\n",
      "\u001b[0;32m/home/gumiano/miniconda3/envs/image_env/lib/python3.6/site-packages/pandas/io/parsers.py\u001b[0m in \u001b[0;36m_make_engine\u001b[0;34m(self, engine)\u001b[0m\n\u001b[1;32m   1178\u001b[0m     \u001b[0;32mdef\u001b[0m \u001b[0m_make_engine\u001b[0m\u001b[0;34m(\u001b[0m\u001b[0mself\u001b[0m\u001b[0;34m,\u001b[0m \u001b[0mengine\u001b[0m\u001b[0;34m=\u001b[0m\u001b[0;34m\"c\"\u001b[0m\u001b[0;34m)\u001b[0m\u001b[0;34m:\u001b[0m\u001b[0;34m\u001b[0m\u001b[0;34m\u001b[0m\u001b[0m\n\u001b[1;32m   1179\u001b[0m         \u001b[0;32mif\u001b[0m \u001b[0mengine\u001b[0m \u001b[0;34m==\u001b[0m \u001b[0;34m\"c\"\u001b[0m\u001b[0;34m:\u001b[0m\u001b[0;34m\u001b[0m\u001b[0;34m\u001b[0m\u001b[0m\n\u001b[0;32m-> 1180\u001b[0;31m             \u001b[0mself\u001b[0m\u001b[0;34m.\u001b[0m\u001b[0m_engine\u001b[0m \u001b[0;34m=\u001b[0m \u001b[0mCParserWrapper\u001b[0m\u001b[0;34m(\u001b[0m\u001b[0mself\u001b[0m\u001b[0;34m.\u001b[0m\u001b[0mf\u001b[0m\u001b[0;34m,\u001b[0m \u001b[0;34m**\u001b[0m\u001b[0mself\u001b[0m\u001b[0;34m.\u001b[0m\u001b[0moptions\u001b[0m\u001b[0;34m)\u001b[0m\u001b[0;34m\u001b[0m\u001b[0;34m\u001b[0m\u001b[0m\n\u001b[0m\u001b[1;32m   1181\u001b[0m         \u001b[0;32melse\u001b[0m\u001b[0;34m:\u001b[0m\u001b[0;34m\u001b[0m\u001b[0;34m\u001b[0m\u001b[0m\n\u001b[1;32m   1182\u001b[0m             \u001b[0;32mif\u001b[0m \u001b[0mengine\u001b[0m \u001b[0;34m==\u001b[0m \u001b[0;34m\"python\"\u001b[0m\u001b[0;34m:\u001b[0m\u001b[0;34m\u001b[0m\u001b[0;34m\u001b[0m\u001b[0m\n",
      "\u001b[0;32m/home/gumiano/miniconda3/envs/image_env/lib/python3.6/site-packages/pandas/io/parsers.py\u001b[0m in \u001b[0;36m__init__\u001b[0;34m(self, src, **kwds)\u001b[0m\n\u001b[1;32m   2008\u001b[0m         \u001b[0mkwds\u001b[0m\u001b[0;34m[\u001b[0m\u001b[0;34m\"usecols\"\u001b[0m\u001b[0;34m]\u001b[0m \u001b[0;34m=\u001b[0m \u001b[0mself\u001b[0m\u001b[0;34m.\u001b[0m\u001b[0musecols\u001b[0m\u001b[0;34m\u001b[0m\u001b[0;34m\u001b[0m\u001b[0m\n\u001b[1;32m   2009\u001b[0m \u001b[0;34m\u001b[0m\u001b[0m\n\u001b[0;32m-> 2010\u001b[0;31m         \u001b[0mself\u001b[0m\u001b[0;34m.\u001b[0m\u001b[0m_reader\u001b[0m \u001b[0;34m=\u001b[0m \u001b[0mparsers\u001b[0m\u001b[0;34m.\u001b[0m\u001b[0mTextReader\u001b[0m\u001b[0;34m(\u001b[0m\u001b[0msrc\u001b[0m\u001b[0;34m,\u001b[0m \u001b[0;34m**\u001b[0m\u001b[0mkwds\u001b[0m\u001b[0;34m)\u001b[0m\u001b[0;34m\u001b[0m\u001b[0;34m\u001b[0m\u001b[0m\n\u001b[0m\u001b[1;32m   2011\u001b[0m         \u001b[0mself\u001b[0m\u001b[0;34m.\u001b[0m\u001b[0munnamed_cols\u001b[0m \u001b[0;34m=\u001b[0m \u001b[0mself\u001b[0m\u001b[0;34m.\u001b[0m\u001b[0m_reader\u001b[0m\u001b[0;34m.\u001b[0m\u001b[0munnamed_cols\u001b[0m\u001b[0;34m\u001b[0m\u001b[0;34m\u001b[0m\u001b[0m\n\u001b[1;32m   2012\u001b[0m \u001b[0;34m\u001b[0m\u001b[0m\n",
      "\u001b[0;32mpandas/_libs/parsers.pyx\u001b[0m in \u001b[0;36mpandas._libs.parsers.TextReader.__cinit__\u001b[0;34m()\u001b[0m\n",
      "\u001b[0;32mpandas/_libs/parsers.pyx\u001b[0m in \u001b[0;36mpandas._libs.parsers.TextReader._setup_parser_source\u001b[0;34m()\u001b[0m\n",
      "\u001b[0;31mFileNotFoundError\u001b[0m: [Errno 2] No such file or directory: 'C:/Users/Genius/Desktop/泰迪杯/全部数据/附件1-区域15分钟负荷数据.csv'"
     ]
    }
   ],
   "source": [
    "df_area = pd.read_csv(\"C:/Users/Genius/Desktop/泰迪杯/全部数据/附件1-区域15分钟负荷数据.csv\")\n",
    "df_area.head()"
   ]
  },
  {
   "cell_type": "code",
   "execution_count": null,
   "metadata": {},
   "outputs": [
    {
     "data": {
      "text/html": [
       "<div>\n",
       "<style scoped>\n",
       "    .dataframe tbody tr th:only-of-type {\n",
       "        vertical-align: middle;\n",
       "    }\n",
       "\n",
       "    .dataframe tbody tr th {\n",
       "        vertical-align: top;\n",
       "    }\n",
       "\n",
       "    .dataframe thead th {\n",
       "        text-align: right;\n",
       "    }\n",
       "</style>\n",
       "<table border=\"1\" class=\"dataframe\">\n",
       "  <thead>\n",
       "    <tr style=\"text-align: right;\">\n",
       "      <th></th>\n",
       "      <th>行业类型</th>\n",
       "      <th>数据时间</th>\n",
       "      <th>有功功率最大值（kw）</th>\n",
       "      <th>有功功率最小值（kw）</th>\n",
       "    </tr>\n",
       "  </thead>\n",
       "  <tbody>\n",
       "    <tr>\n",
       "      <th>0</th>\n",
       "      <td>大工业用电</td>\n",
       "      <td>2019/1/1</td>\n",
       "      <td>117888.3300</td>\n",
       "      <td>51526.5690</td>\n",
       "    </tr>\n",
       "    <tr>\n",
       "      <th>1</th>\n",
       "      <td>大工业用电</td>\n",
       "      <td>2019/1/2</td>\n",
       "      <td>126843.7914</td>\n",
       "      <td>63638.4294</td>\n",
       "    </tr>\n",
       "    <tr>\n",
       "      <th>2</th>\n",
       "      <td>大工业用电</td>\n",
       "      <td>2019/1/3</td>\n",
       "      <td>130286.1294</td>\n",
       "      <td>102048.2754</td>\n",
       "    </tr>\n",
       "    <tr>\n",
       "      <th>3</th>\n",
       "      <td>大工业用电</td>\n",
       "      <td>2019/1/4</td>\n",
       "      <td>133018.6344</td>\n",
       "      <td>104466.0762</td>\n",
       "    </tr>\n",
       "    <tr>\n",
       "      <th>4</th>\n",
       "      <td>大工业用电</td>\n",
       "      <td>2019/1/5</td>\n",
       "      <td>133504.4784</td>\n",
       "      <td>99507.3528</td>\n",
       "    </tr>\n",
       "  </tbody>\n",
       "</table>\n",
       "</div>"
      ],
      "text/plain": [
       "    行业类型      数据时间  有功功率最大值（kw）  有功功率最小值（kw）\n",
       "0  大工业用电  2019/1/1  117888.3300   51526.5690\n",
       "1  大工业用电  2019/1/2  126843.7914   63638.4294\n",
       "2  大工业用电  2019/1/3  130286.1294  102048.2754\n",
       "3  大工业用电  2019/1/4  133018.6344  104466.0762\n",
       "4  大工业用电  2019/1/5  133504.4784   99507.3528"
      ]
     },
     "execution_count": 3,
     "metadata": {},
     "output_type": "execute_result"
    }
   ],
   "source": [
    "df_job = pd.read_csv(\"C:/Users/Genius/Desktop/泰迪杯/全部数据/附件2-行业日负荷数据.csv\")\n",
    "df_job.head()"
   ]
  },
  {
   "cell_type": "code",
   "execution_count": null,
   "metadata": {},
   "outputs": [
    {
     "data": {
      "text/html": [
       "<div>\n",
       "<style scoped>\n",
       "    .dataframe tbody tr th:only-of-type {\n",
       "        vertical-align: middle;\n",
       "    }\n",
       "\n",
       "    .dataframe tbody tr th {\n",
       "        vertical-align: top;\n",
       "    }\n",
       "\n",
       "    .dataframe thead th {\n",
       "        text-align: right;\n",
       "    }\n",
       "</style>\n",
       "<table border=\"1\" class=\"dataframe\">\n",
       "  <thead>\n",
       "    <tr style=\"text-align: right;\">\n",
       "      <th></th>\n",
       "      <th>日期</th>\n",
       "      <th>天气状况</th>\n",
       "      <th>最高温度</th>\n",
       "      <th>最低温度</th>\n",
       "      <th>白天风力风向</th>\n",
       "      <th>夜晚风力风向</th>\n",
       "    </tr>\n",
       "  </thead>\n",
       "  <tbody>\n",
       "    <tr>\n",
       "      <th>0</th>\n",
       "      <td>2018年1月1日</td>\n",
       "      <td>多云/多云</td>\n",
       "      <td>22℃</td>\n",
       "      <td>12℃</td>\n",
       "      <td>无持续风向&lt;3级</td>\n",
       "      <td>无持续风向&lt;3级</td>\n",
       "    </tr>\n",
       "    <tr>\n",
       "      <th>1</th>\n",
       "      <td>2018年1月1日</td>\n",
       "      <td>多云/多云</td>\n",
       "      <td>22℃</td>\n",
       "      <td>12℃</td>\n",
       "      <td>无持续风向&lt;3级</td>\n",
       "      <td>无持续风向&lt;3级</td>\n",
       "    </tr>\n",
       "    <tr>\n",
       "      <th>2</th>\n",
       "      <td>2018年1月2日</td>\n",
       "      <td>多云/多云</td>\n",
       "      <td>22℃</td>\n",
       "      <td>15℃</td>\n",
       "      <td>无持续风向&lt;3级</td>\n",
       "      <td>无持续风向&lt;3级</td>\n",
       "    </tr>\n",
       "    <tr>\n",
       "      <th>3</th>\n",
       "      <td>2018年1月3日</td>\n",
       "      <td>多云/阴</td>\n",
       "      <td>23℃</td>\n",
       "      <td>15℃</td>\n",
       "      <td>无持续风向&lt;3级</td>\n",
       "      <td>无持续风向&lt;3级</td>\n",
       "    </tr>\n",
       "    <tr>\n",
       "      <th>4</th>\n",
       "      <td>2018年1月4日</td>\n",
       "      <td>多云/小雨</td>\n",
       "      <td>21℃</td>\n",
       "      <td>16℃</td>\n",
       "      <td>无持续风向&lt;3级</td>\n",
       "      <td>无持续风向&lt;3级</td>\n",
       "    </tr>\n",
       "  </tbody>\n",
       "</table>\n",
       "</div>"
      ],
      "text/plain": [
       "          日期   天气状况 最高温度 最低温度    白天风力风向    夜晚风力风向\n",
       "0  2018年1月1日  多云/多云  22℃  12℃  无持续风向<3级  无持续风向<3级\n",
       "1  2018年1月1日  多云/多云  22℃  12℃  无持续风向<3级  无持续风向<3级\n",
       "2  2018年1月2日  多云/多云  22℃  15℃  无持续风向<3级  无持续风向<3级\n",
       "3  2018年1月3日   多云/阴  23℃  15℃  无持续风向<3级  无持续风向<3级\n",
       "4  2018年1月4日  多云/小雨  21℃  16℃  无持续风向<3级  无持续风向<3级"
      ]
     },
     "execution_count": 4,
     "metadata": {},
     "output_type": "execute_result"
    }
   ],
   "source": [
    "df_weather = pd.read_csv(\"C:/Users/Genius/Desktop/泰迪杯/全部数据/附件3-气象数据.csv\")\n",
    "df_weather.head()"
   ]
  },
  {
   "cell_type": "markdown",
   "metadata": {},
   "source": [
    "## 观测数据"
   ]
  },
  {
   "cell_type": "markdown",
   "metadata": {},
   "source": [
    "### 查看缺失值"
   ]
  },
  {
   "cell_type": "code",
   "execution_count": null,
   "metadata": {},
   "outputs": [
    {
     "data": {
      "text/plain": [
       "数据时间         False\n",
       "总有功功率（kw）    False\n",
       "dtype: bool"
      ]
     },
     "execution_count": 5,
     "metadata": {},
     "output_type": "execute_result"
    }
   ],
   "source": [
    "df_area.isnull().any()"
   ]
  },
  {
   "cell_type": "code",
   "execution_count": null,
   "metadata": {},
   "outputs": [
    {
     "data": {
      "text/plain": [
       "(128156, 2)"
      ]
     },
     "execution_count": 6,
     "metadata": {},
     "output_type": "execute_result"
    }
   ],
   "source": [
    "df_area.shape"
   ]
  },
  {
   "cell_type": "code",
   "execution_count": null,
   "metadata": {},
   "outputs": [
    {
     "data": {
      "text/plain": [
       "行业类型           False\n",
       "数据时间           False\n",
       "有功功率最大值（kw）    False\n",
       "有功功率最小值（kw）    False\n",
       "dtype: bool"
      ]
     },
     "execution_count": 7,
     "metadata": {},
     "output_type": "execute_result"
    }
   ],
   "source": [
    "df_job.isnull().any()"
   ]
  },
  {
   "cell_type": "code",
   "execution_count": null,
   "metadata": {},
   "outputs": [
    {
     "data": {
      "text/plain": [
       "(3610, 4)"
      ]
     },
     "execution_count": 8,
     "metadata": {},
     "output_type": "execute_result"
    }
   ],
   "source": [
    "df_job.shape"
   ]
  },
  {
   "cell_type": "code",
   "execution_count": null,
   "metadata": {},
   "outputs": [
    {
     "data": {
      "text/plain": [
       "日期        False\n",
       "天气状况      False\n",
       "最高温度      False\n",
       "最低温度      False\n",
       "白天风力风向    False\n",
       "夜晚风力风向    False\n",
       "dtype: bool"
      ]
     },
     "execution_count": 9,
     "metadata": {},
     "output_type": "execute_result"
    }
   ],
   "source": [
    "df_weather.isnull().any()"
   ]
  },
  {
   "cell_type": "code",
   "execution_count": null,
   "metadata": {},
   "outputs": [
    {
     "data": {
      "text/plain": [
       "(1345, 6)"
      ]
     },
     "execution_count": 10,
     "metadata": {},
     "output_type": "execute_result"
    }
   ],
   "source": [
    "df_weather.shape"
   ]
  },
  {
   "cell_type": "markdown",
   "metadata": {},
   "source": [
    "## 数据预处理"
   ]
  },
  {
   "cell_type": "markdown",
   "metadata": {},
   "source": [
    "### 区域15分钟符合数据"
   ]
  },
  {
   "cell_type": "code",
   "execution_count": null,
   "metadata": {},
   "outputs": [
    {
     "data": {
      "text/html": [
       "<div>\n",
       "<style scoped>\n",
       "    .dataframe tbody tr th:only-of-type {\n",
       "        vertical-align: middle;\n",
       "    }\n",
       "\n",
       "    .dataframe tbody tr th {\n",
       "        vertical-align: top;\n",
       "    }\n",
       "\n",
       "    .dataframe thead th {\n",
       "        text-align: right;\n",
       "    }\n",
       "</style>\n",
       "<table border=\"1\" class=\"dataframe\">\n",
       "  <thead>\n",
       "    <tr style=\"text-align: right;\">\n",
       "      <th></th>\n",
       "      <th>总有功功率（kw）</th>\n",
       "    </tr>\n",
       "    <tr>\n",
       "      <th>数据时间</th>\n",
       "      <th></th>\n",
       "    </tr>\n",
       "  </thead>\n",
       "  <tbody>\n",
       "    <tr>\n",
       "      <th>2018-01-01 00:00:00</th>\n",
       "      <td>244033.7682</td>\n",
       "    </tr>\n",
       "    <tr>\n",
       "      <th>2018-01-01 00:15:00</th>\n",
       "      <td>232720.6402</td>\n",
       "    </tr>\n",
       "    <tr>\n",
       "      <th>2018-01-01 00:30:00</th>\n",
       "      <td>231685.6891</td>\n",
       "    </tr>\n",
       "    <tr>\n",
       "      <th>2018-01-01 00:45:00</th>\n",
       "      <td>227581.3317</td>\n",
       "    </tr>\n",
       "    <tr>\n",
       "      <th>2018-01-01 01:00:00</th>\n",
       "      <td>233482.4269</td>\n",
       "    </tr>\n",
       "  </tbody>\n",
       "</table>\n",
       "</div>"
      ],
      "text/plain": [
       "                       总有功功率（kw）\n",
       "数据时间                            \n",
       "2018-01-01 00:00:00  244033.7682\n",
       "2018-01-01 00:15:00  232720.6402\n",
       "2018-01-01 00:30:00  231685.6891\n",
       "2018-01-01 00:45:00  227581.3317\n",
       "2018-01-01 01:00:00  233482.4269"
      ]
     },
     "execution_count": 11,
     "metadata": {},
     "output_type": "execute_result"
    }
   ],
   "source": [
    "df_area['数据时间'] = pd.to_datetime(df_area['数据时间'], format=\"%Y-%m-%d %H:%M:%S\")\n",
    "df_area.index = df_area.数据时间\n",
    "df_area.drop(columns=['数据时间'], axis=1, inplace=True)\n",
    "df_area.head()"
   ]
  },
  {
   "cell_type": "code",
   "execution_count": null,
   "metadata": {},
   "outputs": [],
   "source": [
    "val_area = df_area.values"
   ]
  },
  {
   "cell_type": "markdown",
   "metadata": {},
   "source": [
    "### 气象数据"
   ]
  },
  {
   "cell_type": "code",
   "execution_count": null,
   "metadata": {},
   "outputs": [],
   "source": [
    "# 更改日期显示格式\n",
    "date = pd.to_datetime(df_weather.loc[:, '日期'], format='%Y年%m月%d日', errors='coerce').apply(lambda x:x.date())\n",
    "df_weather['日期'] =date"
   ]
  },
  {
   "cell_type": "code",
   "execution_count": null,
   "metadata": {},
   "outputs": [],
   "source": [
    "df_weather['日'] = date.apply(lambda x:x.day)\n",
    "df_weather['月'] = date.apply(lambda x:x.month)\n",
    "df_weather['年'] = date.apply(lambda x:x.year)"
   ]
  },
  {
   "cell_type": "code",
   "execution_count": null,
   "metadata": {},
   "outputs": [],
   "source": [
    "# df_weather"
   ]
  },
  {
   "cell_type": "code",
   "execution_count": null,
   "metadata": {},
   "outputs": [
    {
     "data": {
      "text/plain": [
       "0         多云/多云\n",
       "1         多云/多云\n",
       "2         多云/多云\n",
       "3          多云/阴\n",
       "4         多云/小雨\n",
       "         ...   \n",
       "1340    雷阵雨/雷阵雨\n",
       "1341     雷阵雨/多云\n",
       "1342    雷阵雨/雷阵雨\n",
       "1343      阵雨/阵雨\n",
       "1344     雷阵雨/阵雨\n",
       "Name: 天气状况, Length: 1345, dtype: object"
      ]
     },
     "execution_count": 17,
     "metadata": {},
     "output_type": "execute_result"
    }
   ],
   "source": [
    "climate = df_weather[\"天气状况\"]\n",
    "climate\n",
    "# 白天天气/夜晚天气"
   ]
  },
  {
   "cell_type": "code",
   "execution_count": null,
   "metadata": {},
   "outputs": [],
   "source": [
    "climate_day = climate.apply(lambda x:x.split(\"/\")[0])\n",
    "climate_night = climate.apply(lambda x:x.split(\"/\")[1])"
   ]
  },
  {
   "cell_type": "code",
   "execution_count": null,
   "metadata": {},
   "outputs": [
    {
     "data": {
      "text/plain": [
       "array(['多云', '阴', '小雨-中雨', '大雨', '中雨', '小雨', '晴', '雷阵雨', '雾', '阵雨',\n",
       "       '中雨-大雨', '晴间多云', '暴雨', '小到中雨', '中到大雨', '大到暴雨'], dtype=object)"
      ]
     },
     "execution_count": 19,
     "metadata": {},
     "output_type": "execute_result"
    }
   ],
   "source": [
    "climate_day.unique()"
   ]
  },
  {
   "cell_type": "code",
   "execution_count": null,
   "metadata": {},
   "outputs": [
    {
     "data": {
      "text/plain": [
       "array(['多云', '阴', '小雨', '中雨-大雨', '中雨', '小雨-中雨', '晴', '局部多云', '阵雨', '雾',\n",
       "       '雷阵雨', '大雨', '暴雨', '中到大雨', '小到中雨', '大到暴雨'], dtype=object)"
      ]
     },
     "execution_count": 20,
     "metadata": {},
     "output_type": "execute_result"
    }
   ],
   "source": [
    "climate_night.unique()"
   ]
  },
  {
   "cell_type": "code",
   "execution_count": null,
   "metadata": {},
   "outputs": [],
   "source": [
    "climate_dic = { '晴':0,'晴间多云':0.5,'多云':1, '局部多云':1.5,'阴':2, '雾':2.5,\n",
    "       '小雨':3, '小雨-中雨':3.5,'小到中雨':4,'中雨':4.5,'阵雨':5,'中雨-大雨':5.5,\n",
    "       '中到大雨':6, '雷阵雨':6.5, '大雨':7, '大到暴雨':7.5, '暴雨':8, }"
   ]
  },
  {
   "cell_type": "code",
   "execution_count": null,
   "metadata": {},
   "outputs": [],
   "source": [
    "climate_day = climate_day.map(climate_dic)\n",
    "climate_night = climate_night.map(climate_dic)"
   ]
  },
  {
   "cell_type": "code",
   "execution_count": null,
   "metadata": {},
   "outputs": [],
   "source": [
    "df_weather[\"最高温度\"] = df_weather[\"最高温度\"].apply(lambda x:x.replace(\"℃\",'')).astype(int)\n",
    "df_weather[\"最低温度\"] = df_weather[\"最低温度\"].apply(lambda x:x.replace(\"℃\",'')).astype(int)"
   ]
  },
  {
   "cell_type": "code",
   "execution_count": null,
   "metadata": {},
   "outputs": [],
   "source": [
    "df_weather[\"白天天气\"] = climate_day \n",
    "df_weather[\"夜晚天气\"] = climate_night"
   ]
  },
  {
   "cell_type": "code",
   "execution_count": null,
   "metadata": {},
   "outputs": [],
   "source": [
    "# df_weather.head()"
   ]
  },
  {
   "cell_type": "code",
   "execution_count": null,
   "metadata": {},
   "outputs": [
    {
     "data": {
      "text/plain": [
       "array(['无持续风向<3级', '北风4～5级', '微风<3级', '北风3', '东北风3～4级', '北风3～4级',\n",
       "       '南风3～4级', '南风4～5级', '东北偏东风2', '无持续风向微风', '无持续风向1～2级', '东风3～4级',\n",
       "       '东南风4～5级', '东风8～9级', '东南风3～4级', '南风1～2级', '东南风1～2级', '西南风3～4级',\n",
       "       '东风1～2级', '北风1～2级', '东北风1～2级', '西南风1～2级'], dtype=object)"
      ]
     },
     "execution_count": 26,
     "metadata": {},
     "output_type": "execute_result"
    }
   ],
   "source": [
    "df_weather['白天风力风向'].apply(lambda x:x.replace(\"-\",\"～\")).unique()"
   ]
  },
  {
   "cell_type": "code",
   "execution_count": null,
   "metadata": {},
   "outputs": [
    {
     "data": {
      "text/plain": [
       "array(['无持续风向<3级', '北风4-5级', '北风3-4级', '微风<3级', '北风3', '东北偏东风2',\n",
       "       '无持续风向微风', '无持续风向1-2级', '东风3-4级', '东南风4-5级', '东南风3-4级', '东北风3-4级',\n",
       "       '东风8-9级', '南风3-4级', '南风1-2级', '东南风1-2级', '西南风3-4级', '东风1-2级',\n",
       "       '北风1-2级', '东北风1-2级', '西南风1-2级'], dtype=object)"
      ]
     },
     "execution_count": 27,
     "metadata": {},
     "output_type": "execute_result"
    }
   ],
   "source": [
    "df_weather['夜晚风力风向'].apply(lambda x:x.replace(\"～\",\"-\")).unique()"
   ]
  },
  {
   "cell_type": "code",
   "execution_count": null,
   "metadata": {},
   "outputs": [],
   "source": [
    "def direct(x):\n",
    "    dirct = re.match('.*([\"东\",\"南\",\"西\",\"北\",\"东南\",\"东北\",\"西南\",\"西北\"])',x)\n",
    "    if(dirct):\n",
    "        return 2\n",
    "    else :\n",
    "        return 1"
   ]
  },
  {
   "cell_type": "code",
   "execution_count": null,
   "metadata": {},
   "outputs": [
    {
     "data": {
      "text/plain": [
       "0       1\n",
       "1       1\n",
       "2       1\n",
       "3       1\n",
       "4       1\n",
       "       ..\n",
       "1340    2\n",
       "1341    2\n",
       "1342    2\n",
       "1343    2\n",
       "1344    2\n",
       "Name: 夜晚风力风向, Length: 1345, dtype: int64"
      ]
     },
     "execution_count": 29,
     "metadata": {},
     "output_type": "execute_result"
    }
   ],
   "source": [
    "df_weather['夜晚风力风向'].apply(lambda x:direct(x))"
   ]
  },
  {
   "cell_type": "code",
   "execution_count": null,
   "metadata": {},
   "outputs": [],
   "source": [
    "WindPower_dic = {\"1-2级\":1.5,'2':2,\"3\":3,\"风\":1,\"3级\":3,\"3-4级\":3.5,\"3～4级\":3.5,\"4-5级\":4.5,\"8-9级\":8.5} "
   ]
  },
  {
   "cell_type": "code",
   "execution_count": null,
   "metadata": {},
   "outputs": [
    {
     "data": {
      "text/plain": [
       "0       3.0\n",
       "1       3.0\n",
       "2       3.0\n",
       "3       3.0\n",
       "4       3.0\n",
       "       ... \n",
       "1340    1.5\n",
       "1341    1.5\n",
       "1342    1.5\n",
       "1343    1.5\n",
       "1344    1.5\n",
       "Name: 夜晚风力风向, Length: 1345, dtype: float64"
      ]
     },
     "execution_count": 31,
     "metadata": {},
     "output_type": "execute_result"
    }
   ],
   "source": [
    "df_weather['夜晚风力风向'].apply(lambda x:re.match(\"\\D*(.+)级{0,}\",x).group(1)).map(WindPower_dic)"
   ]
  },
  {
   "cell_type": "code",
   "execution_count": null,
   "metadata": {},
   "outputs": [],
   "source": [
    "direction = df_weather['夜晚风力风向'].apply(lambda x:direct(x)) + df_weather['白天风力风向'].apply(lambda x:direct(x))\n",
    "df_weather['风向'] = direction"
   ]
  },
  {
   "cell_type": "code",
   "execution_count": null,
   "metadata": {},
   "outputs": [],
   "source": [
    "df_weather['风力'] = df_weather['白天风力风向'].apply(lambda x:re.match(\"\\D*(.+)级{0,}\",x).group(1)).map(WindPower_dic) + \\\n",
    "  df_weather['夜晚风力风向'].apply(lambda x:re.match(\"\\D*(.+)级{0,}\",x).group(1)).map(WindPower_dic)"
   ]
  },
  {
   "cell_type": "code",
   "execution_count": null,
   "metadata": {},
   "outputs": [],
   "source": [
    "strength = df_weather['白天风力风向'].apply(lambda x:re.match(\"\\D*(.+)级{0,}\",x).group(1)).map(WindPower_dic) + \\\n",
    "  df_weather['夜晚风力风向'].apply(lambda x:re.match(\"\\D*(.+)级{0,}\",x).group(1)).map(WindPower_dic)"
   ]
  },
  {
   "cell_type": "code",
   "execution_count": null,
   "metadata": {},
   "outputs": [],
   "source": [
    "wind = direction * strength"
   ]
  },
  {
   "cell_type": "code",
   "execution_count": null,
   "metadata": {},
   "outputs": [
    {
     "data": {
      "text/html": [
       "<div>\n",
       "<style scoped>\n",
       "    .dataframe tbody tr th:only-of-type {\n",
       "        vertical-align: middle;\n",
       "    }\n",
       "\n",
       "    .dataframe tbody tr th {\n",
       "        vertical-align: top;\n",
       "    }\n",
       "\n",
       "    .dataframe thead th {\n",
       "        text-align: right;\n",
       "    }\n",
       "</style>\n",
       "<table border=\"1\" class=\"dataframe\">\n",
       "  <thead>\n",
       "    <tr style=\"text-align: right;\">\n",
       "      <th></th>\n",
       "      <th>日期</th>\n",
       "      <th>天气状况</th>\n",
       "      <th>最高温度</th>\n",
       "      <th>最低温度</th>\n",
       "      <th>白天风力风向</th>\n",
       "      <th>夜晚风力风向</th>\n",
       "      <th>日</th>\n",
       "      <th>月</th>\n",
       "      <th>年</th>\n",
       "      <th>白天天气</th>\n",
       "      <th>夜晚天气</th>\n",
       "      <th>风向</th>\n",
       "      <th>风力</th>\n",
       "    </tr>\n",
       "  </thead>\n",
       "  <tbody>\n",
       "    <tr>\n",
       "      <th>0</th>\n",
       "      <td>2018-01-01</td>\n",
       "      <td>多云/多云</td>\n",
       "      <td>22</td>\n",
       "      <td>12</td>\n",
       "      <td>无持续风向&lt;3级</td>\n",
       "      <td>无持续风向&lt;3级</td>\n",
       "      <td>1</td>\n",
       "      <td>1</td>\n",
       "      <td>2018</td>\n",
       "      <td>1.0</td>\n",
       "      <td>1.0</td>\n",
       "      <td>2</td>\n",
       "      <td>6.0</td>\n",
       "    </tr>\n",
       "    <tr>\n",
       "      <th>1</th>\n",
       "      <td>2018-01-01</td>\n",
       "      <td>多云/多云</td>\n",
       "      <td>22</td>\n",
       "      <td>12</td>\n",
       "      <td>无持续风向&lt;3级</td>\n",
       "      <td>无持续风向&lt;3级</td>\n",
       "      <td>1</td>\n",
       "      <td>1</td>\n",
       "      <td>2018</td>\n",
       "      <td>1.0</td>\n",
       "      <td>1.0</td>\n",
       "      <td>2</td>\n",
       "      <td>6.0</td>\n",
       "    </tr>\n",
       "    <tr>\n",
       "      <th>2</th>\n",
       "      <td>2018-01-02</td>\n",
       "      <td>多云/多云</td>\n",
       "      <td>22</td>\n",
       "      <td>15</td>\n",
       "      <td>无持续风向&lt;3级</td>\n",
       "      <td>无持续风向&lt;3级</td>\n",
       "      <td>2</td>\n",
       "      <td>1</td>\n",
       "      <td>2018</td>\n",
       "      <td>1.0</td>\n",
       "      <td>1.0</td>\n",
       "      <td>2</td>\n",
       "      <td>6.0</td>\n",
       "    </tr>\n",
       "    <tr>\n",
       "      <th>3</th>\n",
       "      <td>2018-01-03</td>\n",
       "      <td>多云/阴</td>\n",
       "      <td>23</td>\n",
       "      <td>15</td>\n",
       "      <td>无持续风向&lt;3级</td>\n",
       "      <td>无持续风向&lt;3级</td>\n",
       "      <td>3</td>\n",
       "      <td>1</td>\n",
       "      <td>2018</td>\n",
       "      <td>1.0</td>\n",
       "      <td>2.0</td>\n",
       "      <td>2</td>\n",
       "      <td>6.0</td>\n",
       "    </tr>\n",
       "    <tr>\n",
       "      <th>4</th>\n",
       "      <td>2018-01-04</td>\n",
       "      <td>多云/小雨</td>\n",
       "      <td>21</td>\n",
       "      <td>16</td>\n",
       "      <td>无持续风向&lt;3级</td>\n",
       "      <td>无持续风向&lt;3级</td>\n",
       "      <td>4</td>\n",
       "      <td>1</td>\n",
       "      <td>2018</td>\n",
       "      <td>1.0</td>\n",
       "      <td>3.0</td>\n",
       "      <td>2</td>\n",
       "      <td>6.0</td>\n",
       "    </tr>\n",
       "    <tr>\n",
       "      <th>...</th>\n",
       "      <td>...</td>\n",
       "      <td>...</td>\n",
       "      <td>...</td>\n",
       "      <td>...</td>\n",
       "      <td>...</td>\n",
       "      <td>...</td>\n",
       "      <td>...</td>\n",
       "      <td>...</td>\n",
       "      <td>...</td>\n",
       "      <td>...</td>\n",
       "      <td>...</td>\n",
       "      <td>...</td>\n",
       "      <td>...</td>\n",
       "    </tr>\n",
       "    <tr>\n",
       "      <th>1340</th>\n",
       "      <td>2021-08-27</td>\n",
       "      <td>雷阵雨/雷阵雨</td>\n",
       "      <td>35</td>\n",
       "      <td>26</td>\n",
       "      <td>北风1-2级</td>\n",
       "      <td>北风1-2级</td>\n",
       "      <td>27</td>\n",
       "      <td>8</td>\n",
       "      <td>2021</td>\n",
       "      <td>6.5</td>\n",
       "      <td>6.5</td>\n",
       "      <td>4</td>\n",
       "      <td>3.0</td>\n",
       "    </tr>\n",
       "    <tr>\n",
       "      <th>1341</th>\n",
       "      <td>2021-08-28</td>\n",
       "      <td>雷阵雨/多云</td>\n",
       "      <td>33</td>\n",
       "      <td>26</td>\n",
       "      <td>北风1-2级</td>\n",
       "      <td>北风1-2级</td>\n",
       "      <td>28</td>\n",
       "      <td>8</td>\n",
       "      <td>2021</td>\n",
       "      <td>6.5</td>\n",
       "      <td>1.0</td>\n",
       "      <td>4</td>\n",
       "      <td>3.0</td>\n",
       "    </tr>\n",
       "    <tr>\n",
       "      <th>1342</th>\n",
       "      <td>2021-08-29</td>\n",
       "      <td>雷阵雨/雷阵雨</td>\n",
       "      <td>32</td>\n",
       "      <td>25</td>\n",
       "      <td>北风1-2级</td>\n",
       "      <td>北风1-2级</td>\n",
       "      <td>29</td>\n",
       "      <td>8</td>\n",
       "      <td>2021</td>\n",
       "      <td>6.5</td>\n",
       "      <td>6.5</td>\n",
       "      <td>4</td>\n",
       "      <td>3.0</td>\n",
       "    </tr>\n",
       "    <tr>\n",
       "      <th>1343</th>\n",
       "      <td>2021-08-30</td>\n",
       "      <td>阵雨/阵雨</td>\n",
       "      <td>34</td>\n",
       "      <td>26</td>\n",
       "      <td>北风1-2级</td>\n",
       "      <td>北风1-2级</td>\n",
       "      <td>30</td>\n",
       "      <td>8</td>\n",
       "      <td>2021</td>\n",
       "      <td>5.0</td>\n",
       "      <td>5.0</td>\n",
       "      <td>4</td>\n",
       "      <td>3.0</td>\n",
       "    </tr>\n",
       "    <tr>\n",
       "      <th>1344</th>\n",
       "      <td>2021-08-31</td>\n",
       "      <td>雷阵雨/阵雨</td>\n",
       "      <td>32</td>\n",
       "      <td>26</td>\n",
       "      <td>北风1-2级</td>\n",
       "      <td>北风1-2级</td>\n",
       "      <td>31</td>\n",
       "      <td>8</td>\n",
       "      <td>2021</td>\n",
       "      <td>6.5</td>\n",
       "      <td>5.0</td>\n",
       "      <td>4</td>\n",
       "      <td>3.0</td>\n",
       "    </tr>\n",
       "  </tbody>\n",
       "</table>\n",
       "<p>1345 rows × 13 columns</p>\n",
       "</div>"
      ],
      "text/plain": [
       "              日期     天气状况  最高温度  最低温度    白天风力风向    夜晚风力风向   日  月     年  白天天气  \\\n",
       "0     2018-01-01    多云/多云    22    12  无持续风向<3级  无持续风向<3级   1  1  2018   1.0   \n",
       "1     2018-01-01    多云/多云    22    12  无持续风向<3级  无持续风向<3级   1  1  2018   1.0   \n",
       "2     2018-01-02    多云/多云    22    15  无持续风向<3级  无持续风向<3级   2  1  2018   1.0   \n",
       "3     2018-01-03     多云/阴    23    15  无持续风向<3级  无持续风向<3级   3  1  2018   1.0   \n",
       "4     2018-01-04    多云/小雨    21    16  无持续风向<3级  无持续风向<3级   4  1  2018   1.0   \n",
       "...          ...      ...   ...   ...       ...       ...  .. ..   ...   ...   \n",
       "1340  2021-08-27  雷阵雨/雷阵雨    35    26    北风1-2级    北风1-2级  27  8  2021   6.5   \n",
       "1341  2021-08-28   雷阵雨/多云    33    26    北风1-2级    北风1-2级  28  8  2021   6.5   \n",
       "1342  2021-08-29  雷阵雨/雷阵雨    32    25    北风1-2级    北风1-2级  29  8  2021   6.5   \n",
       "1343  2021-08-30    阵雨/阵雨    34    26    北风1-2级    北风1-2级  30  8  2021   5.0   \n",
       "1344  2021-08-31   雷阵雨/阵雨    32    26    北风1-2级    北风1-2级  31  8  2021   6.5   \n",
       "\n",
       "      夜晚天气  风向   风力  \n",
       "0      1.0   2  6.0  \n",
       "1      1.0   2  6.0  \n",
       "2      1.0   2  6.0  \n",
       "3      2.0   2  6.0  \n",
       "4      3.0   2  6.0  \n",
       "...    ...  ..  ...  \n",
       "1340   6.5   4  3.0  \n",
       "1341   1.0   4  3.0  \n",
       "1342   6.5   4  3.0  \n",
       "1343   5.0   4  3.0  \n",
       "1344   5.0   4  3.0  \n",
       "\n",
       "[1345 rows x 13 columns]"
      ]
     },
     "execution_count": 36,
     "metadata": {},
     "output_type": "execute_result"
    }
   ],
   "source": [
    "df_weather"
   ]
  },
  {
   "cell_type": "code",
   "execution_count": null,
   "metadata": {},
   "outputs": [
    {
     "data": {
      "text/html": [
       "<div>\n",
       "<style scoped>\n",
       "    .dataframe tbody tr th:only-of-type {\n",
       "        vertical-align: middle;\n",
       "    }\n",
       "\n",
       "    .dataframe tbody tr th {\n",
       "        vertical-align: top;\n",
       "    }\n",
       "\n",
       "    .dataframe thead th {\n",
       "        text-align: right;\n",
       "    }\n",
       "</style>\n",
       "<table border=\"1\" class=\"dataframe\">\n",
       "  <thead>\n",
       "    <tr style=\"text-align: right;\">\n",
       "      <th></th>\n",
       "      <th>日期</th>\n",
       "      <th>日</th>\n",
       "      <th>月</th>\n",
       "      <th>年</th>\n",
       "      <th>最高温度</th>\n",
       "      <th>最低温度</th>\n",
       "      <th>白天天气</th>\n",
       "      <th>夜晚天气</th>\n",
       "      <th>风向</th>\n",
       "      <th>风力</th>\n",
       "    </tr>\n",
       "  </thead>\n",
       "  <tbody>\n",
       "    <tr>\n",
       "      <th>0</th>\n",
       "      <td>2018-01-01</td>\n",
       "      <td>1</td>\n",
       "      <td>1</td>\n",
       "      <td>2018</td>\n",
       "      <td>22</td>\n",
       "      <td>12</td>\n",
       "      <td>1.0</td>\n",
       "      <td>1.0</td>\n",
       "      <td>2</td>\n",
       "      <td>6.0</td>\n",
       "    </tr>\n",
       "    <tr>\n",
       "      <th>1</th>\n",
       "      <td>2018-01-01</td>\n",
       "      <td>1</td>\n",
       "      <td>1</td>\n",
       "      <td>2018</td>\n",
       "      <td>22</td>\n",
       "      <td>12</td>\n",
       "      <td>1.0</td>\n",
       "      <td>1.0</td>\n",
       "      <td>2</td>\n",
       "      <td>6.0</td>\n",
       "    </tr>\n",
       "    <tr>\n",
       "      <th>2</th>\n",
       "      <td>2018-01-02</td>\n",
       "      <td>2</td>\n",
       "      <td>1</td>\n",
       "      <td>2018</td>\n",
       "      <td>22</td>\n",
       "      <td>15</td>\n",
       "      <td>1.0</td>\n",
       "      <td>1.0</td>\n",
       "      <td>2</td>\n",
       "      <td>6.0</td>\n",
       "    </tr>\n",
       "    <tr>\n",
       "      <th>3</th>\n",
       "      <td>2018-01-03</td>\n",
       "      <td>3</td>\n",
       "      <td>1</td>\n",
       "      <td>2018</td>\n",
       "      <td>23</td>\n",
       "      <td>15</td>\n",
       "      <td>1.0</td>\n",
       "      <td>2.0</td>\n",
       "      <td>2</td>\n",
       "      <td>6.0</td>\n",
       "    </tr>\n",
       "    <tr>\n",
       "      <th>4</th>\n",
       "      <td>2018-01-04</td>\n",
       "      <td>4</td>\n",
       "      <td>1</td>\n",
       "      <td>2018</td>\n",
       "      <td>21</td>\n",
       "      <td>16</td>\n",
       "      <td>1.0</td>\n",
       "      <td>3.0</td>\n",
       "      <td>2</td>\n",
       "      <td>6.0</td>\n",
       "    </tr>\n",
       "  </tbody>\n",
       "</table>\n",
       "</div>"
      ],
      "text/plain": [
       "           日期  日  月     年  最高温度  最低温度  白天天气  夜晚天气  风向   风力\n",
       "0  2018-01-01  1  1  2018    22    12   1.0   1.0   2  6.0\n",
       "1  2018-01-01  1  1  2018    22    12   1.0   1.0   2  6.0\n",
       "2  2018-01-02  2  1  2018    22    15   1.0   1.0   2  6.0\n",
       "3  2018-01-03  3  1  2018    23    15   1.0   2.0   2  6.0\n",
       "4  2018-01-04  4  1  2018    21    16   1.0   3.0   2  6.0"
      ]
     },
     "execution_count": 37,
     "metadata": {},
     "output_type": "execute_result"
    }
   ],
   "source": [
    "df_weather_new = df_weather[['日期', '日', '月', '年','最高温度', '最低温度', '白天天气', '夜晚天气', '风向', '风力']]\n",
    "df_weather_new.head()"
   ]
  },
  {
   "cell_type": "markdown",
   "metadata": {},
   "source": [
    "### 行业日负荷数据"
   ]
  },
  {
   "cell_type": "code",
   "execution_count": null,
   "metadata": {},
   "outputs": [],
   "source": []
  },
  {
   "cell_type": "markdown",
   "metadata": {},
   "source": [
    "## 区域10天间隔15分钟负荷数据（单变量预测）"
   ]
  },
  {
   "cell_type": "markdown",
   "metadata": {},
   "source": [
    "### 归一化"
   ]
  },
  {
   "cell_type": "code",
   "execution_count": null,
   "metadata": {},
   "outputs": [],
   "source": [
    "# 归一化\n",
    "from sklearn.preprocessing import MinMaxScaler\n",
    "sc = MinMaxScaler(feature_range = (0, 1))\n",
    "val_area = sc.fit_transform(val_area)"
   ]
  },
  {
   "cell_type": "code",
   "execution_count": null,
   "metadata": {},
   "outputs": [],
   "source": [
    "# 准备X和y数据，先用最近一天的23：45这个时刻的功率最为第一个y，然后这个时刻的前 96个时刻的功率作为X\n",
    "# 这样依次往前推，依次往前准备出大量的 X 和 y，用于后面的训练。\n",
    "X = []\n",
    "y = []\n",
    "for i in range(96, len(val_area)):\n",
    "    X.append(val_area[i-96:i])\n",
    "    y.append(val_area[i, val_area.shape[1] - 1])\n",
    "# X, y = np.array, np.array(y)"
   ]
  },
  {
   "cell_type": "code",
   "execution_count": null,
   "metadata": {},
   "outputs": [],
   "source": [
    "# len(X)"
   ]
  },
  {
   "cell_type": "code",
   "execution_count": null,
   "metadata": {},
   "outputs": [],
   "source": [
    "X_train, y_train= np.array(X[0:100000]), np.array(y[0:100000])\n",
    "X_test, y_test= np.array(X[100000:len(X)]), np.array(y[100000:len(X)])"
   ]
  },
  {
   "cell_type": "code",
   "execution_count": null,
   "metadata": {},
   "outputs": [
    {
     "name": "stdout",
     "output_type": "stream",
     "text": [
      "X_train:(100000, 96, 1)\n",
      "y_train:(100000,)\n",
      "X_test:(28060, 96, 1)\n",
      "y_test:(28060,)\n"
     ]
    }
   ],
   "source": [
    "print(f'X_train:{X_train.shape}')\n",
    "print(f'y_train:{y_train.shape}')\n",
    "print(f'X_test:{X_test.shape}')\n",
    "print(f'y_test:{y_test.shape}')"
   ]
  },
  {
   "cell_type": "code",
   "execution_count": null,
   "metadata": {},
   "outputs": [
    {
     "data": {
      "text/plain": [
       "array([0.5947847 , 0.59642321, 0.59939917, ..., 0.5373049 , 0.53663083,\n",
       "       0.53285793])"
      ]
     },
     "execution_count": 43,
     "metadata": {},
     "output_type": "execute_result"
    }
   ],
   "source": [
    "y_test"
   ]
  },
  {
   "cell_type": "markdown",
   "metadata": {},
   "source": [
    "### 构建模型"
   ]
  },
  {
   "cell_type": "code",
   "execution_count": null,
   "metadata": {},
   "outputs": [
    {
     "name": "stdout",
     "output_type": "stream",
     "text": [
      "[PhysicalDevice(name='/physical_device:GPU:0', device_type='GPU')]\n"
     ]
    }
   ],
   "source": [
    "import tensorflow as tf\n",
    "from tensorflow import keras\n",
    "\n",
    "#这里是使用 Keras，Keras 大大简化了模型创建工作，背后的真正算法实现是用 TensorFlow 或其他。\n",
    "import tensorflow as tf\n",
    "from tensorflow import keras\n",
    "\n",
    "# 设置gpu内存自增长\n",
    "gpus = tf.config.experimental.list_physical_devices('GPU')\n",
    "print(gpus)\n",
    "for gpu in gpus:\n",
    "    tf.config.experimental.set_memory_growth(gpu, True)"
   ]
  },
  {
   "cell_type": "code",
   "execution_count": null,
   "metadata": {},
   "outputs": [],
   "source": [
    "# 导入模型\n",
    "model = tf.keras.models.load_model('./model/1-（1）')"
   ]
  },
  {
   "cell_type": "code",
   "execution_count": null,
   "metadata": {},
   "outputs": [],
   "source": [
    "# 模型构建\n",
    "# model = tf.keras.Sequential(\n",
    "#     [tf.keras.layers.LSTM(units = 64, return_sequences = True, input_shape = (X_train.shape[1], X_train.shape[2])),\n",
    "#      tf.keras.layers.Dropout(0.2),     \n",
    "     \n",
    "#      tf.keras.layers.LSTM(units = 32),\n",
    "#      tf.keras.layers.Dropout(0.2),\n",
    "     \n",
    "#      tf.keras.layers.Dense(1)]\n",
    "# )"
   ]
  },
  {
   "cell_type": "code",
   "execution_count": null,
   "metadata": {},
   "outputs": [],
   "source": [
    "# 模型编译\n",
    "# model.compile(optimizer = 'adam', loss = 'mean_squared_error')"
   ]
  },
  {
   "cell_type": "code",
   "execution_count": null,
   "metadata": {},
   "outputs": [
    {
     "name": "stdout",
     "output_type": "stream",
     "text": [
      "Model: \"sequential\"\n",
      "_________________________________________________________________\n",
      "Layer (type)                 Output Shape              Param #   \n",
      "=================================================================\n",
      "lstm (LSTM)                  (None, 96, 64)            16896     \n",
      "_________________________________________________________________\n",
      "dropout (Dropout)            (None, 96, 64)            0         \n",
      "_________________________________________________________________\n",
      "lstm_1 (LSTM)                (None, 32)                12416     \n",
      "_________________________________________________________________\n",
      "dropout_1 (Dropout)          (None, 32)                0         \n",
      "_________________________________________________________________\n",
      "dense (Dense)                (None, 1)                 33        \n",
      "=================================================================\n",
      "Total params: 29,345\n",
      "Trainable params: 29,345\n",
      "Non-trainable params: 0\n",
      "_________________________________________________________________\n"
     ]
    }
   ],
   "source": [
    "model.summary()#显示模型概况参数"
   ]
  },
  {
   "cell_type": "code",
   "execution_count": null,
   "metadata": {},
   "outputs": [],
   "source": [
    "# # 召回函数\n",
    "# callbacks=[\n",
    "#     keras.callbacks.EarlyStopping(patience=5,min_delta=1e-3)\n",
    "# ]"
   ]
  },
  {
   "cell_type": "code",
   "execution_count": null,
   "metadata": {},
   "outputs": [],
   "source": [
    "# 模型训练\n",
    "# model.fit(X_train, y_train, epochs = 100, batch_size = 32, callbacks = callbacks)\n",
    "# model.fit(X_train, y_train, epochs = 100, batch_size = 32)"
   ]
  },
  {
   "cell_type": "code",
   "execution_count": null,
   "metadata": {},
   "outputs": [],
   "source": [
    "# # 保存模型\n",
    "# path_save_model = './model/1-（1）'\n",
    "# model.save(path_save_model, overwrite=True)"
   ]
  },
  {
   "cell_type": "markdown",
   "metadata": {},
   "source": [
    "### 模型评估"
   ]
  },
  {
   "cell_type": "code",
   "execution_count": null,
   "metadata": {},
   "outputs": [],
   "source": [
    "pred_y = model.predict(X_test)"
   ]
  },
  {
   "cell_type": "code",
   "execution_count": null,
   "metadata": {},
   "outputs": [],
   "source": [
    "predy_scale = sc.inverse_transform(pred_y)"
   ]
  },
  {
   "cell_type": "code",
   "execution_count": null,
   "metadata": {},
   "outputs": [],
   "source": [
    "predy_scale = pd.DataFrame(predy_scale)"
   ]
  },
  {
   "cell_type": "code",
   "execution_count": null,
   "metadata": {},
   "outputs": [],
   "source": [
    "# predy_scale"
   ]
  },
  {
   "cell_type": "code",
   "execution_count": null,
   "metadata": {},
   "outputs": [],
   "source": [
    "df_temp1 = pd.read_csv(\"C:/Users/Genius/Desktop/泰迪杯/全部数据/附件1-区域15分钟负荷数据.csv\")\n",
    "# df_temp1"
   ]
  },
  {
   "cell_type": "code",
   "execution_count": null,
   "metadata": {},
   "outputs": [],
   "source": [
    "df_temp2 = df_temp1[100096:len(df_temp1)].reset_index(drop = True)"
   ]
  },
  {
   "cell_type": "code",
   "execution_count": null,
   "metadata": {},
   "outputs": [],
   "source": [
    "# df_temp2"
   ]
  },
  {
   "cell_type": "code",
   "execution_count": null,
   "metadata": {},
   "outputs": [],
   "source": [
    "acc = pd.merge(df_temp2, predy_scale, left_index=True, right_index=True)"
   ]
  },
  {
   "cell_type": "code",
   "execution_count": null,
   "metadata": {},
   "outputs": [],
   "source": [
    "acc.columns = ['数据时间', '总有功功率（kw）', 'pred']\n",
    "# acc"
   ]
  },
  {
   "cell_type": "code",
   "execution_count": null,
   "metadata": {},
   "outputs": [
    {
     "data": {
      "text/html": [
       "<div>\n",
       "<style scoped>\n",
       "    .dataframe tbody tr th:only-of-type {\n",
       "        vertical-align: middle;\n",
       "    }\n",
       "\n",
       "    .dataframe tbody tr th {\n",
       "        vertical-align: top;\n",
       "    }\n",
       "\n",
       "    .dataframe thead th {\n",
       "        text-align: right;\n",
       "    }\n",
       "</style>\n",
       "<table border=\"1\" class=\"dataframe\">\n",
       "  <thead>\n",
       "    <tr style=\"text-align: right;\">\n",
       "      <th></th>\n",
       "      <th>总有功功率（kw）</th>\n",
       "      <th>pred</th>\n",
       "    </tr>\n",
       "    <tr>\n",
       "      <th>数据时间</th>\n",
       "      <th></th>\n",
       "      <th></th>\n",
       "    </tr>\n",
       "  </thead>\n",
       "  <tbody>\n",
       "    <tr>\n",
       "      <th>2020/11/9 13:15</th>\n",
       "      <td>221167.7037</td>\n",
       "      <td>218056.265625</td>\n",
       "    </tr>\n",
       "    <tr>\n",
       "      <th>2020/11/9 13:30</th>\n",
       "      <td>221767.8970</td>\n",
       "      <td>220707.734375</td>\n",
       "    </tr>\n",
       "    <tr>\n",
       "      <th>2020/11/9 13:45</th>\n",
       "      <td>222858.0084</td>\n",
       "      <td>222412.984375</td>\n",
       "    </tr>\n",
       "    <tr>\n",
       "      <th>2020/11/9 14:00</th>\n",
       "      <td>241465.0004</td>\n",
       "      <td>238806.453125</td>\n",
       "    </tr>\n",
       "    <tr>\n",
       "      <th>2020/11/9 14:15</th>\n",
       "      <td>226178.3272</td>\n",
       "      <td>224440.312500</td>\n",
       "    </tr>\n",
       "  </tbody>\n",
       "</table>\n",
       "</div>"
      ],
      "text/plain": [
       "                   总有功功率（kw）           pred\n",
       "数据时间                                       \n",
       "2020/11/9 13:15  221167.7037  218056.265625\n",
       "2020/11/9 13:30  221767.8970  220707.734375\n",
       "2020/11/9 13:45  222858.0084  222412.984375\n",
       "2020/11/9 14:00  241465.0004  238806.453125\n",
       "2020/11/9 14:15  226178.3272  224440.312500"
      ]
     },
     "execution_count": 61,
     "metadata": {},
     "output_type": "execute_result"
    }
   ],
   "source": [
    "acc.index = acc.数据时间\n",
    "acc.drop(columns=['数据时间'], axis=1, inplace=True)\n",
    "acc.head()"
   ]
  },
  {
   "cell_type": "code",
   "execution_count": null,
   "metadata": {},
   "outputs": [
    {
     "data": {
      "image/png": "[encoded data removed]",
      "text/plain": [
       "<Figure size 1080x504 with 1 Axes>"
      ]
     },
     "metadata": {
      "needs_background": "light"
     },
     "output_type": "display_data"
    }
   ],
   "source": [
    "plt.figure(figsize = (15,7))\n",
    "plt.plot(acc)\n",
    "plt.xticks(rotation = 30)\n",
    "\n",
    "x_major_locator = ticker.MultipleLocator(960)\n",
    "ax = plt.gca()\n",
    "ax.xaxis.set_major_locator(x_major_locator)\n",
    "\n",
    "plt.xlabel('时间')\n",
    "plt.ylabel('总有功功率（kw）')\n",
    "plt.legend(labels = ['总有功功率（kw）', 'pred'])\n",
    "plt.show()"
   ]
  },
  {
   "cell_type": "code",
   "execution_count": null,
   "metadata": {},
   "outputs": [
    {
     "data": {
      "text/plain": [
       "0.975136945924691"
      ]
     },
     "execution_count": 63,
     "metadata": {},
     "output_type": "execute_result"
    }
   ],
   "source": [
    "r2_score(y_test, pred_y)"
   ]
  },
  {
   "cell_type": "code",
   "execution_count": null,
   "metadata": {},
   "outputs": [
    {
     "name": "stdout",
     "output_type": "stream",
     "text": [
      "877/877 [==============================] - 11s 11ms/step - loss: 2.1762e-04\n"
     ]
    },
    {
     "data": {
      "text/plain": [
       "0.00021761510288342834"
      ]
     },
     "execution_count": 64,
     "metadata": {},
     "output_type": "execute_result"
    }
   ],
   "source": [
    "model.evaluate(X_test, y_test)"
   ]
  },
  {
   "cell_type": "markdown",
   "metadata": {},
   "source": [
    "### 模型预测"
   ]
  },
  {
   "cell_type": "code",
   "execution_count": null,
   "metadata": {},
   "outputs": [],
   "source": [
    "# df_area[-1:]"
   ]
  },
  {
   "cell_type": "code",
   "execution_count": null,
   "metadata": {
    "scrolled": true
   },
   "outputs": [
    {
     "name": "stdout",
     "output_type": "stream",
     "text": [
      "WARNING:tensorflow:Model was constructed with shape (None, 96, 1) for input KerasTensor(type_spec=TensorSpec(shape=(None, 96, 1), dtype=tf.float32, name='lstm_input'), name='lstm_input', description=\"created by layer 'lstm_input'\"), but it was called on an input with incompatible shape (None, 960, 1).\n"
     ]
    }
   ],
   "source": [
    "# 模型预测\n",
    "pre10_single = df_area[-1:]\n",
    "temp10 = []\n",
    "df_total = df_area.copy()\n",
    "\n",
    "for i in range(960):\n",
    "    # 取最后一个数据\n",
    "    df_test = pre10_single\n",
    "\n",
    "    # 然后把测试数据和前面的训练数据整合到一起\n",
    "    df_total = pd.concat((df_test[['总有功功率（kw）']], df_total[['总有功功率（kw）']]), axis = 0)\n",
    "#     print(df_total)\n",
    "\n",
    "    #也是只取具体数值，去掉表头等信息\n",
    "    inputs = df_total[len(df_total) - i - len(df_test) - 960:].values\n",
    "    inputs = inputs.reshape(-1, df_test.shape[1])\n",
    "\n",
    "    #对数据也要做一次规则化处理\n",
    "    inputs = sc.transform(inputs)\n",
    "  \n",
    "    X_test = []\n",
    "    for j in range(960, 960 + len(df_test)):\n",
    "        X_test.append(inputs[j-960:j])\n",
    "    \n",
    "    X_test = np.array(X_test)\n",
    "    #对预测数据也做一次数组变形处理\n",
    "    X_test = np.reshape(X_test, (X_test.shape[0], X_test.shape[1], df_test.shape[1]))\n",
    "    \n",
    "    pre10_single = model.predict(X_test)\n",
    "    \n",
    "    pre10_single = sc.inverse_transform(pre10_single)\n",
    "\n",
    "    pre10_single = pd.DataFrame(pre10_single)\n",
    "    pre10_single.columns = ['总有功功率（kw）']\n",
    "    \n",
    "    temp10.append(pre10_single)  \n",
    "    \n",
    "result10_single = temp10"
   ]
  },
  {
   "cell_type": "markdown",
   "metadata": {},
   "source": [
    "### 预测结果"
   ]
  },
  {
   "cell_type": "code",
   "execution_count": null,
   "metadata": {},
   "outputs": [],
   "source": [
    "Future10_Time = pd.read_excel('./Future10_TIME.xlsx')\n",
    "# Future10_Time"
   ]
  },
  {
   "cell_type": "code",
   "execution_count": null,
   "metadata": {},
   "outputs": [],
   "source": [
    "temp10 = pd.DataFrame(np.row_stack(temp10))\n",
    "# temp10"
   ]
  },
  {
   "cell_type": "code",
   "execution_count": null,
   "metadata": {},
   "outputs": [
    {
     "data": {
      "text/html": [
       "<div>\n",
       "<style scoped>\n",
       "    .dataframe tbody tr th:only-of-type {\n",
       "        vertical-align: middle;\n",
       "    }\n",
       "\n",
       "    .dataframe tbody tr th {\n",
       "        vertical-align: top;\n",
       "    }\n",
       "\n",
       "    .dataframe thead th {\n",
       "        text-align: right;\n",
       "    }\n",
       "</style>\n",
       "<table border=\"1\" class=\"dataframe\">\n",
       "  <thead>\n",
       "    <tr style=\"text-align: right;\">\n",
       "      <th></th>\n",
       "      <th>数据时间</th>\n",
       "      <th>总有功功率（kw）</th>\n",
       "    </tr>\n",
       "  </thead>\n",
       "  <tbody>\n",
       "    <tr>\n",
       "      <th>0</th>\n",
       "      <td>2021-09-01 00:00:00</td>\n",
       "      <td>198428.671875</td>\n",
       "    </tr>\n",
       "    <tr>\n",
       "      <th>1</th>\n",
       "      <td>2021-09-01 00:15:00</td>\n",
       "      <td>199080.171875</td>\n",
       "    </tr>\n",
       "    <tr>\n",
       "      <th>2</th>\n",
       "      <td>2021-09-01 00:30:00</td>\n",
       "      <td>200274.953125</td>\n",
       "    </tr>\n",
       "    <tr>\n",
       "      <th>3</th>\n",
       "      <td>2021-09-01 00:45:00</td>\n",
       "      <td>215537.312500</td>\n",
       "    </tr>\n",
       "    <tr>\n",
       "      <th>4</th>\n",
       "      <td>2021-09-01 01:00:00</td>\n",
       "      <td>201641.140625</td>\n",
       "    </tr>\n",
       "  </tbody>\n",
       "</table>\n",
       "</div>"
      ],
      "text/plain": [
       "                 数据时间      总有功功率（kw）\n",
       "0 2021-09-01 00:00:00  198428.671875\n",
       "1 2021-09-01 00:15:00  199080.171875\n",
       "2 2021-09-01 00:30:00  200274.953125\n",
       "3 2021-09-01 00:45:00  215537.312500\n",
       "4 2021-09-01 01:00:00  201641.140625"
      ]
     },
     "execution_count": 69,
     "metadata": {},
     "output_type": "execute_result"
    }
   ],
   "source": [
    "result10_single = pd.merge(Future10_Time, temp10, left_index=True, right_index=True)\n",
    "result10_single.columns = ['数据时间', '总有功功率（kw）']\n",
    "result10_single.head()"
   ]
  },
  {
   "cell_type": "code",
   "execution_count": null,
   "metadata": {},
   "outputs": [],
   "source": [
    "# 保存结果\n",
    "tmp_file_path='./结果/result10_single.xlsx'\n",
    "result10_single.to_excel(tmp_file_path, sheet_name=tmp_file_path.split('.')[0], index= False)"
   ]
  },
  {
   "cell_type": "code",
   "execution_count": null,
   "metadata": {},
   "outputs": [
    {
     "data": {
      "text/html": [
       "<div>\n",
       "<style scoped>\n",
       "    .dataframe tbody tr th:only-of-type {\n",
       "        vertical-align: middle;\n",
       "    }\n",
       "\n",
       "    .dataframe tbody tr th {\n",
       "        vertical-align: top;\n",
       "    }\n",
       "\n",
       "    .dataframe thead th {\n",
       "        text-align: right;\n",
       "    }\n",
       "</style>\n",
       "<table border=\"1\" class=\"dataframe\">\n",
       "  <thead>\n",
       "    <tr style=\"text-align: right;\">\n",
       "      <th></th>\n",
       "      <th>总有功功率（kw）</th>\n",
       "    </tr>\n",
       "    <tr>\n",
       "      <th>数据时间</th>\n",
       "      <th></th>\n",
       "    </tr>\n",
       "  </thead>\n",
       "  <tbody>\n",
       "    <tr>\n",
       "      <th>2021-09-01 00:00:00</th>\n",
       "      <td>198428.671875</td>\n",
       "    </tr>\n",
       "    <tr>\n",
       "      <th>2021-09-01 00:15:00</th>\n",
       "      <td>199080.171875</td>\n",
       "    </tr>\n",
       "    <tr>\n",
       "      <th>2021-09-01 00:30:00</th>\n",
       "      <td>200274.953125</td>\n",
       "    </tr>\n",
       "    <tr>\n",
       "      <th>2021-09-01 00:45:00</th>\n",
       "      <td>215537.312500</td>\n",
       "    </tr>\n",
       "    <tr>\n",
       "      <th>2021-09-01 01:00:00</th>\n",
       "      <td>201641.140625</td>\n",
       "    </tr>\n",
       "  </tbody>\n",
       "</table>\n",
       "</div>"
      ],
      "text/plain": [
       "                         总有功功率（kw）\n",
       "数据时间                              \n",
       "2021-09-01 00:00:00  198428.671875\n",
       "2021-09-01 00:15:00  199080.171875\n",
       "2021-09-01 00:30:00  200274.953125\n",
       "2021-09-01 00:45:00  215537.312500\n",
       "2021-09-01 01:00:00  201641.140625"
      ]
     },
     "execution_count": 71,
     "metadata": {},
     "output_type": "execute_result"
    }
   ],
   "source": [
    "result10_single.index = result10_single.数据时间\n",
    "result10_single.drop(columns=['数据时间'], axis=1, inplace=True)\n",
    "result10_single.head()"
   ]
  },
  {
   "cell_type": "code",
   "execution_count": null,
   "metadata": {},
   "outputs": [
    {
     "data": {
      "image/png": "[encoded data removed]",
      "text/plain": [
       "<Figure size 1080x504 with 1 Axes>"
      ]
     },
     "metadata": {
      "needs_background": "light"
     },
     "output_type": "display_data"
    }
   ],
   "source": [
    "plt.figure(figsize = (15,7))\n",
    "plt.plot(result10_single)\n",
    "plt.xlabel('时间')\n",
    "plt.ylabel('总有功功率（kw）')\n",
    "plt.xticks(rotation = 30)\n",
    "plt.show()"
   ]
  },
  {
   "cell_type": "markdown",
   "metadata": {},
   "source": [
    "## 三个月最值预测（单变量）"
   ]
  },
  {
   "cell_type": "markdown",
   "metadata": {},
   "source": [
    "### 模型预测"
   ]
  },
  {
   "cell_type": "code",
   "execution_count": null,
   "metadata": {},
   "outputs": [],
   "source": [
    "# 模型预测\n",
    "pre90_single = df_area[-1:]\n",
    "temp90 = []\n",
    "df_total = df_area.copy()\n",
    "\n",
    "for i in range(8736):\n",
    "    # 取最后一个数据\n",
    "    df_test = pre90_single\n",
    "\n",
    "    # 然后把测试数据和前面的训练数据整合到一起\n",
    "    df_total = pd.concat((df_test[['总有功功率（kw）']], df_total[['总有功功率（kw）']]), axis = 0)\n",
    "#     print(df_total)\n",
    "\n",
    "    #也是只取具体数值，去掉表头等信息\n",
    "    inputs = df_total[len(df_total) - i - len(df_test) - 960:].values\n",
    "    inputs = inputs.reshape(-1, df_test.shape[1])\n",
    "\n",
    "    #对数据也要做一次规则化处理\n",
    "    inputs = sc.transform(inputs)\n",
    "  \n",
    "    X_test = []\n",
    "    for j in range(960, 960 + len(df_test)):\n",
    "        X_test.append(inputs[j-960:j])\n",
    "    \n",
    "    X_test = np.array(X_test)\n",
    "    #对预测数据也做一次数组变形处理\n",
    "    X_test = np.reshape(X_test, (X_test.shape[0], X_test.shape[1], df_test.shape[1]))\n",
    "    \n",
    "    pre90_single = model.predict(X_test)\n",
    "    \n",
    "    pre90_single = sc.inverse_transform(pre90_single)\n",
    "\n",
    "    pre90_single = pd.DataFrame(pre90_single)\n",
    "    pre90_single.columns = ['总有功功率（kw）']\n",
    "    \n",
    "    temp90.append(pre90_single)  \n",
    "    \n",
    "result90_single = temp90"
   ]
  },
  {
   "cell_type": "markdown",
   "metadata": {},
   "source": [
    "### 预测结果"
   ]
  },
  {
   "cell_type": "code",
   "execution_count": null,
   "metadata": {},
   "outputs": [
    {
     "data": {
      "text/html": [
       "<div>\n",
       "<style scoped>\n",
       "    .dataframe tbody tr th:only-of-type {\n",
       "        vertical-align: middle;\n",
       "    }\n",
       "\n",
       "    .dataframe tbody tr th {\n",
       "        vertical-align: top;\n",
       "    }\n",
       "\n",
       "    .dataframe thead th {\n",
       "        text-align: right;\n",
       "    }\n",
       "</style>\n",
       "<table border=\"1\" class=\"dataframe\">\n",
       "  <thead>\n",
       "    <tr style=\"text-align: right;\">\n",
       "      <th></th>\n",
       "      <th>数据时间</th>\n",
       "    </tr>\n",
       "  </thead>\n",
       "  <tbody>\n",
       "    <tr>\n",
       "      <th>0</th>\n",
       "      <td>2021-09-01 00:00:00</td>\n",
       "    </tr>\n",
       "    <tr>\n",
       "      <th>1</th>\n",
       "      <td>2021-09-01 00:15:00</td>\n",
       "    </tr>\n",
       "    <tr>\n",
       "      <th>2</th>\n",
       "      <td>2021-09-01 00:30:00</td>\n",
       "    </tr>\n",
       "    <tr>\n",
       "      <th>3</th>\n",
       "      <td>2021-09-01 00:45:00</td>\n",
       "    </tr>\n",
       "    <tr>\n",
       "      <th>4</th>\n",
       "      <td>2021-09-01 01:00:00</td>\n",
       "    </tr>\n",
       "    <tr>\n",
       "      <th>...</th>\n",
       "      <td>...</td>\n",
       "    </tr>\n",
       "    <tr>\n",
       "      <th>8731</th>\n",
       "      <td>2021-11-30 22:45:00</td>\n",
       "    </tr>\n",
       "    <tr>\n",
       "      <th>8732</th>\n",
       "      <td>2021-11-30 23:00:00</td>\n",
       "    </tr>\n",
       "    <tr>\n",
       "      <th>8733</th>\n",
       "      <td>2021-11-30 23:15:00</td>\n",
       "    </tr>\n",
       "    <tr>\n",
       "      <th>8734</th>\n",
       "      <td>2021-11-30 23:30:00</td>\n",
       "    </tr>\n",
       "    <tr>\n",
       "      <th>8735</th>\n",
       "      <td>2021-11-30 23:45:00</td>\n",
       "    </tr>\n",
       "  </tbody>\n",
       "</table>\n",
       "<p>8736 rows × 1 columns</p>\n",
       "</div>"
      ],
      "text/plain": [
       "                    数据时间\n",
       "0    2021-09-01 00:00:00\n",
       "1    2021-09-01 00:15:00\n",
       "2    2021-09-01 00:30:00\n",
       "3    2021-09-01 00:45:00\n",
       "4    2021-09-01 01:00:00\n",
       "...                  ...\n",
       "8731 2021-11-30 22:45:00\n",
       "8732 2021-11-30 23:00:00\n",
       "8733 2021-11-30 23:15:00\n",
       "8734 2021-11-30 23:30:00\n",
       "8735 2021-11-30 23:45:00\n",
       "\n",
       "[8736 rows x 1 columns]"
      ]
     },
     "execution_count": 74,
     "metadata": {},
     "output_type": "execute_result"
    }
   ],
   "source": [
    "Future90_Time = pd.read_excel('./Future90_TIME.xlsx')\n",
    "Future90_Time"
   ]
  },
  {
   "cell_type": "code",
   "execution_count": null,
   "metadata": {},
   "outputs": [
    {
     "data": {
      "text/html": [
       "<div>\n",
       "<style scoped>\n",
       "    .dataframe tbody tr th:only-of-type {\n",
       "        vertical-align: middle;\n",
       "    }\n",
       "\n",
       "    .dataframe tbody tr th {\n",
       "        vertical-align: top;\n",
       "    }\n",
       "\n",
       "    .dataframe thead th {\n",
       "        text-align: right;\n",
       "    }\n",
       "</style>\n",
       "<table border=\"1\" class=\"dataframe\">\n",
       "  <thead>\n",
       "    <tr style=\"text-align: right;\">\n",
       "      <th></th>\n",
       "      <th>0</th>\n",
       "    </tr>\n",
       "  </thead>\n",
       "  <tbody>\n",
       "    <tr>\n",
       "      <th>0</th>\n",
       "      <td>198428.671875</td>\n",
       "    </tr>\n",
       "    <tr>\n",
       "      <th>1</th>\n",
       "      <td>199080.171875</td>\n",
       "    </tr>\n",
       "    <tr>\n",
       "      <th>2</th>\n",
       "      <td>200274.953125</td>\n",
       "    </tr>\n",
       "    <tr>\n",
       "      <th>3</th>\n",
       "      <td>215537.312500</td>\n",
       "    </tr>\n",
       "    <tr>\n",
       "      <th>4</th>\n",
       "      <td>201641.140625</td>\n",
       "    </tr>\n",
       "    <tr>\n",
       "      <th>...</th>\n",
       "      <td>...</td>\n",
       "    </tr>\n",
       "    <tr>\n",
       "      <th>8731</th>\n",
       "      <td>228853.125000</td>\n",
       "    </tr>\n",
       "    <tr>\n",
       "      <th>8732</th>\n",
       "      <td>216561.500000</td>\n",
       "    </tr>\n",
       "    <tr>\n",
       "      <th>8733</th>\n",
       "      <td>217190.203125</td>\n",
       "    </tr>\n",
       "    <tr>\n",
       "      <th>8734</th>\n",
       "      <td>216485.765625</td>\n",
       "    </tr>\n",
       "    <tr>\n",
       "      <th>8735</th>\n",
       "      <td>232481.453125</td>\n",
       "    </tr>\n",
       "  </tbody>\n",
       "</table>\n",
       "<p>8736 rows × 1 columns</p>\n",
       "</div>"
      ],
      "text/plain": [
       "                  0\n",
       "0     198428.671875\n",
       "1     199080.171875\n",
       "2     200274.953125\n",
       "3     215537.312500\n",
       "4     201641.140625\n",
       "...             ...\n",
       "8731  228853.125000\n",
       "8732  216561.500000\n",
       "8733  217190.203125\n",
       "8734  216485.765625\n",
       "8735  232481.453125\n",
       "\n",
       "[8736 rows x 1 columns]"
      ]
     },
     "execution_count": 75,
     "metadata": {},
     "output_type": "execute_result"
    }
   ],
   "source": [
    "temp90_df = pd.DataFrame(np.row_stack(temp90))\n",
    "temp90_df"
   ]
  },
  {
   "cell_type": "code",
   "execution_count": null,
   "metadata": {},
   "outputs": [
    {
     "data": {
      "text/html": [
       "<div>\n",
       "<style scoped>\n",
       "    .dataframe tbody tr th:only-of-type {\n",
       "        vertical-align: middle;\n",
       "    }\n",
       "\n",
       "    .dataframe tbody tr th {\n",
       "        vertical-align: top;\n",
       "    }\n",
       "\n",
       "    .dataframe thead th {\n",
       "        text-align: right;\n",
       "    }\n",
       "</style>\n",
       "<table border=\"1\" class=\"dataframe\">\n",
       "  <thead>\n",
       "    <tr style=\"text-align: right;\">\n",
       "      <th></th>\n",
       "      <th>数据时间</th>\n",
       "      <th>总有功功率（kw）</th>\n",
       "    </tr>\n",
       "  </thead>\n",
       "  <tbody>\n",
       "    <tr>\n",
       "      <th>0</th>\n",
       "      <td>2021-09-01 00:00:00</td>\n",
       "      <td>198428.671875</td>\n",
       "    </tr>\n",
       "    <tr>\n",
       "      <th>1</th>\n",
       "      <td>2021-09-01 00:15:00</td>\n",
       "      <td>199080.171875</td>\n",
       "    </tr>\n",
       "    <tr>\n",
       "      <th>2</th>\n",
       "      <td>2021-09-01 00:30:00</td>\n",
       "      <td>200274.953125</td>\n",
       "    </tr>\n",
       "    <tr>\n",
       "      <th>3</th>\n",
       "      <td>2021-09-01 00:45:00</td>\n",
       "      <td>215537.312500</td>\n",
       "    </tr>\n",
       "    <tr>\n",
       "      <th>4</th>\n",
       "      <td>2021-09-01 01:00:00</td>\n",
       "      <td>201641.140625</td>\n",
       "    </tr>\n",
       "  </tbody>\n",
       "</table>\n",
       "</div>"
      ],
      "text/plain": [
       "                 数据时间      总有功功率（kw）\n",
       "0 2021-09-01 00:00:00  198428.671875\n",
       "1 2021-09-01 00:15:00  199080.171875\n",
       "2 2021-09-01 00:30:00  200274.953125\n",
       "3 2021-09-01 00:45:00  215537.312500\n",
       "4 2021-09-01 01:00:00  201641.140625"
      ]
     },
     "execution_count": 76,
     "metadata": {},
     "output_type": "execute_result"
    }
   ],
   "source": [
    "result90_single = pd.merge(Future90_Time, temp90_df, left_index=True, right_index=True)\n",
    "result90_single.columns = ['数据时间', '总有功功率（kw）']\n",
    "result90_single.head()"
   ]
  },
  {
   "cell_type": "code",
   "execution_count": null,
   "metadata": {},
   "outputs": [],
   "source": [
    "# 保存结果\n",
    "tmp_file_path='./结果/result90_single.xlsx'\n",
    "result90_single.to_excel(tmp_file_path, sheet_name=tmp_file_path.split('.')[0], index= False)"
   ]
  },
  {
   "cell_type": "code",
   "execution_count": null,
   "metadata": {},
   "outputs": [],
   "source": [
    "temp90_arr = np.array(temp90)\n",
    "temp90_arr = temp90_arr.reshape(91, 96)\n",
    "temp90_arr = pd.DataFrame(np.row_stack(temp90_arr))\n",
    "# type(temp90_arr)"
   ]
  },
  {
   "cell_type": "code",
   "execution_count": null,
   "metadata": {},
   "outputs": [],
   "source": [
    "temp90_arr.columns = pd.date_range('00:00', '23:45', freq = '15min').strftime('%H:%M:%S')"
   ]
  },
  {
   "cell_type": "code",
   "execution_count": null,
   "metadata": {},
   "outputs": [],
   "source": [
    "# temp90_arr"
   ]
  },
  {
   "cell_type": "code",
   "execution_count": null,
   "metadata": {},
   "outputs": [],
   "source": [
    "result90_single_maxmin = pd.DataFrame()\n",
    "result90_single_maxmin['MAX'] = temp90_arr.max(axis = 1)\n",
    "result90_single_maxmin['MAX_TIME'] = temp90_arr.idxmax(axis = 1)\n",
    "\n",
    "result90_single_maxmin['MIN'] = temp90_arr.min(axis = 1)\n",
    "result90_single_maxmin['MIN_TIME'] = temp90_arr.idxmin(axis = 1)"
   ]
  },
  {
   "cell_type": "code",
   "execution_count": null,
   "metadata": {},
   "outputs": [],
   "source": [
    "# result90_single_maxmin"
   ]
  },
  {
   "cell_type": "code",
   "execution_count": null,
   "metadata": {},
   "outputs": [],
   "source": [
    "Future90_Day = pd.read_excel('./Future90_Day.xlsx')\n",
    "# Future90_Day"
   ]
  },
  {
   "cell_type": "code",
   "execution_count": null,
   "metadata": {},
   "outputs": [
    {
     "data": {
      "text/html": [
       "<div>\n",
       "<style scoped>\n",
       "    .dataframe tbody tr th:only-of-type {\n",
       "        vertical-align: middle;\n",
       "    }\n",
       "\n",
       "    .dataframe tbody tr th {\n",
       "        vertical-align: top;\n",
       "    }\n",
       "\n",
       "    .dataframe thead th {\n",
       "        text-align: right;\n",
       "    }\n",
       "</style>\n",
       "<table border=\"1\" class=\"dataframe\">\n",
       "  <thead>\n",
       "    <tr style=\"text-align: right;\">\n",
       "      <th></th>\n",
       "      <th>日期</th>\n",
       "      <th>MAX</th>\n",
       "      <th>MAX_TIME</th>\n",
       "      <th>MIN</th>\n",
       "      <th>MIN_TIME</th>\n",
       "    </tr>\n",
       "  </thead>\n",
       "  <tbody>\n",
       "    <tr>\n",
       "      <th>0</th>\n",
       "      <td>2021-9-1</td>\n",
       "      <td>276327.34375</td>\n",
       "      <td>13:45:00</td>\n",
       "      <td>193886.562500</td>\n",
       "      <td>19:00:00</td>\n",
       "    </tr>\n",
       "    <tr>\n",
       "      <th>1</th>\n",
       "      <td>2021-9-2</td>\n",
       "      <td>282846.06250</td>\n",
       "      <td>06:45:00</td>\n",
       "      <td>193406.078125</td>\n",
       "      <td>18:00:00</td>\n",
       "    </tr>\n",
       "    <tr>\n",
       "      <th>2</th>\n",
       "      <td>2021-9-3</td>\n",
       "      <td>258935.78125</td>\n",
       "      <td>12:45:00</td>\n",
       "      <td>196860.296875</td>\n",
       "      <td>18:30:00</td>\n",
       "    </tr>\n",
       "    <tr>\n",
       "      <th>3</th>\n",
       "      <td>2021-9-4</td>\n",
       "      <td>271428.15625</td>\n",
       "      <td>12:45:00</td>\n",
       "      <td>195352.687500</td>\n",
       "      <td>18:30:00</td>\n",
       "    </tr>\n",
       "    <tr>\n",
       "      <th>4</th>\n",
       "      <td>2021-9-5</td>\n",
       "      <td>281928.12500</td>\n",
       "      <td>12:45:00</td>\n",
       "      <td>189741.890625</td>\n",
       "      <td>20:00:00</td>\n",
       "    </tr>\n",
       "  </tbody>\n",
       "</table>\n",
       "</div>"
      ],
      "text/plain": [
       "         日期           MAX  MAX_TIME            MIN  MIN_TIME\n",
       "0  2021-9-1  276327.34375  13:45:00  193886.562500  19:00:00\n",
       "1  2021-9-2  282846.06250  06:45:00  193406.078125  18:00:00\n",
       "2  2021-9-3  258935.78125  12:45:00  196860.296875  18:30:00\n",
       "3  2021-9-4  271428.15625  12:45:00  195352.687500  18:30:00\n",
       "4  2021-9-5  281928.12500  12:45:00  189741.890625  20:00:00"
      ]
     },
     "execution_count": 84,
     "metadata": {},
     "output_type": "execute_result"
    }
   ],
   "source": [
    "result90_single_maxmin = pd.merge(Future90_Day, result90_single_maxmin, left_index=True, right_index=True)\n",
    "# result10_single.columns = ['日期', 'MAX', 'MAX_TIME', 'MIN', 'MIN_TIME']\n",
    "result90_single_maxmin.head()"
   ]
  },
  {
   "cell_type": "code",
   "execution_count": null,
   "metadata": {},
   "outputs": [
    {
     "data": {
      "text/html": [
       "<div>\n",
       "<style scoped>\n",
       "    .dataframe tbody tr th:only-of-type {\n",
       "        vertical-align: middle;\n",
       "    }\n",
       "\n",
       "    .dataframe tbody tr th {\n",
       "        vertical-align: top;\n",
       "    }\n",
       "\n",
       "    .dataframe thead th {\n",
       "        text-align: right;\n",
       "    }\n",
       "</style>\n",
       "<table border=\"1\" class=\"dataframe\">\n",
       "  <thead>\n",
       "    <tr style=\"text-align: right;\">\n",
       "      <th></th>\n",
       "      <th>MAX</th>\n",
       "      <th>MAX_TIME</th>\n",
       "      <th>MIN</th>\n",
       "      <th>MIN_TIME</th>\n",
       "    </tr>\n",
       "    <tr>\n",
       "      <th>日期</th>\n",
       "      <th></th>\n",
       "      <th></th>\n",
       "      <th></th>\n",
       "      <th></th>\n",
       "    </tr>\n",
       "  </thead>\n",
       "  <tbody>\n",
       "    <tr>\n",
       "      <th>2021-9-1</th>\n",
       "      <td>276327.34375</td>\n",
       "      <td>13:45:00</td>\n",
       "      <td>193886.562500</td>\n",
       "      <td>19:00:00</td>\n",
       "    </tr>\n",
       "    <tr>\n",
       "      <th>2021-9-2</th>\n",
       "      <td>282846.06250</td>\n",
       "      <td>06:45:00</td>\n",
       "      <td>193406.078125</td>\n",
       "      <td>18:00:00</td>\n",
       "    </tr>\n",
       "    <tr>\n",
       "      <th>2021-9-3</th>\n",
       "      <td>258935.78125</td>\n",
       "      <td>12:45:00</td>\n",
       "      <td>196860.296875</td>\n",
       "      <td>18:30:00</td>\n",
       "    </tr>\n",
       "    <tr>\n",
       "      <th>2021-9-4</th>\n",
       "      <td>271428.15625</td>\n",
       "      <td>12:45:00</td>\n",
       "      <td>195352.687500</td>\n",
       "      <td>18:30:00</td>\n",
       "    </tr>\n",
       "    <tr>\n",
       "      <th>2021-9-5</th>\n",
       "      <td>281928.12500</td>\n",
       "      <td>12:45:00</td>\n",
       "      <td>189741.890625</td>\n",
       "      <td>20:00:00</td>\n",
       "    </tr>\n",
       "  </tbody>\n",
       "</table>\n",
       "</div>"
      ],
      "text/plain": [
       "                   MAX  MAX_TIME            MIN  MIN_TIME\n",
       "日期                                                       \n",
       "2021-9-1  276327.34375  13:45:00  193886.562500  19:00:00\n",
       "2021-9-2  282846.06250  06:45:00  193406.078125  18:00:00\n",
       "2021-9-3  258935.78125  12:45:00  196860.296875  18:30:00\n",
       "2021-9-4  271428.15625  12:45:00  195352.687500  18:30:00\n",
       "2021-9-5  281928.12500  12:45:00  189741.890625  20:00:00"
      ]
     },
     "execution_count": 85,
     "metadata": {},
     "output_type": "execute_result"
    }
   ],
   "source": [
    "result90_single_maxmin.index = result90_single_maxmin.日期\n",
    "result90_single_maxmin.drop(columns=['日期'], axis=1, inplace=True)\n",
    "result90_single_maxmin.head()"
   ]
  },
  {
   "cell_type": "markdown",
   "metadata": {},
   "source": [
    "## 区域10天间隔15分钟负荷数据（多变量预测）"
   ]
  },
  {
   "cell_type": "markdown",
   "metadata": {},
   "source": [
    "### 合并数据集"
   ]
  },
  {
   "cell_type": "code",
   "execution_count": null,
   "metadata": {},
   "outputs": [],
   "source": [
    "df_area = pd.read_csv(\"C:/Users/Genius/Desktop/泰迪杯/全部数据/附件1-区域15分钟负荷数据.csv\")\n",
    "# df_area.head()"
   ]
  },
  {
   "cell_type": "code",
   "execution_count": null,
   "metadata": {},
   "outputs": [
    {
     "data": {
      "text/html": [
       "<div>\n",
       "<style scoped>\n",
       "    .dataframe tbody tr th:only-of-type {\n",
       "        vertical-align: middle;\n",
       "    }\n",
       "\n",
       "    .dataframe tbody tr th {\n",
       "        vertical-align: top;\n",
       "    }\n",
       "\n",
       "    .dataframe thead th {\n",
       "        text-align: right;\n",
       "    }\n",
       "</style>\n",
       "<table border=\"1\" class=\"dataframe\">\n",
       "  <thead>\n",
       "    <tr style=\"text-align: right;\">\n",
       "      <th></th>\n",
       "      <th>数据时间</th>\n",
       "      <th>总有功功率（kw）</th>\n",
       "    </tr>\n",
       "  </thead>\n",
       "  <tbody>\n",
       "    <tr>\n",
       "      <th>0</th>\n",
       "      <td>2018/1/1 0:00</td>\n",
       "      <td>244033.7682</td>\n",
       "    </tr>\n",
       "    <tr>\n",
       "      <th>1</th>\n",
       "      <td>2018/1/1 0:15</td>\n",
       "      <td>232720.6402</td>\n",
       "    </tr>\n",
       "    <tr>\n",
       "      <th>2</th>\n",
       "      <td>2018/1/1 0:30</td>\n",
       "      <td>231685.6891</td>\n",
       "    </tr>\n",
       "    <tr>\n",
       "      <th>3</th>\n",
       "      <td>2018/1/1 0:45</td>\n",
       "      <td>227581.3317</td>\n",
       "    </tr>\n",
       "    <tr>\n",
       "      <th>4</th>\n",
       "      <td>2018/1/1 1:00</td>\n",
       "      <td>233482.4269</td>\n",
       "    </tr>\n",
       "  </tbody>\n",
       "</table>\n",
       "</div>"
      ],
      "text/plain": [
       "            数据时间    总有功功率（kw）\n",
       "0  2018/1/1 0:00  244033.7682\n",
       "1  2018/1/1 0:15  232720.6402\n",
       "2  2018/1/1 0:30  231685.6891\n",
       "3  2018/1/1 0:45  227581.3317\n",
       "4  2018/1/1 1:00  233482.4269"
      ]
     },
     "execution_count": 87,
     "metadata": {},
     "output_type": "execute_result"
    }
   ],
   "source": [
    "df_area.head()"
   ]
  },
  {
   "cell_type": "code",
   "execution_count": null,
   "metadata": {},
   "outputs": [
    {
     "data": {
      "text/html": [
       "<div>\n",
       "<style scoped>\n",
       "    .dataframe tbody tr th:only-of-type {\n",
       "        vertical-align: middle;\n",
       "    }\n",
       "\n",
       "    .dataframe tbody tr th {\n",
       "        vertical-align: top;\n",
       "    }\n",
       "\n",
       "    .dataframe thead th {\n",
       "        text-align: right;\n",
       "    }\n",
       "</style>\n",
       "<table border=\"1\" class=\"dataframe\">\n",
       "  <thead>\n",
       "    <tr style=\"text-align: right;\">\n",
       "      <th></th>\n",
       "      <th>数据时间</th>\n",
       "      <th>总有功功率（kw）</th>\n",
       "      <th>分</th>\n",
       "      <th>时</th>\n",
       "      <th>日期</th>\n",
       "    </tr>\n",
       "  </thead>\n",
       "  <tbody>\n",
       "    <tr>\n",
       "      <th>0</th>\n",
       "      <td>2018/1/1 0:00</td>\n",
       "      <td>244033.7682</td>\n",
       "      <td>0</td>\n",
       "      <td>0</td>\n",
       "      <td>2018-01-01</td>\n",
       "    </tr>\n",
       "    <tr>\n",
       "      <th>1</th>\n",
       "      <td>2018/1/1 0:15</td>\n",
       "      <td>232720.6402</td>\n",
       "      <td>15</td>\n",
       "      <td>0</td>\n",
       "      <td>2018-01-01</td>\n",
       "    </tr>\n",
       "    <tr>\n",
       "      <th>2</th>\n",
       "      <td>2018/1/1 0:30</td>\n",
       "      <td>231685.6891</td>\n",
       "      <td>30</td>\n",
       "      <td>0</td>\n",
       "      <td>2018-01-01</td>\n",
       "    </tr>\n",
       "    <tr>\n",
       "      <th>3</th>\n",
       "      <td>2018/1/1 0:45</td>\n",
       "      <td>227581.3317</td>\n",
       "      <td>45</td>\n",
       "      <td>0</td>\n",
       "      <td>2018-01-01</td>\n",
       "    </tr>\n",
       "    <tr>\n",
       "      <th>4</th>\n",
       "      <td>2018/1/1 1:00</td>\n",
       "      <td>233482.4269</td>\n",
       "      <td>0</td>\n",
       "      <td>1</td>\n",
       "      <td>2018-01-01</td>\n",
       "    </tr>\n",
       "    <tr>\n",
       "      <th>...</th>\n",
       "      <td>...</td>\n",
       "      <td>...</td>\n",
       "      <td>...</td>\n",
       "      <td>...</td>\n",
       "      <td>...</td>\n",
       "    </tr>\n",
       "    <tr>\n",
       "      <th>128151</th>\n",
       "      <td>2021/8/31 22:45</td>\n",
       "      <td>202409.1270</td>\n",
       "      <td>45</td>\n",
       "      <td>22</td>\n",
       "      <td>2021-08-31</td>\n",
       "    </tr>\n",
       "    <tr>\n",
       "      <th>128152</th>\n",
       "      <td>2021/8/31 23:00</td>\n",
       "      <td>218576.4635</td>\n",
       "      <td>0</td>\n",
       "      <td>23</td>\n",
       "      <td>2021-08-31</td>\n",
       "    </tr>\n",
       "    <tr>\n",
       "      <th>128153</th>\n",
       "      <td>2021/8/31 23:15</td>\n",
       "      <td>200112.5091</td>\n",
       "      <td>15</td>\n",
       "      <td>23</td>\n",
       "      <td>2021-08-31</td>\n",
       "    </tr>\n",
       "    <tr>\n",
       "      <th>128154</th>\n",
       "      <td>2021/8/31 23:30</td>\n",
       "      <td>199865.5937</td>\n",
       "      <td>30</td>\n",
       "      <td>23</td>\n",
       "      <td>2021-08-31</td>\n",
       "    </tr>\n",
       "    <tr>\n",
       "      <th>128155</th>\n",
       "      <td>2021/8/31 23:45</td>\n",
       "      <td>198483.5592</td>\n",
       "      <td>45</td>\n",
       "      <td>23</td>\n",
       "      <td>2021-08-31</td>\n",
       "    </tr>\n",
       "  </tbody>\n",
       "</table>\n",
       "<p>128156 rows × 5 columns</p>\n",
       "</div>"
      ],
      "text/plain": [
       "                   数据时间    总有功功率（kw）   分   时          日期\n",
       "0         2018/1/1 0:00  244033.7682   0   0  2018-01-01\n",
       "1         2018/1/1 0:15  232720.6402  15   0  2018-01-01\n",
       "2         2018/1/1 0:30  231685.6891  30   0  2018-01-01\n",
       "3         2018/1/1 0:45  227581.3317  45   0  2018-01-01\n",
       "4         2018/1/1 1:00  233482.4269   0   1  2018-01-01\n",
       "...                 ...          ...  ..  ..         ...\n",
       "128151  2021/8/31 22:45  202409.1270  45  22  2021-08-31\n",
       "128152  2021/8/31 23:00  218576.4635   0  23  2021-08-31\n",
       "128153  2021/8/31 23:15  200112.5091  15  23  2021-08-31\n",
       "128154  2021/8/31 23:30  199865.5937  30  23  2021-08-31\n",
       "128155  2021/8/31 23:45  198483.5592  45  23  2021-08-31\n",
       "\n",
       "[128156 rows x 5 columns]"
      ]
     },
     "execution_count": 88,
     "metadata": {},
     "output_type": "execute_result"
    }
   ],
   "source": [
    "df_area_new = df_area.copy()\n",
    "df_area_new['分'] = pd.to_datetime(df_area['数据时间']).apply(lambda x:x.minute)\n",
    "df_area_new['时'] = pd.to_datetime(df_area['数据时间']).apply(lambda x:x.hour)\n",
    "df_area_new['日期']=pd.to_datetime(df_area['数据时间']).apply(lambda x:x.date())\n",
    "df_area_new"
   ]
  },
  {
   "cell_type": "code",
   "execution_count": null,
   "metadata": {},
   "outputs": [],
   "source": [
    "# 联立两个df，去空值、去重\n",
    "df_15 = pd.merge(df_area_new, df_weather_new, on = '日期',how = 'inner').dropna().drop_duplicates().reset_index(drop=True)"
   ]
  },
  {
   "cell_type": "code",
   "execution_count": null,
   "metadata": {},
   "outputs": [],
   "source": [
    "# df_15"
   ]
  },
  {
   "cell_type": "code",
   "execution_count": null,
   "metadata": {},
   "outputs": [],
   "source": [
    "df_15 = df_15[['日期', '年', '月', '日', '时', '分', '最高温度', '最低温度', '白天天气', '夜晚天气', '风向', '风力', '总有功功率（kw）']]\n",
    "# df_15"
   ]
  },
  {
   "cell_type": "code",
   "execution_count": null,
   "metadata": {},
   "outputs": [
    {
     "data": {
      "text/html": [
       "<div>\n",
       "<style scoped>\n",
       "    .dataframe tbody tr th:only-of-type {\n",
       "        vertical-align: middle;\n",
       "    }\n",
       "\n",
       "    .dataframe tbody tr th {\n",
       "        vertical-align: top;\n",
       "    }\n",
       "\n",
       "    .dataframe thead th {\n",
       "        text-align: right;\n",
       "    }\n",
       "</style>\n",
       "<table border=\"1\" class=\"dataframe\">\n",
       "  <thead>\n",
       "    <tr style=\"text-align: right;\">\n",
       "      <th></th>\n",
       "      <th>年</th>\n",
       "      <th>月</th>\n",
       "      <th>日</th>\n",
       "      <th>时</th>\n",
       "      <th>分</th>\n",
       "      <th>最高温度</th>\n",
       "      <th>最低温度</th>\n",
       "      <th>白天天气</th>\n",
       "      <th>夜晚天气</th>\n",
       "      <th>风向</th>\n",
       "      <th>风力</th>\n",
       "      <th>总有功功率（kw）</th>\n",
       "    </tr>\n",
       "    <tr>\n",
       "      <th>日期</th>\n",
       "      <th></th>\n",
       "      <th></th>\n",
       "      <th></th>\n",
       "      <th></th>\n",
       "      <th></th>\n",
       "      <th></th>\n",
       "      <th></th>\n",
       "      <th></th>\n",
       "      <th></th>\n",
       "      <th></th>\n",
       "      <th></th>\n",
       "      <th></th>\n",
       "    </tr>\n",
       "  </thead>\n",
       "  <tbody>\n",
       "    <tr>\n",
       "      <th>2018-01-01</th>\n",
       "      <td>2018</td>\n",
       "      <td>1</td>\n",
       "      <td>1</td>\n",
       "      <td>0</td>\n",
       "      <td>0</td>\n",
       "      <td>22</td>\n",
       "      <td>12</td>\n",
       "      <td>1.0</td>\n",
       "      <td>1.0</td>\n",
       "      <td>2</td>\n",
       "      <td>6.0</td>\n",
       "      <td>244033.7682</td>\n",
       "    </tr>\n",
       "    <tr>\n",
       "      <th>2018-01-01</th>\n",
       "      <td>2018</td>\n",
       "      <td>1</td>\n",
       "      <td>1</td>\n",
       "      <td>0</td>\n",
       "      <td>15</td>\n",
       "      <td>22</td>\n",
       "      <td>12</td>\n",
       "      <td>1.0</td>\n",
       "      <td>1.0</td>\n",
       "      <td>2</td>\n",
       "      <td>6.0</td>\n",
       "      <td>232720.6402</td>\n",
       "    </tr>\n",
       "    <tr>\n",
       "      <th>2018-01-01</th>\n",
       "      <td>2018</td>\n",
       "      <td>1</td>\n",
       "      <td>1</td>\n",
       "      <td>0</td>\n",
       "      <td>30</td>\n",
       "      <td>22</td>\n",
       "      <td>12</td>\n",
       "      <td>1.0</td>\n",
       "      <td>1.0</td>\n",
       "      <td>2</td>\n",
       "      <td>6.0</td>\n",
       "      <td>231685.6891</td>\n",
       "    </tr>\n",
       "    <tr>\n",
       "      <th>2018-01-01</th>\n",
       "      <td>2018</td>\n",
       "      <td>1</td>\n",
       "      <td>1</td>\n",
       "      <td>0</td>\n",
       "      <td>45</td>\n",
       "      <td>22</td>\n",
       "      <td>12</td>\n",
       "      <td>1.0</td>\n",
       "      <td>1.0</td>\n",
       "      <td>2</td>\n",
       "      <td>6.0</td>\n",
       "      <td>227581.3317</td>\n",
       "    </tr>\n",
       "    <tr>\n",
       "      <th>2018-01-01</th>\n",
       "      <td>2018</td>\n",
       "      <td>1</td>\n",
       "      <td>1</td>\n",
       "      <td>1</td>\n",
       "      <td>0</td>\n",
       "      <td>22</td>\n",
       "      <td>12</td>\n",
       "      <td>1.0</td>\n",
       "      <td>1.0</td>\n",
       "      <td>2</td>\n",
       "      <td>6.0</td>\n",
       "      <td>233482.4269</td>\n",
       "    </tr>\n",
       "  </tbody>\n",
       "</table>\n",
       "</div>"
      ],
      "text/plain": [
       "               年  月  日  时   分  最高温度  最低温度  白天天气  夜晚天气  风向   风力    总有功功率（kw）\n",
       "日期                                                                         \n",
       "2018-01-01  2018  1  1  0   0    22    12   1.0   1.0   2  6.0  244033.7682\n",
       "2018-01-01  2018  1  1  0  15    22    12   1.0   1.0   2  6.0  232720.6402\n",
       "2018-01-01  2018  1  1  0  30    22    12   1.0   1.0   2  6.0  231685.6891\n",
       "2018-01-01  2018  1  1  0  45    22    12   1.0   1.0   2  6.0  227581.3317\n",
       "2018-01-01  2018  1  1  1   0    22    12   1.0   1.0   2  6.0  233482.4269"
      ]
     },
     "execution_count": 92,
     "metadata": {},
     "output_type": "execute_result"
    }
   ],
   "source": [
    "df_15['日期'] = pd.to_datetime(df_15['日期'], format=\"%Y-%m-%d %H:%M:%S\")\n",
    "df_15.index = df_15.日期\n",
    "df_15.drop(columns=['日期'], axis=1, inplace=True)\n",
    "df_15.head()"
   ]
  },
  {
   "cell_type": "code",
   "execution_count": null,
   "metadata": {},
   "outputs": [],
   "source": [
    "val_15= df_15.values"
   ]
  },
  {
   "cell_type": "markdown",
   "metadata": {},
   "source": [
    "### 归一化"
   ]
  },
  {
   "cell_type": "code",
   "execution_count": null,
   "metadata": {},
   "outputs": [],
   "source": [
    "# 归一化\n",
    "from sklearn.preprocessing import MinMaxScaler\n",
    "sc = MinMaxScaler(feature_range = (0, 1))\n",
    "val_15 = sc.fit_transform(val_15)"
   ]
  },
  {
   "cell_type": "markdown",
   "metadata": {},
   "source": [
    "### 切分数据集"
   ]
  },
  {
   "cell_type": "code",
   "execution_count": null,
   "metadata": {},
   "outputs": [],
   "source": [
    "# 准备X和y数据，先用最近一天的23：45这个时刻的功率最为第一个y，然后这个时刻的前 96个时刻的功率作为X\n",
    "# 这样依次往前推，依次往前准备出大量的 X 和 y，用于后面的训练。\n",
    "X = []\n",
    "y = []\n",
    "for i in range(96*10, len(val_15)):\n",
    "    X.append(val_15[i-96*10:i])\n",
    "    y.append(val_15[i, val_area.shape[1] - 1])\n",
    "# X_train, y_train = np.array(X_train), np.array(y_train)"
   ]
  },
  {
   "cell_type": "code",
   "execution_count": null,
   "metadata": {},
   "outputs": [],
   "source": [
    "X_train, y_train= np.array(X[0:100000]), np.array(y[0:100000])\n",
    "X_test, y_test= np.array(X[100000:len(X)]), np.array(y[100000:len(X)])"
   ]
  },
  {
   "cell_type": "code",
   "execution_count": 97,
   "metadata": {},
   "outputs": [
    {
     "name": "stdout",
     "output_type": "stream",
     "text": [
      "(100000, 96, 12) (100000,) (27676, 96, 12) (27676,)\n"
     ]
    }
   ],
   "source": [
    "print(X_train.shape, y_train.shape, X_test.shape, y_test.shape)"
   ]
  },
  {
   "cell_type": "markdown",
   "metadata": {},
   "source": [
    "### 构建模型"
   ]
  },
  {
   "cell_type": "code",
   "execution_count": 98,
   "metadata": {},
   "outputs": [],
   "source": [
    "# 导入模型\n",
    "model2 = tf.keras.models.load_model('./model/1-（2）')"
   ]
  },
  {
   "cell_type": "code",
   "execution_count": 99,
   "metadata": {
    "scrolled": true
   },
   "outputs": [],
   "source": [
    "# 模型构建\n",
    "# model2 = tf.keras.Sequential(\n",
    "#     [tf.keras.layers.LSTM(units = 64, return_sequences = True, input_shape = (X_train.shape[1], X_train.shape[2])),\n",
    "#      tf.keras.layers.Dropout(0.2),\n",
    "     \n",
    "#      tf.keras.layers.LSTM(units = 32),\n",
    "#      tf.keras.layers.Dropout(0.2),\n",
    "     \n",
    "#      tf.keras.layers.Dense(1)]\n",
    "# )"
   ]
  },
  {
   "cell_type": "code",
   "execution_count": 100,
   "metadata": {},
   "outputs": [],
   "source": [
    "# 模型编译\n",
    "# model2.compile(optimizer = 'adam', loss = 'mse')"
   ]
  },
  {
   "cell_type": "code",
   "execution_count": 101,
   "metadata": {},
   "outputs": [
    {
     "name": "stdout",
     "output_type": "stream",
     "text": [
      "Model: \"sequential_1\"\n",
      "_________________________________________________________________\n",
      "Layer (type)                 Output Shape              Param #   \n",
      "=================================================================\n",
      "lstm_2 (LSTM)                (None, 96, 64)            19712     \n",
      "_________________________________________________________________\n",
      "dropout_2 (Dropout)          (None, 96, 64)            0         \n",
      "_________________________________________________________________\n",
      "lstm_3 (LSTM)                (None, 32)                12416     \n",
      "_________________________________________________________________\n",
      "dropout_3 (Dropout)          (None, 32)                0         \n",
      "_________________________________________________________________\n",
      "dense_1 (Dense)              (None, 1)                 33        \n",
      "=================================================================\n",
      "Total params: 32,161\n",
      "Trainable params: 32,161\n",
      "Non-trainable params: 0\n",
      "_________________________________________________________________\n"
     ]
    }
   ],
   "source": [
    "model2.summary()#显示模型概况参数"
   ]
  },
  {
   "cell_type": "code",
   "execution_count": 102,
   "metadata": {},
   "outputs": [],
   "source": [
    "# callbacks=[\n",
    "#     keras.callbacks.EarlyStopping(patience=5,min_delta=1e-3)\n",
    "# ]"
   ]
  },
  {
   "cell_type": "code",
   "execution_count": 103,
   "metadata": {
    "scrolled": true
   },
   "outputs": [],
   "source": [
    "# 模型训练\n",
    "# model2.fit(X_train, y_train, epochs = 100, batch_size = 32, callbacks = callbacks)\n",
    "# model2.fit(X_train, y_train, epochs = 100, batch_size = 32)"
   ]
  },
  {
   "cell_type": "code",
   "execution_count": 104,
   "metadata": {},
   "outputs": [],
   "source": [
    "# # 保存模型\n",
    "# path_save_model = './model/1-（2）'\n",
    "# model2.save(path_save_model, overwrite=True)"
   ]
  },
  {
   "cell_type": "markdown",
   "metadata": {},
   "source": [
    "### 模型评估"
   ]
  },
  {
   "cell_type": "code",
   "execution_count": 105,
   "metadata": {},
   "outputs": [],
   "source": [
    "pred_y = model2.predict(X_test)"
   ]
  },
  {
   "cell_type": "code",
   "execution_count": 106,
   "metadata": {},
   "outputs": [
    {
     "data": {
      "text/plain": [
       "-5.123289378686803"
      ]
     },
     "execution_count": 106,
     "metadata": {},
     "output_type": "execute_result"
    }
   ],
   "source": [
    "r2_score(y_test, pred_y)"
   ]
  },
  {
   "cell_type": "code",
   "execution_count": 107,
   "metadata": {},
   "outputs": [
    {
     "name": "stdout",
     "output_type": "stream",
     "text": [
      "865/865 [==============================] - 11s 11ms/step - loss: 0.0951\n"
     ]
    },
    {
     "data": {
      "text/plain": [
       "0.09512212872505188"
      ]
     },
     "execution_count": 107,
     "metadata": {},
     "output_type": "execute_result"
    }
   ],
   "source": [
    "model2.evaluate(X_test, y_test)"
   ]
  },
  {
   "cell_type": "markdown",
   "metadata": {},
   "source": [
    "### 模型预测"
   ]
  },
  {
   "cell_type": "code",
   "execution_count": null,
   "metadata": {},
   "outputs": [],
   "source": []
  }
 ],
 "metadata": {
  "interpreter": {
   "hash": "066d9ce016bef72055fe5063a7387b7348d7a85c104ac0370113ef2a32ee37a8"
  },
  "kernelspec": {
   "display_name": "Python 3.6.13 ('image_env')",
   "language": "python",
   "name": "python3"
  },
  "language_info": {
   "codemirror_mode": {
    "name": "ipython",
    "version": 3
   },
   "file_extension": ".py",
   "mimetype": "text/x-python",
   "name": "python",
   "nbconvert_exporter": "python",
   "pygments_lexer": "ipython3",
   "version": "3.6.13"
  },
  "toc": {
   "base_numbering": 1,
   "nav_menu": {},
   "number_sections": true,
   "sideBar": true,
   "skip_h1_title": false,
   "title_cell": "Table of Contents",
   "title_sidebar": "Contents",
   "toc_cell": false,
   "toc_position": {
    "height": "calc(100% - 180px)",
    "left": "10px",
    "top": "150px",
    "width": "270px"
   },
   "toc_section_display": true,
   "toc_window_display": true
  }
 },
 "nbformat": 4,
 "nbformat_minor": 4
}
