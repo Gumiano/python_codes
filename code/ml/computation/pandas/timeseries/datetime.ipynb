{
 "cells": [
  {
   "cell_type": "markdown",
   "metadata": {},
   "source": [
    "### 名词解释"
   ]
  },
  {
   "cell_type": "markdown",
   "metadata": {},
   "source": [
    "类型|说明\n",
    "|-|-|\n",
    "date|公历形式存储的日历日期(年、月、日)\n",
    "time| 将时间存储为时、分、秒、毫秒\n",
    "datetime | 存储日期和时间\n",
    "timedelta | 两个datetime值之间的差(日、秒、毫秒)"
   ]
  },
  {
   "cell_type": "markdown",
   "metadata": {},
   "source": [
    "## 字符串解析为时间/字符串和日期的转换"
   ]
  },
  {
   "cell_type": "markdown",
   "metadata": {},
   "source": [
    "### datetime\n",
    "以毫秒形式存储日期和时间"
   ]
  },
  {
   "cell_type": "code",
   "execution_count": 27,
   "metadata": {},
   "outputs": [],
   "source": [
    "from datetime import datetime\n",
    "import pandas as pd"
   ]
  },
  {
   "cell_type": "code",
   "execution_count": 4,
   "metadata": {},
   "outputs": [
    {
     "data": {
      "text/plain": [
       "datetime.datetime(2022, 5, 20, 16, 47, 25, 253281)"
      ]
     },
     "execution_count": 4,
     "metadata": {},
     "output_type": "execute_result"
    }
   ],
   "source": [
    "now = datetime.now()\n",
    "now"
   ]
  },
  {
   "cell_type": "code",
   "execution_count": 5,
   "metadata": {},
   "outputs": [
    {
     "data": {
      "text/plain": [
       "(2022, 5, 20)"
      ]
     },
     "execution_count": 5,
     "metadata": {},
     "output_type": "execute_result"
    }
   ],
   "source": [
    "now.year, now.month, now.day"
   ]
  },
  {
   "cell_type": "code",
   "execution_count": 7,
   "metadata": {},
   "outputs": [
    {
     "data": {
      "text/plain": [
       "datetime.timedelta(days=926, seconds=56700)"
      ]
     },
     "execution_count": 7,
     "metadata": {},
     "output_type": "execute_result"
    }
   ],
   "source": [
    "# timedelta表示两个datetime对象之间的时间差\n",
    "delta = datetime(2011, 1, 7) - datetime(2008, 6, 24, 8, 15)\n",
    "delta"
   ]
  },
  {
   "cell_type": "code",
   "execution_count": 8,
   "metadata": {},
   "outputs": [
    {
     "data": {
      "text/plain": [
       "(926, 56700)"
      ]
     },
     "execution_count": 8,
     "metadata": {},
     "output_type": "execute_result"
    }
   ],
   "source": [
    "delta.days, delta.seconds"
   ]
  },
  {
   "cell_type": "code",
   "execution_count": 14,
   "metadata": {},
   "outputs": [
    {
     "data": {
      "text/plain": [
       "datetime.datetime(2011, 1, 19, 0, 0)"
      ]
     },
     "execution_count": 14,
     "metadata": {},
     "output_type": "execute_result"
    }
   ],
   "source": [
    "# datetime对象加上（或减去）一个或多个timedelta，这样会产生一个新对象\n",
    "from datetime import timedelta\n",
    "start = datetime(2011, 1, 7)\n",
    "start + timedelta(12)"
   ]
  },
  {
   "cell_type": "code",
   "execution_count": 15,
   "metadata": {},
   "outputs": [
    {
     "data": {
      "text/plain": [
       "datetime.datetime(2010, 12, 14, 0, 0)"
      ]
     },
     "execution_count": 15,
     "metadata": {},
     "output_type": "execute_result"
    }
   ],
   "source": [
    "start - 2 * timedelta(12)"
   ]
  },
  {
   "cell_type": "markdown",
   "metadata": {},
   "source": [
    "### 字符串和datetime的互相转换"
   ]
  },
  {
   "cell_type": "code",
   "execution_count": 18,
   "metadata": {},
   "outputs": [
    {
     "data": {
      "text/plain": [
       "datetime.datetime(2011, 1, 3, 0, 0)"
      ]
     },
     "execution_count": 18,
     "metadata": {},
     "output_type": "execute_result"
    }
   ],
   "source": [
    "# datetime, Timestamp -> 字符串\n",
    "stamp = datetime(2011, 1, 3)\n",
    "stamp"
   ]
  },
  {
   "cell_type": "code",
   "execution_count": 19,
   "metadata": {},
   "outputs": [
    {
     "data": {
      "text/plain": [
       "'2011-01-03 00:00:00'"
      ]
     },
     "execution_count": 19,
     "metadata": {},
     "output_type": "execute_result"
    }
   ],
   "source": [
    "str(stamp)"
   ]
  },
  {
   "cell_type": "code",
   "execution_count": 20,
   "metadata": {},
   "outputs": [
    {
     "data": {
      "text/plain": [
       "'2011-01-03'"
      ]
     },
     "execution_count": 20,
     "metadata": {},
     "output_type": "execute_result"
    }
   ],
   "source": [
    "stamp.strftime('%Y-%m-%d') # 格式化地转换方法"
   ]
  },
  {
   "cell_type": "markdown",
   "metadata": {},
   "source": [
    "#### 手动解析"
   ]
  },
  {
   "cell_type": "code",
   "execution_count": 21,
   "metadata": {},
   "outputs": [
    {
     "data": {
      "text/plain": [
       "datetime.datetime(2011, 1, 3, 0, 0)"
      ]
     },
     "execution_count": 21,
     "metadata": {},
     "output_type": "execute_result"
    }
   ],
   "source": [
    "# 字符串 -> datetime\n",
    "value = '2011-01-03'\n",
    "datetime.strptime(value, '%Y-%m-%d') # 通过已知格式对进行日期解析"
   ]
  },
  {
   "cell_type": "code",
   "execution_count": 23,
   "metadata": {},
   "outputs": [
    {
     "data": {
      "text/plain": [
       "[datetime.datetime(2011, 7, 6, 0, 0), datetime.datetime(2011, 8, 6, 0, 0)]"
      ]
     },
     "execution_count": 23,
     "metadata": {},
     "output_type": "execute_result"
    }
   ],
   "source": [
    "datestrs = ['7/6/2011', '8/6/2011']\n",
    "[datetime.strptime(x, '%m/%d/%Y') for x in datestrs]"
   ]
  },
  {
   "cell_type": "markdown",
   "metadata": {},
   "source": [
    "#### dateutil辅助解析"
   ]
  },
  {
   "cell_type": "markdown",
   "metadata": {},
   "source": [
    "每次编写格式定义比较麻烦，而dateutil这个第三方包中的parser.parse方法（pandas中已经自动安装好了）封装了常见的日期格式(format)\n",
    "+ dateutil可以解析几乎所有人类能够理解的日期表示形式\n",
    "+ dateutil.parser是一个实用但不完美的工具。\n",
    "  + 比如说，它会把一些原本不是日期的字符串认作是日期"
   ]
  },
  {
   "cell_type": "code",
   "execution_count": 24,
   "metadata": {},
   "outputs": [
    {
     "data": {
      "text/plain": [
       "datetime.datetime(2011, 1, 3, 0, 0)"
      ]
     },
     "execution_count": 24,
     "metadata": {},
     "output_type": "execute_result"
    }
   ],
   "source": [
    "from dateutil.parser import parse\n",
    "parse('2011-01-03')"
   ]
  },
  {
   "cell_type": "code",
   "execution_count": 25,
   "metadata": {},
   "outputs": [
    {
     "data": {
      "text/plain": [
       "datetime.datetime(1997, 1, 31, 22, 45)"
      ]
     },
     "execution_count": 25,
     "metadata": {},
     "output_type": "execute_result"
    }
   ],
   "source": [
    "parse('Jan 31, 1997 10:45 PM') # 默认年在日之前"
   ]
  },
  {
   "cell_type": "code",
   "execution_count": 26,
   "metadata": {},
   "outputs": [
    {
     "data": {
      "text/plain": [
       "datetime.datetime(2011, 12, 6, 0, 0)"
      ]
     },
     "execution_count": 26,
     "metadata": {},
     "output_type": "execute_result"
    }
   ],
   "source": [
    "parse('6/12/2011', dayfirst=True) # 通过dayfirst参数表明日在年之前"
   ]
  },
  {
   "cell_type": "markdown",
   "metadata": {},
   "source": [
    "#### 同时解析不同格式的日期字符串"
   ]
  },
  {
   "cell_type": "markdown",
   "metadata": {},
   "source": [
    "to_datetime方法可以解析多种不同的日期表示形式\n",
    "+ 对标准日期格式（如ISO8601）的解析非常快："
   ]
  },
  {
   "cell_type": "code",
   "execution_count": 29,
   "metadata": {},
   "outputs": [
    {
     "data": {
      "text/plain": [
       "DatetimeIndex(['2011-07-06 12:00:00', '2011-08-06 00:00:00'], dtype='datetime64[ns]', freq=None)"
      ]
     },
     "execution_count": 29,
     "metadata": {},
     "output_type": "execute_result"
    }
   ],
   "source": [
    "datestrs = ['2011-07-06 12:00:00', '2011-08-06 00:00:00']\n",
    "pd.to_datetime(datestrs)"
   ]
  },
  {
   "cell_type": "code",
   "execution_count": 31,
   "metadata": {},
   "outputs": [
    {
     "data": {
      "text/plain": [
       "DatetimeIndex(['2011-07-06 12:00:00', '2011-08-06 00:00:00', 'NaT'], dtype='datetime64[ns]', freq=None)"
      ]
     },
     "execution_count": 31,
     "metadata": {},
     "output_type": "execute_result"
    }
   ],
   "source": [
    "# 可以自动解析缺失值数据\n",
    "# NaT（Not a Time）是pandas中时间戳数据的null值\n",
    "idx = pd.to_datetime(datestrs + [None])\n",
    "idx"
   ]
  },
  {
   "cell_type": "code",
   "execution_count": 32,
   "metadata": {},
   "outputs": [
    {
     "data": {
      "text/plain": [
       "array([False, False,  True])"
      ]
     },
     "execution_count": 32,
     "metadata": {},
     "output_type": "execute_result"
    }
   ],
   "source": [
    "pd.isnull(idx)"
   ]
  },
  {
   "cell_type": "markdown",
   "metadata": {},
   "source": [
    "## pandas中datetime的使用\n",
    "pandas最基本的时间序列类型就是以时间戳\n",
    "\n",
    "+ 作为索引的datetime被放在DatetimeIndex对象中，各个datetime变为pandas的Timestamp标量值对象，只要有需要，TimeStamp可以随时自动转换为datetime对象\n",
    "+ pandas用NumPy的datetime64数据类型以纳秒形式存储时间戳"
   ]
  },
  {
   "cell_type": "code",
   "execution_count": 35,
   "metadata": {},
   "outputs": [
    {
     "data": {
      "text/plain": [
       "2011-01-02    0.153997\n",
       "2011-01-05   -1.183854\n",
       "2011-01-07   -0.996456\n",
       "2011-01-08    1.847443\n",
       "2011-01-10    2.252554\n",
       "2011-01-12    0.080305\n",
       "dtype: float64"
      ]
     },
     "execution_count": 35,
     "metadata": {},
     "output_type": "execute_result"
    }
   ],
   "source": [
    "from datetime import datetime\n",
    "import numpy as np\n",
    "dates = [datetime(2011, 1, 2), datetime(2011, 1, 5),\n",
    "         datetime(2011, 1, 7), datetime(2011, 1, 8),\n",
    "         datetime(2011, 1, 10), datetime(2011, 1, 12)]\n",
    "ts = pd.Series(np.random.randn(6), index=dates)\n",
    "ts"
   ]
  },
  {
   "cell_type": "code",
   "execution_count": 36,
   "metadata": {},
   "outputs": [
    {
     "data": {
      "text/plain": [
       "DatetimeIndex(['2011-01-02', '2011-01-05', '2011-01-07', '2011-01-08',\n",
       "               '2011-01-10', '2011-01-12'],\n",
       "              dtype='datetime64[ns]', freq=None)"
      ]
     },
     "execution_count": 36,
     "metadata": {},
     "output_type": "execute_result"
    }
   ],
   "source": [
    "ts.index"
   ]
  },
  {
   "cell_type": "code",
   "execution_count": 37,
   "metadata": {},
   "outputs": [
    {
     "data": {
      "text/plain": [
       "dtype('<M8[ns]')"
      ]
     },
     "execution_count": 37,
     "metadata": {},
     "output_type": "execute_result"
    }
   ],
   "source": [
    "ts.index.dtype"
   ]
  },
  {
   "cell_type": "code",
   "execution_count": 38,
   "metadata": {},
   "outputs": [
    {
     "data": {
      "text/plain": [
       "Timestamp('2011-01-02 00:00:00')"
      ]
     },
     "execution_count": 38,
     "metadata": {},
     "output_type": "execute_result"
    }
   ],
   "source": [
    "ts.index[0]"
   ]
  },
  {
   "cell_type": "markdown",
   "metadata": {},
   "source": [
    "### 索引、切片、截取\n",
    "\n",
    "+ 利用字符串日期、datetime或Timestamp切片所产生的是原时间序列的视图\n",
    "+ 而截取和通过索引重新创建Series和"
   ]
  },
  {
   "cell_type": "code",
   "execution_count": 39,
   "metadata": {},
   "outputs": [
    {
     "data": {
      "text/plain": [
       "-0.9964556899554602"
      ]
     },
     "execution_count": 39,
     "metadata": {},
     "output_type": "execute_result"
    }
   ],
   "source": [
    "# 方式一：通过标签进行索引\n",
    "stamp = ts.index[2]\n",
    "ts[stamp]"
   ]
  },
  {
   "cell_type": "code",
   "execution_count": 43,
   "metadata": {},
   "outputs": [
    {
     "name": "stdout",
     "output_type": "stream",
     "text": [
      "2.252554490234618\n",
      "2.252554490234618\n"
     ]
    }
   ],
   "source": [
    "# 方式二：通过可以被解释为日期的字符串进行索引\n",
    "# 对于比较长的时间序列，只需传入“年”或“年月”即可轻松选取数据的切片\n",
    "print(ts['1/10/2011'])\n",
    "print(ts['20110110'])"
   ]
  },
  {
   "cell_type": "code",
   "execution_count": 42,
   "metadata": {},
   "outputs": [
    {
     "data": {
      "text/plain": [
       "2000-01-01    1.321602\n",
       "2000-01-02    0.869775\n",
       "2000-01-03   -0.216551\n",
       "2000-01-04    0.486702\n",
       "2000-01-05   -0.864972\n",
       "                ...   \n",
       "2002-09-22   -0.048540\n",
       "2002-09-23   -1.029282\n",
       "2002-09-24    2.585740\n",
       "2002-09-25   -0.135398\n",
       "2002-09-26   -0.324830\n",
       "Freq: D, Length: 1000, dtype: float64"
      ]
     },
     "execution_count": 42,
     "metadata": {},
     "output_type": "execute_result"
    }
   ],
   "source": [
    "longer_ts = pd.Series(np.random.randn(1000),\n",
    "                      index=pd.date_range('1/1/2000', periods=1000))\n",
    "longer_ts"
   ]
  },
  {
   "cell_type": "code",
   "execution_count": 44,
   "metadata": {},
   "outputs": [
    {
     "data": {
      "text/plain": [
       "2001-01-01   -0.043641\n",
       "2001-01-02    0.630063\n",
       "2001-01-03    1.252487\n",
       "2001-01-04    1.002574\n",
       "2001-01-05   -0.989158\n",
       "                ...   \n",
       "2001-12-27    1.892158\n",
       "2001-12-28    1.808449\n",
       "2001-12-29   -0.129285\n",
       "2001-12-30    0.338748\n",
       "2001-12-31   -1.548591\n",
       "Freq: D, Length: 365, dtype: float64"
      ]
     },
     "execution_count": 44,
     "metadata": {},
     "output_type": "execute_result"
    }
   ],
   "source": [
    "longer_ts['2001'] # 解释为年"
   ]
  },
  {
   "cell_type": "code",
   "execution_count": 46,
   "metadata": {},
   "outputs": [
    {
     "data": {
      "text/plain": [
       "2001-12-01   -0.782002\n",
       "2001-12-02   -1.358875\n",
       "2001-12-03   -1.401515\n",
       "2001-12-04    0.600647\n",
       "2001-12-05   -0.799351\n",
       "2001-12-06    0.249229\n",
       "2001-12-07   -2.000473\n",
       "2001-12-08    0.002088\n",
       "2001-12-09    0.431282\n",
       "2001-12-10    1.016692\n",
       "2001-12-11    0.449250\n",
       "2001-12-12    1.184704\n",
       "2001-12-13    0.476502\n",
       "2001-12-14   -1.726572\n",
       "2001-12-15   -0.258082\n",
       "2001-12-16   -0.181253\n",
       "2001-12-17   -0.048411\n",
       "2001-12-18    1.231630\n",
       "2001-12-19   -0.215196\n",
       "2001-12-20   -0.204083\n",
       "2001-12-21   -0.690289\n",
       "2001-12-22    0.404661\n",
       "2001-12-23    0.195217\n",
       "2001-12-24    0.137903\n",
       "2001-12-25    0.727022\n",
       "2001-12-26   -0.707786\n",
       "2001-12-27    1.892158\n",
       "2001-12-28    1.808449\n",
       "2001-12-29   -0.129285\n",
       "2001-12-30    0.338748\n",
       "2001-12-31   -1.548591\n",
       "Freq: D, dtype: float64"
      ]
     },
     "execution_count": 46,
     "metadata": {},
     "output_type": "execute_result"
    }
   ],
   "source": [
    "longer_ts['2001-12'] # 解释为年-月"
   ]
  },
  {
   "cell_type": "code",
   "execution_count": 49,
   "metadata": {},
   "outputs": [
    {
     "name": "stdout",
     "output_type": "stream",
     "text": [
      "2011-01-07   -0.996456\n",
      "2011-01-08    1.847443\n",
      "2011-01-10    2.252554\n",
      "2011-01-12    0.080305\n",
      "dtype: float64\n",
      "2011-01-07   -0.996456\n",
      "2011-01-08    1.847443\n",
      "2011-01-10    2.252554\n",
      "dtype: float64\n"
     ]
    }
   ],
   "source": [
    "# 方式三：利用datetime对象进行切片\n",
    "print(ts[datetime(2011, 1, 7):])"
   ]
  },
  {
   "cell_type": "code",
   "execution_count": null,
   "metadata": {},
   "outputs": [],
   "source": [
    "# 上述两种切片方法也可以用不存在于该时间序列中的时间戳对其进行切片(范围查询)\n",
    "# 这是因为大部分时间序列数据都是按照时间先后进行排序\n",
    "print(ts['1/6/2011':'1/11/2011'])"
   ]
  },
  {
   "cell_type": "code",
   "execution_count": 50,
   "metadata": {},
   "outputs": [
    {
     "data": {
      "text/plain": [
       "2011-01-02    0.153997\n",
       "2011-01-05   -1.183854\n",
       "2011-01-07   -0.996456\n",
       "2011-01-08    1.847443\n",
       "dtype: float64"
      ]
     },
     "execution_count": 50,
     "metadata": {},
     "output_type": "execute_result"
    }
   ],
   "source": [
    "# 截取两个日期之间TimeSeries\n",
    "ts.truncate(after='1/9/2011')"
   ]
  },
  {
   "cell_type": "code",
   "execution_count": 53,
   "metadata": {},
   "outputs": [
    {
     "data": {
      "text/html": [
       "<div>\n",
       "<style scoped>\n",
       "    .dataframe tbody tr th:only-of-type {\n",
       "        vertical-align: middle;\n",
       "    }\n",
       "\n",
       "    .dataframe tbody tr th {\n",
       "        vertical-align: top;\n",
       "    }\n",
       "\n",
       "    .dataframe thead th {\n",
       "        text-align: right;\n",
       "    }\n",
       "</style>\n",
       "<table border=\"1\" class=\"dataframe\">\n",
       "  <thead>\n",
       "    <tr style=\"text-align: right;\">\n",
       "      <th></th>\n",
       "      <th>Colorado</th>\n",
       "      <th>Texas</th>\n",
       "      <th>New York</th>\n",
       "      <th>Ohio</th>\n",
       "    </tr>\n",
       "  </thead>\n",
       "  <tbody>\n",
       "    <tr>\n",
       "      <th>2001-05-02</th>\n",
       "      <td>-0.501903</td>\n",
       "      <td>1.400425</td>\n",
       "      <td>0.676597</td>\n",
       "      <td>-1.142004</td>\n",
       "    </tr>\n",
       "    <tr>\n",
       "      <th>2001-05-09</th>\n",
       "      <td>0.378599</td>\n",
       "      <td>-0.689588</td>\n",
       "      <td>0.999881</td>\n",
       "      <td>1.408075</td>\n",
       "    </tr>\n",
       "    <tr>\n",
       "      <th>2001-05-16</th>\n",
       "      <td>-0.743081</td>\n",
       "      <td>0.210696</td>\n",
       "      <td>2.367079</td>\n",
       "      <td>0.302545</td>\n",
       "    </tr>\n",
       "    <tr>\n",
       "      <th>2001-05-23</th>\n",
       "      <td>-0.328865</td>\n",
       "      <td>0.022784</td>\n",
       "      <td>0.217754</td>\n",
       "      <td>1.403359</td>\n",
       "    </tr>\n",
       "    <tr>\n",
       "      <th>2001-05-30</th>\n",
       "      <td>0.346795</td>\n",
       "      <td>-0.141705</td>\n",
       "      <td>-0.502711</td>\n",
       "      <td>-0.378505</td>\n",
       "    </tr>\n",
       "  </tbody>\n",
       "</table>\n",
       "</div>"
      ],
      "text/plain": [
       "            Colorado     Texas  New York      Ohio\n",
       "2001-05-02 -0.501903  1.400425  0.676597 -1.142004\n",
       "2001-05-09  0.378599 -0.689588  0.999881  1.408075\n",
       "2001-05-16 -0.743081  0.210696  2.367079  0.302545\n",
       "2001-05-23 -0.328865  0.022784  0.217754  1.403359\n",
       "2001-05-30  0.346795 -0.141705 -0.502711 -0.378505"
      ]
     },
     "execution_count": 53,
     "metadata": {},
     "output_type": "execute_result"
    }
   ],
   "source": [
    "# DataFrame的上述操作同样有效\n",
    "dates = pd.date_range('1/1/2000', periods=100, freq='W-WED') # 通过范围创建时间索引\n",
    "long_df = pd.DataFrame(np.random.randn(100, 4),\n",
    "                       index=dates,\n",
    "                       columns=['Colorado', 'Texas', 'New York', 'Ohio'])\n",
    "long_df.loc['5-2001']"
   ]
  },
  {
   "cell_type": "markdown",
   "metadata": {},
   "source": [
    "### 重复索引"
   ]
  },
  {
   "cell_type": "code",
   "execution_count": 56,
   "metadata": {},
   "outputs": [
    {
     "data": {
      "text/plain": [
       "2000-01-01    0\n",
       "2000-01-02    1\n",
       "2000-01-02    2\n",
       "2000-01-02    3\n",
       "2000-01-03    4\n",
       "dtype: int64"
      ]
     },
     "execution_count": 56,
     "metadata": {},
     "output_type": "execute_result"
    }
   ],
   "source": [
    "dates = pd.DatetimeIndex(['1/1/2000', '1/2/2000', '1/2/2000',\n",
    "                          '1/2/2000', '1/3/2000'])\n",
    "dup_ts = pd.Series(np.arange(5), index=dates)\n",
    "dup_ts"
   ]
  },
  {
   "cell_type": "code",
   "execution_count": 57,
   "metadata": {},
   "outputs": [
    {
     "data": {
      "text/plain": [
       "False"
      ]
     },
     "execution_count": 57,
     "metadata": {},
     "output_type": "execute_result"
    }
   ],
   "source": [
    "# 检查是否唯一\n",
    "dup_ts.index.is_unique"
   ]
  },
  {
   "cell_type": "code",
   "execution_count": 58,
   "metadata": {},
   "outputs": [
    {
     "name": "stdout",
     "output_type": "stream",
     "text": [
      "4\n",
      "2000-01-02    1\n",
      "2000-01-02    2\n",
      "2000-01-02    3\n",
      "dtype: int64\n"
     ]
    }
   ],
   "source": [
    "# 这时候索引可能会产生不同标量或切片\n",
    "print(dup_ts['1/3/2000'])\n",
    "print(dup_ts['1/2/2000'])"
   ]
  },
  {
   "cell_type": "code",
   "execution_count": 62,
   "metadata": {},
   "outputs": [
    {
     "name": "stdout",
     "output_type": "stream",
     "text": [
      "2000-01-01    0.0\n",
      "2000-01-02    2.0\n",
      "2000-01-03    4.0\n",
      "dtype: float64\n",
      "2000-01-01    1\n",
      "2000-01-02    3\n",
      "2000-01-03    1\n",
      "dtype: int64\n"
     ]
    }
   ],
   "source": [
    "# 对具有非唯一时间戳的数据进行聚合，可以使用groupby，并传入level=0\n",
    "grouped = dup_ts.groupby(level=0)\n",
    "print(grouped.mean())\n",
    "print(grouped.count())"
   ]
  },
  {
   "cell_type": "markdown",
   "metadata": {},
   "source": [
    "### 重采样、频率推断、范围\n",
    "频率=基础频率*乘数\n",
    "\n",
    "基础频率在Pandas中用日期偏移量表示\n",
    "\n",
    "复杂的频率称为锚点偏移量，其特点是时间点间隔不是固定的\n",
    "\n",
    "+ 用户可以根据实际需求自定义一些频率类以便提供pandas所没有的日期逻辑"
   ]
  },
  {
   "cell_type": "code",
   "execution_count": 63,
   "metadata": {},
   "outputs": [
    {
     "data": {
      "text/plain": [
       "2011-01-02    0.153997\n",
       "2011-01-05   -1.183854\n",
       "2011-01-07   -0.996456\n",
       "2011-01-08    1.847443\n",
       "2011-01-10    2.252554\n",
       "2011-01-12    0.080305\n",
       "dtype: float64"
      ]
     },
     "execution_count": 63,
     "metadata": {},
     "output_type": "execute_result"
    }
   ],
   "source": [
    "ts"
   ]
  },
  {
   "cell_type": "code",
   "execution_count": 67,
   "metadata": {},
   "outputs": [
    {
     "data": {
      "text/plain": [
       "<pandas.core.resample.DatetimeIndexResampler object at 0x7f98ea367d00>"
      ]
     },
     "execution_count": 67,
     "metadata": {},
     "output_type": "execute_result"
    }
   ],
   "source": [
    "# 通过重采样转换固定频率（每日）的时间序列\n",
    "resampler = ts.resample('D')\n",
    "resampler"
   ]
  },
  {
   "cell_type": "code",
   "execution_count": 72,
   "metadata": {},
   "outputs": [
    {
     "data": {
      "text/plain": [
       "20"
      ]
     },
     "execution_count": 72,
     "metadata": {},
     "output_type": "execute_result"
    }
   ],
   "source": [
    "# 日期范围：根据指定的频率生成指定长度的DatetimeIndex\n",
    "# 频率：默认按天计算时间点\n",
    "# periods: 生成的数据点数\n",
    "# 默认会保留起始和结束时间戳的时间信息\n",
    "index = pd.date_range('2012-04-01', '2012-06-01', periods=20)\n",
    "index"
   ]
  },
  {
   "cell_type": "code",
   "execution_count": 74,
   "metadata": {},
   "outputs": [
    {
     "data": {
      "text/plain": [
       "DatetimeIndex(['2012-04-30', '2012-05-31', '2012-06-29', '2012-07-31',\n",
       "               '2012-08-31', '2012-09-28', '2012-10-31', '2012-11-30',\n",
       "               '2012-12-31', '2013-01-31', '2013-02-28', '2013-03-29',\n",
       "               '2013-04-30', '2013-05-31', '2013-06-28', '2013-07-31',\n",
       "               '2013-08-30', '2013-09-30', '2013-10-31', '2013-11-29'],\n",
       "              dtype='datetime64[ns]', freq='BM')"
      ]
     },
     "execution_count": 74,
     "metadata": {},
     "output_type": "execute_result"
    }
   ],
   "source": [
    "pd.date_range(start='2012-04-01', periods=20, freq='BM')"
   ]
  },
  {
   "cell_type": "code",
   "execution_count": 75,
   "metadata": {},
   "outputs": [
    {
     "data": {
      "text/plain": [
       "DatetimeIndex(['2012-04-30', '2012-05-31', '2012-06-29', '2012-07-31',\n",
       "               '2012-08-31', '2012-09-28', '2012-10-31', '2012-11-30',\n",
       "               '2012-12-31', '2013-01-31', '2013-02-28', '2013-03-29',\n",
       "               '2013-04-30', '2013-05-31', '2013-06-28', '2013-07-31',\n",
       "               '2013-08-30', '2013-09-30', '2013-10-31', '2013-11-29'],\n",
       "              dtype='datetime64[ns]', freq='BM')"
      ]
     },
     "execution_count": 75,
     "metadata": {},
     "output_type": "execute_result"
    }
   ],
   "source": [
    "# normalize自动规范化\n",
    "pd.date_range(start='2012-04-01 12:56:31', periods=20, freq='BM', normalize=True)"
   ]
  },
  {
   "cell_type": "markdown",
   "metadata": {},
   "source": [
    "#### 日期偏移量"
   ]
  },
  {
   "cell_type": "code",
   "execution_count": 76,
   "metadata": {},
   "outputs": [
    {
     "data": {
      "text/plain": [
       "<4 * Hours>"
      ]
     },
     "execution_count": 76,
     "metadata": {},
     "output_type": "execute_result"
    }
   ],
   "source": [
    "from pandas.tseries.offsets import Hour, Minute\n",
    "hour = Hour()\n",
    "4 * hour # 等价于 Hour(4)"
   ]
  },
  {
   "cell_type": "code",
   "execution_count": 77,
   "metadata": {},
   "outputs": [
    {
     "data": {
      "text/plain": [
       "<140 * Minutes>"
      ]
     },
     "execution_count": 77,
     "metadata": {},
     "output_type": "execute_result"
    }
   ],
   "source": [
    "# 不同偏移量对象可以连接\n",
    "Hour(2) + Minute(20)"
   ]
  },
  {
   "cell_type": "code",
   "execution_count": 78,
   "metadata": {},
   "outputs": [
    {
     "data": {
      "text/plain": [
       "DatetimeIndex(['2000-01-01 00:00:00', '2000-01-01 01:30:00',\n",
       "               '2000-01-01 03:00:00', '2000-01-01 04:30:00',\n",
       "               '2000-01-01 06:00:00', '2000-01-01 07:30:00',\n",
       "               '2000-01-01 09:00:00', '2000-01-01 10:30:00',\n",
       "               '2000-01-01 12:00:00', '2000-01-01 13:30:00'],\n",
       "              dtype='datetime64[ns]', freq='90T')"
      ]
     },
     "execution_count": 78,
     "metadata": {},
     "output_type": "execute_result"
    }
   ],
   "source": [
    "pd.date_range('2000-01-01', periods=10, freq='1h30min') # 频率字符串(偏移量进行组合)"
   ]
  },
  {
   "cell_type": "code",
   "execution_count": 83,
   "metadata": {},
   "outputs": [
    {
     "data": {
      "text/plain": [
       "DatetimeIndex(['2012-01-20', '2012-02-17', '2012-03-16', '2012-04-20',\n",
       "               '2012-05-18', '2012-06-15', '2012-07-20', '2012-08-17'],\n",
       "              dtype='datetime64[ns]', freq='WOM-3FRI')"
      ]
     },
     "execution_count": 83,
     "metadata": {},
     "output_type": "execute_result"
    }
   ],
   "source": [
    "# WOM(Week of month)\n",
    "rng = pd.date_range('2012-01-01', '2012-09-01', freq='WOM-3FRI')\n",
    "rng"
   ]
  },
  {
   "cell_type": "markdown",
   "metadata": {},
   "source": [
    "#### 时间序列的移动\n",
    "\n",
    "将数据沿着时间轴前移或后移\n",
    "\n",
    "+ 保持索引不变，所以部分数据会丢失\n",
    "\n",
    "传入频率是对时间戳进行位移，而不是对数据进行位移"
   ]
  },
  {
   "cell_type": "code",
   "execution_count": 85,
   "metadata": {},
   "outputs": [
    {
     "data": {
      "text/plain": [
       "2000-01-31    0.139218\n",
       "2000-02-29    0.699511\n",
       "2000-03-31    0.896206\n",
       "2000-04-30    0.878092\n",
       "Freq: M, dtype: float64"
      ]
     },
     "execution_count": 85,
     "metadata": {},
     "output_type": "execute_result"
    }
   ],
   "source": [
    "ts = pd.Series(np.random.randn(4),\n",
    "               index=pd.date_range('1/1/2000', periods=4, freq='M'))\n",
    "ts"
   ]
  },
  {
   "cell_type": "code",
   "execution_count": 86,
   "metadata": {},
   "outputs": [
    {
     "data": {
      "text/plain": [
       "2000-01-31         NaN\n",
       "2000-02-29         NaN\n",
       "2000-03-31    0.139218\n",
       "2000-04-30    0.699511\n",
       "Freq: M, dtype: float64"
      ]
     },
     "execution_count": 86,
     "metadata": {},
     "output_type": "execute_result"
    }
   ],
   "source": [
    "ts.shift(2) # 后移"
   ]
  },
  {
   "cell_type": "code",
   "execution_count": 87,
   "metadata": {},
   "outputs": [
    {
     "data": {
      "text/plain": [
       "2000-01-31    0.896206\n",
       "2000-02-29    0.878092\n",
       "2000-03-31         NaN\n",
       "2000-04-30         NaN\n",
       "Freq: M, dtype: float64"
      ]
     },
     "execution_count": 87,
     "metadata": {},
     "output_type": "execute_result"
    }
   ],
   "source": [
    "ts.shift(-2) # 前移"
   ]
  },
  {
   "cell_type": "code",
   "execution_count": 88,
   "metadata": {},
   "outputs": [
    {
     "data": {
      "text/plain": [
       "2000-03-31    0.139218\n",
       "2000-04-30    0.699511\n",
       "2000-05-31    0.896206\n",
       "2000-06-30    0.878092\n",
       "Freq: M, dtype: float64"
      ]
     },
     "execution_count": 88,
     "metadata": {},
     "output_type": "execute_result"
    }
   ],
   "source": [
    "# 传入频率，实现对时间戳的位移\n",
    "ts.shift(2, freq='M')"
   ]
  },
  {
   "cell_type": "code",
   "execution_count": 91,
   "metadata": {},
   "outputs": [
    {
     "data": {
      "text/plain": [
       "2000-01-31 01:30:00    0.139218\n",
       "2000-02-29 01:30:00    0.699511\n",
       "2000-03-31 01:30:00    0.896206\n",
       "2000-04-30 01:30:00    0.878092\n",
       "dtype: float64"
      ]
     },
     "execution_count": 91,
     "metadata": {},
     "output_type": "execute_result"
    }
   ],
   "source": [
    "ts.shift(1, freq='90min')"
   ]
  },
  {
   "cell_type": "markdown",
   "metadata": {},
   "source": [
    "#### 偏移量与datetime和Timestamp对象共同计算"
   ]
  },
  {
   "cell_type": "code",
   "execution_count": 93,
   "metadata": {},
   "outputs": [
    {
     "data": {
      "text/plain": [
       "Timestamp('2011-11-10 00:00:00')"
      ]
     },
     "execution_count": 93,
     "metadata": {},
     "output_type": "execute_result"
    }
   ],
   "source": [
    "from pandas.tseries.offsets import Day, MonthEnd\n",
    "now = datetime(2011, 11, 7)\n",
    "now + 3 * Day()"
   ]
  },
  {
   "cell_type": "code",
   "execution_count": 96,
   "metadata": {},
   "outputs": [
    {
     "data": {
      "text/plain": [
       "Timestamp('2011-11-30 00:00:00')"
      ]
     },
     "execution_count": 96,
     "metadata": {},
     "output_type": "execute_result"
    }
   ],
   "source": [
    "# 锚点偏移量，第一次增量会将原日期向前滚动到符合频率规则的下一个日期\n",
    "now + MonthEnd()"
   ]
  },
  {
   "cell_type": "code",
   "execution_count": 97,
   "metadata": {},
   "outputs": [
    {
     "name": "stdout",
     "output_type": "stream",
     "text": [
      "2011-11-30 00:00:00\n",
      "2011-10-31 00:00:00\n"
     ]
    }
   ],
   "source": [
    "offset = MonthEnd()\n",
    "# 锚点偏移量的rollforward和rollback方法，可明确地将日期向前或向后“滚动”\n",
    "print(offset.rollforward(now))\n",
    "print(offset.rollback(now))"
   ]
  },
  {
   "cell_type": "code",
   "execution_count": 99,
   "metadata": {},
   "outputs": [
    {
     "data": {
      "text/plain": [
       "<function MonthEnd.rollforward>"
      ]
     },
     "execution_count": 99,
     "metadata": {},
     "output_type": "execute_result"
    }
   ],
   "source": [
    "offset.rollforward"
   ]
  },
  {
   "cell_type": "code",
   "execution_count": 101,
   "metadata": {},
   "outputs": [
    {
     "data": {
      "text/plain": [
       "2000-01-31    0.547646\n",
       "2000-02-29   -0.311816\n",
       "2000-03-31   -0.742592\n",
       "dtype: float64"
      ]
     },
     "execution_count": 101,
     "metadata": {},
     "output_type": "execute_result"
    }
   ],
   "source": [
    "ts = pd.Series(np.random.randn(20),\n",
    "               index=pd.date_range('1/15/2000', periods=20, freq='4d'))\n",
    "# groupby函数可以接受锚点偏移量对象的rollforward/rollback返回的方法来实现分组\n",
    "ts.groupby(offset.rollforward).mean()"
   ]
  },
  {
   "cell_type": "code",
   "execution_count": null,
   "metadata": {},
   "outputs": [],
   "source": []
  }
 ],
 "metadata": {
  "interpreter": {
   "hash": "0b0003290e5227cf3c16229f11605e0dd9185b071ac644608f8da7e7f109c6f8"
  },
  "kernelspec": {
   "display_name": "Python 3.9.12 ('ds_env')",
   "language": "python",
   "name": "python3"
  },
  "language_info": {
   "codemirror_mode": {
    "name": "ipython",
    "version": 3
   },
   "file_extension": ".py",
   "mimetype": "text/x-python",
   "name": "python",
   "nbconvert_exporter": "python",
   "pygments_lexer": "ipython3",
   "version": "3.9.12"
  },
  "orig_nbformat": 4
 },
 "nbformat": 4,
 "nbformat_minor": 2
}
