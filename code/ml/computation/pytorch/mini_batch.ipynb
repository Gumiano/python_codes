{
 "cells": [
  {
   "cell_type": "code",
   "execution_count": 1,
   "metadata": {},
   "outputs": [],
   "source": [
    "import torch\n",
    "import torch.utils.data as Data"
   ]
  },
  {
   "cell_type": "code",
   "execution_count": 4,
   "metadata": {},
   "outputs": [
    {
     "name": "stdout",
     "output_type": "stream",
     "text": [
      "Epoch:  0 | Step:  0 | batch x:  [3. 5. 2. 4. 7.] | batch y:  [8. 6. 9. 7. 4.]\n",
      "Epoch:  0 | Step:  1 | batch x:  [10.  8.  1.  9.  6.] | batch y:  [ 1.  3. 10.  2.  5.]\n",
      "Epoch:  1 | Step:  0 | batch x:  [3. 2. 5. 1. 9.] | batch y:  [ 8.  9.  6. 10.  2.]\n",
      "Epoch:  1 | Step:  1 | batch x:  [ 4.  6.  8.  7. 10.] | batch y:  [7. 5. 3. 4. 1.]\n",
      "Epoch:  2 | Step:  0 | batch x:  [10.  7.  8.  1.  5.] | batch y:  [ 1.  4.  3. 10.  6.]\n",
      "Epoch:  2 | Step:  1 | batch x:  [3. 6. 4. 2. 9.] | batch y:  [8. 5. 7. 9. 2.]\n"
     ]
    }
   ],
   "source": [
    "BATCH_SIZE = 5\n",
    "x = torch.linspace(1, 10, 10)\n",
    "y = torch.linspace(10, 1, 10)\n",
    "\n",
    "torch_dataset = Data.TensorDataset(x, y)\n",
    "loader = Data.DataLoader(\n",
    "    dataset=torch_dataset,\n",
    "    batch_size=BATCH_SIZE,\n",
    "    shuffle=True,\n",
    "    num_workers=3\n",
    ")\n",
    "\n",
    "for epoch in range(3):\n",
    "    for step, (batch_x, batch_y) in enumerate(loader):\n",
    "        print('Epoch: ', epoch, '| Step: ', step, '| batch x: ',\n",
    "              batch_x.numpy(), '| batch y: ', batch_y.numpy())\n"
   ]
  }
 ],
 "metadata": {
  "interpreter": {
   "hash": "066d9ce016bef72055fe5063a7387b7348d7a85c104ac0370113ef2a32ee37a8"
  },
  "kernelspec": {
   "display_name": "Python 3.6.13 ('image_env')",
   "language": "python",
   "name": "python3"
  },
  "language_info": {
   "codemirror_mode": {
    "name": "ipython",
    "version": 3
   },
   "file_extension": ".py",
   "mimetype": "text/x-python",
   "name": "python",
   "nbconvert_exporter": "python",
   "pygments_lexer": "ipython3",
   "version": "3.6.13"
  },
  "orig_nbformat": 4
 },
 "nbformat": 4,
 "nbformat_minor": 2
}
