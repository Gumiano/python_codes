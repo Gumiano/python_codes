{
 "cells": [
  {
   "cell_type": "code",
   "execution_count": 2,
   "metadata": {},
   "outputs": [],
   "source": [
    "import torch\n",
    "import matplotlib.pyplot as plt"
   ]
  },
  {
   "cell_type": "code",
   "execution_count": 6,
   "metadata": {},
   "outputs": [],
   "source": [
    "n_data = torch.ones(100, 2)\n",
    "X0 = torch.normal(2*n_data, 1)\n",
    "y0 = torch.zeros(100)\n",
    "X1 = torch.normal(-2*n_data, 1)\n",
    "y1 = torch.ones(100)\n",
    "X = torch.cat((X0, X1), 0).type(torch.FloatTensor)\n",
    "y = torch.cat((y0, y1), 0).type(torch.LongTensor)"
   ]
  },
  {
   "cell_type": "code",
   "execution_count": null,
   "metadata": {},
   "outputs": [],
   "source": [
    "\n",
    "class Net(torch.nn.Module):\n",
    "    def __init__(self, in_features, hidden_features, out_features):\n",
    "        super(Net, self).__init__()\n",
    "        self.hidden = torch.nn.Linear(in_features, hidden_features)\n",
    "        self.predict = torch.nn.Linear(hidden_features, out_features)\n",
    "    \n",
    "    def forward(self, X):\n",
    "        X = torch.relu(self.hidden(X))\n",
    "        X = self.predict(X)\n",
    "        return X\n",
    "\n",
    "net = Net(2, 10, 2)\n",
    "\n",
    "plt.ion() # interactive mode on，实时打印模式\n",
    "plt.show()\n",
    "\n",
    "optimizer = torch.optim.SGD(net.parameters(), lr=0.5)\n",
    "loss_func = torch.nn.CrossEntropyLoss()\n",
    "\n",
    "for t in range(100):\n",
    "    out = net(X)\n",
    "    loss = loss_func(out, y)\n",
    "    optimizer.zero_grad() # 梯度清零，因为Pytorch默认会对梯度进行累加，还能提高性能，减少内存消耗(内部优化)\n",
    "    loss.backward()\n",
    "    optimizer.step()\n",
    "\n",
    "    if t % 5 == 0:\n",
    "        plt.cla() # clear all \n",
    "        prediction = torch.max(torch.softmax(out), 1)[1]\n",
    "        plt.scatter(X.numpy(), y.numpy())\n",
    "        plt.plot(X.numpy(), prediction.detach().numpy(), 'r-', lw=5)\n",
    "        plt.text(0.5, 0, 'Loss=%.4f' % loss.data, fontdict={'size': 20, 'color': 'red'})\n",
    "        plt.pause(0.1)\n",
    "\n",
    "plt.ioff()\n",
    "plt.show()"
   ]
  }
 ],
 "metadata": {
  "interpreter": {
   "hash": "066d9ce016bef72055fe5063a7387b7348d7a85c104ac0370113ef2a32ee37a8"
  },
  "kernelspec": {
   "display_name": "Python 3.6.13 ('image_env')",
   "language": "python",
   "name": "python3"
  },
  "language_info": {
   "codemirror_mode": {
    "name": "ipython",
    "version": 3
   },
   "file_extension": ".py",
   "mimetype": "text/x-python",
   "name": "python",
   "nbconvert_exporter": "python",
   "pygments_lexer": "ipython3",
   "version": "3.6.13"
  },
  "orig_nbformat": 4
 },
 "nbformat": 4,
 "nbformat_minor": 2
}
