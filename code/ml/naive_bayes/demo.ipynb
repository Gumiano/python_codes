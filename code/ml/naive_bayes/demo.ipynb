{
 "cells": [
  {
   "cell_type": "code",
   "execution_count": 29,
   "metadata": {},
   "outputs": [],
   "source": [
    "import numpy as np\n",
    "X = np.array([[-1, -1],\n",
    "              [-2, -1],\n",
    "              [-3, -2],\n",
    "              [1, 1], \n",
    "              [2, 1],\n",
    "              [3, 2]])\n",
    "y = np.array([1, 1, 1, 2, 2, 2])"
   ]
  },
  {
   "cell_type": "markdown",
   "metadata": {},
   "source": [
    "### Gaussian先验分布"
   ]
  },
  {
   "cell_type": "code",
   "execution_count": 6,
   "metadata": {},
   "outputs": [
    {
     "name": "stdout",
     "output_type": "stream",
     "text": [
      "==== Predict result by predict function ====\n",
      "[1]\n",
      "\n",
      "==== Predict result by predict_proba function ====\n",
      "[[9.99999949e-01 5.05653254e-08]]\n",
      "\n",
      "==== Predict result by predict_log_proba function ====\n",
      "[[-5.05653266e-08 -1.67999998e+01]]\n"
     ]
    }
   ],
   "source": [
    "from sklearn.naive_bayes import GaussianNB\n",
    "clf = GaussianNB()\n",
    "clf.fit(X, y)\n",
    "print(\"==== Predict result by predict function ====\")\n",
    "print(clf.predict([[-0.8, -1]]))\n",
    "print(\"\\n==== Predict result by predict_proba function ====\")\n",
    "print(clf.predict_proba([[-0.8, -1]]))\n",
    "print(\"\\n==== Predict result by predict_log_proba function ====\")\n",
    "print(clf.predict_log_proba([[-0.8, -1]]))"
   ]
  },
  {
   "cell_type": "markdown",
   "metadata": {},
   "source": [
    "### Multimonial先验分布"
   ]
  },
  {
   "cell_type": "code",
   "execution_count": 40,
   "metadata": {},
   "outputs": [
    {
     "name": "stdout",
     "output_type": "stream",
     "text": [
      "==== Predict result by predict function ====\n",
      "[2]\n",
      "\n",
      "==== Predict result by predict_proba function ====\n",
      "[[0.33708048 0.66291952]]\n",
      "\n",
      "==== Predict result by predict_log_proba function ====\n",
      "[[-1.08743356 -0.41110169]]\n"
     ]
    }
   ],
   "source": [
    "from sklearn.naive_bayes import MultinomialNB\n",
    "# Multinomial不支持负数\n",
    "X = np.array([[1, 1],\n",
    "              [2, 1],\n",
    "              [3, 2],\n",
    "              [1, 1], \n",
    "              [2, 1],\n",
    "              [3, 2]])\n",
    "y = np.array([1, 1, 2, 2, 2, 2])\n",
    "# clf = MultinomialNB(fit_prior=False, class_prior=[0.8, 0.2])\n",
    "clf = MultinomialNB(fit_prior=True)\n",
    "clf.fit(X, y)\n",
    "print(\"==== Predict result by predict function ====\")\n",
    "print(clf.predict([[0.8, 1]]))\n",
    "print(\"\\n==== Predict result by predict_proba function ====\")\n",
    "print(clf.predict_proba([[0.8, 1]]))\n",
    "print(\"\\n==== Predict result by predict_log_proba function ====\")\n",
    "print(clf.predict_log_proba([[0.8, 1]]))"
   ]
  },
  {
   "cell_type": "markdown",
   "metadata": {},
   "source": [
    "### Bernoulli先验分布"
   ]
  },
  {
   "cell_type": "code",
   "execution_count": 36,
   "metadata": {},
   "outputs": [
    {
     "name": "stdout",
     "output_type": "stream",
     "text": [
      "==== Predict result by predict function ====\n",
      "[2]\n",
      "\n",
      "==== Predict result by predict_proba function ====\n",
      "[[0.05882353 0.94117647]]\n",
      "\n",
      "==== Predict result by predict_log_proba function ====\n",
      "[[-2.83321334 -0.06062462]]\n"
     ]
    }
   ],
   "source": [
    "from sklearn.naive_bayes import BernoulliNB\n",
    "\n",
    "clf = BernoulliNB(fit_prior=True, binarize=0)\n",
    "clf.fit(X, y)\n",
    "print(\"==== Predict result by predict function ====\")\n",
    "print(clf.predict([[0.8, 1]]))\n",
    "print(\"\\n==== Predict result by predict_proba function ====\")\n",
    "print(clf.predict_proba([[0.8, 1]]))\n",
    "print(\"\\n==== Predict result by predict_log_proba function ====\")\n",
    "print(clf.predict_log_proba([[0.8, 1]]))"
   ]
  }
 ],
 "metadata": {
  "interpreter": {
   "hash": "8e787a2a51192c015184ecc3bfa70b4ab87043104585e8a36df09a3d86bdeb59"
  },
  "kernelspec": {
   "display_name": "Python 3.9.7 ('ds_env')",
   "language": "python",
   "name": "python3"
  },
  "language_info": {
   "codemirror_mode": {
    "name": "ipython",
    "version": 3
   },
   "file_extension": ".py",
   "mimetype": "text/x-python",
   "name": "python",
   "nbconvert_exporter": "python",
   "pygments_lexer": "ipython3",
   "version": "3.9.7"
  },
  "orig_nbformat": 4
 },
 "nbformat": 4,
 "nbformat_minor": 2
}
