{
 "cells": [
  {
   "cell_type": "markdown",
   "metadata": {},
   "source": [
    "## 读取数据"
   ]
  },
  {
   "cell_type": "code",
   "execution_count": 12,
   "metadata": {},
   "outputs": [
    {
     "data": {
      "text/plain": [
       "array([[5.1, 3.5, 1.4, 0.2, 0. ],\n",
       "       [4.9, 3. , 1.4, 0.2, 0. ],\n",
       "       [4.7, 3.2, 1.3, 0.2, 0. ],\n",
       "       [4.6, 3.1, 1.5, 0.2, 0. ],\n",
       "       [5. , 3.6, 1.4, 0.2, 0. ],\n",
       "       [5.4, 3.9, 1.7, 0.4, 0. ],\n",
       "       [4.6, 3.4, 1.4, 0.3, 0. ],\n",
       "       [5. , 3.4, 1.5, 0.2, 0. ],\n",
       "       [4.4, 2.9, 1.4, 0.2, 0. ],\n",
       "       [4.9, 3.1, 1.5, 0.1, 0. ],\n",
       "       [5.4, 3.7, 1.5, 0.2, 0. ],\n",
       "       [4.8, 3.4, 1.6, 0.2, 0. ],\n",
       "       [4.8, 3. , 1.4, 0.1, 0. ],\n",
       "       [4.3, 3. , 1.1, 0.1, 0. ],\n",
       "       [5.8, 4. , 1.2, 0.2, 0. ],\n",
       "       [5.7, 4.4, 1.5, 0.4, 0. ],\n",
       "       [5.4, 3.9, 1.3, 0.4, 0. ],\n",
       "       [5.1, 3.5, 1.4, 0.3, 0. ],\n",
       "       [5.7, 3.8, 1.7, 0.3, 0. ],\n",
       "       [5.1, 3.8, 1.5, 0.3, 0. ],\n",
       "       [5.4, 3.4, 1.7, 0.2, 0. ],\n",
       "       [5.1, 3.7, 1.5, 0.4, 0. ],\n",
       "       [4.6, 3.6, 1. , 0.2, 0. ],\n",
       "       [5.1, 3.3, 1.7, 0.5, 0. ],\n",
       "       [4.8, 3.4, 1.9, 0.2, 0. ],\n",
       "       [5. , 3. , 1.6, 0.2, 0. ],\n",
       "       [5. , 3.4, 1.6, 0.4, 0. ],\n",
       "       [5.2, 3.5, 1.5, 0.2, 0. ],\n",
       "       [5.2, 3.4, 1.4, 0.2, 0. ],\n",
       "       [4.7, 3.2, 1.6, 0.2, 0. ],\n",
       "       [4.8, 3.1, 1.6, 0.2, 0. ],\n",
       "       [5.4, 3.4, 1.5, 0.4, 0. ],\n",
       "       [5.2, 4.1, 1.5, 0.1, 0. ],\n",
       "       [5.5, 4.2, 1.4, 0.2, 0. ],\n",
       "       [4.9, 3.1, 1.5, 0.1, 0. ],\n",
       "       [5. , 3.2, 1.2, 0.2, 0. ],\n",
       "       [5.5, 3.5, 1.3, 0.2, 0. ],\n",
       "       [4.9, 3.1, 1.5, 0.1, 0. ],\n",
       "       [4.4, 3. , 1.3, 0.2, 0. ],\n",
       "       [5.1, 3.4, 1.5, 0.2, 0. ],\n",
       "       [5. , 3.5, 1.3, 0.3, 0. ],\n",
       "       [4.5, 2.3, 1.3, 0.3, 0. ],\n",
       "       [4.4, 3.2, 1.3, 0.2, 0. ],\n",
       "       [5. , 3.5, 1.6, 0.6, 0. ],\n",
       "       [5.1, 3.8, 1.9, 0.4, 0. ],\n",
       "       [4.8, 3. , 1.4, 0.3, 0. ],\n",
       "       [5.1, 3.8, 1.6, 0.2, 0. ],\n",
       "       [4.6, 3.2, 1.4, 0.2, 0. ],\n",
       "       [5.3, 3.7, 1.5, 0.2, 0. ],\n",
       "       [5. , 3.3, 1.4, 0.2, 0. ],\n",
       "       [7. , 3.2, 4.7, 1.4, 1. ],\n",
       "       [6.4, 3.2, 4.5, 1.5, 1. ],\n",
       "       [6.9, 3.1, 4.9, 1.5, 1. ],\n",
       "       [5.5, 2.3, 4. , 1.3, 1. ],\n",
       "       [6.5, 2.8, 4.6, 1.5, 1. ],\n",
       "       [5.7, 2.8, 4.5, 1.3, 1. ],\n",
       "       [6.3, 3.3, 4.7, 1.6, 1. ],\n",
       "       [4.9, 2.4, 3.3, 1. , 1. ],\n",
       "       [6.6, 2.9, 4.6, 1.3, 1. ],\n",
       "       [5.2, 2.7, 3.9, 1.4, 1. ],\n",
       "       [5. , 2. , 3.5, 1. , 1. ],\n",
       "       [5.9, 3. , 4.2, 1.5, 1. ],\n",
       "       [6. , 2.2, 4. , 1. , 1. ],\n",
       "       [6.1, 2.9, 4.7, 1.4, 1. ],\n",
       "       [5.6, 2.9, 3.6, 1.3, 1. ],\n",
       "       [6.7, 3.1, 4.4, 1.4, 1. ],\n",
       "       [5.6, 3. , 4.5, 1.5, 1. ],\n",
       "       [5.8, 2.7, 4.1, 1. , 1. ],\n",
       "       [6.2, 2.2, 4.5, 1.5, 1. ],\n",
       "       [5.6, 2.5, 3.9, 1.1, 1. ],\n",
       "       [5.9, 3.2, 4.8, 1.8, 1. ],\n",
       "       [6.1, 2.8, 4. , 1.3, 1. ],\n",
       "       [6.3, 2.5, 4.9, 1.5, 1. ],\n",
       "       [6.1, 2.8, 4.7, 1.2, 1. ],\n",
       "       [6.4, 2.9, 4.3, 1.3, 1. ],\n",
       "       [6.6, 3. , 4.4, 1.4, 1. ],\n",
       "       [6.8, 2.8, 4.8, 1.4, 1. ],\n",
       "       [6.7, 3. , 5. , 1.7, 1. ],\n",
       "       [6. , 2.9, 4.5, 1.5, 1. ],\n",
       "       [5.7, 2.6, 3.5, 1. , 1. ],\n",
       "       [5.5, 2.4, 3.8, 1.1, 1. ],\n",
       "       [5.5, 2.4, 3.7, 1. , 1. ],\n",
       "       [5.8, 2.7, 3.9, 1.2, 1. ],\n",
       "       [6. , 2.7, 5.1, 1.6, 1. ],\n",
       "       [5.4, 3. , 4.5, 1.5, 1. ],\n",
       "       [6. , 3.4, 4.5, 1.6, 1. ],\n",
       "       [6.7, 3.1, 4.7, 1.5, 1. ],\n",
       "       [6.3, 2.3, 4.4, 1.3, 1. ],\n",
       "       [5.6, 3. , 4.1, 1.3, 1. ],\n",
       "       [5.5, 2.5, 4. , 1.3, 1. ],\n",
       "       [5.5, 2.6, 4.4, 1.2, 1. ],\n",
       "       [6.1, 3. , 4.6, 1.4, 1. ],\n",
       "       [5.8, 2.6, 4. , 1.2, 1. ],\n",
       "       [5. , 2.3, 3.3, 1. , 1. ],\n",
       "       [5.6, 2.7, 4.2, 1.3, 1. ],\n",
       "       [5.7, 3. , 4.2, 1.2, 1. ],\n",
       "       [5.7, 2.9, 4.2, 1.3, 1. ],\n",
       "       [6.2, 2.9, 4.3, 1.3, 1. ],\n",
       "       [5.1, 2.5, 3. , 1.1, 1. ],\n",
       "       [5.7, 2.8, 4.1, 1.3, 1. ],\n",
       "       [6.3, 3.3, 6. , 2.5, 2. ],\n",
       "       [5.8, 2.7, 5.1, 1.9, 2. ],\n",
       "       [7.1, 3. , 5.9, 2.1, 2. ],\n",
       "       [6.3, 2.9, 5.6, 1.8, 2. ],\n",
       "       [6.5, 3. , 5.8, 2.2, 2. ],\n",
       "       [7.6, 3. , 6.6, 2.1, 2. ],\n",
       "       [4.9, 2.5, 4.5, 1.7, 2. ],\n",
       "       [7.3, 2.9, 6.3, 1.8, 2. ],\n",
       "       [6.7, 2.5, 5.8, 1.8, 2. ],\n",
       "       [7.2, 3.6, 6.1, 2.5, 2. ],\n",
       "       [6.5, 3.2, 5.1, 2. , 2. ],\n",
       "       [6.4, 2.7, 5.3, 1.9, 2. ],\n",
       "       [6.8, 3. , 5.5, 2.1, 2. ],\n",
       "       [5.7, 2.5, 5. , 2. , 2. ],\n",
       "       [5.8, 2.8, 5.1, 2.4, 2. ],\n",
       "       [6.4, 3.2, 5.3, 2.3, 2. ],\n",
       "       [6.5, 3. , 5.5, 1.8, 2. ],\n",
       "       [7.7, 3.8, 6.7, 2.2, 2. ],\n",
       "       [7.7, 2.6, 6.9, 2.3, 2. ],\n",
       "       [6. , 2.2, 5. , 1.5, 2. ],\n",
       "       [6.9, 3.2, 5.7, 2.3, 2. ],\n",
       "       [5.6, 2.8, 4.9, 2. , 2. ],\n",
       "       [7.7, 2.8, 6.7, 2. , 2. ],\n",
       "       [6.3, 2.7, 4.9, 1.8, 2. ],\n",
       "       [6.7, 3.3, 5.7, 2.1, 2. ],\n",
       "       [7.2, 3.2, 6. , 1.8, 2. ],\n",
       "       [6.2, 2.8, 4.8, 1.8, 2. ],\n",
       "       [6.1, 3. , 4.9, 1.8, 2. ],\n",
       "       [6.4, 2.8, 5.6, 2.1, 2. ],\n",
       "       [7.2, 3. , 5.8, 1.6, 2. ],\n",
       "       [7.4, 2.8, 6.1, 1.9, 2. ],\n",
       "       [7.9, 3.8, 6.4, 2. , 2. ],\n",
       "       [6.4, 2.8, 5.6, 2.2, 2. ],\n",
       "       [6.3, 2.8, 5.1, 1.5, 2. ],\n",
       "       [6.1, 2.6, 5.6, 1.4, 2. ],\n",
       "       [7.7, 3. , 6.1, 2.3, 2. ],\n",
       "       [6.3, 3.4, 5.6, 2.4, 2. ],\n",
       "       [6.4, 3.1, 5.5, 1.8, 2. ],\n",
       "       [6. , 3. , 4.8, 1.8, 2. ],\n",
       "       [6.9, 3.1, 5.4, 2.1, 2. ],\n",
       "       [6.7, 3.1, 5.6, 2.4, 2. ],\n",
       "       [6.9, 3.1, 5.1, 2.3, 2. ],\n",
       "       [5.8, 2.7, 5.1, 1.9, 2. ],\n",
       "       [6.8, 3.2, 5.9, 2.3, 2. ],\n",
       "       [6.7, 3.3, 5.7, 2.5, 2. ],\n",
       "       [6.7, 3. , 5.2, 2.3, 2. ],\n",
       "       [6.3, 2.5, 5. , 1.9, 2. ],\n",
       "       [6.5, 3. , 5.2, 2. , 2. ],\n",
       "       [6.2, 3.4, 5.4, 2.3, 2. ],\n",
       "       [5.9, 3. , 5.1, 1.8, 2. ]])"
      ]
     },
     "execution_count": 12,
     "metadata": {},
     "output_type": "execute_result"
    }
   ],
   "source": [
    "import sklearn\n",
    "from sklearn.model_selection import train_test_split\n",
    "from sklearn.svm import SVC\n",
    "import numpy as np\n",
    "\n",
    "data_path = '../data/iris.data'\n",
    "\n",
    "def Iris_label(s):\n",
    "    # .data文件的字符串是二进制形式的(因为被压缩过)\n",
    "    it = {b'Iris-setosa': 0,\n",
    "          b'Iris-versicolor': 1,\n",
    "          b'Iris-virginica': 2}\n",
    "    return it[s]\n",
    "\n",
    "# converter将指定string类型的列用指定函数转换为对应数值\n",
    "data = np.loadtxt(data_path, \n",
    "                  dtype=float,\n",
    "                  delimiter=',',\n",
    "                  converters={4:Iris_label})\n",
    "data"
   ]
  },
  {
   "cell_type": "markdown",
   "metadata": {},
   "source": [
    "## 划分训练集和测试集(没有验证集)"
   ]
  },
  {
   "cell_type": "code",
   "execution_count": 13,
   "metadata": {},
   "outputs": [],
   "source": [
    "# 分割数据和标签\n",
    "# indices_or_sections指定分割位置\n",
    "x, y = np.split(data, indices_or_sections=(4, ), axis=1)\n",
    "\n",
    "# 只要前两列数据\n",
    "x = x[:, 0:2]\n",
    "train_data, test_data, train_label, test_label = train_test_split(x, y, random_state=1, train_size=0.6, test_size=0.4)"
   ]
  },
  {
   "cell_type": "markdown",
   "metadata": {},
   "source": [
    "## 训练SVM分类器"
   ]
  },
  {
   "cell_type": "code",
   "execution_count": 14,
   "metadata": {},
   "outputs": [
    {
     "data": {
      "text/plain": [
       "SVC(C=2, gamma=10)"
      ]
     },
     "execution_count": 14,
     "metadata": {},
     "output_type": "execute_result"
    }
   ],
   "source": [
    "# rbf 高斯核\n",
    "# ovo -> one vs one 类别两两之间进行划分，即用二分类模拟多分类\n",
    "# ovr -> one vs rest 一个类别与其他类别进行划分\n",
    "classifier = SVC(C=2, kernel='rbf', gamma=10, decision_function_shape='ovr')\n",
    "# ravel函数在降维时默认是行序优先  \n",
    "classifier.fit(train_data, train_label.ravel())"
   ]
  },
  {
   "cell_type": "markdown",
   "metadata": {},
   "source": [
    "## 模型评估"
   ]
  },
  {
   "cell_type": "code",
   "execution_count": 16,
   "metadata": {},
   "outputs": [
    {
     "name": "stdout",
     "output_type": "stream",
     "text": [
      "训练集： 0.8555555555555555\n",
      "测试集： 0.7\n",
      "训练集： 0.8555555555555555\n",
      "测试集： 0.7\n"
     ]
    }
   ],
   "source": [
    "# 准确率\n",
    "print(\"训练集：\",classifier.score(train_data,train_label))  \n",
    "print(\"测试集：\",classifier.score(test_data,test_label))  \n",
    "\n",
    "# score函数计算准确率的本质\n",
    "# from sklearn.metrics import accuracy_score  \n",
    "# tra_label=classifier.predict(train_data) #训练集的预测标签  \n",
    "# tes_label=classifier.predict(test_data) #测试集的预测标签  \n",
    "# print(\"训练集：\", accuracy_score(train_label,tra_label) )  \n",
    "# print(\"测试集：\", accuracy_score(test_label,tes_label) )  "
   ]
  },
  {
   "cell_type": "code",
   "execution_count": 18,
   "metadata": {},
   "outputs": [
    {
     "name": "stdout",
     "output_type": "stream",
     "text": [
      "train_decision_function: [[ 2.22308592  0.84616841 -0.17947608]\n",
      " [-0.2225123   2.2071765   1.08924729]\n",
      " [-0.2242179   1.07937608  2.21178139]\n",
      " [ 2.22223582  0.83797673 -0.17109399]\n",
      " [ 2.22386153  0.8446035  -0.17983668]\n",
      " [-0.22089479  0.98227728  2.22298496]\n",
      " [ 2.22220938  0.84699664 -0.17838033]\n",
      " [-0.22103052  2.20266299  1.09813055]\n",
      " [-0.20671804  0.8504463   2.23661442]\n",
      " [-0.22496875  1.11829364  2.20136897]\n",
      " [-0.22872124  2.22475971  1.03471748]\n",
      " [-0.20603407  0.90792604  2.22222742]\n",
      " [-0.22463211  2.21744465  1.05326508]\n",
      " [ 2.22223034  0.8469462  -0.17838384]\n",
      " [-0.18653362  2.22221038  0.85945491]\n",
      " [-0.22250331  1.05689863  2.21436127]\n",
      " [-0.22089479  0.98227728  2.22298496]\n",
      " [-0.21654784  2.22813805  0.92025351]\n",
      " [-0.19539985  0.8454045   2.2317554 ]\n",
      " [-0.21119823  2.22222188  0.92897426]\n",
      " [ 2.22222331  0.84837192 -0.17940832]\n",
      " [ 2.23012971  0.83469888 -0.18492888]\n",
      " [ 2.22222523  0.84698189 -0.17840026]\n",
      " [-0.20603407  0.90792604  2.22222742]\n",
      " [ 2.22813517  0.83838682 -0.18368743]\n",
      " [-0.22532288  2.22224177  1.02628154]\n",
      " [-0.21992928  0.98095225  2.22222032]\n",
      " [-0.22704059  2.22702432  1.00015996]\n",
      " [ 2.23185953  0.83373291 -0.18775408]\n",
      " [ 2.22226383  0.84894252 -0.17989277]\n",
      " [-0.22825441  2.22221144  1.04904292]\n",
      " [ 2.23012971  0.83469888 -0.18492888]\n",
      " [-0.1748001   0.84239364  2.22220335]\n",
      " [-0.22272711  2.19556417  1.12424045]\n",
      " [-0.17220215  0.83924455  2.22222974]\n",
      " [-0.22587742  1.16706447  2.17439597]\n",
      " [-0.18975727  2.22222418  0.86526815]\n",
      " [-0.18858236  0.86302838  2.22223529]\n",
      " [-0.17876569  0.84758751  2.22218441]\n",
      " [-0.21733181  2.22332507  0.95488021]\n",
      " [ 2.22221301  0.84697401 -0.17837069]\n",
      " [-0.22825441  2.22221144  1.04904292]\n",
      " [ 2.22221629  0.85980165 -0.18674432]\n",
      " [-0.20412215  2.22222288  0.90136522]\n",
      " [-0.22283496  2.22663985  0.96762344]\n",
      " [ 2.22222326  0.84723141 -0.17858018]\n",
      " [-0.2055041   2.22222444  0.90605904]\n",
      " [ 2.2222125   0.84713057 -0.17848515]\n",
      " [ 2.22308592  0.84616841 -0.17947608]\n",
      " [-0.18387872  0.83482922  2.2295733 ]\n",
      " [-0.22176859  2.21764694  1.0320692 ]\n",
      " [-0.22097549  2.16439764  1.16612948]\n",
      " [ 2.22298528  0.84682001 -0.17975673]\n",
      " [ 2.22391214  0.84478763 -0.18007276]\n",
      " [-0.21020854  2.21714598  0.95361498]\n",
      " [ 2.22453396  0.84267678 -0.17971732]\n",
      " [-0.22825441  2.22221144  1.04904292]\n",
      " [ 2.22774622  0.83769784 -0.18236636]\n",
      " [-0.22089479  0.98227728  2.22298496]\n",
      " [-0.21509152  2.15985967  1.15766918]\n",
      " [ 2.22222041  0.84649576 -0.17803014]\n",
      " [-0.20268849  0.85926603  2.23177404]\n",
      " [ 2.22220982  0.84672123 -0.17817727]\n",
      " [-0.20484177  2.2262063   0.88634552]\n",
      " [ 2.22222783  0.84511434 -0.17699956]\n",
      " [-0.20412215  2.22222288  0.90136522]\n",
      " [-0.17611423  2.22219118  0.84406801]\n",
      " [ 2.2266304   0.84085133 -0.18252151]\n",
      " [ 2.22515332  0.83388559 -0.17368246]\n",
      " [-0.21796892  2.20357612  1.08090266]\n",
      " [ 2.22219388  0.84701626 -0.1783647 ]\n",
      " [-0.22704059  2.22702432  1.00015996]\n",
      " [-0.223963    2.22002041  1.03195866]\n",
      " [ 2.22222326  0.84723141 -0.17858018]\n",
      " [-0.22496875  1.11829364  2.20136897]\n",
      " [-0.22706361  2.2301792   0.97115357]\n",
      " [-0.18281671  2.22652633  0.84152553]\n",
      " [-0.21490121  2.22140773  0.95312974]\n",
      " [-0.22825441  2.22221144  1.04904292]\n",
      " [ 2.22222373  0.86496317 -0.18959671]\n",
      " [ 2.22222691  0.83973443 -0.17262096]\n",
      " [-0.22308532  2.19156125  1.13400638]\n",
      " [-0.22563823  2.22035667  1.04213519]\n",
      " [-0.19986212  0.9464461   2.20936377]\n",
      " [-0.22680454  2.21293333  1.08832453]\n",
      " [-0.22506625  1.11705651  2.20197413]\n",
      " [-0.2110973   0.92858664  2.22220807]\n",
      " [-0.21253813  2.16916106  1.14055526]\n",
      " [-0.22496875  1.11829364  2.20136897]\n",
      " [ 2.23012971  0.83469888 -0.18492888]]\n",
      "predict_result: [0. 1. 2. 0. 0. 2. 0. 1. 2. 2. 1. 2. 1. 0. 1. 2. 2. 1. 2. 1. 0. 0. 0. 2.\n",
      " 0. 1. 2. 1. 0. 0. 1. 0. 2. 1. 2. 2. 1. 2. 2. 1. 0. 1. 0. 1. 1. 0. 1. 0.\n",
      " 0. 2. 1. 1. 0. 0. 1. 0. 1. 0. 2. 1. 0. 2. 0. 1. 0. 1. 1. 0. 0. 1. 0. 1.\n",
      " 1. 0. 2. 1. 1. 1. 1. 0. 0. 1. 1. 2. 1. 2. 2. 1. 2. 0.]\n"
     ]
    }
   ],
   "source": [
    "# 查看决策函数，返回的是 样本到分类超平面的距离\n",
    "# 在ovr中: 每个类别有一个距离，所以一个样本有3个距离，SVM要的是决策距离最大的类别\n",
    "# 在ovo中：每个样本会产生C_N^2个距离\n",
    "print('train_decision_function:', classifier.decision_function(train_data)) # (90,3)  \n",
    "# 查看模型在训练集上的表现\n",
    "print('predict_result:', classifier.predict(train_data))  "
   ]
  },
  {
   "cell_type": "markdown",
   "metadata": {},
   "source": [
    "## 绘制图像"
   ]
  },
  {
   "cell_type": "code",
   "execution_count": 43,
   "metadata": {},
   "outputs": [],
   "source": [
    "import matplotlib.pyplot as plt\n",
    "import matplotlib \n",
    "\n",
    "# 坐标轴范围\n",
    "x1_min, x1_max = x[:, 0].min(), x[:, 0].max() # 第0维特征的范围\n",
    "x2_min, x2_max = x[:, 1].min(), x[:, 1].max() # 第1维特征的范围\n",
    "x1, x2 = np.mgrid[x1_min:x1_max:200j, x2_min:x2_max:200j] # 生成网格采样点, 如果第三个参数是 复数形式 ，那么虚部代表了点的个数（包括start和stop）\n",
    "\n",
    "# 40_000个点，每个点有两个坐标\n",
    "grid_test = np.stack( (x1.flat,x2.flat), axis=1 ) # axis=1将两个二维数组重新整理为一个新的以坐标为元素的二维数组，生成测试点\n",
    "\n",
    "grid_hat = classifier.predict(grid_test) # 预测分类值，结果从二维数组变为一维数组\n",
    "grid_hat = grid_hat.reshape(x1.shape) # 将预测后的数据的形状改变回网格, 40000 -> 200 x 200\n",
    "\n",
    "# 开始绘图\n",
    "\n",
    "plt.rcParams['font.sans-serif'] = ['SimHei']\n",
    "\n",
    "# 配置颜色\n",
    "cm_light = matplotlib.colors.ListedColormap(['#A0FFA0', '#FFA0A0', '#A0A0FF'])  \n",
    "cm_dark = matplotlib.colors.ListedColormap(['g','r','b'] )  \n"
   ]
  },
  {
   "cell_type": "code",
   "execution_count": 56,
   "metadata": {},
   "outputs": [
    {
     "data": {
      "image/png": "[encoded data removed]",
      "text/plain": [
       "<Figure size 432x288 with 1 Axes>"
      ]
     },
     "metadata": {
      "needs_background": "light"
     },
     "output_type": "display_data"
    }
   ],
   "source": [
    "plt.pcolormesh(x1, x2, grid_hat, cmap=cm_light) # 根据颜色绘制网格，即将坐标系下的点都进行一个分类。\n",
    "plt.scatter(x[:, 0], x[:, 1], c=y[:, 0], s=30, cmap=cm_dark) # 绘制样本点\n",
    "# edgecolors设置边框颜色，有了边框颜色，点会更加明显\n",
    "# zorder设置图形的层级\n",
    "plt.scatter(test_data[:, 0], test_data[:, 1], c=test_label[:, 0], s=30, edgecolors='k', zorder=2, cmap=cm_dark) # 测试集样本点\n",
    "plt.xlabel('花萼长度', fontsize=13)  \n",
    "plt.ylabel('花萼宽度', fontsize=13)  \n",
    "plt.xlim(x1_min,x1_max)  \n",
    "plt.ylim(x2_min,x2_max)  \n",
    "plt.title('鸢尾花SVM二特征分类')  \n",
    "plt.show() "
   ]
  }
 ],
 "metadata": {
  "interpreter": {
   "hash": "8e787a2a51192c015184ecc3bfa70b4ab87043104585e8a36df09a3d86bdeb59"
  },
  "kernelspec": {
   "display_name": "Python 3.9.7 ('ds_env')",
   "language": "python",
   "name": "python3"
  },
  "language_info": {
   "codemirror_mode": {
    "name": "ipython",
    "version": 3
   },
   "file_extension": ".py",
   "mimetype": "text/x-python",
   "name": "python",
   "nbconvert_exporter": "python",
   "pygments_lexer": "ipython3",
   "version": "3.9.7"
  },
  "orig_nbformat": 4
 },
 "nbformat": 4,
 "nbformat_minor": 2
}
