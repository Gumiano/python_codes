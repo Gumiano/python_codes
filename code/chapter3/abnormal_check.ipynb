{
 "cells": [
  {
   "cell_type": "code",
   "execution_count": 13,
   "metadata": {},
   "outputs": [
    {
     "name": "stdout",
     "output_type": "stream",
     "text": [
      "[22.0 51.0 60.0 865.0 4060.3 4065.2 6607.4 9106.44]\n"
     ]
    },
    {
     "data": {
      "image/png": "[encoded data removed]",
      "text/plain": [
       "<Figure size 432x288 with 1 Axes>"
      ]
     },
     "metadata": {
      "needs_background": "light"
     },
     "output_type": "display_data"
    }
   ],
   "source": [
    "import matplotlib.pyplot as plt\n",
    "import pandas as pd\n",
    "plt.rcParams['font.sans-serif'] = ['SimHei'] # 正常显示中文\n",
    "plt.rcParams['axes.unicode_minus'] = False # 正常显示负号\n",
    "\n",
    "catering_sale = '../data/chapter3/demo/data/catering_sale.xls'\n",
    "data = pd.read_excel(catering_sale)\n",
    "data.describe()\n",
    "\n",
    "plt.figure()\n",
    "p = data.boxplot(return_type='dict')\n",
    "x = p['fliers'][0].get_xdata() # fliers在boxplot表示离群点\n",
    "y = p['fliers'][0].get_ydata() \n",
    "y.sort()\n",
    "print(y)\n",
    "for i in range(len(x)):\n",
    "    if i > 0:\n",
    "        plt.annotate( y[i], xy=(x[i], y[i]), xytext=(x[i]+0.05 - 0.8/(y[i]-y[i-1]), y[i]) )\n",
    "    else:\n",
    "        plt.annotate(y[i], xy=(x[i], y[i]), xytext=(x[i]+0.08, y[i]))"
   ]
  }
 ],
 "metadata": {
  "interpreter": {
   "hash": "8e787a2a51192c015184ecc3bfa70b4ab87043104585e8a36df09a3d86bdeb59"
  },
  "kernelspec": {
   "display_name": "Python 3.9.7 ('ds_env')",
   "language": "python",
   "name": "python3"
  },
  "language_info": {
   "codemirror_mode": {
    "name": "ipython",
    "version": 3
   },
   "file_extension": ".py",
   "mimetype": "text/x-python",
   "name": "python",
   "nbconvert_exporter": "python",
   "pygments_lexer": "ipython3",
   "version": "3.9.7"
  },
  "orig_nbformat": 4
 },
 "nbformat": 4,
 "nbformat_minor": 2
}
