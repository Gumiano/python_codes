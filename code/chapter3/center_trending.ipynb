{
 "cells": [
  {
   "cell_type": "code",
   "execution_count": 1,
   "metadata": {},
   "outputs": [
    {
     "data": {
      "text/html": [
       "<div>\n",
       "<style scoped>\n",
       "    .dataframe tbody tr th:only-of-type {\n",
       "        vertical-align: middle;\n",
       "    }\n",
       "\n",
       "    .dataframe tbody tr th {\n",
       "        vertical-align: top;\n",
       "    }\n",
       "\n",
       "    .dataframe thead th {\n",
       "        text-align: right;\n",
       "    }\n",
       "</style>\n",
       "<table border=\"1\" class=\"dataframe\">\n",
       "  <thead>\n",
       "    <tr style=\"text-align: right;\">\n",
       "      <th></th>\n",
       "      <th>销量</th>\n",
       "    </tr>\n",
       "    <tr>\n",
       "      <th>日期</th>\n",
       "      <th></th>\n",
       "    </tr>\n",
       "  </thead>\n",
       "  <tbody>\n",
       "    <tr>\n",
       "      <th>2015-03-01</th>\n",
       "      <td>51.0</td>\n",
       "    </tr>\n",
       "    <tr>\n",
       "      <th>2015-02-28</th>\n",
       "      <td>2618.2</td>\n",
       "    </tr>\n",
       "    <tr>\n",
       "      <th>2015-02-27</th>\n",
       "      <td>2608.4</td>\n",
       "    </tr>\n",
       "    <tr>\n",
       "      <th>2015-02-26</th>\n",
       "      <td>2651.9</td>\n",
       "    </tr>\n",
       "    <tr>\n",
       "      <th>2015-02-25</th>\n",
       "      <td>3442.1</td>\n",
       "    </tr>\n",
       "  </tbody>\n",
       "</table>\n",
       "</div>"
      ],
      "text/plain": [
       "                销量\n",
       "日期                \n",
       "2015-03-01    51.0\n",
       "2015-02-28  2618.2\n",
       "2015-02-27  2608.4\n",
       "2015-02-26  2651.9\n",
       "2015-02-25  3442.1"
      ]
     },
     "execution_count": 1,
     "metadata": {},
     "output_type": "execute_result"
    }
   ],
   "source": [
    "import pandas as pd\n",
    "\n",
    "catering_sale = '../data/chapter3/demo/data/catering_sale.xls'\n",
    "data = pd.read_excel(catering_sale, index_col='日期')\n",
    "data.head()"
   ]
  },
  {
   "cell_type": "code",
   "execution_count": 3,
   "metadata": {},
   "outputs": [],
   "source": [
    "data = data[(data['销量'] > 400) & (data['销量'] < 5000)] # 过滤异常值\n",
    "statistics = data.describe() # 保存已有的统计量"
   ]
  },
  {
   "cell_type": "code",
   "execution_count": 7,
   "metadata": {},
   "outputs": [
    {
     "name": "stdout",
     "output_type": "stream",
     "text": [
      "                 销量\n",
      "count    195.000000\n",
      "mean    2744.595385\n",
      "std      424.739407\n",
      "min      865.000000\n",
      "25%     2460.600000\n",
      "50%     2655.900000\n",
      "75%     3023.200000\n",
      "max     4065.200000\n",
      "range   3200.200000\n",
      "var/cv     0.154755\n",
      "dis      562.600000\n"
     ]
    }
   ],
   "source": [
    "# 构造新的统计量\n",
    "statistics.loc['range'] = statistics.loc['max'] - statistics.loc['min']\n",
    "statistics.loc['var/cv'] = statistics.loc['std'] / statistics.loc['mean']\n",
    "statistics.loc['dis'] = statistics.loc['75%'] - statistics.loc['25%']\n",
    "\n",
    "print(statistics)"
   ]
  }
 ],
 "metadata": {
  "interpreter": {
   "hash": "8e787a2a51192c015184ecc3bfa70b4ab87043104585e8a36df09a3d86bdeb59"
  },
  "kernelspec": {
   "display_name": "Python 3.9.7 ('ds_env')",
   "language": "python",
   "name": "python3"
  },
  "language_info": {
   "codemirror_mode": {
    "name": "ipython",
    "version": 3
   },
   "file_extension": ".py",
   "mimetype": "text/x-python",
   "name": "python",
   "nbconvert_exporter": "python",
   "pygments_lexer": "ipython3",
   "version": "3.9.7"
  },
  "orig_nbformat": 4
 },
 "nbformat": 4,
 "nbformat_minor": 2
}
