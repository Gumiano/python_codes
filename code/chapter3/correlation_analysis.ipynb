{
 "cells": [
  {
   "cell_type": "code",
   "execution_count": 3,
   "metadata": {},
   "outputs": [
    {
     "name": "stdout",
     "output_type": "stream",
     "text": [
      "百合酱蒸凤爪     1.000000\n",
      "翡翠蒸香茜饺     0.009206\n",
      "金银蒜汁蒸排骨    0.016799\n",
      "乐膳真味鸡      0.455638\n",
      "蜜汁焗餐包      0.098085\n",
      "生炒菜心       0.308496\n",
      "铁板酸菜豆腐     0.204898\n",
      "香煎韭菜饺      0.127448\n",
      "香煎罗卜糕     -0.090276\n",
      "原汁原味菜心     0.428316\n",
      "Name: 百合酱蒸凤爪, dtype: float64\n"
     ]
    }
   ],
   "source": [
    "import pandas as pd\n",
    "\n",
    "catering_sale = '../data/chapter3/demo/data/catering_sale_all.xls'\n",
    "data = pd.read_excel(catering_sale, index_col='日期')\n",
    "\n",
    "# print(data.corr())\n",
    "print(data.corr()['百合酱蒸凤爪']) # 看 百合酱蒸凤爪 和谁的线性相关性高"
   ]
  },
  {
   "cell_type": "code",
   "execution_count": 7,
   "metadata": {},
   "outputs": [
    {
     "data": {
      "text/plain": [
       "0.009205803051836528"
      ]
     },
     "execution_count": 7,
     "metadata": {},
     "output_type": "execute_result"
    }
   ],
   "source": [
    "# 求 百合酱蒸凤爪 和 翡翠蒸香茜饺 的相关系数\n",
    "data['百合酱蒸凤爪'].corr(data['翡翠蒸香茜饺'])"
   ]
  }
 ],
 "metadata": {
  "interpreter": {
   "hash": "8e787a2a51192c015184ecc3bfa70b4ab87043104585e8a36df09a3d86bdeb59"
  },
  "kernelspec": {
   "display_name": "Python 3.9.7 ('ds_env')",
   "language": "python",
   "name": "python3"
  },
  "language_info": {
   "codemirror_mode": {
    "name": "ipython",
    "version": 3
   },
   "file_extension": ".py",
   "mimetype": "text/x-python",
   "name": "python",
   "nbconvert_exporter": "python",
   "pygments_lexer": "ipython3",
   "version": "3.9.7"
  },
  "orig_nbformat": 4
 },
 "nbformat": 4,
 "nbformat_minor": 2
}
